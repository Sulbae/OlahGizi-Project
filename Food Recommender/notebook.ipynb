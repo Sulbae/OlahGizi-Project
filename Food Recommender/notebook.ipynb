{
 "cells": [
  {
   "cell_type": "markdown",
   "metadata": {},
   "source": [
    "# Basic Food Recommender Model"
   ]
  },
  {
   "cell_type": "markdown",
   "metadata": {},
   "source": [
    "## Background"
   ]
  },
  {
   "cell_type": "markdown",
   "metadata": {},
   "source": [
    "Indonesia memiliki cita-cita besar untuk menjadi negara maju. Oleh karena itu, peningkatan kualitas Sumber Daya Manusia (SDM) menjadi pilar penting yang harus diperbaiki, terutama dalam hal peningkatan kesehatan, pemenuhan gizi, dan pencegahan stunting (Kemenko PMK RI, 2024). Pemerintah Indonesia telah merencanakan untuk melaksanakan program makan bergizi gratis sesuai arahan Presiden RI Prabowo Subianto. Pemerintah berharap program tersebut dapat menurunkan jumlah kasus stunting bahkan mencegah kasus stunting baru di masa depan. Fokus awal dari program ini adalah anak-anak sekolah dan kelompok rentan lainnya. Anak sekolah yang dimaksud antara lain pelajar PAUD, SD, SMP, dan SMA (detik.com, 2024). \n",
    "\n",
    "Anak sekolah menjadi sasaran karena status gizi dan  stunting sangat mempengaruhi kecerdasan anak. Status gizi memberikan kontribusi terhadap kesulitan belajar sebesar 32,83%. Anak yang kekurangan nutrisi cenderung memiliki kelemahan pada sistem saraf hingga dapat menyebabkan kelainan motorik dan kognitif (Dewi, dkk, 2021). Sebagai calon penerus bangsa, maka pertumbuhan dan perkembangan anak sekolah perlu diperhatikan dengan baik agar menghasilkan potensi sumber daya manusia dengan kualitas maksimal. Hal ini dapat dicapai dengan salah satu cara yaitu pemenuhan kebutuhan nutrisi harian melalui program makanan bergizi gratis.\n",
    "\n",
    "Angka Kecukupan Gizi (AKG) menurut Kementerian Kesehatan Republik Indonesia adalah kecukupan rata-rata gizi harian yang dianjurkan untuk sekelompok orang setiap harinya. Kebutuhan gizi ideal anak yang harus terpenuhi dalam sehari terbagi menjadi dua kelompok, yaitu zat gizi makro dan mikro. Zat gizi makro adalah semua jenis zat gizi yang dibutuhkan anak dalam jumlah banyak, seperti energi (kalori), protein, lemak, dan karbohidrat. Sementara zat gizi mikro adalah nutrisi yang dibutuhkan dalam jumlah sedikit, seperti vitamin dan mineral (Damar Upahita, 2021). Penentuan nilai gizi disesuaikan dengan jenis kelamin, kelompok umur, tinggi badan, berat badan, serta aktivitas fisik (Kemenkes RI, 2019).\n",
    "\n",
    "Seluruh program makanan bergizi gratis harus melibatkan kolaborasi pemangku kepentingan terkait untuk dikonvergensikan sehingga bisa komprehensif dan terintegrasi. Salah satunya adalah penyediaan makanan yang efektif dan efisien. Salah satu perusahaan penyedia layanan catering dan bento, Olagizi ingin mengambil peran penting dalam penyediaan paket makanan bergizi bagi siswa SMP dan SMA. Olagizi ingin memberikan layanan dengan optimal. Oleh karena itu, Olagizi ingin membuat sebuah sistem yang dapat memberikan rekomendasi tentang makanan bergizi yang dipersonalisasi sesuai kebutuhan gizi dan selera para siswa. Di sisi lain, Olagizi juga ingin rekomendasi tersebut memberikan pilihan makanan yang dapat dimasak dalam waktu yang tidak terlalu lama agar makanan dapat disiapkan tepat pada waktu, khususnya makanan untuk sesi sarapan. Untuk pengembangan tahap awal, Olagizi ingin membuat model sistem rekomendasi makanan berdasarkan kemiripan bahan baku yang digunakan serta berdasarkan hasil ulasan rating makanan."
   ]
  },
  {
   "cell_type": "markdown",
   "metadata": {},
   "source": [
    "## Business Understanding"
   ]
  },
  {
   "cell_type": "markdown",
   "metadata": {},
   "source": [
    "### Problem Statements"
   ]
  },
  {
   "cell_type": "markdown",
   "metadata": {},
   "source": [
    "1. Bagaimana sistem rekomendasi dapat memberikan pilihan makanan dengan bahan baku utama yang sama?\n",
    "\n",
    "2. Bagaimana sistem rekomendasi dapat memberikan berbagai pilihan makanan yang mungkin disukai oleh target pelanggan?"
   ]
  },
  {
   "cell_type": "markdown",
   "metadata": {},
   "source": [
    "### Goals"
   ]
  },
  {
   "cell_type": "markdown",
   "metadata": {},
   "source": [
    "1. Menghasilkan 10 rekomendasi makanan yang memiliki bahan baku utama yang sama.\n",
    "\n",
    "2. Menghasilkan 10 rekomendasi makanan yang mungkin disukai oleh target pelanggan."
   ]
  },
  {
   "cell_type": "markdown",
   "metadata": {},
   "source": [
    "### Solution Approach"
   ]
  },
  {
   "cell_type": "markdown",
   "metadata": {},
   "source": [
    "1. Menerapkan pendekatan _content-based filtering_ menggunakan algoritma _cosine similarity_ untuk menghitung kemiripan bahan baku yang digunakan diurutkan berdasarkan nilai _similarity_ terbesar.\n",
    "\n",
    "2. Menerapkan pendekatan _collaborative filtering_ menggunakan algoritma _deep learning_ untuk menemukan pola pemberian rating oleh user."
   ]
  },
  {
   "cell_type": "markdown",
   "metadata": {},
   "source": [
    "## Data Understanding"
   ]
  },
  {
   "cell_type": "markdown",
   "metadata": {},
   "source": [
    "#### Overview"
   ]
  },
  {
   "cell_type": "markdown",
   "metadata": {},
   "source": [
    "Dataset ini berasal dari platform Kaggle salah satu pengembang sistem rekomendasi makanan dengan nama akun \"GRACE HEPHZIBAH M\" yang dapat diakses pada link di bawah. Pada proyek ini, akan menggunakan 2 file dataset dalam format csv, yaitu food data dan rating data.\n",
    "\n",
    "_Download raw dataset_:\n",
    "[Food Recommendation System](https://www.kaggle.com/code/gracehephzibahm/food-recommendation-system-easy-comprehensive/input)"
   ]
  },
  {
   "cell_type": "markdown",
   "metadata": {},
   "source": [
    "##### food_df"
   ]
  },
  {
   "cell_type": "markdown",
   "metadata": {},
   "source": [
    "| No | Kolom | Tipe Data | Deskripsi |\n",
    "|----|-------|-----------|-----------|\n",
    "| 1 | Name | `object` | Nama makanan. |\n",
    "| 2 | Food_ID | `integer` | ID makanan. |\n",
    "| 3 | C_Type | `object` | Kategori makanan. |\n",
    "| 4 | Veg_Non | `object` | Keterangan apakah makanan mengandung bahan baku hewani atau tidak |\n",
    "| 5 | Describe | `object` | Keterangan bahan-bahan yang digunakan pada makanan tersebut. |"
   ]
  },
  {
   "cell_type": "markdown",
   "metadata": {},
   "source": [
    "##### rating_df"
   ]
  },
  {
   "cell_type": "markdown",
   "metadata": {},
   "source": [
    "| No | Kolom | Tipe Data | Deskripsi |\n",
    "|----|-------|-----------|-----------|\n",
    "| 1 | User_ID | `integer` | ID pengguna yang memberikan ulasan. |\n",
    "| 2 | Food_ID | `integer` | ID resep yang diberi ulasan. |\n",
    "| 3 | Rating | `integer` | Penilaian yang diberikan (dalam skala 1 - 10). |"
   ]
  },
  {
   "cell_type": "markdown",
   "metadata": {},
   "source": [
    "### Import Libraries"
   ]
  },
  {
   "cell_type": "markdown",
   "metadata": {},
   "source": [
    "Import seluruh library yang diperlukan:"
   ]
  },
  {
   "cell_type": "code",
   "execution_count": 2,
   "metadata": {},
   "outputs": [],
   "source": [
    "import numpy as np\n",
    "import pandas as pd\n",
    "import matplotlib.pyplot as plt\n",
    "import seaborn as sns\n",
    "import ast\n",
    "\n",
    "import tensorflow as tf\n",
    "from tensorflow import keras\n",
    "from tensorflow.keras import layers\n",
    "from tensorflow.keras.layers import Embedding, Flatten, Dot, Input, Dense, Dropout, BatchNormalization\n",
    "from tensorflow.keras.callbacks import EarlyStopping, Callback, ModelCheckpoint\n",
    "\n",
    "from sklearn.neighbors import KNeighborsRegressor\n",
    "from sklearn.preprocessing import MultiLabelBinarizer, MinMaxScaler\n",
    "from sklearn.feature_extraction.text import TfidfVectorizer\n",
    "from sklearn.model_selection import train_test_split\n",
    "from sklearn.metrics import mean_squared_error, mean_absolute_error, root_mean_squared_error, r2_score, confusion_matrix\n",
    "from sklearn.metrics.pairwise import cosine_similarity"
   ]
  },
  {
   "cell_type": "markdown",
   "metadata": {},
   "source": [
    "### Load Data"
   ]
  },
  {
   "cell_type": "markdown",
   "metadata": {},
   "source": [
    "Muat semua dataset yang akan digunakan:"
   ]
  },
  {
   "cell_type": "code",
   "execution_count": 3,
   "metadata": {},
   "outputs": [],
   "source": [
    "# Data 1\n",
    "food_data = \"https://raw.githubusercontent.com/Sulbae/OlahGizi-Project/refs/heads/main/Food%20Recommender/raw-dataset/food.csv\"\n",
    "food_df = pd.read_csv(food_data)\n",
    "\n",
    "# Data 2\n",
    "rating_data = \"https://raw.githubusercontent.com/Sulbae/OlahGizi-Project/refs/heads/main/Food%20Recommender/raw-dataset/ratings.csv\"\n",
    "rating_df = pd.read_csv(rating_data)"
   ]
  },
  {
   "cell_type": "markdown",
   "metadata": {},
   "source": [
    "### Explore Data"
   ]
  },
  {
   "cell_type": "markdown",
   "metadata": {},
   "source": [
    "#### Explore food_df"
   ]
  },
  {
   "cell_type": "code",
   "execution_count": 4,
   "metadata": {},
   "outputs": [
    {
     "name": "stdout",
     "output_type": "stream",
     "text": [
      "<class 'pandas.core.frame.DataFrame'>\n",
      "RangeIndex: 400 entries, 0 to 399\n",
      "Data columns (total 5 columns):\n",
      " #   Column    Non-Null Count  Dtype \n",
      "---  ------    --------------  ----- \n",
      " 0   Food_ID   400 non-null    int64 \n",
      " 1   Name      400 non-null    object\n",
      " 2   C_Type    400 non-null    object\n",
      " 3   Veg_Non   400 non-null    object\n",
      " 4   Describe  400 non-null    object\n",
      "dtypes: int64(1), object(4)\n",
      "memory usage: 15.8+ KB\n"
     ]
    }
   ],
   "source": [
    "food_df.info()"
   ]
  },
  {
   "cell_type": "markdown",
   "metadata": {},
   "source": [
    "* Diketahui dataset memiliki 2 tipe data yaitu `int64` (untuk kolom Food_ID) dan `object` (untuk kolom lainnya) dengan total baris sebanyak 400."
   ]
  },
  {
   "cell_type": "code",
   "execution_count": 6,
   "metadata": {},
   "outputs": [
    {
     "name": "stdout",
     "output_type": "stream",
     "text": [
      "Duplicated data: 0\n",
      "Missing value: 0\n"
     ]
    }
   ],
   "source": [
    "# Check duplicates\n",
    "print(f\"Duplicated data:\", food_df.duplicated().sum())\n",
    "\n",
    "# recheck missing value\n",
    "print(f\"Missing value:\", food_df.isna().sum().sum())"
   ]
  },
  {
   "cell_type": "markdown",
   "metadata": {},
   "source": [
    "* Tidak terdapat duplikasi data maupun _missing value_."
   ]
  },
  {
   "cell_type": "markdown",
   "metadata": {},
   "source": [
    "Menampilkan 5 data teratas:"
   ]
  },
  {
   "cell_type": "code",
   "execution_count": 7,
   "metadata": {},
   "outputs": [
    {
     "data": {
      "text/html": [
       "<div>\n",
       "<style scoped>\n",
       "    .dataframe tbody tr th:only-of-type {\n",
       "        vertical-align: middle;\n",
       "    }\n",
       "\n",
       "    .dataframe tbody tr th {\n",
       "        vertical-align: top;\n",
       "    }\n",
       "\n",
       "    .dataframe thead th {\n",
       "        text-align: right;\n",
       "    }\n",
       "</style>\n",
       "<table border=\"1\" class=\"dataframe\">\n",
       "  <thead>\n",
       "    <tr style=\"text-align: right;\">\n",
       "      <th></th>\n",
       "      <th>Food_ID</th>\n",
       "      <th>Name</th>\n",
       "      <th>C_Type</th>\n",
       "      <th>Veg_Non</th>\n",
       "      <th>Describe</th>\n",
       "    </tr>\n",
       "  </thead>\n",
       "  <tbody>\n",
       "    <tr>\n",
       "      <th>0</th>\n",
       "      <td>1</td>\n",
       "      <td>summer squash salad</td>\n",
       "      <td>Healthy Food</td>\n",
       "      <td>veg</td>\n",
       "      <td>white balsamic vinegar, lemon juice, lemon rin...</td>\n",
       "    </tr>\n",
       "    <tr>\n",
       "      <th>1</th>\n",
       "      <td>2</td>\n",
       "      <td>chicken minced salad</td>\n",
       "      <td>Healthy Food</td>\n",
       "      <td>non-veg</td>\n",
       "      <td>olive oil, chicken mince, garlic (minced), oni...</td>\n",
       "    </tr>\n",
       "    <tr>\n",
       "      <th>2</th>\n",
       "      <td>3</td>\n",
       "      <td>sweet chilli almonds</td>\n",
       "      <td>Snack</td>\n",
       "      <td>veg</td>\n",
       "      <td>almonds whole, egg white, curry leaves, salt, ...</td>\n",
       "    </tr>\n",
       "    <tr>\n",
       "      <th>3</th>\n",
       "      <td>4</td>\n",
       "      <td>tricolour salad</td>\n",
       "      <td>Healthy Food</td>\n",
       "      <td>veg</td>\n",
       "      <td>vinegar, honey/sugar, soy sauce, salt, garlic ...</td>\n",
       "    </tr>\n",
       "    <tr>\n",
       "      <th>4</th>\n",
       "      <td>5</td>\n",
       "      <td>christmas cake</td>\n",
       "      <td>Dessert</td>\n",
       "      <td>veg</td>\n",
       "      <td>christmas dry fruits (pre-soaked), orange zest...</td>\n",
       "    </tr>\n",
       "  </tbody>\n",
       "</table>\n",
       "</div>"
      ],
      "text/plain": [
       "   Food_ID                  Name        C_Type  Veg_Non  \\\n",
       "0        1   summer squash salad  Healthy Food      veg   \n",
       "1        2  chicken minced salad  Healthy Food  non-veg   \n",
       "2        3  sweet chilli almonds         Snack      veg   \n",
       "3        4       tricolour salad  Healthy Food      veg   \n",
       "4        5        christmas cake       Dessert      veg   \n",
       "\n",
       "                                            Describe  \n",
       "0  white balsamic vinegar, lemon juice, lemon rin...  \n",
       "1  olive oil, chicken mince, garlic (minced), oni...  \n",
       "2  almonds whole, egg white, curry leaves, salt, ...  \n",
       "3  vinegar, honey/sugar, soy sauce, salt, garlic ...  \n",
       "4  christmas dry fruits (pre-soaked), orange zest...  "
      ]
     },
     "execution_count": 7,
     "metadata": {},
     "output_type": "execute_result"
    }
   ],
   "source": [
    "food_df.head()"
   ]
  },
  {
   "cell_type": "markdown",
   "metadata": {},
   "source": [
    "Visualisasi data *C_Type*:"
   ]
  },
  {
   "cell_type": "code",
   "execution_count": 17,
   "metadata": {},
   "outputs": [
    {
     "data": {
      "image/png": "[encoded data removed]",
      "text/plain": [
       "<Figure size 800x600 with 1 Axes>"
      ]
     },
     "metadata": {},
     "output_type": "display_data"
    }
   ],
   "source": [
    "category_counts = food_df['C_Type'].value_counts().sort_values(ascending=True)\n",
    "\n",
    "# Visualisasi dengan bar chart horizontal\n",
    "plt.figure(figsize=(8, 6))\n",
    "bars = plt.barh(category_counts.index, category_counts.values, color=sns.color_palette(\"pastel\"))\n",
    "\n",
    "for bar in bars:\n",
    "    plt.text(bar.get_width() + 0.1, bar.get_y() + bar.get_height() / 2,\n",
    "             f'{bar.get_width()}', va='center', ha='left', fontsize=12)\n",
    "\n",
    "plt.title('Distribusi Kategori C_Type', fontsize=16)\n",
    "plt.xlabel('Frekuensi', fontsize=14)\n",
    "plt.ylabel('Kategori', fontsize=14)\n",
    "plt.show()"
   ]
  },
  {
   "cell_type": "markdown",
   "metadata": {},
   "source": [
    "* Makanan pada dataset didominasi oleh makanan dengan kateogori makanan India, Healthy Food, dan Dessert."
   ]
  },
  {
   "cell_type": "code",
   "execution_count": 19,
   "metadata": {},
   "outputs": [
    {
     "data": {
      "image/png": "[encoded data removed]",
      "text/plain": [
       "<Figure size 600x600 with 1 Axes>"
      ]
     },
     "metadata": {},
     "output_type": "display_data"
    }
   ],
   "source": [
    "Veg_Non_counts = food_df['Veg_Non'].value_counts()\n",
    "\n",
    "plt.figure(figsize=(6, 6))\n",
    "plt.pie(Veg_Non_counts, labels=Veg_Non_counts.index, autopct='%1.1f%%', startangle=140, colors=sns.color_palette(\"pastel\"))\n",
    "plt.title('Proporsi Kategori Veg_Non', fontsize=16)\n",
    "plt.show()"
   ]
  },
  {
   "cell_type": "markdown",
   "metadata": {},
   "source": [
    "* Enam puluh persen makanan pada dataset merupakan makanan yang tidak mengandung bahan baku hewani, sementara sisanya menggunakan bahan baku hewani."
   ]
  },
  {
   "cell_type": "markdown",
   "metadata": {},
   "source": [
    "#### Explore rating_df"
   ]
  },
  {
   "cell_type": "code",
   "execution_count": 20,
   "metadata": {},
   "outputs": [
    {
     "name": "stdout",
     "output_type": "stream",
     "text": [
      "<class 'pandas.core.frame.DataFrame'>\n",
      "RangeIndex: 512 entries, 0 to 511\n",
      "Data columns (total 3 columns):\n",
      " #   Column   Non-Null Count  Dtype  \n",
      "---  ------   --------------  -----  \n",
      " 0   User_ID  511 non-null    float64\n",
      " 1   Food_ID  511 non-null    float64\n",
      " 2   Rating   511 non-null    float64\n",
      "dtypes: float64(3)\n",
      "memory usage: 12.1 KB\n"
     ]
    }
   ],
   "source": [
    "rating_df.info()"
   ]
  },
  {
   "cell_type": "markdown",
   "metadata": {},
   "source": [
    "* Diketahui seluruh data pada dataset memiliki tipe data `float`."
   ]
  },
  {
   "cell_type": "markdown",
   "metadata": {},
   "source": [
    "Menampilkan 5 data teratas:"
   ]
  },
  {
   "cell_type": "code",
   "execution_count": 27,
   "metadata": {},
   "outputs": [
    {
     "data": {
      "text/html": [
       "<div>\n",
       "<style scoped>\n",
       "    .dataframe tbody tr th:only-of-type {\n",
       "        vertical-align: middle;\n",
       "    }\n",
       "\n",
       "    .dataframe tbody tr th {\n",
       "        vertical-align: top;\n",
       "    }\n",
       "\n",
       "    .dataframe thead th {\n",
       "        text-align: right;\n",
       "    }\n",
       "</style>\n",
       "<table border=\"1\" class=\"dataframe\">\n",
       "  <thead>\n",
       "    <tr style=\"text-align: right;\">\n",
       "      <th></th>\n",
       "      <th>User_ID</th>\n",
       "      <th>Food_ID</th>\n",
       "      <th>Rating</th>\n",
       "    </tr>\n",
       "  </thead>\n",
       "  <tbody>\n",
       "    <tr>\n",
       "      <th>0</th>\n",
       "      <td>1.0</td>\n",
       "      <td>88.0</td>\n",
       "      <td>4.0</td>\n",
       "    </tr>\n",
       "    <tr>\n",
       "      <th>1</th>\n",
       "      <td>1.0</td>\n",
       "      <td>46.0</td>\n",
       "      <td>3.0</td>\n",
       "    </tr>\n",
       "    <tr>\n",
       "      <th>2</th>\n",
       "      <td>1.0</td>\n",
       "      <td>24.0</td>\n",
       "      <td>5.0</td>\n",
       "    </tr>\n",
       "    <tr>\n",
       "      <th>3</th>\n",
       "      <td>1.0</td>\n",
       "      <td>25.0</td>\n",
       "      <td>4.0</td>\n",
       "    </tr>\n",
       "    <tr>\n",
       "      <th>4</th>\n",
       "      <td>2.0</td>\n",
       "      <td>49.0</td>\n",
       "      <td>1.0</td>\n",
       "    </tr>\n",
       "  </tbody>\n",
       "</table>\n",
       "</div>"
      ],
      "text/plain": [
       "   User_ID  Food_ID  Rating\n",
       "0      1.0     88.0     4.0\n",
       "1      1.0     46.0     3.0\n",
       "2      1.0     24.0     5.0\n",
       "3      1.0     25.0     4.0\n",
       "4      2.0     49.0     1.0"
      ]
     },
     "execution_count": 27,
     "metadata": {},
     "output_type": "execute_result"
    }
   ],
   "source": [
    "rating_df.head()"
   ]
  },
  {
   "cell_type": "markdown",
   "metadata": {},
   "source": [
    "Cek duplikasi dan missing value data:"
   ]
  },
  {
   "cell_type": "code",
   "execution_count": 25,
   "metadata": {},
   "outputs": [
    {
     "name": "stdout",
     "output_type": "stream",
     "text": [
      "Duplicated data: 0\n",
      "Missing value: 0\n"
     ]
    }
   ],
   "source": [
    "# Check duplicates\n",
    "print(f\"Duplicated data:\", rating_df.duplicated().sum())\n",
    "\n",
    "# Check missing value\n",
    "print(f\"Missing value:\", rating_df.isna().sum().sum())"
   ]
  },
  {
   "cell_type": "markdown",
   "metadata": {},
   "source": [
    "* Terdapat __3__ __missing value__."
   ]
  },
  {
   "cell_type": "markdown",
   "metadata": {},
   "source": [
    "Menampilkan statistik deskriptif:"
   ]
  },
  {
   "cell_type": "code",
   "execution_count": 28,
   "metadata": {},
   "outputs": [
    {
     "data": {
      "text/html": [
       "<div>\n",
       "<style scoped>\n",
       "    .dataframe tbody tr th:only-of-type {\n",
       "        vertical-align: middle;\n",
       "    }\n",
       "\n",
       "    .dataframe tbody tr th {\n",
       "        vertical-align: top;\n",
       "    }\n",
       "\n",
       "    .dataframe thead th {\n",
       "        text-align: right;\n",
       "    }\n",
       "</style>\n",
       "<table border=\"1\" class=\"dataframe\">\n",
       "  <thead>\n",
       "    <tr style=\"text-align: right;\">\n",
       "      <th></th>\n",
       "      <th>count</th>\n",
       "      <th>mean</th>\n",
       "      <th>std</th>\n",
       "      <th>min</th>\n",
       "      <th>25%</th>\n",
       "      <th>50%</th>\n",
       "      <th>75%</th>\n",
       "      <th>max</th>\n",
       "    </tr>\n",
       "  </thead>\n",
       "  <tbody>\n",
       "    <tr>\n",
       "      <th>User_ID</th>\n",
       "      <td>511.0</td>\n",
       "      <td>49.068493</td>\n",
       "      <td>28.739213</td>\n",
       "      <td>1.0</td>\n",
       "      <td>25.0</td>\n",
       "      <td>49.0</td>\n",
       "      <td>72.0</td>\n",
       "      <td>100.0</td>\n",
       "    </tr>\n",
       "    <tr>\n",
       "      <th>Food_ID</th>\n",
       "      <td>511.0</td>\n",
       "      <td>125.311155</td>\n",
       "      <td>91.292629</td>\n",
       "      <td>1.0</td>\n",
       "      <td>45.5</td>\n",
       "      <td>111.0</td>\n",
       "      <td>204.0</td>\n",
       "      <td>309.0</td>\n",
       "    </tr>\n",
       "    <tr>\n",
       "      <th>Rating</th>\n",
       "      <td>511.0</td>\n",
       "      <td>5.438356</td>\n",
       "      <td>2.866236</td>\n",
       "      <td>1.0</td>\n",
       "      <td>3.0</td>\n",
       "      <td>5.0</td>\n",
       "      <td>8.0</td>\n",
       "      <td>10.0</td>\n",
       "    </tr>\n",
       "  </tbody>\n",
       "</table>\n",
       "</div>"
      ],
      "text/plain": [
       "         count        mean        std  min   25%    50%    75%    max\n",
       "User_ID  511.0   49.068493  28.739213  1.0  25.0   49.0   72.0  100.0\n",
       "Food_ID  511.0  125.311155  91.292629  1.0  45.5  111.0  204.0  309.0\n",
       "Rating   511.0    5.438356   2.866236  1.0   3.0    5.0    8.0   10.0"
      ]
     },
     "execution_count": 28,
     "metadata": {},
     "output_type": "execute_result"
    }
   ],
   "source": [
    "rating_df.describe().T"
   ]
  },
  {
   "cell_type": "markdown",
   "metadata": {},
   "source": [
    "* Diketahui rata-rata rating yang diberikan user adalah 5,4 dan diketahui nilai median sebesar 5. Sementara rentang nilai rating berkisar dari 1 hingga 10. Artinya distribusi data cukup seimbang."
   ]
  },
  {
   "cell_type": "markdown",
   "metadata": {},
   "source": [
    "Cek distribusi dan outlier data _rating_ menggunakan histogram dan boxplot:"
   ]
  },
  {
   "cell_type": "code",
   "execution_count": 29,
   "metadata": {},
   "outputs": [
    {
     "data": {
      "image/png": "[encoded data removed]",
      "text/plain": [
       "<Figure size 1200x500 with 2 Axes>"
      ]
     },
     "metadata": {},
     "output_type": "display_data"
    },
    {
     "data": {
      "image/png": "[encoded data removed]",
      "text/plain": [
       "<Figure size 1200x500 with 2 Axes>"
      ]
     },
     "metadata": {},
     "output_type": "display_data"
    },
    {
     "data": {
      "image/png": "[encoded data removed]",
      "text/plain": [
       "<Figure size 1200x500 with 2 Axes>"
      ]
     },
     "metadata": {},
     "output_type": "display_data"
    }
   ],
   "source": [
    "for col in rating_df.select_dtypes(include=\"number\").columns:\n",
    "    fig, axes = plt.subplots(nrows=1, ncols=2, figsize=(12, 5))\n",
    "    fig.suptitle(f\"Distribution of {col}\")\n",
    "\n",
    "    # Histogram\n",
    "    sns.histplot(rating_df[col], kde=True, ax=axes[0])\n",
    "    axes[0].set_ylabel(\"Frequency\")\n",
    "    # Box PLot\n",
    "    sns.boxplot(x=rating_df[col], ax=axes[1])\n",
    "\n",
    "    plt.tight_layout()\n",
    "    plt.show()"
   ]
  },
  {
   "cell_type": "markdown",
   "metadata": {},
   "source": [
    "* Diketahui tidak terdapat outlier pada data _rating_."
   ]
  },
  {
   "cell_type": "markdown",
   "metadata": {},
   "source": [
    "## Data Preparation"
   ]
  },
  {
   "cell_type": "markdown",
   "metadata": {},
   "source": [
    "### Data Cleaning"
   ]
  },
  {
   "cell_type": "markdown",
   "metadata": {},
   "source": [
    "#### Remove Missing Value"
   ]
  },
  {
   "cell_type": "markdown",
   "metadata": {},
   "source": [
    "Menghapus data yang mengandung *missing_value*:"
   ]
  },
  {
   "cell_type": "code",
   "execution_count": 24,
   "metadata": {},
   "outputs": [],
   "source": [
    "rating_df = rating_df.dropna()"
   ]
  },
  {
   "cell_type": "markdown",
   "metadata": {},
   "source": [
    "Recheck:"
   ]
  },
  {
   "cell_type": "code",
   "execution_count": 26,
   "metadata": {},
   "outputs": [
    {
     "name": "stdout",
     "output_type": "stream",
     "text": [
      "Missing value: 0\n"
     ]
    }
   ],
   "source": [
    "# recheck missing value\n",
    "print(f\"Missing value:\", rating_df.isna().sum().sum())"
   ]
  },
  {
   "cell_type": "markdown",
   "metadata": {},
   "source": [
    "Menghapus baris data yang memiliki missing value pada  `food_df`:"
   ]
  },
  {
   "cell_type": "code",
   "execution_count": null,
   "metadata": {},
   "outputs": [],
   "source": [
    "food_df = food_df.dropna()"
   ]
  },
  {
   "cell_type": "markdown",
   "metadata": {},
   "source": [
    "Recheck:"
   ]
  },
  {
   "cell_type": "code",
   "execution_count": null,
   "metadata": {},
   "outputs": [
    {
     "name": "stdout",
     "output_type": "stream",
     "text": [
      "Missing value: 0\n"
     ]
    }
   ],
   "source": [
    "# Recheck missing value\n",
    "print(f\"Missing value:\", food_df.isna().sum().sum())"
   ]
  },
  {
   "cell_type": "code",
   "execution_count": 30,
   "metadata": {},
   "outputs": [
    {
     "name": "stdout",
     "output_type": "stream",
     "text": [
      "<class 'pandas.core.frame.DataFrame'>\n",
      "RangeIndex: 400 entries, 0 to 399\n",
      "Data columns (total 5 columns):\n",
      " #   Column    Non-Null Count  Dtype \n",
      "---  ------    --------------  ----- \n",
      " 0   Food_ID   400 non-null    int64 \n",
      " 1   Name      400 non-null    object\n",
      " 2   C_Type    400 non-null    object\n",
      " 3   Veg_Non   400 non-null    object\n",
      " 4   Describe  400 non-null    object\n",
      "dtypes: int64(1), object(4)\n",
      "memory usage: 15.8+ KB\n"
     ]
    }
   ],
   "source": [
    "food_df.info()"
   ]
  },
  {
   "cell_type": "markdown",
   "metadata": {},
   "source": [
    "### Content-Based Filtering"
   ]
  },
  {
   "cell_type": "markdown",
   "metadata": {},
   "source": [
    "Membuat variable baru untuk memudahkan dalam proses selanjutnya serta memudahkan pemeliharaan data:"
   ]
  },
  {
   "cell_type": "code",
   "execution_count": 31,
   "metadata": {},
   "outputs": [
    {
     "data": {
      "text/html": [
       "<div>\n",
       "<style scoped>\n",
       "    .dataframe tbody tr th:only-of-type {\n",
       "        vertical-align: middle;\n",
       "    }\n",
       "\n",
       "    .dataframe tbody tr th {\n",
       "        vertical-align: top;\n",
       "    }\n",
       "\n",
       "    .dataframe thead th {\n",
       "        text-align: right;\n",
       "    }\n",
       "</style>\n",
       "<table border=\"1\" class=\"dataframe\">\n",
       "  <thead>\n",
       "    <tr style=\"text-align: right;\">\n",
       "      <th></th>\n",
       "      <th>Food_ID</th>\n",
       "      <th>Name</th>\n",
       "      <th>C_Type</th>\n",
       "      <th>Veg_Non</th>\n",
       "      <th>Describe</th>\n",
       "    </tr>\n",
       "  </thead>\n",
       "  <tbody>\n",
       "    <tr>\n",
       "      <th>0</th>\n",
       "      <td>1</td>\n",
       "      <td>summer squash salad</td>\n",
       "      <td>Healthy Food</td>\n",
       "      <td>veg</td>\n",
       "      <td>white balsamic vinegar, lemon juice, lemon rin...</td>\n",
       "    </tr>\n",
       "    <tr>\n",
       "      <th>1</th>\n",
       "      <td>2</td>\n",
       "      <td>chicken minced salad</td>\n",
       "      <td>Healthy Food</td>\n",
       "      <td>non-veg</td>\n",
       "      <td>olive oil, chicken mince, garlic (minced), oni...</td>\n",
       "    </tr>\n",
       "    <tr>\n",
       "      <th>2</th>\n",
       "      <td>3</td>\n",
       "      <td>sweet chilli almonds</td>\n",
       "      <td>Snack</td>\n",
       "      <td>veg</td>\n",
       "      <td>almonds whole, egg white, curry leaves, salt, ...</td>\n",
       "    </tr>\n",
       "    <tr>\n",
       "      <th>3</th>\n",
       "      <td>4</td>\n",
       "      <td>tricolour salad</td>\n",
       "      <td>Healthy Food</td>\n",
       "      <td>veg</td>\n",
       "      <td>vinegar, honey/sugar, soy sauce, salt, garlic ...</td>\n",
       "    </tr>\n",
       "    <tr>\n",
       "      <th>4</th>\n",
       "      <td>5</td>\n",
       "      <td>christmas cake</td>\n",
       "      <td>Dessert</td>\n",
       "      <td>veg</td>\n",
       "      <td>christmas dry fruits (pre-soaked), orange zest...</td>\n",
       "    </tr>\n",
       "    <tr>\n",
       "      <th>...</th>\n",
       "      <td>...</td>\n",
       "      <td>...</td>\n",
       "      <td>...</td>\n",
       "      <td>...</td>\n",
       "      <td>...</td>\n",
       "    </tr>\n",
       "    <tr>\n",
       "      <th>395</th>\n",
       "      <td>396</td>\n",
       "      <td>Kimchi Toast</td>\n",
       "      <td>Korean</td>\n",
       "      <td>veg</td>\n",
       "      <td>cream cheese, chopped kimchi, scallions,count...</td>\n",
       "    </tr>\n",
       "    <tr>\n",
       "      <th>396</th>\n",
       "      <td>397</td>\n",
       "      <td>Tacos de Gobernador (Shrimp, Poblano, and Chee...</td>\n",
       "      <td>Mexican</td>\n",
       "      <td>non-veg</td>\n",
       "      <td>poblano chiles, bacon, shrips, red salsa, garl...</td>\n",
       "    </tr>\n",
       "    <tr>\n",
       "      <th>397</th>\n",
       "      <td>398</td>\n",
       "      <td>Melted Broccoli Pasta With Capers and Anchovies</td>\n",
       "      <td>French</td>\n",
       "      <td>non-veg</td>\n",
       "      <td>broccoli,Bread Crumbs,  anchovy fillets, garli...</td>\n",
       "    </tr>\n",
       "    <tr>\n",
       "      <th>398</th>\n",
       "      <td>399</td>\n",
       "      <td>Lemon-Ginger Cake with Pistachios</td>\n",
       "      <td>Dessert</td>\n",
       "      <td>non-veg</td>\n",
       "      <td>egg yolks,lemon juice, unsalted butter, all pu...</td>\n",
       "    </tr>\n",
       "    <tr>\n",
       "      <th>399</th>\n",
       "      <td>400</td>\n",
       "      <td>Rosemary Roasted Vegetables</td>\n",
       "      <td>Healthy Food</td>\n",
       "      <td>veg</td>\n",
       "      <td>kosher salt, rosemary, garlic, potato, olive o...</td>\n",
       "    </tr>\n",
       "  </tbody>\n",
       "</table>\n",
       "<p>400 rows × 5 columns</p>\n",
       "</div>"
      ],
      "text/plain": [
       "     Food_ID                                               Name        C_Type  \\\n",
       "0          1                                summer squash salad  Healthy Food   \n",
       "1          2                               chicken minced salad  Healthy Food   \n",
       "2          3                               sweet chilli almonds         Snack   \n",
       "3          4                                    tricolour salad  Healthy Food   \n",
       "4          5                                     christmas cake       Dessert   \n",
       "..       ...                                                ...           ...   \n",
       "395      396                                       Kimchi Toast        Korean   \n",
       "396      397  Tacos de Gobernador (Shrimp, Poblano, and Chee...       Mexican   \n",
       "397      398    Melted Broccoli Pasta With Capers and Anchovies        French   \n",
       "398      399                  Lemon-Ginger Cake with Pistachios       Dessert   \n",
       "399      400                        Rosemary Roasted Vegetables  Healthy Food   \n",
       "\n",
       "     Veg_Non                                           Describe  \n",
       "0        veg  white balsamic vinegar, lemon juice, lemon rin...  \n",
       "1    non-veg  olive oil, chicken mince, garlic (minced), oni...  \n",
       "2        veg  almonds whole, egg white, curry leaves, salt, ...  \n",
       "3        veg  vinegar, honey/sugar, soy sauce, salt, garlic ...  \n",
       "4        veg  christmas dry fruits (pre-soaked), orange zest...  \n",
       "..       ...                                                ...  \n",
       "395      veg   cream cheese, chopped kimchi, scallions,count...  \n",
       "396  non-veg  poblano chiles, bacon, shrips, red salsa, garl...  \n",
       "397  non-veg  broccoli,Bread Crumbs,  anchovy fillets, garli...  \n",
       "398  non-veg  egg yolks,lemon juice, unsalted butter, all pu...  \n",
       "399      veg  kosher salt, rosemary, garlic, potato, olive o...  \n",
       "\n",
       "[400 rows x 5 columns]"
      ]
     },
     "execution_count": 31,
     "metadata": {},
     "output_type": "execute_result"
    }
   ],
   "source": [
    "content_based_df = food_df\n",
    "content_based_df"
   ]
  },
  {
   "cell_type": "markdown",
   "metadata": {},
   "source": [
    "Check data:"
   ]
  },
  {
   "cell_type": "code",
   "execution_count": 32,
   "metadata": {},
   "outputs": [
    {
     "name": "stdout",
     "output_type": "stream",
     "text": [
      "<class 'pandas.core.frame.DataFrame'>\n",
      "RangeIndex: 400 entries, 0 to 399\n",
      "Data columns (total 5 columns):\n",
      " #   Column    Non-Null Count  Dtype \n",
      "---  ------    --------------  ----- \n",
      " 0   Food_ID   400 non-null    int64 \n",
      " 1   Name      400 non-null    object\n",
      " 2   C_Type    400 non-null    object\n",
      " 3   Veg_Non   400 non-null    object\n",
      " 4   Describe  400 non-null    object\n",
      "dtypes: int64(1), object(4)\n",
      "memory usage: 15.8+ KB\n"
     ]
    }
   ],
   "source": [
    "content_based_df.info()"
   ]
  },
  {
   "cell_type": "markdown",
   "metadata": {},
   "source": [
    "#### Feature Extraction"
   ]
  },
  {
   "cell_type": "code",
   "execution_count": 34,
   "metadata": {},
   "outputs": [
    {
     "data": {
      "text/plain": [
       "0      white balsamic vinegar, lemon juice, lemon rin...\n",
       "1      olive oil, chicken mince, garlic (minced), oni...\n",
       "2      almonds whole, egg white, curry leaves, salt, ...\n",
       "3      vinegar, honey/sugar, soy sauce, salt, garlic ...\n",
       "4      christmas dry fruits (pre-soaked), orange zest...\n",
       "                             ...                        \n",
       "395     cream cheese, chopped kimchi, scallions,count...\n",
       "396    poblano chiles, bacon, shrips, red salsa, garl...\n",
       "397    broccoli,Bread Crumbs,  anchovy fillets, garli...\n",
       "398    egg yolks,lemon juice, unsalted butter, all pu...\n",
       "399    kosher salt, rosemary, garlic, potato, olive o...\n",
       "Name: Describe, Length: 400, dtype: object"
      ]
     },
     "execution_count": 34,
     "metadata": {},
     "output_type": "execute_result"
    }
   ],
   "source": [
    "content_based_df['Describe']"
   ]
  },
  {
   "cell_type": "markdown",
   "metadata": {},
   "source": [
    "Mengubah data teks menjadi vektor numerik:"
   ]
  },
  {
   "cell_type": "code",
   "execution_count": 40,
   "metadata": {},
   "outputs": [],
   "source": [
    "tfidf_vectorizer = TfidfVectorizer(stop_words='english', ngram_range=(1,1), token_pattern=r'\\b[a-zA-Z]+\\b')\n",
    "\n",
    "tfidf_vectorizer.fit(content_based_df['Describe'])\n",
    "\n",
    "teks = tfidf_vectorizer.get_feature_names_out()"
   ]
  },
  {
   "cell_type": "code",
   "execution_count": 41,
   "metadata": {},
   "outputs": [
    {
     "data": {
      "text/plain": [
       "array(['aall', 'aamchoor', 'aata', ..., 'zested', 'zinfandel', 'zucchini'],\n",
       "      dtype=object)"
      ]
     },
     "execution_count": 41,
     "metadata": {},
     "output_type": "execute_result"
    }
   ],
   "source": [
    "teks"
   ]
  },
  {
   "cell_type": "code",
   "execution_count": 42,
   "metadata": {},
   "outputs": [
    {
     "data": {
      "text/plain": [
       "(400, 1161)"
      ]
     },
     "execution_count": 42,
     "metadata": {},
     "output_type": "execute_result"
    }
   ],
   "source": [
    "tfidf_matrix = tfidf_vectorizer.fit_transform(content_based_df['Describe'])\n",
    "\n",
    "tfidf_matrix.shape"
   ]
  },
  {
   "cell_type": "code",
   "execution_count": 43,
   "metadata": {},
   "outputs": [
    {
     "data": {
      "text/plain": [
       "matrix([[0.        , 0.        , 0.        , ..., 0.        , 0.        ,\n",
       "         0.27483164],\n",
       "        [0.        , 0.        , 0.        , ..., 0.        , 0.        ,\n",
       "         0.        ],\n",
       "        [0.        , 0.        , 0.        , ..., 0.        , 0.        ,\n",
       "         0.        ],\n",
       "        ...,\n",
       "        [0.        , 0.        , 0.        , ..., 0.        , 0.        ,\n",
       "         0.        ],\n",
       "        [0.        , 0.        , 0.        , ..., 0.        , 0.        ,\n",
       "         0.        ],\n",
       "        [0.        , 0.        , 0.        , ..., 0.        , 0.        ,\n",
       "         0.        ]])"
      ]
     },
     "execution_count": 43,
     "metadata": {},
     "output_type": "execute_result"
    }
   ],
   "source": [
    "tfidf_matrix.todense()"
   ]
  },
  {
   "cell_type": "code",
   "execution_count": 44,
   "metadata": {},
   "outputs": [
    {
     "data": {
      "text/html": [
       "<div>\n",
       "<style scoped>\n",
       "    .dataframe tbody tr th:only-of-type {\n",
       "        vertical-align: middle;\n",
       "    }\n",
       "\n",
       "    .dataframe tbody tr th {\n",
       "        vertical-align: top;\n",
       "    }\n",
       "\n",
       "    .dataframe thead th {\n",
       "        text-align: right;\n",
       "    }\n",
       "</style>\n",
       "<table border=\"1\" class=\"dataframe\">\n",
       "  <thead>\n",
       "    <tr style=\"text-align: right;\">\n",
       "      <th></th>\n",
       "      <th>dark</th>\n",
       "      <th>nutmeg</th>\n",
       "      <th>yello</th>\n",
       "      <th>buffalo</th>\n",
       "      <th>fillet</th>\n",
       "      <th>coverture</th>\n",
       "      <th>crepe</th>\n",
       "      <th>kokum</th>\n",
       "      <th>cook</th>\n",
       "      <th>coriender</th>\n",
       "      <th>asaian</th>\n",
       "      <th>sour</th>\n",
       "      <th>iceberg</th>\n",
       "      <th>flesh</th>\n",
       "      <th>mozzarella</th>\n",
       "      <th>littleneck</th>\n",
       "      <th>papper</th>\n",
       "      <th>sattu</th>\n",
       "      <th>tomatoes</th>\n",
       "      <th>whisky</th>\n",
       "    </tr>\n",
       "    <tr>\n",
       "      <th>Describe</th>\n",
       "      <th></th>\n",
       "      <th></th>\n",
       "      <th></th>\n",
       "      <th></th>\n",
       "      <th></th>\n",
       "      <th></th>\n",
       "      <th></th>\n",
       "      <th></th>\n",
       "      <th></th>\n",
       "      <th></th>\n",
       "      <th></th>\n",
       "      <th></th>\n",
       "      <th></th>\n",
       "      <th></th>\n",
       "      <th></th>\n",
       "      <th></th>\n",
       "      <th></th>\n",
       "      <th></th>\n",
       "      <th></th>\n",
       "      <th></th>\n",
       "    </tr>\n",
       "  </thead>\n",
       "  <tbody>\n",
       "    <tr>\n",
       "      <th>Vanilla pre mix, gel, oil, water, egg yolks, lemon juice, sugar, butter, white chocolate, cooking cream, milk</th>\n",
       "      <td>0.0</td>\n",
       "      <td>0.0</td>\n",
       "      <td>0.0</td>\n",
       "      <td>0.0</td>\n",
       "      <td>0.0</td>\n",
       "      <td>0.0</td>\n",
       "      <td>0.0</td>\n",
       "      <td>0.000000</td>\n",
       "      <td>0.0</td>\n",
       "      <td>0.0</td>\n",
       "      <td>0.0</td>\n",
       "      <td>0.0</td>\n",
       "      <td>0.0</td>\n",
       "      <td>0.0</td>\n",
       "      <td>0.0</td>\n",
       "      <td>0.0</td>\n",
       "      <td>0.0</td>\n",
       "      <td>0.000000</td>\n",
       "      <td>0.000000</td>\n",
       "      <td>0.0</td>\n",
       "    </tr>\n",
       "    <tr>\n",
       "      <th>unsalted butter, brown sugar, chocolate, chocolate chips, eggs, flour, cocoa powder, baking powder</th>\n",
       "      <td>0.0</td>\n",
       "      <td>0.0</td>\n",
       "      <td>0.0</td>\n",
       "      <td>0.0</td>\n",
       "      <td>0.0</td>\n",
       "      <td>0.0</td>\n",
       "      <td>0.0</td>\n",
       "      <td>0.000000</td>\n",
       "      <td>0.0</td>\n",
       "      <td>0.0</td>\n",
       "      <td>0.0</td>\n",
       "      <td>0.0</td>\n",
       "      <td>0.0</td>\n",
       "      <td>0.0</td>\n",
       "      <td>0.0</td>\n",
       "      <td>0.0</td>\n",
       "      <td>0.0</td>\n",
       "      <td>0.000000</td>\n",
       "      <td>0.000000</td>\n",
       "      <td>0.0</td>\n",
       "    </tr>\n",
       "    <tr>\n",
       "      <th>all-purpose flour, clarified butter (ghee), water, white chocolate, dessicated coconut, green cardamom powder, almond, jaggery</th>\n",
       "      <td>0.0</td>\n",
       "      <td>0.0</td>\n",
       "      <td>0.0</td>\n",
       "      <td>0.0</td>\n",
       "      <td>0.0</td>\n",
       "      <td>0.0</td>\n",
       "      <td>0.0</td>\n",
       "      <td>0.000000</td>\n",
       "      <td>0.0</td>\n",
       "      <td>0.0</td>\n",
       "      <td>0.0</td>\n",
       "      <td>0.0</td>\n",
       "      <td>0.0</td>\n",
       "      <td>0.0</td>\n",
       "      <td>0.0</td>\n",
       "      <td>0.0</td>\n",
       "      <td>0.0</td>\n",
       "      <td>0.000000</td>\n",
       "      <td>0.000000</td>\n",
       "      <td>0.0</td>\n",
       "    </tr>\n",
       "    <tr>\n",
       "      <th>jeera whole, coriander seeds, kashmiri chilly, garlic, ginger, green chillies, kokum, coconut, onion, tomatoes, coriander, prawns, salt, turmeric powder, garlic paste, asafoetida, refined oil, ginger paste, goan rice, coconut milk, green chillies, fresh coconut, hing, refined oil, coriander leaves, basmati rice, coconut milk, green chillies, coconut milk, coconut, salt, green chillies, curry leaf, lecite</th>\n",
       "      <td>0.0</td>\n",
       "      <td>0.0</td>\n",
       "      <td>0.0</td>\n",
       "      <td>0.0</td>\n",
       "      <td>0.0</td>\n",
       "      <td>0.0</td>\n",
       "      <td>0.0</td>\n",
       "      <td>0.166181</td>\n",
       "      <td>0.0</td>\n",
       "      <td>0.0</td>\n",
       "      <td>0.0</td>\n",
       "      <td>0.0</td>\n",
       "      <td>0.0</td>\n",
       "      <td>0.0</td>\n",
       "      <td>0.0</td>\n",
       "      <td>0.0</td>\n",
       "      <td>0.0</td>\n",
       "      <td>0.000000</td>\n",
       "      <td>0.098531</td>\n",
       "      <td>0.0</td>\n",
       "    </tr>\n",
       "    <tr>\n",
       "      <th>red lentils or masoor dal (half-boiled), potato (grated), carrot, french beans, bread slices, ground chickpea flour (sattu), green chillies, ginger, onions, garlic (minced), salt, sugar, chaat masala, red chilli powder, garam masala, corn flour, besan, bread crumbs for crunchyness, coriander, refined oil (for fryingp)</th>\n",
       "      <td>0.0</td>\n",
       "      <td>0.0</td>\n",
       "      <td>0.0</td>\n",
       "      <td>0.0</td>\n",
       "      <td>0.0</td>\n",
       "      <td>0.0</td>\n",
       "      <td>0.0</td>\n",
       "      <td>0.000000</td>\n",
       "      <td>0.0</td>\n",
       "      <td>0.0</td>\n",
       "      <td>0.0</td>\n",
       "      <td>0.0</td>\n",
       "      <td>0.0</td>\n",
       "      <td>0.0</td>\n",
       "      <td>0.0</td>\n",
       "      <td>0.0</td>\n",
       "      <td>0.0</td>\n",
       "      <td>0.210376</td>\n",
       "      <td>0.000000</td>\n",
       "      <td>0.0</td>\n",
       "    </tr>\n",
       "  </tbody>\n",
       "</table>\n",
       "</div>"
      ],
      "text/plain": [
       "                                                    dark  nutmeg  yello  \\\n",
       "Describe                                                                  \n",
       "Vanilla pre mix, gel, oil, water, egg yolks, le...   0.0     0.0    0.0   \n",
       "unsalted butter, brown sugar, chocolate, chocol...   0.0     0.0    0.0   \n",
       "all-purpose flour, clarified butter (ghee), wat...   0.0     0.0    0.0   \n",
       "jeera whole, coriander seeds, kashmiri chilly, ...   0.0     0.0    0.0   \n",
       "red lentils or masoor dal (half-boiled), potato...   0.0     0.0    0.0   \n",
       "\n",
       "                                                    buffalo  fillet  \\\n",
       "Describe                                                              \n",
       "Vanilla pre mix, gel, oil, water, egg yolks, le...      0.0     0.0   \n",
       "unsalted butter, brown sugar, chocolate, chocol...      0.0     0.0   \n",
       "all-purpose flour, clarified butter (ghee), wat...      0.0     0.0   \n",
       "jeera whole, coriander seeds, kashmiri chilly, ...      0.0     0.0   \n",
       "red lentils or masoor dal (half-boiled), potato...      0.0     0.0   \n",
       "\n",
       "                                                    coverture  crepe  \\\n",
       "Describe                                                               \n",
       "Vanilla pre mix, gel, oil, water, egg yolks, le...        0.0    0.0   \n",
       "unsalted butter, brown sugar, chocolate, chocol...        0.0    0.0   \n",
       "all-purpose flour, clarified butter (ghee), wat...        0.0    0.0   \n",
       "jeera whole, coriander seeds, kashmiri chilly, ...        0.0    0.0   \n",
       "red lentils or masoor dal (half-boiled), potato...        0.0    0.0   \n",
       "\n",
       "                                                       kokum  cook  coriender  \\\n",
       "Describe                                                                        \n",
       "Vanilla pre mix, gel, oil, water, egg yolks, le...  0.000000   0.0        0.0   \n",
       "unsalted butter, brown sugar, chocolate, chocol...  0.000000   0.0        0.0   \n",
       "all-purpose flour, clarified butter (ghee), wat...  0.000000   0.0        0.0   \n",
       "jeera whole, coriander seeds, kashmiri chilly, ...  0.166181   0.0        0.0   \n",
       "red lentils or masoor dal (half-boiled), potato...  0.000000   0.0        0.0   \n",
       "\n",
       "                                                    asaian  sour  iceberg  \\\n",
       "Describe                                                                    \n",
       "Vanilla pre mix, gel, oil, water, egg yolks, le...     0.0   0.0      0.0   \n",
       "unsalted butter, brown sugar, chocolate, chocol...     0.0   0.0      0.0   \n",
       "all-purpose flour, clarified butter (ghee), wat...     0.0   0.0      0.0   \n",
       "jeera whole, coriander seeds, kashmiri chilly, ...     0.0   0.0      0.0   \n",
       "red lentils or masoor dal (half-boiled), potato...     0.0   0.0      0.0   \n",
       "\n",
       "                                                    flesh  mozzarella  \\\n",
       "Describe                                                                \n",
       "Vanilla pre mix, gel, oil, water, egg yolks, le...    0.0         0.0   \n",
       "unsalted butter, brown sugar, chocolate, chocol...    0.0         0.0   \n",
       "all-purpose flour, clarified butter (ghee), wat...    0.0         0.0   \n",
       "jeera whole, coriander seeds, kashmiri chilly, ...    0.0         0.0   \n",
       "red lentils or masoor dal (half-boiled), potato...    0.0         0.0   \n",
       "\n",
       "                                                    littleneck  papper  \\\n",
       "Describe                                                                 \n",
       "Vanilla pre mix, gel, oil, water, egg yolks, le...         0.0     0.0   \n",
       "unsalted butter, brown sugar, chocolate, chocol...         0.0     0.0   \n",
       "all-purpose flour, clarified butter (ghee), wat...         0.0     0.0   \n",
       "jeera whole, coriander seeds, kashmiri chilly, ...         0.0     0.0   \n",
       "red lentils or masoor dal (half-boiled), potato...         0.0     0.0   \n",
       "\n",
       "                                                       sattu  tomatoes  whisky  \n",
       "Describe                                                                        \n",
       "Vanilla pre mix, gel, oil, water, egg yolks, le...  0.000000  0.000000     0.0  \n",
       "unsalted butter, brown sugar, chocolate, chocol...  0.000000  0.000000     0.0  \n",
       "all-purpose flour, clarified butter (ghee), wat...  0.000000  0.000000     0.0  \n",
       "jeera whole, coriander seeds, kashmiri chilly, ...  0.000000  0.098531     0.0  \n",
       "red lentils or masoor dal (half-boiled), potato...  0.210376  0.000000     0.0  "
      ]
     },
     "execution_count": 44,
     "metadata": {},
     "output_type": "execute_result"
    }
   ],
   "source": [
    "pd.DataFrame(tfidf_matrix.todense(),\n",
    "             columns=teks,\n",
    "             index=content_based_df.Describe\n",
    "             ).sample(20, axis=1).sample(5, axis=0)"
   ]
  },
  {
   "cell_type": "markdown",
   "metadata": {},
   "source": [
    "### Collaborative Filtering"
   ]
  },
  {
   "cell_type": "markdown",
   "metadata": {},
   "source": [
    "Membuat variable baru untuk memudahkan dalam proses selanjutnya serta memudahkan pemeliharaan data:"
   ]
  },
  {
   "cell_type": "code",
   "execution_count": 45,
   "metadata": {},
   "outputs": [
    {
     "data": {
      "text/html": [
       "<div>\n",
       "<style scoped>\n",
       "    .dataframe tbody tr th:only-of-type {\n",
       "        vertical-align: middle;\n",
       "    }\n",
       "\n",
       "    .dataframe tbody tr th {\n",
       "        vertical-align: top;\n",
       "    }\n",
       "\n",
       "    .dataframe thead th {\n",
       "        text-align: right;\n",
       "    }\n",
       "</style>\n",
       "<table border=\"1\" class=\"dataframe\">\n",
       "  <thead>\n",
       "    <tr style=\"text-align: right;\">\n",
       "      <th></th>\n",
       "      <th>User_ID</th>\n",
       "      <th>Food_ID</th>\n",
       "      <th>Rating</th>\n",
       "    </tr>\n",
       "  </thead>\n",
       "  <tbody>\n",
       "    <tr>\n",
       "      <th>0</th>\n",
       "      <td>1.0</td>\n",
       "      <td>88.0</td>\n",
       "      <td>4.0</td>\n",
       "    </tr>\n",
       "    <tr>\n",
       "      <th>1</th>\n",
       "      <td>1.0</td>\n",
       "      <td>46.0</td>\n",
       "      <td>3.0</td>\n",
       "    </tr>\n",
       "    <tr>\n",
       "      <th>2</th>\n",
       "      <td>1.0</td>\n",
       "      <td>24.0</td>\n",
       "      <td>5.0</td>\n",
       "    </tr>\n",
       "    <tr>\n",
       "      <th>3</th>\n",
       "      <td>1.0</td>\n",
       "      <td>25.0</td>\n",
       "      <td>4.0</td>\n",
       "    </tr>\n",
       "    <tr>\n",
       "      <th>4</th>\n",
       "      <td>2.0</td>\n",
       "      <td>49.0</td>\n",
       "      <td>1.0</td>\n",
       "    </tr>\n",
       "  </tbody>\n",
       "</table>\n",
       "</div>"
      ],
      "text/plain": [
       "   User_ID  Food_ID  Rating\n",
       "0      1.0     88.0     4.0\n",
       "1      1.0     46.0     3.0\n",
       "2      1.0     24.0     5.0\n",
       "3      1.0     25.0     4.0\n",
       "4      2.0     49.0     1.0"
      ]
     },
     "execution_count": 45,
     "metadata": {},
     "output_type": "execute_result"
    }
   ],
   "source": [
    "collaborative_df = rating_df\n",
    "\n",
    "collaborative_df.head()"
   ]
  },
  {
   "cell_type": "markdown",
   "metadata": {},
   "source": [
    "Check data:"
   ]
  },
  {
   "cell_type": "code",
   "execution_count": 46,
   "metadata": {},
   "outputs": [
    {
     "name": "stdout",
     "output_type": "stream",
     "text": [
      "<class 'pandas.core.frame.DataFrame'>\n",
      "Index: 511 entries, 0 to 510\n",
      "Data columns (total 3 columns):\n",
      " #   Column   Non-Null Count  Dtype  \n",
      "---  ------   --------------  -----  \n",
      " 0   User_ID  511 non-null    float64\n",
      " 1   Food_ID  511 non-null    float64\n",
      " 2   Rating   511 non-null    float64\n",
      "dtypes: float64(3)\n",
      "memory usage: 16.0 KB\n"
     ]
    }
   ],
   "source": [
    "collaborative_df.info()"
   ]
  },
  {
   "cell_type": "markdown",
   "metadata": {},
   "source": [
    "#### Features Encoding"
   ]
  },
  {
   "cell_type": "markdown",
   "metadata": {},
   "source": [
    "Melakukan encoding terhadap data Food_ID:"
   ]
  },
  {
   "cell_type": "code",
   "execution_count": 48,
   "metadata": {},
   "outputs": [
    {
     "name": "stdout",
     "output_type": "stream",
     "text": [
      "list Food_ID:  [88.0, 46.0, 24.0, 25.0, 49.0, 33.0, 106.0, 71.0, 73.0, 110.0, 168.0, 201.0, 209.0, 65.0, 292.0, 299.0, 14.0, 141.0, 170.0, 212.0, 128.0, 21.0, 52.0, 64.0, 198.0, 241.0, 8.0, 27.0, 22.0, 185.0, 207.0, 213.0, 131.0, 109.0, 116.0, 220.0, 31.0, 101.0, 138.0, 140.0, 242.0, 224.0, 163.0, 15.0, 60.0, 91.0, 2.0, 180.0, 182.0, 184.0, 244.0, 70.0, 44.0, 227.0, 100.0, 250.0, 35.0, 154.0, 258.0, 200.0, 274.0, 48.0, 38.0, 169.0, 74.0, 127.0, 17.0, 51.0, 87.0, 134.0, 267.0, 272.0, 29.0, 130.0, 149.0, 43.0, 214.0, 238.0, 243.0, 10.0, 270.0, 282.0, 291.0, 23.0, 58.0, 114.0, 251.0, 278.0, 7.0, 18.0, 133.0, 153.0, 37.0, 9.0, 11.0, 211.0, 249.0, 84.0, 261.0, 13.0, 42.0, 126.0, 230.0, 280.0, 165.0, 53.0, 275.0, 26.0, 223.0, 193.0, 55.0, 63.0, 57.0, 178.0, 287.0, 104.0, 45.0, 161.0, 273.0, 86.0, 54.0, 279.0, 162.0, 50.0, 5.0, 34.0, 281.0, 300.0, 304.0, 80.0, 129.0, 150.0, 188.0, 232.0, 240.0, 264.0, 285.0, 32.0, 39.0, 94.0, 263.0, 143.0, 290.0, 309.0, 166.0, 248.0, 12.0, 28.0, 147.0, 68.0, 96.0, 155.0, 16.0, 19.0, 98.0, 191.0, 218.0, 283.0, 160.0, 186.0, 30.0, 175.0, 195.0, 256.0, 111.0, 4.0, 259.0, 196.0, 284.0, 294.0, 296.0, 6.0, 72.0, 85.0, 174.0, 245.0, 295.0, 47.0, 108.0, 181.0, 208.0, 236.0, 102.0, 59.0, 136.0, 62.0, 225.0, 199.0, 119.0, 172.0, 1.0, 77.0, 139.0, 171.0, 205.0, 276.0, 81.0, 95.0, 158.0, 167.0, 151.0, 187.0, 69.0, 254.0, 268.0, 189.0, 190.0, 226.0, 113.0, 146.0, 204.0, 255.0, 301.0, 90.0, 121.0, 117.0, 288.0, 289.0, 298.0, 305.0, 78.0, 75.0, 164.0, 67.0, 271.0, 137.0, 99.0, 145.0, 239.0, 107.0, 221.0, 144.0, 177.0, 118.0, 124.0, 157.0, 183.0, 265.0, 215.0, 61.0, 269.0, 303.0, 92.0, 192.0, 156.0, 203.0, 252.0, 76.0, 142.0, 179.0, 219.0, 83.0, 122.0, 262.0, 56.0, 277.0, 206.0, 307.0, 222.0, 135.0, 234.0, 132.0, 115.0, 216.0, 3.0, 20.0, 123.0, 228.0, 246.0, 302.0, 36.0, 173.0, 66.0, 103.0, 112.0, 257.0, 306.0, 197.0, 286.0, 229.0, 235.0, 41.0, 79.0, 253.0, 202.0, 159.0, 237.0, 260.0, 210.0, 120.0, 148.0, 176.0, 231.0, 247.0, 105.0, 125.0, 266.0, 297.0, 89.0, 97.0, 293.0, 308.0, 40.0, 82.0, 194.0, 217.0, 93.0, 152.0, 233.0]\n",
      "encoded Food_ID:  {88.0: 0, 46.0: 1, 24.0: 2, 25.0: 3, 49.0: 4, 33.0: 5, 106.0: 6, 71.0: 7, 73.0: 8, 110.0: 9, 168.0: 10, 201.0: 11, 209.0: 12, 65.0: 13, 292.0: 14, 299.0: 15, 14.0: 16, 141.0: 17, 170.0: 18, 212.0: 19, 128.0: 20, 21.0: 21, 52.0: 22, 64.0: 23, 198.0: 24, 241.0: 25, 8.0: 26, 27.0: 27, 22.0: 28, 185.0: 29, 207.0: 30, 213.0: 31, 131.0: 32, 109.0: 33, 116.0: 34, 220.0: 35, 31.0: 36, 101.0: 37, 138.0: 38, 140.0: 39, 242.0: 40, 224.0: 41, 163.0: 42, 15.0: 43, 60.0: 44, 91.0: 45, 2.0: 46, 180.0: 47, 182.0: 48, 184.0: 49, 244.0: 50, 70.0: 51, 44.0: 52, 227.0: 53, 100.0: 54, 250.0: 55, 35.0: 56, 154.0: 57, 258.0: 58, 200.0: 59, 274.0: 60, 48.0: 61, 38.0: 62, 169.0: 63, 74.0: 64, 127.0: 65, 17.0: 66, 51.0: 67, 87.0: 68, 134.0: 69, 267.0: 70, 272.0: 71, 29.0: 72, 130.0: 73, 149.0: 74, 43.0: 75, 214.0: 76, 238.0: 77, 243.0: 78, 10.0: 79, 270.0: 80, 282.0: 81, 291.0: 82, 23.0: 83, 58.0: 84, 114.0: 85, 251.0: 86, 278.0: 87, 7.0: 88, 18.0: 89, 133.0: 90, 153.0: 91, 37.0: 92, 9.0: 93, 11.0: 94, 211.0: 95, 249.0: 96, 84.0: 97, 261.0: 98, 13.0: 99, 42.0: 100, 126.0: 101, 230.0: 102, 280.0: 103, 165.0: 104, 53.0: 105, 275.0: 106, 26.0: 107, 223.0: 108, 193.0: 109, 55.0: 110, 63.0: 111, 57.0: 112, 178.0: 113, 287.0: 114, 104.0: 115, 45.0: 116, 161.0: 117, 273.0: 118, 86.0: 119, 54.0: 120, 279.0: 121, 162.0: 122, 50.0: 123, 5.0: 124, 34.0: 125, 281.0: 126, 300.0: 127, 304.0: 128, 80.0: 129, 129.0: 130, 150.0: 131, 188.0: 132, 232.0: 133, 240.0: 134, 264.0: 135, 285.0: 136, 32.0: 137, 39.0: 138, 94.0: 139, 263.0: 140, 143.0: 141, 290.0: 142, 309.0: 143, 166.0: 144, 248.0: 145, 12.0: 146, 28.0: 147, 147.0: 148, 68.0: 149, 96.0: 150, 155.0: 151, 16.0: 152, 19.0: 153, 98.0: 154, 191.0: 155, 218.0: 156, 283.0: 157, 160.0: 158, 186.0: 159, 30.0: 160, 175.0: 161, 195.0: 162, 256.0: 163, 111.0: 164, 4.0: 165, 259.0: 166, 196.0: 167, 284.0: 168, 294.0: 169, 296.0: 170, 6.0: 171, 72.0: 172, 85.0: 173, 174.0: 174, 245.0: 175, 295.0: 176, 47.0: 177, 108.0: 178, 181.0: 179, 208.0: 180, 236.0: 181, 102.0: 182, 59.0: 183, 136.0: 184, 62.0: 185, 225.0: 186, 199.0: 187, 119.0: 188, 172.0: 189, 1.0: 190, 77.0: 191, 139.0: 192, 171.0: 193, 205.0: 194, 276.0: 195, 81.0: 196, 95.0: 197, 158.0: 198, 167.0: 199, 151.0: 200, 187.0: 201, 69.0: 202, 254.0: 203, 268.0: 204, 189.0: 205, 190.0: 206, 226.0: 207, 113.0: 208, 146.0: 209, 204.0: 210, 255.0: 211, 301.0: 212, 90.0: 213, 121.0: 214, 117.0: 215, 288.0: 216, 289.0: 217, 298.0: 218, 305.0: 219, 78.0: 220, 75.0: 221, 164.0: 222, 67.0: 223, 271.0: 224, 137.0: 225, 99.0: 226, 145.0: 227, 239.0: 228, 107.0: 229, 221.0: 230, 144.0: 231, 177.0: 232, 118.0: 233, 124.0: 234, 157.0: 235, 183.0: 236, 265.0: 237, 215.0: 238, 61.0: 239, 269.0: 240, 303.0: 241, 92.0: 242, 192.0: 243, 156.0: 244, 203.0: 245, 252.0: 246, 76.0: 247, 142.0: 248, 179.0: 249, 219.0: 250, 83.0: 251, 122.0: 252, 262.0: 253, 56.0: 254, 277.0: 255, 206.0: 256, 307.0: 257, 222.0: 258, 135.0: 259, 234.0: 260, 132.0: 261, 115.0: 262, 216.0: 263, 3.0: 264, 20.0: 265, 123.0: 266, 228.0: 267, 246.0: 268, 302.0: 269, 36.0: 270, 173.0: 271, 66.0: 272, 103.0: 273, 112.0: 274, 257.0: 275, 306.0: 276, 197.0: 277, 286.0: 278, 229.0: 279, 235.0: 280, 41.0: 281, 79.0: 282, 253.0: 283, 202.0: 284, 159.0: 285, 237.0: 286, 260.0: 287, 210.0: 288, 120.0: 289, 148.0: 290, 176.0: 291, 231.0: 292, 247.0: 293, 105.0: 294, 125.0: 295, 266.0: 296, 297.0: 297, 89.0: 298, 97.0: 299, 293.0: 300, 308.0: 301, 40.0: 302, 82.0: 303, 194.0: 304, 217.0: 305, 93.0: 306, 152.0: 307, 233.0: 308}\n",
      "encoded angka ke Food_ID:  {0: 88.0, 1: 46.0, 2: 24.0, 3: 25.0, 4: 49.0, 5: 33.0, 6: 106.0, 7: 71.0, 8: 73.0, 9: 110.0, 10: 168.0, 11: 201.0, 12: 209.0, 13: 65.0, 14: 292.0, 15: 299.0, 16: 14.0, 17: 141.0, 18: 170.0, 19: 212.0, 20: 128.0, 21: 21.0, 22: 52.0, 23: 64.0, 24: 198.0, 25: 241.0, 26: 8.0, 27: 27.0, 28: 22.0, 29: 185.0, 30: 207.0, 31: 213.0, 32: 131.0, 33: 109.0, 34: 116.0, 35: 220.0, 36: 31.0, 37: 101.0, 38: 138.0, 39: 140.0, 40: 242.0, 41: 224.0, 42: 163.0, 43: 15.0, 44: 60.0, 45: 91.0, 46: 2.0, 47: 180.0, 48: 182.0, 49: 184.0, 50: 244.0, 51: 70.0, 52: 44.0, 53: 227.0, 54: 100.0, 55: 250.0, 56: 35.0, 57: 154.0, 58: 258.0, 59: 200.0, 60: 274.0, 61: 48.0, 62: 38.0, 63: 169.0, 64: 74.0, 65: 127.0, 66: 17.0, 67: 51.0, 68: 87.0, 69: 134.0, 70: 267.0, 71: 272.0, 72: 29.0, 73: 130.0, 74: 149.0, 75: 43.0, 76: 214.0, 77: 238.0, 78: 243.0, 79: 10.0, 80: 270.0, 81: 282.0, 82: 291.0, 83: 23.0, 84: 58.0, 85: 114.0, 86: 251.0, 87: 278.0, 88: 7.0, 89: 18.0, 90: 133.0, 91: 153.0, 92: 37.0, 93: 9.0, 94: 11.0, 95: 211.0, 96: 249.0, 97: 84.0, 98: 261.0, 99: 13.0, 100: 42.0, 101: 126.0, 102: 230.0, 103: 280.0, 104: 165.0, 105: 53.0, 106: 275.0, 107: 26.0, 108: 223.0, 109: 193.0, 110: 55.0, 111: 63.0, 112: 57.0, 113: 178.0, 114: 287.0, 115: 104.0, 116: 45.0, 117: 161.0, 118: 273.0, 119: 86.0, 120: 54.0, 121: 279.0, 122: 162.0, 123: 50.0, 124: 5.0, 125: 34.0, 126: 281.0, 127: 300.0, 128: 304.0, 129: 80.0, 130: 129.0, 131: 150.0, 132: 188.0, 133: 232.0, 134: 240.0, 135: 264.0, 136: 285.0, 137: 32.0, 138: 39.0, 139: 94.0, 140: 263.0, 141: 143.0, 142: 290.0, 143: 309.0, 144: 166.0, 145: 248.0, 146: 12.0, 147: 28.0, 148: 147.0, 149: 68.0, 150: 96.0, 151: 155.0, 152: 16.0, 153: 19.0, 154: 98.0, 155: 191.0, 156: 218.0, 157: 283.0, 158: 160.0, 159: 186.0, 160: 30.0, 161: 175.0, 162: 195.0, 163: 256.0, 164: 111.0, 165: 4.0, 166: 259.0, 167: 196.0, 168: 284.0, 169: 294.0, 170: 296.0, 171: 6.0, 172: 72.0, 173: 85.0, 174: 174.0, 175: 245.0, 176: 295.0, 177: 47.0, 178: 108.0, 179: 181.0, 180: 208.0, 181: 236.0, 182: 102.0, 183: 59.0, 184: 136.0, 185: 62.0, 186: 225.0, 187: 199.0, 188: 119.0, 189: 172.0, 190: 1.0, 191: 77.0, 192: 139.0, 193: 171.0, 194: 205.0, 195: 276.0, 196: 81.0, 197: 95.0, 198: 158.0, 199: 167.0, 200: 151.0, 201: 187.0, 202: 69.0, 203: 254.0, 204: 268.0, 205: 189.0, 206: 190.0, 207: 226.0, 208: 113.0, 209: 146.0, 210: 204.0, 211: 255.0, 212: 301.0, 213: 90.0, 214: 121.0, 215: 117.0, 216: 288.0, 217: 289.0, 218: 298.0, 219: 305.0, 220: 78.0, 221: 75.0, 222: 164.0, 223: 67.0, 224: 271.0, 225: 137.0, 226: 99.0, 227: 145.0, 228: 239.0, 229: 107.0, 230: 221.0, 231: 144.0, 232: 177.0, 233: 118.0, 234: 124.0, 235: 157.0, 236: 183.0, 237: 265.0, 238: 215.0, 239: 61.0, 240: 269.0, 241: 303.0, 242: 92.0, 243: 192.0, 244: 156.0, 245: 203.0, 246: 252.0, 247: 76.0, 248: 142.0, 249: 179.0, 250: 219.0, 251: 83.0, 252: 122.0, 253: 262.0, 254: 56.0, 255: 277.0, 256: 206.0, 257: 307.0, 258: 222.0, 259: 135.0, 260: 234.0, 261: 132.0, 262: 115.0, 263: 216.0, 264: 3.0, 265: 20.0, 266: 123.0, 267: 228.0, 268: 246.0, 269: 302.0, 270: 36.0, 271: 173.0, 272: 66.0, 273: 103.0, 274: 112.0, 275: 257.0, 276: 306.0, 277: 197.0, 278: 286.0, 279: 229.0, 280: 235.0, 281: 41.0, 282: 79.0, 283: 253.0, 284: 202.0, 285: 159.0, 286: 237.0, 287: 260.0, 288: 210.0, 289: 120.0, 290: 148.0, 291: 176.0, 292: 231.0, 293: 247.0, 294: 105.0, 295: 125.0, 296: 266.0, 297: 297.0, 298: 89.0, 299: 97.0, 300: 293.0, 301: 308.0, 302: 40.0, 303: 82.0, 304: 194.0, 305: 217.0, 306: 93.0, 307: 152.0, 308: 233.0}\n"
     ]
    }
   ],
   "source": [
    "# Mengubah recipe_id menjadi list tanpa nilai yang sama\n",
    "food_ids = collaborative_df[\"Food_ID\"].unique().tolist()\n",
    "print(\"list Food_ID: \", food_ids)\n",
    "\n",
    "# Melakukan encoding terhadap recipe_id\n",
    "food_to_food_encoded = {x: i for i, x in enumerate(food_ids)}\n",
    "print(\"encoded Food_ID: \", food_to_food_encoded)\n",
    "\n",
    "# Melakukan proses encoding angka ke recipe_id\n",
    "food_encoded_to_food = {i: x for i, x in enumerate(food_ids)}\n",
    "print(\"encoded angka ke Food_ID: \", food_encoded_to_food)"
   ]
  },
  {
   "cell_type": "markdown",
   "metadata": {},
   "source": [
    "Melakukan encoding terhadap data User_ID:"
   ]
  },
  {
   "cell_type": "code",
   "execution_count": 49,
   "metadata": {},
   "outputs": [
    {
     "name": "stdout",
     "output_type": "stream",
     "text": [
      "list User_ID:  [1.0, 2.0, 3.0, 4.0, 5.0, 6.0, 7.0, 8.0, 9.0, 10.0, 11.0, 12.0, 13.0, 14.0, 15.0, 16.0, 17.0, 18.0, 19.0, 20.0, 21.0, 22.0, 23.0, 24.0, 25.0, 26.0, 27.0, 28.0, 29.0, 30.0, 31.0, 32.0, 33.0, 34.0, 35.0, 36.0, 37.0, 38.0, 39.0, 40.0, 41.0, 42.0, 43.0, 44.0, 45.0, 46.0, 47.0, 48.0, 49.0, 50.0, 51.0, 52.0, 53.0, 54.0, 55.0, 56.0, 57.0, 58.0, 59.0, 60.0, 61.0, 62.0, 63.0, 64.0, 65.0, 66.0, 67.0, 68.0, 69.0, 70.0, 71.0, 72.0, 73.0, 74.0, 75.0, 76.0, 77.0, 78.0, 79.0, 80.0, 81.0, 82.0, 83.0, 84.0, 85.0, 86.0, 87.0, 88.0, 89.0, 90.0, 91.0, 92.0, 93.0, 94.0, 95.0, 96.0, 97.0, 98.0, 99.0, 100.0]\n",
      "encoded User_ID:  {1.0: 0, 2.0: 1, 3.0: 2, 4.0: 3, 5.0: 4, 6.0: 5, 7.0: 6, 8.0: 7, 9.0: 8, 10.0: 9, 11.0: 10, 12.0: 11, 13.0: 12, 14.0: 13, 15.0: 14, 16.0: 15, 17.0: 16, 18.0: 17, 19.0: 18, 20.0: 19, 21.0: 20, 22.0: 21, 23.0: 22, 24.0: 23, 25.0: 24, 26.0: 25, 27.0: 26, 28.0: 27, 29.0: 28, 30.0: 29, 31.0: 30, 32.0: 31, 33.0: 32, 34.0: 33, 35.0: 34, 36.0: 35, 37.0: 36, 38.0: 37, 39.0: 38, 40.0: 39, 41.0: 40, 42.0: 41, 43.0: 42, 44.0: 43, 45.0: 44, 46.0: 45, 47.0: 46, 48.0: 47, 49.0: 48, 50.0: 49, 51.0: 50, 52.0: 51, 53.0: 52, 54.0: 53, 55.0: 54, 56.0: 55, 57.0: 56, 58.0: 57, 59.0: 58, 60.0: 59, 61.0: 60, 62.0: 61, 63.0: 62, 64.0: 63, 65.0: 64, 66.0: 65, 67.0: 66, 68.0: 67, 69.0: 68, 70.0: 69, 71.0: 70, 72.0: 71, 73.0: 72, 74.0: 73, 75.0: 74, 76.0: 75, 77.0: 76, 78.0: 77, 79.0: 78, 80.0: 79, 81.0: 80, 82.0: 81, 83.0: 82, 84.0: 83, 85.0: 84, 86.0: 85, 87.0: 86, 88.0: 87, 89.0: 88, 90.0: 89, 91.0: 90, 92.0: 91, 93.0: 92, 94.0: 93, 95.0: 94, 96.0: 95, 97.0: 96, 98.0: 97, 99.0: 98, 100.0: 99}\n",
      "encoded angka ke User_ID:  {0: 1.0, 1: 2.0, 2: 3.0, 3: 4.0, 4: 5.0, 5: 6.0, 6: 7.0, 7: 8.0, 8: 9.0, 9: 10.0, 10: 11.0, 11: 12.0, 12: 13.0, 13: 14.0, 14: 15.0, 15: 16.0, 16: 17.0, 17: 18.0, 18: 19.0, 19: 20.0, 20: 21.0, 21: 22.0, 22: 23.0, 23: 24.0, 24: 25.0, 25: 26.0, 26: 27.0, 27: 28.0, 28: 29.0, 29: 30.0, 30: 31.0, 31: 32.0, 32: 33.0, 33: 34.0, 34: 35.0, 35: 36.0, 36: 37.0, 37: 38.0, 38: 39.0, 39: 40.0, 40: 41.0, 41: 42.0, 42: 43.0, 43: 44.0, 44: 45.0, 45: 46.0, 46: 47.0, 47: 48.0, 48: 49.0, 49: 50.0, 50: 51.0, 51: 52.0, 52: 53.0, 53: 54.0, 54: 55.0, 55: 56.0, 56: 57.0, 57: 58.0, 58: 59.0, 59: 60.0, 60: 61.0, 61: 62.0, 62: 63.0, 63: 64.0, 64: 65.0, 65: 66.0, 66: 67.0, 67: 68.0, 68: 69.0, 69: 70.0, 70: 71.0, 71: 72.0, 72: 73.0, 73: 74.0, 74: 75.0, 75: 76.0, 76: 77.0, 77: 78.0, 78: 79.0, 79: 80.0, 80: 81.0, 81: 82.0, 82: 83.0, 83: 84.0, 84: 85.0, 85: 86.0, 86: 87.0, 87: 88.0, 88: 89.0, 89: 90.0, 90: 91.0, 91: 92.0, 92: 93.0, 93: 94.0, 94: 95.0, 95: 96.0, 96: 97.0, 97: 98.0, 98: 99.0, 99: 100.0}\n"
     ]
    }
   ],
   "source": [
    "# Mengubah user_id menjadi list tanpa nilai yang sama\n",
    "user_ids = collaborative_df[\"User_ID\"].unique().tolist()\n",
    "print(\"list User_ID: \", user_ids)\n",
    "\n",
    "# Melakukan encoding terhadap user_id\n",
    "user_to_user_encoded = {x: i for i, x in enumerate(user_ids)}\n",
    "print(\"encoded User_ID: \", user_to_user_encoded)\n",
    "\n",
    "# Melakukan proses encoding angka ke user_id\n",
    "user_encoded_to_user = {i: x for i, x in enumerate(user_ids)}\n",
    "print(\"encoded angka ke User_ID: \", user_encoded_to_user)"
   ]
  },
  {
   "cell_type": "markdown",
   "metadata": {},
   "source": [
    "Memetakan recipe_id dan user_id yang telah diproses ke dataframe yang berkaitan:"
   ]
  },
  {
   "cell_type": "code",
   "execution_count": 50,
   "metadata": {},
   "outputs": [],
   "source": [
    "# Mapping recipe_id ke dataframe recipe\n",
    "collaborative_df['food'] = collaborative_df['Food_ID'].map(food_to_food_encoded)\n",
    "\n",
    "# Mapping user_id ke dataframe user\n",
    "collaborative_df['user'] = collaborative_df['User_ID'].map(user_to_user_encoded)"
   ]
  },
  {
   "cell_type": "markdown",
   "metadata": {},
   "source": [
    "Check data:"
   ]
  },
  {
   "cell_type": "code",
   "execution_count": 51,
   "metadata": {},
   "outputs": [
    {
     "name": "stdout",
     "output_type": "stream",
     "text": [
      "<class 'pandas.core.frame.DataFrame'>\n",
      "Index: 511 entries, 0 to 510\n",
      "Data columns (total 5 columns):\n",
      " #   Column   Non-Null Count  Dtype  \n",
      "---  ------   --------------  -----  \n",
      " 0   User_ID  511 non-null    float64\n",
      " 1   Food_ID  511 non-null    float64\n",
      " 2   Rating   511 non-null    float64\n",
      " 3   food     511 non-null    int64  \n",
      " 4   user     511 non-null    int64  \n",
      "dtypes: float64(3), int64(2)\n",
      "memory usage: 24.0 KB\n"
     ]
    }
   ],
   "source": [
    "collaborative_df.info()"
   ]
  },
  {
   "cell_type": "markdown",
   "metadata": {},
   "source": [
    "Menampilkan 5 data teratas:"
   ]
  },
  {
   "cell_type": "code",
   "execution_count": 52,
   "metadata": {},
   "outputs": [
    {
     "data": {
      "text/html": [
       "<div>\n",
       "<style scoped>\n",
       "    .dataframe tbody tr th:only-of-type {\n",
       "        vertical-align: middle;\n",
       "    }\n",
       "\n",
       "    .dataframe tbody tr th {\n",
       "        vertical-align: top;\n",
       "    }\n",
       "\n",
       "    .dataframe thead th {\n",
       "        text-align: right;\n",
       "    }\n",
       "</style>\n",
       "<table border=\"1\" class=\"dataframe\">\n",
       "  <thead>\n",
       "    <tr style=\"text-align: right;\">\n",
       "      <th></th>\n",
       "      <th>User_ID</th>\n",
       "      <th>Food_ID</th>\n",
       "      <th>Rating</th>\n",
       "      <th>food</th>\n",
       "      <th>user</th>\n",
       "    </tr>\n",
       "  </thead>\n",
       "  <tbody>\n",
       "    <tr>\n",
       "      <th>0</th>\n",
       "      <td>1.0</td>\n",
       "      <td>88.0</td>\n",
       "      <td>4.0</td>\n",
       "      <td>0</td>\n",
       "      <td>0</td>\n",
       "    </tr>\n",
       "    <tr>\n",
       "      <th>1</th>\n",
       "      <td>1.0</td>\n",
       "      <td>46.0</td>\n",
       "      <td>3.0</td>\n",
       "      <td>1</td>\n",
       "      <td>0</td>\n",
       "    </tr>\n",
       "    <tr>\n",
       "      <th>2</th>\n",
       "      <td>1.0</td>\n",
       "      <td>24.0</td>\n",
       "      <td>5.0</td>\n",
       "      <td>2</td>\n",
       "      <td>0</td>\n",
       "    </tr>\n",
       "    <tr>\n",
       "      <th>3</th>\n",
       "      <td>1.0</td>\n",
       "      <td>25.0</td>\n",
       "      <td>4.0</td>\n",
       "      <td>3</td>\n",
       "      <td>0</td>\n",
       "    </tr>\n",
       "    <tr>\n",
       "      <th>4</th>\n",
       "      <td>2.0</td>\n",
       "      <td>49.0</td>\n",
       "      <td>1.0</td>\n",
       "      <td>4</td>\n",
       "      <td>1</td>\n",
       "    </tr>\n",
       "  </tbody>\n",
       "</table>\n",
       "</div>"
      ],
      "text/plain": [
       "   User_ID  Food_ID  Rating  food  user\n",
       "0      1.0     88.0     4.0     0     0\n",
       "1      1.0     46.0     3.0     1     0\n",
       "2      1.0     24.0     5.0     2     0\n",
       "3      1.0     25.0     4.0     3     0\n",
       "4      2.0     49.0     1.0     4     1"
      ]
     },
     "execution_count": 52,
     "metadata": {},
     "output_type": "execute_result"
    }
   ],
   "source": [
    "collaborative_df.head()"
   ]
  },
  {
   "cell_type": "markdown",
   "metadata": {},
   "source": [
    "#### Data Normalization"
   ]
  },
  {
   "cell_type": "markdown",
   "metadata": {},
   "source": [
    "Normalisasi data target untuk pelatihan:"
   ]
  },
  {
   "cell_type": "code",
   "execution_count": 63,
   "metadata": {},
   "outputs": [],
   "source": [
    "rating_scaler = MinMaxScaler()\n",
    "\n",
    "collaborative_df['rating'] = rating_scaler.fit_transform(collaborative_df['Rating'].values.reshape(-1, 1)).round(2)"
   ]
  },
  {
   "cell_type": "markdown",
   "metadata": {},
   "source": [
    "Check data:"
   ]
  },
  {
   "cell_type": "code",
   "execution_count": 64,
   "metadata": {},
   "outputs": [
    {
     "data": {
      "text/plain": [
       "124    0.44\n",
       "84     0.22\n",
       "433    0.00\n",
       "255    1.00\n",
       "68     0.78\n",
       "       ... \n",
       "106    1.00\n",
       "270    1.00\n",
       "348    0.67\n",
       "435    0.78\n",
       "102    0.89\n",
       "Name: rating, Length: 511, dtype: float64"
      ]
     },
     "execution_count": 64,
     "metadata": {},
     "output_type": "execute_result"
    }
   ],
   "source": [
    "collaborative_df['rating']"
   ]
  },
  {
   "cell_type": "markdown",
   "metadata": {},
   "source": [
    "#### Data Split"
   ]
  },
  {
   "cell_type": "markdown",
   "metadata": {},
   "source": [
    "Data diacak terlebih dahulu agar distribusinya random:"
   ]
  },
  {
   "cell_type": "code",
   "execution_count": 65,
   "metadata": {},
   "outputs": [],
   "source": [
    "collaborative_df = collaborative_df.sample(frac=1, random_state=42)"
   ]
  },
  {
   "cell_type": "markdown",
   "metadata": {},
   "source": [
    "Menentukan fitur dan target:"
   ]
  },
  {
   "cell_type": "code",
   "execution_count": 66,
   "metadata": {},
   "outputs": [],
   "source": [
    "x = collaborative_df[['user', 'food']].values\n",
    "y = collaborative_df['rating'].values"
   ]
  },
  {
   "cell_type": "markdown",
   "metadata": {},
   "source": [
    "Pembagian data ke dalam training set dan validation set:"
   ]
  },
  {
   "cell_type": "code",
   "execution_count": 67,
   "metadata": {},
   "outputs": [
    {
     "name": "stdout",
     "output_type": "stream",
     "text": [
      "[[ 85 286]\n",
      " [ 52 206]\n",
      " [ 79 276]\n",
      " ...\n",
      " [ 45 149]\n",
      " [ 38 162]\n",
      " [ 61  84]] [0.33 1.   0.78 0.   0.89 0.22 0.44 1.   0.78 0.11 0.44 0.33 0.56 0.78\n",
      " 0.78 0.33 0.89 0.11 0.67 0.89 0.11 0.22 0.78 0.44 0.44 0.44 0.78 1.\n",
      " 0.89 0.89 0.33 0.33 0.89 0.11 1.   0.44 1.   0.22 0.44 0.44 0.78 0.22\n",
      " 0.89 1.   0.22 0.67 1.   0.22 0.   0.56 0.22 0.78 0.67 0.44 0.56 0.\n",
      " 0.78 0.78 0.44 0.67 1.   0.56 0.33 0.11 1.   0.56 0.44 1.   0.22 0.67\n",
      " 0.67 0.   0.56 0.44 0.67 1.   0.67 0.56 1.   1.   0.22 1.   0.22 0.44\n",
      " 0.44 0.22 0.11 1.   0.44 0.56 0.78 0.67 0.11 0.   0.33 0.67 0.89 1.\n",
      " 0.11 0.56 0.67 0.33 0.56 0.44 0.67 0.22 0.44 1.   0.33 0.11 0.44 0.78\n",
      " 0.   0.   0.33 0.44 0.67 0.11 0.44 0.44 0.22 0.11 0.11 0.89 0.89 0.78\n",
      " 0.89 0.44 0.67 0.56 0.44 0.44 1.   0.78 1.   0.44 1.   0.22 0.11 0.33\n",
      " 0.11 1.   0.78 0.33 0.   1.   0.22 0.22 0.44 0.11 0.33 0.56 0.22 0.44\n",
      " 0.22 0.44 0.56 0.22 0.78 0.56 1.   0.   0.44 0.22 0.11 0.44 0.89 1.\n",
      " 0.44 0.11 1.   0.11 0.56 0.44 0.11 0.44 0.22 0.56 0.89 0.44 0.   0.78\n",
      " 0.44 0.56 0.78 0.22 0.67 0.11 1.   0.78 0.67 0.22 0.22 0.33 0.22 0.78\n",
      " 0.11 0.56 0.78 1.   0.11 0.   0.67 0.56 0.44 0.78 0.89 0.11 0.11 0.22\n",
      " 0.   0.   0.   0.44 1.   0.33 0.56 1.   0.67 0.22 1.   0.67 0.89 0.33\n",
      " 0.   0.33 1.   0.67 0.67 0.33 0.89 1.   0.89 0.67 1.   0.67 0.33 0.67\n",
      " 1.   0.67 0.11 0.11 1.   1.   0.56 1.   0.67 0.33 0.   0.56 0.33 0.89\n",
      " 0.33 0.22 0.11 0.89 0.56 0.56 1.   0.33 0.78 0.33 0.33 0.11 0.89 0.\n",
      " 0.67 1.   0.22 0.67 0.89 0.22 0.67 0.22 0.   0.78 0.   0.33 0.22 0.44\n",
      " 0.22 0.   0.67 0.22 1.   0.   0.33 0.33 0.44 0.78 0.22 0.11 0.22 0.56\n",
      " 0.44 0.67 0.89 0.67 0.11 0.11 0.44 0.89 0.22 0.33 0.89 0.   0.44 1.\n",
      " 0.56 0.78 0.   1.   0.44 0.56 0.11 0.11 0.89 0.22 0.22 0.56 0.11 0.22\n",
      " 1.   0.22 1.   0.44 0.67 0.   0.22 0.44 0.   0.78 0.   0.33 0.   0.33\n",
      " 0.67 0.22 0.22 1.   0.78 0.33 0.33 0.56 0.22 0.56 0.22 0.   0.   0.22\n",
      " 0.11 0.78 0.56 0.11 0.22 0.89 0.89 0.   0.33 0.78 0.44 0.56 0.11 0.\n",
      " 1.   0.89 0.89 0.89 0.22 0.56 0.89 0.33 0.33 0.67 1.   0.44 0.   0.11\n",
      " 0.44 0.89 0.56 0.67 0.56 0.78 0.33 0.22 0.89 0.44 0.22 0.33 0.56 0.89\n",
      " 0.   0.67 0.22 0.22 1.   0.89 0.33 0.56 0.67 0.22 0.   0.78 0.33 0.78\n",
      " 0.56 0.   0.11 1.   0.89 1.   0.44 0.11 0.   0.67 0.22 1.   0.67 0.44\n",
      " 0.33 0.78 0.89 0.   0.   0.33 0.33 0.   0.22 0.22 0.67 1.   0.22 0.33\n",
      " 0.67 0.67 1.   0.89 0.   0.56 0.67 0.   0.78 0.67 0.33 0.44 0.   0.11\n",
      " 0.44 0.11 0.44 1.   0.56 1.   0.44 1.   0.22 0.11 0.89 0.44 0.33 0.67\n",
      " 0.33 0.78 0.89 0.44 0.44 1.   1.   0.22 0.33 0.22 0.   0.44 0.11 0.11\n",
      " 0.11 0.78 0.22 0.67 0.78 0.56 0.56 0.22 1.   0.78 0.11 0.56 1.   0.56\n",
      " 0.89 0.44 1.   0.   0.67 0.   0.67 0.56 0.44 0.33 0.   0.   0.89 0.56\n",
      " 0.   0.56 0.56 0.33 0.33 0.33 0.33]\n"
     ]
    }
   ],
   "source": [
    "train_indices = int(0.8 * collaborative_df.shape[0])\n",
    "\n",
    "x_train, x_val, y_train, y_val = (\n",
    "    x[:train_indices],\n",
    "    x[train_indices:],\n",
    "    y[:train_indices],\n",
    "    y[train_indices:]\n",
    ")\n",
    "\n",
    "print(x, y)"
   ]
  },
  {
   "cell_type": "markdown",
   "metadata": {},
   "source": [
    "## Modeling"
   ]
  },
  {
   "cell_type": "markdown",
   "metadata": {},
   "source": [
    "### Cosine Similarity"
   ]
  },
  {
   "cell_type": "markdown",
   "metadata": {},
   "source": [
    "Menghitung similarity:"
   ]
  },
  {
   "cell_type": "code",
   "execution_count": 68,
   "metadata": {},
   "outputs": [],
   "source": [
    "cos_sim = cosine_similarity(tfidf_matrix, tfidf_matrix)"
   ]
  },
  {
   "cell_type": "markdown",
   "metadata": {},
   "source": [
    "Membuat dataframe hasil perhitungan similarity:"
   ]
  },
  {
   "cell_type": "code",
   "execution_count": 69,
   "metadata": {},
   "outputs": [
    {
     "name": "stdout",
     "output_type": "stream",
     "text": [
      "Shape: (400, 400)\n"
     ]
    },
    {
     "data": {
      "text/html": [
       "<div>\n",
       "<style scoped>\n",
       "    .dataframe tbody tr th:only-of-type {\n",
       "        vertical-align: middle;\n",
       "    }\n",
       "\n",
       "    .dataframe tbody tr th {\n",
       "        vertical-align: top;\n",
       "    }\n",
       "\n",
       "    .dataframe thead th {\n",
       "        text-align: right;\n",
       "    }\n",
       "</style>\n",
       "<table border=\"1\" class=\"dataframe\">\n",
       "  <thead>\n",
       "    <tr style=\"text-align: right;\">\n",
       "      <th>Name</th>\n",
       "      <th>kerala fish curry</th>\n",
       "      <th>Spice Chicken Baugette</th>\n",
       "      <th>Lemony Crab Salad with Baby Greens</th>\n",
       "      <th>Pho Tai rare beef</th>\n",
       "      <th>coconut mango oatmeal with cinnamon hint</th>\n",
       "      <th>detox haldi tea</th>\n",
       "      <th>pista chocolate &amp; mandarin</th>\n",
       "      <th>braised lamb shanks</th>\n",
       "      <th>chettinad fish fry</th>\n",
       "      <th>Rosemary Roasted Vegetables</th>\n",
       "    </tr>\n",
       "    <tr>\n",
       "      <th>Name</th>\n",
       "      <th></th>\n",
       "      <th></th>\n",
       "      <th></th>\n",
       "      <th></th>\n",
       "      <th></th>\n",
       "      <th></th>\n",
       "      <th></th>\n",
       "      <th></th>\n",
       "      <th></th>\n",
       "      <th></th>\n",
       "    </tr>\n",
       "  </thead>\n",
       "  <tbody>\n",
       "    <tr>\n",
       "      <th>puffed rice squares</th>\n",
       "      <td>0.026395</td>\n",
       "      <td>0.000000</td>\n",
       "      <td>0.000000</td>\n",
       "      <td>0.044581</td>\n",
       "      <td>0.129372</td>\n",
       "      <td>0.125575</td>\n",
       "      <td>0.079120</td>\n",
       "      <td>0.000000</td>\n",
       "      <td>0.028285</td>\n",
       "      <td>0.000000</td>\n",
       "    </tr>\n",
       "    <tr>\n",
       "      <th>spicy chicken curry</th>\n",
       "      <td>0.406120</td>\n",
       "      <td>0.090296</td>\n",
       "      <td>0.024815</td>\n",
       "      <td>0.000000</td>\n",
       "      <td>0.047654</td>\n",
       "      <td>0.081568</td>\n",
       "      <td>0.022331</td>\n",
       "      <td>0.088510</td>\n",
       "      <td>0.320155</td>\n",
       "      <td>0.039512</td>\n",
       "    </tr>\n",
       "    <tr>\n",
       "      <th>prawn fried rice</th>\n",
       "      <td>0.066989</td>\n",
       "      <td>0.058423</td>\n",
       "      <td>0.024286</td>\n",
       "      <td>0.031132</td>\n",
       "      <td>0.000000</td>\n",
       "      <td>0.066774</td>\n",
       "      <td>0.038086</td>\n",
       "      <td>0.086624</td>\n",
       "      <td>0.150729</td>\n",
       "      <td>0.060718</td>\n",
       "    </tr>\n",
       "    <tr>\n",
       "      <th>banana walnut smoothie</th>\n",
       "      <td>0.053792</td>\n",
       "      <td>0.000000</td>\n",
       "      <td>0.000000</td>\n",
       "      <td>0.000000</td>\n",
       "      <td>0.057575</td>\n",
       "      <td>0.115421</td>\n",
       "      <td>0.000000</td>\n",
       "      <td>0.000000</td>\n",
       "      <td>0.057643</td>\n",
       "      <td>0.000000</td>\n",
       "    </tr>\n",
       "    <tr>\n",
       "      <th>oats shallots pulao</th>\n",
       "      <td>0.327061</td>\n",
       "      <td>0.044093</td>\n",
       "      <td>0.083646</td>\n",
       "      <td>0.045836</td>\n",
       "      <td>0.068610</td>\n",
       "      <td>0.048550</td>\n",
       "      <td>0.127009</td>\n",
       "      <td>0.079466</td>\n",
       "      <td>0.149800</td>\n",
       "      <td>0.102918</td>\n",
       "    </tr>\n",
       "    <tr>\n",
       "      <th>cinnamon oatmeal pancakes</th>\n",
       "      <td>0.031406</td>\n",
       "      <td>0.000000</td>\n",
       "      <td>0.023449</td>\n",
       "      <td>0.000000</td>\n",
       "      <td>0.112464</td>\n",
       "      <td>0.084667</td>\n",
       "      <td>0.000000</td>\n",
       "      <td>0.008207</td>\n",
       "      <td>0.041574</td>\n",
       "      <td>0.022516</td>\n",
       "    </tr>\n",
       "    <tr>\n",
       "      <th>Sea Food Soup</th>\n",
       "      <td>0.077128</td>\n",
       "      <td>0.000000</td>\n",
       "      <td>0.146618</td>\n",
       "      <td>0.000000</td>\n",
       "      <td>0.000000</td>\n",
       "      <td>0.000000</td>\n",
       "      <td>0.000000</td>\n",
       "      <td>0.000000</td>\n",
       "      <td>0.082650</td>\n",
       "      <td>0.000000</td>\n",
       "    </tr>\n",
       "    <tr>\n",
       "      <th>fish andlouse</th>\n",
       "      <td>0.153469</td>\n",
       "      <td>0.000000</td>\n",
       "      <td>0.082921</td>\n",
       "      <td>0.000000</td>\n",
       "      <td>0.000000</td>\n",
       "      <td>0.128428</td>\n",
       "      <td>0.034930</td>\n",
       "      <td>0.205328</td>\n",
       "      <td>0.184859</td>\n",
       "      <td>0.133801</td>\n",
       "    </tr>\n",
       "    <tr>\n",
       "      <th>vegetable pulao</th>\n",
       "      <td>0.174139</td>\n",
       "      <td>0.032743</td>\n",
       "      <td>0.012132</td>\n",
       "      <td>0.034037</td>\n",
       "      <td>0.012747</td>\n",
       "      <td>0.051225</td>\n",
       "      <td>0.048579</td>\n",
       "      <td>0.000000</td>\n",
       "      <td>0.194584</td>\n",
       "      <td>0.065117</td>\n",
       "    </tr>\n",
       "    <tr>\n",
       "      <th>restaurant style fried chicken</th>\n",
       "      <td>0.205726</td>\n",
       "      <td>0.024620</td>\n",
       "      <td>0.028783</td>\n",
       "      <td>0.000000</td>\n",
       "      <td>0.040325</td>\n",
       "      <td>0.116179</td>\n",
       "      <td>0.103928</td>\n",
       "      <td>0.170622</td>\n",
       "      <td>0.194626</td>\n",
       "      <td>0.098100</td>\n",
       "    </tr>\n",
       "  </tbody>\n",
       "</table>\n",
       "</div>"
      ],
      "text/plain": [
       "Name                            kerala fish curry  Spice Chicken Baugette  \\\n",
       "Name                                                                        \n",
       "puffed rice squares                      0.026395                0.000000   \n",
       "spicy chicken curry                      0.406120                0.090296   \n",
       "prawn fried rice                         0.066989                0.058423   \n",
       "banana walnut smoothie                   0.053792                0.000000   \n",
       "oats shallots pulao                      0.327061                0.044093   \n",
       "cinnamon oatmeal pancakes                0.031406                0.000000   \n",
       "Sea Food Soup                            0.077128                0.000000   \n",
       "fish andlouse                            0.153469                0.000000   \n",
       "vegetable pulao                          0.174139                0.032743   \n",
       "restaurant style fried chicken           0.205726                0.024620   \n",
       "\n",
       "Name                            Lemony Crab Salad with Baby Greens  \\\n",
       "Name                                                                 \n",
       "puffed rice squares                                       0.000000   \n",
       "spicy chicken curry                                       0.024815   \n",
       "prawn fried rice                                          0.024286   \n",
       "banana walnut smoothie                                    0.000000   \n",
       "oats shallots pulao                                       0.083646   \n",
       "cinnamon oatmeal pancakes                                 0.023449   \n",
       "Sea Food Soup                                             0.146618   \n",
       "fish andlouse                                             0.082921   \n",
       "vegetable pulao                                           0.012132   \n",
       "restaurant style fried chicken                            0.028783   \n",
       "\n",
       "Name                            Pho Tai rare beef  \\\n",
       "Name                                                \n",
       "puffed rice squares                      0.044581   \n",
       "spicy chicken curry                      0.000000   \n",
       "prawn fried rice                         0.031132   \n",
       "banana walnut smoothie                   0.000000   \n",
       "oats shallots pulao                      0.045836   \n",
       "cinnamon oatmeal pancakes                0.000000   \n",
       "Sea Food Soup                            0.000000   \n",
       "fish andlouse                            0.000000   \n",
       "vegetable pulao                          0.034037   \n",
       "restaurant style fried chicken           0.000000   \n",
       "\n",
       "Name                            coconut mango oatmeal with cinnamon hint  \\\n",
       "Name                                                                       \n",
       "puffed rice squares                                             0.129372   \n",
       "spicy chicken curry                                             0.047654   \n",
       "prawn fried rice                                                0.000000   \n",
       "banana walnut smoothie                                          0.057575   \n",
       "oats shallots pulao                                             0.068610   \n",
       "cinnamon oatmeal pancakes                                       0.112464   \n",
       "Sea Food Soup                                                   0.000000   \n",
       "fish andlouse                                                   0.000000   \n",
       "vegetable pulao                                                 0.012747   \n",
       "restaurant style fried chicken                                  0.040325   \n",
       "\n",
       "Name                            detox haldi tea  pista chocolate & mandarin  \\\n",
       "Name                                                                          \n",
       "puffed rice squares                    0.125575                    0.079120   \n",
       "spicy chicken curry                    0.081568                    0.022331   \n",
       "prawn fried rice                       0.066774                    0.038086   \n",
       "banana walnut smoothie                 0.115421                    0.000000   \n",
       "oats shallots pulao                    0.048550                    0.127009   \n",
       "cinnamon oatmeal pancakes              0.084667                    0.000000   \n",
       "Sea Food Soup                          0.000000                    0.000000   \n",
       "fish andlouse                          0.128428                    0.034930   \n",
       "vegetable pulao                        0.051225                    0.048579   \n",
       "restaurant style fried chicken         0.116179                    0.103928   \n",
       "\n",
       "Name                            braised lamb shanks  chettinad fish fry  \\\n",
       "Name                                                                      \n",
       "puffed rice squares                        0.000000            0.028285   \n",
       "spicy chicken curry                        0.088510            0.320155   \n",
       "prawn fried rice                           0.086624            0.150729   \n",
       "banana walnut smoothie                     0.000000            0.057643   \n",
       "oats shallots pulao                        0.079466            0.149800   \n",
       "cinnamon oatmeal pancakes                  0.008207            0.041574   \n",
       "Sea Food Soup                              0.000000            0.082650   \n",
       "fish andlouse                              0.205328            0.184859   \n",
       "vegetable pulao                            0.000000            0.194584   \n",
       "restaurant style fried chicken             0.170622            0.194626   \n",
       "\n",
       "Name                            Rosemary Roasted Vegetables  \n",
       "Name                                                         \n",
       "puffed rice squares                                0.000000  \n",
       "spicy chicken curry                                0.039512  \n",
       "prawn fried rice                                   0.060718  \n",
       "banana walnut smoothie                             0.000000  \n",
       "oats shallots pulao                                0.102918  \n",
       "cinnamon oatmeal pancakes                          0.022516  \n",
       "Sea Food Soup                                      0.000000  \n",
       "fish andlouse                                      0.133801  \n",
       "vegetable pulao                                    0.065117  \n",
       "restaurant style fried chicken                     0.098100  "
      ]
     },
     "execution_count": 69,
     "metadata": {},
     "output_type": "execute_result"
    }
   ],
   "source": [
    "cos_sim_df = pd.DataFrame(cos_sim, \n",
    "                          index=content_based_df['Name'],\n",
    "                          columns=content_based_df['Name'])\n",
    "\n",
    "print(\"Shape:\", cos_sim_df.shape)\n",
    "\n",
    "cos_sim_df.sample(10, axis=1).sample(10, axis=0)"
   ]
  },
  {
   "cell_type": "markdown",
   "metadata": {},
   "source": [
    "### Neural Collaborative Filtering"
   ]
  },
  {
   "cell_type": "markdown",
   "metadata": {},
   "source": [
    "Menghitung jumlah nilai unik masing-masing fitur:"
   ]
  },
  {
   "cell_type": "code",
   "execution_count": 71,
   "metadata": {},
   "outputs": [
    {
     "name": "stdout",
     "output_type": "stream",
     "text": [
      "100\n",
      "309\n"
     ]
    }
   ],
   "source": [
    "n_users = collaborative_df['user'].nunique()\n",
    "print(n_users)\n",
    "\n",
    "n_food = collaborative_df['food'].nunique()\n",
    "print(n_food)"
   ]
  },
  {
   "cell_type": "markdown",
   "metadata": {},
   "source": [
    "Membuat model rekomendasi dengan embedding layer:"
   ]
  },
  {
   "cell_type": "code",
   "execution_count": 104,
   "metadata": {},
   "outputs": [],
   "source": [
    "class NFCRecommender(tf.keras.Model):\n",
    "    \n",
    "     # Insialisasi fungsi\n",
    "    def __init__(self, n_users, n_food, embedding_size, dense_units, **kwargs):\n",
    "        super(NFCRecommender, self).__init__(**kwargs)\n",
    "        self.n_users = n_users\n",
    "        self.n_food = n_food\n",
    "        self.embedding_size = embedding_size\n",
    "        self.dense_units = dense_units\n",
    "        self.dropout = layers.Dropout(0.5)\n",
    "\n",
    "        # Membentuk layer embedding user\n",
    "        self.users_embedding = layers.Embedding(\n",
    "            n_users,\n",
    "            embedding_size,\n",
    "            embeddings_initializer = 'he_normal',\n",
    "            embeddings_regularizer = keras.regularizers.l2(1e-4)\n",
    "        )\n",
    "        self.users_bias = layers.Embedding(n_users, 1)\n",
    "\n",
    "        # Membentuk layer embedding recipe\n",
    "        self.food_embedding = layers.Embedding(\n",
    "            n_food,\n",
    "            embedding_size,\n",
    "            embeddings_initializer = 'he_normal',\n",
    "            embeddings_regularizer = keras.regularizers.l2(1e-4)\n",
    "        )\n",
    "        self.food_bias = layers.Embedding(n_food, 1)\n",
    "\n",
    "        # Dense layers\n",
    "        self.dense1 = layers.Dense(\n",
    "            units=dense_units,\n",
    "            activation='relu',  # Aktivasi ReLU untuk representasi non-linear\n",
    "            kernel_initializer='he_normal',\n",
    "            kernel_regularizer=keras.regularizers.l2(1e-4)\n",
    "        )\n",
    "        self.dense2 = layers.Dense(\n",
    "            units=1, \n",
    "            activation='sigmoid',  # Output berupa probabilitas\n",
    "            kernel_regularizer=keras.regularizers.l2(1e-4)\n",
    "        )\n",
    "\n",
    "    def call(self, inputs):\n",
    "        users_vector = self.users_embedding(inputs[:,0]) # memanggil layer embedding 1\n",
    "        users_bias = self.users_bias(inputs[:, 0]) # memanggil layer embedding 2\n",
    "        food_vector = self.food_embedding(inputs[:, 1]) # memanggil layer embedding 3\n",
    "        food_bias = self.food_bias(inputs[:, 1]) # memanggil layer embedding 4\n",
    "\n",
    "        dot_users_food = tf.reduce_sum(users_vector * food_vector, axis=1, keepdims=True)\n",
    "\n",
    "        x = dot_users_food + users_bias + food_bias\n",
    "\n",
    "        x = self.dense1(x)\n",
    "        x = self.dropout(x)\n",
    "        x = self.dense2(x)\n",
    "\n",
    "        # Menggunakan fungsi aktivasi sigmoid\n",
    "        return tf.nn.sigmoid(x)"
   ]
  },
  {
   "cell_type": "markdown",
   "metadata": {},
   "source": [
    "Compile model:"
   ]
  },
  {
   "cell_type": "code",
   "execution_count": 105,
   "metadata": {},
   "outputs": [],
   "source": [
    "model = NFCRecommender(n_users, n_food, embedding_size=20, dense_units=32)\n",
    "\n",
    "model.compile(\n",
    "    loss = tf.keras.losses.BinaryCrossentropy(),\n",
    "    optimizer = tf.keras.optimizers.Adam(),\n",
    "    metrics = [tf.keras.metrics.RootMeanSquaredError()]\n",
    ")"
   ]
  },
  {
   "cell_type": "code",
   "execution_count": 106,
   "metadata": {},
   "outputs": [
    {
     "name": "stdout",
     "output_type": "stream",
     "text": [
      "Epoch 1/20\n",
      "4/4 [==============================] - 3s 291ms/step - loss: 0.7375 - root_mean_squared_error: 0.3403 - val_loss: 0.7453 - val_root_mean_squared_error: 0.3526\n",
      "Epoch 2/20\n",
      "4/4 [==============================] - 0s 21ms/step - loss: 0.7364 - root_mean_squared_error: 0.3398 - val_loss: 0.7444 - val_root_mean_squared_error: 0.3522\n",
      "Epoch 3/20\n",
      "4/4 [==============================] - 0s 23ms/step - loss: 0.7340 - root_mean_squared_error: 0.3383 - val_loss: 0.7436 - val_root_mean_squared_error: 0.3517\n",
      "Epoch 4/20\n",
      "4/4 [==============================] - 0s 29ms/step - loss: 0.7331 - root_mean_squared_error: 0.3377 - val_loss: 0.7427 - val_root_mean_squared_error: 0.3513\n",
      "Epoch 5/20\n",
      "4/4 [==============================] - 0s 28ms/step - loss: 0.7313 - root_mean_squared_error: 0.3366 - val_loss: 0.7418 - val_root_mean_squared_error: 0.3508\n",
      "Epoch 6/20\n",
      "4/4 [==============================] - 0s 26ms/step - loss: 0.7298 - root_mean_squared_error: 0.3357 - val_loss: 0.7410 - val_root_mean_squared_error: 0.3504\n",
      "Epoch 7/20\n",
      "4/4 [==============================] - 0s 28ms/step - loss: 0.7271 - root_mean_squared_error: 0.3338 - val_loss: 0.7401 - val_root_mean_squared_error: 0.3499\n",
      "Epoch 8/20\n",
      "4/4 [==============================] - 0s 27ms/step - loss: 0.7251 - root_mean_squared_error: 0.3325 - val_loss: 0.7393 - val_root_mean_squared_error: 0.3494\n",
      "Epoch 9/20\n",
      "4/4 [==============================] - 0s 23ms/step - loss: 0.7233 - root_mean_squared_error: 0.3313 - val_loss: 0.7385 - val_root_mean_squared_error: 0.3489\n",
      "Epoch 10/20\n",
      "4/4 [==============================] - 0s 18ms/step - loss: 0.7200 - root_mean_squared_error: 0.3290 - val_loss: 0.7377 - val_root_mean_squared_error: 0.3484\n",
      "Epoch 11/20\n",
      "4/4 [==============================] - 0s 19ms/step - loss: 0.7187 - root_mean_squared_error: 0.3281 - val_loss: 0.7368 - val_root_mean_squared_error: 0.3479\n",
      "Epoch 12/20\n",
      "4/4 [==============================] - 0s 20ms/step - loss: 0.7163 - root_mean_squared_error: 0.3264 - val_loss: 0.7360 - val_root_mean_squared_error: 0.3474\n",
      "Epoch 13/20\n",
      "4/4 [==============================] - 0s 25ms/step - loss: 0.7141 - root_mean_squared_error: 0.3248 - val_loss: 0.7351 - val_root_mean_squared_error: 0.3468\n",
      "Epoch 14/20\n",
      "4/4 [==============================] - 0s 26ms/step - loss: 0.7115 - root_mean_squared_error: 0.3229 - val_loss: 0.7342 - val_root_mean_squared_error: 0.3463\n",
      "Epoch 15/20\n",
      "4/4 [==============================] - 0s 23ms/step - loss: 0.7100 - root_mean_squared_error: 0.3218 - val_loss: 0.7333 - val_root_mean_squared_error: 0.3457\n",
      "Epoch 16/20\n",
      "4/4 [==============================] - 0s 24ms/step - loss: 0.7068 - root_mean_squared_error: 0.3194 - val_loss: 0.7324 - val_root_mean_squared_error: 0.3451\n",
      "Epoch 17/20\n",
      "4/4 [==============================] - 0s 22ms/step - loss: 0.7042 - root_mean_squared_error: 0.3174 - val_loss: 0.7316 - val_root_mean_squared_error: 0.3445\n",
      "Epoch 18/20\n",
      "4/4 [==============================] - 0s 18ms/step - loss: 0.7003 - root_mean_squared_error: 0.3144 - val_loss: 0.7308 - val_root_mean_squared_error: 0.3439\n",
      "Epoch 19/20\n",
      "4/4 [==============================] - 0s 28ms/step - loss: 0.7004 - root_mean_squared_error: 0.3145 - val_loss: 0.7300 - val_root_mean_squared_error: 0.3434\n",
      "Epoch 20/20\n",
      "4/4 [==============================] - 0s 25ms/step - loss: 0.6977 - root_mean_squared_error: 0.3124 - val_loss: 0.7292 - val_root_mean_squared_error: 0.3429\n"
     ]
    }
   ],
   "source": [
    "history = model.fit(\n",
    "    x = x_train,\n",
    "    y = y_train,\n",
    "    validation_data=(x_val, y_val),\n",
    "    batch_size=128,\n",
    "    epochs=20\n",
    ")"
   ]
  },
  {
   "cell_type": "markdown",
   "metadata": {},
   "source": [
    "Visualisasi hasil pelatihan model:"
   ]
  },
  {
   "cell_type": "code",
   "execution_count": 107,
   "metadata": {},
   "outputs": [
    {
     "name": "stderr",
     "output_type": "stream",
     "text": [
      "C:\\Users\\ACER\\AppData\\Local\\Temp\\ipykernel_24056\\2240796526.py:14: UserWarning: FigureCanvasAgg is non-interactive, and thus cannot be shown\n",
      "  train_result.show()\n"
     ]
    },
    {
     "data": {
      "image/png": "[encoded data removed]",
      "text/plain": [
       "<Figure size 1000x600 with 1 Axes>"
      ]
     },
     "metadata": {},
     "output_type": "display_data"
    }
   ],
   "source": [
    "train_result, ax = plt.subplots(figsize=(10, 6))\n",
    "\n",
    "ax.plot(history.history[\"root_mean_squared_error\"], label=\"Training RMSE\", color='blue', linewidth=2)\n",
    "ax.plot(history.history[\"val_root_mean_squared_error\"], label=\"Validation RMSE\", color='orange', linewidth=2)\n",
    "\n",
    "ax.set_title(\"Evaluasi Model: RMSE per Epoch\", fontsize=14)\n",
    "ax.set_ylabel(\"Root Mean Squared Error (RMSE)\", fontsize=12)\n",
    "ax.set_xlabel(\"Epoch\", fontsize=12)\n",
    "\n",
    "ax.legend(loc=\"upper right\", fontsize=12)\n",
    "\n",
    "train_result.tight_layout()\n",
    "\n",
    "train_result.show()"
   ]
  },
  {
   "cell_type": "markdown",
   "metadata": {},
   "source": [
    "## Get Recommendations"
   ]
  },
  {
   "cell_type": "markdown",
   "metadata": {},
   "source": [
    "### Content Based Filtering"
   ]
  },
  {
   "cell_type": "markdown",
   "metadata": {},
   "source": [
    "Membuat fungsi `rekomendasi_makanan()`:"
   ]
  },
  {
   "cell_type": "code",
   "execution_count": 117,
   "metadata": {},
   "outputs": [],
   "source": [
    "def rekomendasi_makanan(nama_makanan, similarity_data=cos_sim_df, items=content_based_df, k = 10):\n",
    "    \"\"\"\n",
    "    Rekomendasi Resto berdasarkan kemiripan dataframe\n",
    " \n",
    "    Parameter:\n",
    "    ---\n",
    "    nama_resto : tipe data string (str)\n",
    "                Nama Restoran (index kemiripan dataframe)\n",
    "    similarity_data : tipe data pd.DataFrame (object)\n",
    "                      Kesamaan dataframe, simetrik, dengan resto sebagai \n",
    "                      indeks dan kolom\n",
    "    items : tipe data pd.DataFrame (object)\n",
    "            Mengandung kedua nama dan fitur lainnya yang digunakan untuk mendefinisikan kemiripan\n",
    "    k : tipe data integer (int)\n",
    "        Banyaknya jumlah rekomendasi yang diberikan\n",
    "    ---\n",
    " \n",
    " \n",
    "    Pada index ini, kita mengambil k dengan nilai similarity terbesar \n",
    "    pada index matrix yang diberikan (i).\n",
    "    \"\"\"\n",
    "    # Mengambil data dengan menggunakan argpartition untuk melakukan partisi secara tidak langsung sepanjang sumbu yang diberikan\n",
    "    # Dataframe diubah menjadi numpy Range(start, stop, step)\n",
    "    index = similarity_data.loc[:, nama_makanan].to_numpy().argpartition(\n",
    "        range(-1, -k, -1))\n",
    "\n",
    "    # Mengambil data dengan similarity terbesar dari index yang ada\n",
    "    closest = similarity_data.columns[index[-1 : -(k + 2) : -1]]\n",
    "\n",
    "    # Drop nama makanan target\n",
    "    closest = closest.drop(nama_makanan, errors = \"ignore\")\n",
    "\n",
    "    # Gabungkan dengan DataFrame asli untuk mengambil detail makanan\n",
    "    recommendations = pd.DataFrame(closest, columns=[\"Name\"]).merge(items, on=\"Name\")\n",
    "\n",
    "    return recommendations.head(k)"
   ]
  },
  {
   "cell_type": "markdown",
   "metadata": {},
   "source": [
    "Menampilkan makanan yang pernah dipilih"
   ]
  },
  {
   "cell_type": "code",
   "execution_count": 119,
   "metadata": {},
   "outputs": [
    {
     "data": {
      "text/html": [
       "<div>\n",
       "<style scoped>\n",
       "    .dataframe tbody tr th:only-of-type {\n",
       "        vertical-align: middle;\n",
       "    }\n",
       "\n",
       "    .dataframe tbody tr th {\n",
       "        vertical-align: top;\n",
       "    }\n",
       "\n",
       "    .dataframe thead th {\n",
       "        text-align: right;\n",
       "    }\n",
       "</style>\n",
       "<table border=\"1\" class=\"dataframe\">\n",
       "  <thead>\n",
       "    <tr style=\"text-align: right;\">\n",
       "      <th></th>\n",
       "      <th>Food_ID</th>\n",
       "      <th>Name</th>\n",
       "      <th>C_Type</th>\n",
       "      <th>Veg_Non</th>\n",
       "      <th>Describe</th>\n",
       "    </tr>\n",
       "  </thead>\n",
       "  <tbody>\n",
       "    <tr>\n",
       "      <th>1</th>\n",
       "      <td>2</td>\n",
       "      <td>chicken minced salad</td>\n",
       "      <td>Healthy Food</td>\n",
       "      <td>non-veg</td>\n",
       "      <td>olive oil, chicken mince, garlic (minced), oni...</td>\n",
       "    </tr>\n",
       "  </tbody>\n",
       "</table>\n",
       "</div>"
      ],
      "text/plain": [
       "   Food_ID                  Name        C_Type  Veg_Non  \\\n",
       "1        2  chicken minced salad  Healthy Food  non-veg   \n",
       "\n",
       "                                            Describe  \n",
       "1  olive oil, chicken mince, garlic (minced), oni...  "
      ]
     },
     "execution_count": 119,
     "metadata": {},
     "output_type": "execute_result"
    }
   ],
   "source": [
    "# Menampilkan makanan yang pernah dipilih\n",
    "makanan_pertama_df = content_based_df[content_based_df['Name'] == \"chicken minced salad\"]\n",
    "makanan_pertama_df"
   ]
  },
  {
   "cell_type": "markdown",
   "metadata": {},
   "source": [
    "Membuat dataframe hasil rekomendasi makanan:"
   ]
  },
  {
   "cell_type": "code",
   "execution_count": 120,
   "metadata": {},
   "outputs": [],
   "source": [
    "# Menampilkan rekomendasi makanan berdasarkan makanan yang pernah dipilih\n",
    "rekomendasi_makanan_df = pd.DataFrame(rekomendasi_makanan(\"chicken minced salad\"))"
   ]
  },
  {
   "cell_type": "markdown",
   "metadata": {},
   "source": [
    "Menampilkan rekomendasi makanan berdasarkan makanan yang pernah dipilih menggunakan fungsi `rekomendasi_makanan()`:"
   ]
  },
  {
   "cell_type": "code",
   "execution_count": 121,
   "metadata": {},
   "outputs": [
    {
     "data": {
      "text/html": [
       "<div>\n",
       "<style scoped>\n",
       "    .dataframe tbody tr th:only-of-type {\n",
       "        vertical-align: middle;\n",
       "    }\n",
       "\n",
       "    .dataframe tbody tr th {\n",
       "        vertical-align: top;\n",
       "    }\n",
       "\n",
       "    .dataframe thead th {\n",
       "        text-align: right;\n",
       "    }\n",
       "</style>\n",
       "<table border=\"1\" class=\"dataframe\">\n",
       "  <thead>\n",
       "    <tr style=\"text-align: right;\">\n",
       "      <th></th>\n",
       "      <th>Name</th>\n",
       "      <th>Food_ID</th>\n",
       "      <th>C_Type</th>\n",
       "      <th>Veg_Non</th>\n",
       "      <th>Describe</th>\n",
       "    </tr>\n",
       "  </thead>\n",
       "  <tbody>\n",
       "    <tr>\n",
       "      <th>0</th>\n",
       "      <td>chilli chicken</td>\n",
       "      <td>104</td>\n",
       "      <td>Chinese</td>\n",
       "      <td>non-veg</td>\n",
       "      <td>boneless chicken, salt, cornflour, black peppe...</td>\n",
       "    </tr>\n",
       "    <tr>\n",
       "      <th>1</th>\n",
       "      <td>veg hakka noodles</td>\n",
       "      <td>283</td>\n",
       "      <td>Chinese</td>\n",
       "      <td>veg</td>\n",
       "      <td>noodles, salt, oil, garlic paste, ginger paste...</td>\n",
       "    </tr>\n",
       "    <tr>\n",
       "      <th>2</th>\n",
       "      <td>veg fried rice</td>\n",
       "      <td>167</td>\n",
       "      <td>Chinese</td>\n",
       "      <td>veg</td>\n",
       "      <td>oil, ginger-garlic paste, spring onion, carrot...</td>\n",
       "    </tr>\n",
       "    <tr>\n",
       "      <th>3</th>\n",
       "      <td>prawn fried rice</td>\n",
       "      <td>152</td>\n",
       "      <td>Thai</td>\n",
       "      <td>veg</td>\n",
       "      <td>Oil, Bacon, Prawns, Chicken, Carrots, Garlic B...</td>\n",
       "    </tr>\n",
       "    <tr>\n",
       "      <th>4</th>\n",
       "      <td>chilli fish</td>\n",
       "      <td>155</td>\n",
       "      <td>Chinese</td>\n",
       "      <td>non-veg</td>\n",
       "      <td>For fish pieces (Boneless), Flour, Cornflour, ...</td>\n",
       "    </tr>\n",
       "    <tr>\n",
       "      <th>5</th>\n",
       "      <td>garlic soya chicken</td>\n",
       "      <td>107</td>\n",
       "      <td>Healthy Food</td>\n",
       "      <td>non-veg</td>\n",
       "      <td>chicken thigh/breast (cut crosswise into 1/2-i...</td>\n",
       "    </tr>\n",
       "    <tr>\n",
       "      <th>6</th>\n",
       "      <td>Thai Spareribs</td>\n",
       "      <td>329</td>\n",
       "      <td>Thai</td>\n",
       "      <td>non-veg</td>\n",
       "      <td>lemongrass, ginger, meaty sparerib, Sesame-Ci...</td>\n",
       "    </tr>\n",
       "    <tr>\n",
       "      <th>7</th>\n",
       "      <td>Spicy Korean Steak</td>\n",
       "      <td>313</td>\n",
       "      <td>Korean</td>\n",
       "      <td>non-veg</td>\n",
       "      <td>boneless steak, olive oil, black pepper, oyst...</td>\n",
       "    </tr>\n",
       "    <tr>\n",
       "      <th>8</th>\n",
       "      <td>egg and garlic fried rice</td>\n",
       "      <td>168</td>\n",
       "      <td>Chinese</td>\n",
       "      <td>non-veg</td>\n",
       "      <td>oil, garlic, spring onion , ginger, red chilli...</td>\n",
       "    </tr>\n",
       "    <tr>\n",
       "      <th>9</th>\n",
       "      <td>almond and chicken momos (without shell)</td>\n",
       "      <td>48</td>\n",
       "      <td>Chinese</td>\n",
       "      <td>non-veg</td>\n",
       "      <td>chicken mince, garlic, carrots, spring onion, ...</td>\n",
       "    </tr>\n",
       "  </tbody>\n",
       "</table>\n",
       "</div>"
      ],
      "text/plain": [
       "                                       Name  Food_ID        C_Type  Veg_Non  \\\n",
       "0                            chilli chicken      104       Chinese  non-veg   \n",
       "1                         veg hakka noodles      283       Chinese      veg   \n",
       "2                            veg fried rice      167       Chinese      veg   \n",
       "3                          prawn fried rice      152          Thai      veg   \n",
       "4                               chilli fish      155       Chinese  non-veg   \n",
       "5                       garlic soya chicken      107  Healthy Food  non-veg   \n",
       "6                            Thai Spareribs      329          Thai  non-veg   \n",
       "7                        Spicy Korean Steak      313        Korean  non-veg   \n",
       "8                 egg and garlic fried rice      168       Chinese  non-veg   \n",
       "9  almond and chicken momos (without shell)       48       Chinese  non-veg   \n",
       "\n",
       "                                            Describe  \n",
       "0  boneless chicken, salt, cornflour, black peppe...  \n",
       "1  noodles, salt, oil, garlic paste, ginger paste...  \n",
       "2  oil, ginger-garlic paste, spring onion, carrot...  \n",
       "3  Oil, Bacon, Prawns, Chicken, Carrots, Garlic B...  \n",
       "4  For fish pieces (Boneless), Flour, Cornflour, ...  \n",
       "5  chicken thigh/breast (cut crosswise into 1/2-i...  \n",
       "6   lemongrass, ginger, meaty sparerib, Sesame-Ci...  \n",
       "7   boneless steak, olive oil, black pepper, oyst...  \n",
       "8  oil, garlic, spring onion , ginger, red chilli...  \n",
       "9  chicken mince, garlic, carrots, spring onion, ...  "
      ]
     },
     "execution_count": 121,
     "metadata": {},
     "output_type": "execute_result"
    }
   ],
   "source": [
    "rekomendasi_makanan_df"
   ]
  },
  {
   "cell_type": "markdown",
   "metadata": {},
   "source": [
    "### Collaborative Filtering"
   ]
  },
  {
   "cell_type": "markdown",
   "metadata": {},
   "source": [
    "Membuat filter untuk sampel user dan makanan:"
   ]
  },
  {
   "cell_type": "code",
   "execution_count": 122,
   "metadata": {},
   "outputs": [],
   "source": [
    "df = collaborative_df\n",
    " \n",
    "# Mengambil sample user\n",
    "user_id = df.User_ID.sample(1).iloc[0]\n",
    "selected_food_by_user = df[df.User_ID == user_id]\n",
    "\n",
    "food_not_selected = food_df[~food_df['Food_ID'].isin(selected_food_by_user.Food_ID.values)]['Food_ID'] \n",
    "food_not_selected = list(\n",
    "    set(food_not_selected)\n",
    "    .intersection(set(food_to_food_encoded.keys()))\n",
    ")\n",
    " \n",
    "food_not_selected = [[food_to_food_encoded.get(x)] for x in food_not_selected]\n",
    "user_encoder = user_to_user_encoded.get(user_id)\n",
    "user_resto_array = np.hstack(\n",
    "    ([[user_encoder]] * len(food_not_selected), food_not_selected)\n",
    ")"
   ]
  },
  {
   "cell_type": "markdown",
   "metadata": {},
   "source": [
    "Menggunakan model untuk memberikan rekomendasi makanan:"
   ]
  },
  {
   "cell_type": "code",
   "execution_count": 169,
   "metadata": {},
   "outputs": [
    {
     "name": "stdout",
     "output_type": "stream",
     "text": [
      "10/10 [==============================] - 0s 1ms/step\n",
      "Showing recommendations for users: 98.0\n",
      "===========================\n",
      "Food with high ratings from user\n",
      "--------------------------------\n",
      "christmas cake\n",
      "corn and raw mango salad\n",
      "--------------------------------\n",
      "Top 10 food recommendation\n",
      "--------------------------------\n",
      "Food ID: 1 - Food Name: summer squash salad\n",
      "----\n",
      "Food ID: 87 - Food Name: roasted spring chicken with root veggies\n",
      "----\n",
      "Food ID: 119 - Food Name: chicken dong style\n",
      "----\n",
      "Food ID: 126 - Food Name: andhra crab meat masala\n",
      "----\n",
      "Food ID: 136 - Food Name: malabari fish curry\n",
      "----\n",
      "Food ID: 138 - Food Name: malabar fish curry\n",
      "----\n",
      "Food ID: 139 - Food Name: surmai curry with lobster butter rice\n",
      "----\n",
      "Food ID: 188 - Food Name: instant rava dosa\n",
      "----\n",
      "Food ID: 226 - Food Name: wok tossed asparagus in mild garlic sauce\n",
      "----\n",
      "Food ID: 306 - Food Name: banana chips\n",
      "----\n"
     ]
    }
   ],
   "source": [
    "ratings = model.predict(user_resto_array).flatten()\n",
    " \n",
    "top_ratings_indices = ratings.argsort()[-10:][::-1]\n",
    "recommended_food_ids = list(set([\n",
    "    food_encoded_to_food.get(food_not_selected[x][0])\n",
    "    for x in top_ratings_indices\n",
    "]))\n",
    " \n",
    "print('Showing recommendations for users: {}'.format(user_id))\n",
    "print('===' * 9)\n",
    "print('Food with high ratings from user')\n",
    "print('----' * 8)\n",
    "\n",
    "top_food_user = (\n",
    "    selected_food_by_user.sort_values(\n",
    "        by = 'rating',\n",
    "        ascending=False\n",
    "    )\n",
    "    .head(2)\n",
    "    .Food_ID.values\n",
    ")\n",
    " \n",
    "food_df_rows = food_df[food_df['Food_ID'].isin(top_food_user)]\n",
    "for row in food_df_rows.itertuples():\n",
    "    print(row.Name)\n",
    " \n",
    "print('----' * 8)\n",
    "print('Top 10 food recommendation')\n",
    "print('----' * 8)\n",
    " \n",
    "recommended_food = food_df[food_df['Food_ID'].isin(recommended_food_ids)].head(10)\n",
    "for row in recommended_food.itertuples():\n",
    "    print('Food ID:', row.Food_ID, '-' , 'Food Name:', row.Name)\n",
    "    print('----')"
   ]
  },
  {
   "cell_type": "markdown",
   "metadata": {},
   "source": [
    "## Evaluation"
   ]
  },
  {
   "cell_type": "markdown",
   "metadata": {},
   "source": [
    "### Content Based Filtering"
   ]
  },
  {
   "cell_type": "markdown",
   "metadata": {},
   "source": [
    "Tampilkan data makanan pertama:"
   ]
  },
  {
   "cell_type": "code",
   "execution_count": 126,
   "metadata": {},
   "outputs": [
    {
     "data": {
      "text/html": [
       "<div>\n",
       "<style scoped>\n",
       "    .dataframe tbody tr th:only-of-type {\n",
       "        vertical-align: middle;\n",
       "    }\n",
       "\n",
       "    .dataframe tbody tr th {\n",
       "        vertical-align: top;\n",
       "    }\n",
       "\n",
       "    .dataframe thead th {\n",
       "        text-align: right;\n",
       "    }\n",
       "</style>\n",
       "<table border=\"1\" class=\"dataframe\">\n",
       "  <thead>\n",
       "    <tr style=\"text-align: right;\">\n",
       "      <th></th>\n",
       "      <th>Food_ID</th>\n",
       "      <th>Name</th>\n",
       "      <th>C_Type</th>\n",
       "      <th>Veg_Non</th>\n",
       "      <th>Describe</th>\n",
       "    </tr>\n",
       "  </thead>\n",
       "  <tbody>\n",
       "    <tr>\n",
       "      <th>1</th>\n",
       "      <td>2</td>\n",
       "      <td>chicken minced salad</td>\n",
       "      <td>Healthy Food</td>\n",
       "      <td>non-veg</td>\n",
       "      <td>olive oil, chicken mince, garlic (minced), oni...</td>\n",
       "    </tr>\n",
       "  </tbody>\n",
       "</table>\n",
       "</div>"
      ],
      "text/plain": [
       "   Food_ID                  Name        C_Type  Veg_Non  \\\n",
       "1        2  chicken minced salad  Healthy Food  non-veg   \n",
       "\n",
       "                                            Describe  \n",
       "1  olive oil, chicken mince, garlic (minced), oni...  "
      ]
     },
     "execution_count": 126,
     "metadata": {},
     "output_type": "execute_result"
    }
   ],
   "source": [
    "makanan_pertama_df"
   ]
  },
  {
   "cell_type": "markdown",
   "metadata": {},
   "source": [
    "Tampilkan data hasil rekomendasi:"
   ]
  },
  {
   "cell_type": "code",
   "execution_count": 127,
   "metadata": {},
   "outputs": [
    {
     "data": {
      "text/html": [
       "<div>\n",
       "<style scoped>\n",
       "    .dataframe tbody tr th:only-of-type {\n",
       "        vertical-align: middle;\n",
       "    }\n",
       "\n",
       "    .dataframe tbody tr th {\n",
       "        vertical-align: top;\n",
       "    }\n",
       "\n",
       "    .dataframe thead th {\n",
       "        text-align: right;\n",
       "    }\n",
       "</style>\n",
       "<table border=\"1\" class=\"dataframe\">\n",
       "  <thead>\n",
       "    <tr style=\"text-align: right;\">\n",
       "      <th></th>\n",
       "      <th>Name</th>\n",
       "      <th>Food_ID</th>\n",
       "      <th>C_Type</th>\n",
       "      <th>Veg_Non</th>\n",
       "      <th>Describe</th>\n",
       "    </tr>\n",
       "  </thead>\n",
       "  <tbody>\n",
       "    <tr>\n",
       "      <th>0</th>\n",
       "      <td>chilli chicken</td>\n",
       "      <td>104</td>\n",
       "      <td>Chinese</td>\n",
       "      <td>non-veg</td>\n",
       "      <td>boneless chicken, salt, cornflour, black peppe...</td>\n",
       "    </tr>\n",
       "    <tr>\n",
       "      <th>1</th>\n",
       "      <td>veg hakka noodles</td>\n",
       "      <td>283</td>\n",
       "      <td>Chinese</td>\n",
       "      <td>veg</td>\n",
       "      <td>noodles, salt, oil, garlic paste, ginger paste...</td>\n",
       "    </tr>\n",
       "    <tr>\n",
       "      <th>2</th>\n",
       "      <td>veg fried rice</td>\n",
       "      <td>167</td>\n",
       "      <td>Chinese</td>\n",
       "      <td>veg</td>\n",
       "      <td>oil, ginger-garlic paste, spring onion, carrot...</td>\n",
       "    </tr>\n",
       "    <tr>\n",
       "      <th>3</th>\n",
       "      <td>prawn fried rice</td>\n",
       "      <td>152</td>\n",
       "      <td>Thai</td>\n",
       "      <td>veg</td>\n",
       "      <td>Oil, Bacon, Prawns, Chicken, Carrots, Garlic B...</td>\n",
       "    </tr>\n",
       "    <tr>\n",
       "      <th>4</th>\n",
       "      <td>chilli fish</td>\n",
       "      <td>155</td>\n",
       "      <td>Chinese</td>\n",
       "      <td>non-veg</td>\n",
       "      <td>For fish pieces (Boneless), Flour, Cornflour, ...</td>\n",
       "    </tr>\n",
       "    <tr>\n",
       "      <th>5</th>\n",
       "      <td>garlic soya chicken</td>\n",
       "      <td>107</td>\n",
       "      <td>Healthy Food</td>\n",
       "      <td>non-veg</td>\n",
       "      <td>chicken thigh/breast (cut crosswise into 1/2-i...</td>\n",
       "    </tr>\n",
       "    <tr>\n",
       "      <th>6</th>\n",
       "      <td>Thai Spareribs</td>\n",
       "      <td>329</td>\n",
       "      <td>Thai</td>\n",
       "      <td>non-veg</td>\n",
       "      <td>lemongrass, ginger, meaty sparerib, Sesame-Ci...</td>\n",
       "    </tr>\n",
       "    <tr>\n",
       "      <th>7</th>\n",
       "      <td>Spicy Korean Steak</td>\n",
       "      <td>313</td>\n",
       "      <td>Korean</td>\n",
       "      <td>non-veg</td>\n",
       "      <td>boneless steak, olive oil, black pepper, oyst...</td>\n",
       "    </tr>\n",
       "    <tr>\n",
       "      <th>8</th>\n",
       "      <td>egg and garlic fried rice</td>\n",
       "      <td>168</td>\n",
       "      <td>Chinese</td>\n",
       "      <td>non-veg</td>\n",
       "      <td>oil, garlic, spring onion , ginger, red chilli...</td>\n",
       "    </tr>\n",
       "    <tr>\n",
       "      <th>9</th>\n",
       "      <td>almond and chicken momos (without shell)</td>\n",
       "      <td>48</td>\n",
       "      <td>Chinese</td>\n",
       "      <td>non-veg</td>\n",
       "      <td>chicken mince, garlic, carrots, spring onion, ...</td>\n",
       "    </tr>\n",
       "  </tbody>\n",
       "</table>\n",
       "</div>"
      ],
      "text/plain": [
       "                                       Name  Food_ID        C_Type  Veg_Non  \\\n",
       "0                            chilli chicken      104       Chinese  non-veg   \n",
       "1                         veg hakka noodles      283       Chinese      veg   \n",
       "2                            veg fried rice      167       Chinese      veg   \n",
       "3                          prawn fried rice      152          Thai      veg   \n",
       "4                               chilli fish      155       Chinese  non-veg   \n",
       "5                       garlic soya chicken      107  Healthy Food  non-veg   \n",
       "6                            Thai Spareribs      329          Thai  non-veg   \n",
       "7                        Spicy Korean Steak      313        Korean  non-veg   \n",
       "8                 egg and garlic fried rice      168       Chinese  non-veg   \n",
       "9  almond and chicken momos (without shell)       48       Chinese  non-veg   \n",
       "\n",
       "                                            Describe  \n",
       "0  boneless chicken, salt, cornflour, black peppe...  \n",
       "1  noodles, salt, oil, garlic paste, ginger paste...  \n",
       "2  oil, ginger-garlic paste, spring onion, carrot...  \n",
       "3  Oil, Bacon, Prawns, Chicken, Carrots, Garlic B...  \n",
       "4  For fish pieces (Boneless), Flour, Cornflour, ...  \n",
       "5  chicken thigh/breast (cut crosswise into 1/2-i...  \n",
       "6   lemongrass, ginger, meaty sparerib, Sesame-Ci...  \n",
       "7   boneless steak, olive oil, black pepper, oyst...  \n",
       "8  oil, garlic, spring onion , ginger, red chilli...  \n",
       "9  chicken mince, garlic, carrots, spring onion, ...  "
      ]
     },
     "execution_count": 127,
     "metadata": {},
     "output_type": "execute_result"
    }
   ],
   "source": [
    "rekomendasi_makanan_df"
   ]
  },
  {
   "cell_type": "markdown",
   "metadata": {},
   "source": [
    "Gabungkan data makanan_pertama_df dan rekomendasi_makanan_df, khususnya untuk kolom _name_ dan _ingredients_:"
   ]
  },
  {
   "cell_type": "code",
   "execution_count": 145,
   "metadata": {},
   "outputs": [],
   "source": [
    "perbandingan_df = pd.concat([\n",
    "    makanan_pertama_df,\n",
    "    rekomendasi_makanan_df\n",
    "], ignore_index=True)"
   ]
  },
  {
   "cell_type": "code",
   "execution_count": 157,
   "metadata": {},
   "outputs": [
    {
     "data": {
      "text/html": [
       "<div>\n",
       "<style scoped>\n",
       "    .dataframe tbody tr th:only-of-type {\n",
       "        vertical-align: middle;\n",
       "    }\n",
       "\n",
       "    .dataframe tbody tr th {\n",
       "        vertical-align: top;\n",
       "    }\n",
       "\n",
       "    .dataframe thead th {\n",
       "        text-align: right;\n",
       "    }\n",
       "</style>\n",
       "<table border=\"1\" class=\"dataframe\">\n",
       "  <thead>\n",
       "    <tr style=\"text-align: right;\">\n",
       "      <th></th>\n",
       "      <th>Food_ID</th>\n",
       "      <th>Name</th>\n",
       "      <th>C_Type</th>\n",
       "      <th>Veg_Non</th>\n",
       "      <th>Describe</th>\n",
       "      <th>Skor Relevansi</th>\n",
       "    </tr>\n",
       "  </thead>\n",
       "  <tbody>\n",
       "    <tr>\n",
       "      <th>0</th>\n",
       "      <td>2</td>\n",
       "      <td>chicken minced salad</td>\n",
       "      <td>Healthy Food</td>\n",
       "      <td>non-veg</td>\n",
       "      <td>olive oil, chicken mince, garlic (minced), oni...</td>\n",
       "      <td>1.000000</td>\n",
       "    </tr>\n",
       "    <tr>\n",
       "      <th>1</th>\n",
       "      <td>104</td>\n",
       "      <td>chilli chicken</td>\n",
       "      <td>Chinese</td>\n",
       "      <td>non-veg</td>\n",
       "      <td>boneless chicken, salt, cornflour, black peppe...</td>\n",
       "      <td>1.000000</td>\n",
       "    </tr>\n",
       "    <tr>\n",
       "      <th>2</th>\n",
       "      <td>283</td>\n",
       "      <td>veg hakka noodles</td>\n",
       "      <td>Chinese</td>\n",
       "      <td>veg</td>\n",
       "      <td>noodles, salt, oil, garlic paste, ginger paste...</td>\n",
       "      <td>0.613356</td>\n",
       "    </tr>\n",
       "    <tr>\n",
       "      <th>3</th>\n",
       "      <td>167</td>\n",
       "      <td>veg fried rice</td>\n",
       "      <td>Chinese</td>\n",
       "      <td>veg</td>\n",
       "      <td>oil, ginger-garlic paste, spring onion, carrot...</td>\n",
       "      <td>0.613356</td>\n",
       "    </tr>\n",
       "    <tr>\n",
       "      <th>4</th>\n",
       "      <td>152</td>\n",
       "      <td>prawn fried rice</td>\n",
       "      <td>Thai</td>\n",
       "      <td>veg</td>\n",
       "      <td>Oil, Bacon, Prawns, Chicken, Carrots, Garlic B...</td>\n",
       "      <td>0.613356</td>\n",
       "    </tr>\n",
       "    <tr>\n",
       "      <th>5</th>\n",
       "      <td>155</td>\n",
       "      <td>chilli fish</td>\n",
       "      <td>Chinese</td>\n",
       "      <td>non-veg</td>\n",
       "      <td>For fish pieces (Boneless), Flour, Cornflour, ...</td>\n",
       "      <td>1.000000</td>\n",
       "    </tr>\n",
       "    <tr>\n",
       "      <th>6</th>\n",
       "      <td>107</td>\n",
       "      <td>garlic soya chicken</td>\n",
       "      <td>Healthy Food</td>\n",
       "      <td>non-veg</td>\n",
       "      <td>chicken thigh/breast (cut crosswise into 1/2-i...</td>\n",
       "      <td>1.000000</td>\n",
       "    </tr>\n",
       "    <tr>\n",
       "      <th>7</th>\n",
       "      <td>329</td>\n",
       "      <td>Thai Spareribs</td>\n",
       "      <td>Thai</td>\n",
       "      <td>non-veg</td>\n",
       "      <td>lemongrass, ginger, meaty sparerib, Sesame-Ci...</td>\n",
       "      <td>1.000000</td>\n",
       "    </tr>\n",
       "    <tr>\n",
       "      <th>8</th>\n",
       "      <td>313</td>\n",
       "      <td>Spicy Korean Steak</td>\n",
       "      <td>Korean</td>\n",
       "      <td>non-veg</td>\n",
       "      <td>boneless steak, olive oil, black pepper, oyst...</td>\n",
       "      <td>1.000000</td>\n",
       "    </tr>\n",
       "    <tr>\n",
       "      <th>9</th>\n",
       "      <td>168</td>\n",
       "      <td>egg and garlic fried rice</td>\n",
       "      <td>Chinese</td>\n",
       "      <td>non-veg</td>\n",
       "      <td>oil, garlic, spring onion , ginger, red chilli...</td>\n",
       "      <td>1.000000</td>\n",
       "    </tr>\n",
       "    <tr>\n",
       "      <th>10</th>\n",
       "      <td>48</td>\n",
       "      <td>almond and chicken momos (without shell)</td>\n",
       "      <td>Chinese</td>\n",
       "      <td>non-veg</td>\n",
       "      <td>chicken mince, garlic, carrots, spring onion, ...</td>\n",
       "      <td>1.000000</td>\n",
       "    </tr>\n",
       "  </tbody>\n",
       "</table>\n",
       "</div>"
      ],
      "text/plain": [
       "    Food_ID                                      Name        C_Type  Veg_Non  \\\n",
       "0         2                      chicken minced salad  Healthy Food  non-veg   \n",
       "1       104                            chilli chicken       Chinese  non-veg   \n",
       "2       283                         veg hakka noodles       Chinese      veg   \n",
       "3       167                            veg fried rice       Chinese      veg   \n",
       "4       152                          prawn fried rice          Thai      veg   \n",
       "5       155                               chilli fish       Chinese  non-veg   \n",
       "6       107                       garlic soya chicken  Healthy Food  non-veg   \n",
       "7       329                            Thai Spareribs          Thai  non-veg   \n",
       "8       313                        Spicy Korean Steak        Korean  non-veg   \n",
       "9       168                 egg and garlic fried rice       Chinese  non-veg   \n",
       "10       48  almond and chicken momos (without shell)       Chinese  non-veg   \n",
       "\n",
       "                                             Describe  Skor Relevansi  \n",
       "0   olive oil, chicken mince, garlic (minced), oni...        1.000000  \n",
       "1   boneless chicken, salt, cornflour, black peppe...        1.000000  \n",
       "2   noodles, salt, oil, garlic paste, ginger paste...        0.613356  \n",
       "3   oil, ginger-garlic paste, spring onion, carrot...        0.613356  \n",
       "4   Oil, Bacon, Prawns, Chicken, Carrots, Garlic B...        0.613356  \n",
       "5   For fish pieces (Boneless), Flour, Cornflour, ...        1.000000  \n",
       "6   chicken thigh/breast (cut crosswise into 1/2-i...        1.000000  \n",
       "7    lemongrass, ginger, meaty sparerib, Sesame-Ci...        1.000000  \n",
       "8    boneless steak, olive oil, black pepper, oyst...        1.000000  \n",
       "9   oil, garlic, spring onion , ginger, red chilli...        1.000000  \n",
       "10  chicken mince, garlic, carrots, spring onion, ...        1.000000  "
      ]
     },
     "execution_count": 157,
     "metadata": {},
     "output_type": "execute_result"
    }
   ],
   "source": [
    "perbandingan_df"
   ]
  },
  {
   "cell_type": "markdown",
   "metadata": {},
   "source": [
    "Menghitung nilai relevansi dengan cara membandingkan kemiripan bahan baku pada makanan yang direkomendasikan model:"
   ]
  },
  {
   "cell_type": "code",
   "execution_count": 158,
   "metadata": {},
   "outputs": [],
   "source": [
    "vectorizer = TfidfVectorizer(stop_words='english', ngram_range=(1,2))"
   ]
  },
  {
   "cell_type": "code",
   "execution_count": 159,
   "metadata": {},
   "outputs": [],
   "source": [
    "vectorizer.fit(perbandingan_df['Veg_Non'])\n",
    "\n",
    "bahan = vectorizer.get_feature_names_out()"
   ]
  },
  {
   "cell_type": "markdown",
   "metadata": {},
   "source": [
    "Check fitur:"
   ]
  },
  {
   "cell_type": "code",
   "execution_count": 160,
   "metadata": {},
   "outputs": [
    {
     "data": {
      "text/plain": [
       "array(['non', 'non veg', 'veg'], dtype=object)"
      ]
     },
     "execution_count": 160,
     "metadata": {},
     "output_type": "execute_result"
    }
   ],
   "source": [
    "bahan"
   ]
  },
  {
   "cell_type": "markdown",
   "metadata": {},
   "source": [
    "Menghitung skor relevansi:"
   ]
  },
  {
   "cell_type": "code",
   "execution_count": 161,
   "metadata": {},
   "outputs": [],
   "source": [
    "tfidf_bahan = vectorizer.fit_transform(perbandingan_df['Veg_Non'])\n",
    "tfidf_bahan.todense()\n",
    "\n",
    "eval_cos_sim = cosine_similarity(tfidf_bahan[0:1], tfidf_bahan)\n",
    "\n",
    "perbandingan_df['Skor Relevansi'] = eval_cos_sim.flatten()"
   ]
  },
  {
   "cell_type": "markdown",
   "metadata": {},
   "source": [
    "Check matrix similarity:"
   ]
  },
  {
   "cell_type": "code",
   "execution_count": 168,
   "metadata": {},
   "outputs": [
    {
     "data": {
      "text/html": [
       "<div>\n",
       "<style scoped>\n",
       "    .dataframe tbody tr th:only-of-type {\n",
       "        vertical-align: middle;\n",
       "    }\n",
       "\n",
       "    .dataframe tbody tr th {\n",
       "        vertical-align: top;\n",
       "    }\n",
       "\n",
       "    .dataframe thead th {\n",
       "        text-align: right;\n",
       "    }\n",
       "</style>\n",
       "<table border=\"1\" class=\"dataframe\">\n",
       "  <thead>\n",
       "    <tr style=\"text-align: right;\">\n",
       "      <th></th>\n",
       "      <th>non</th>\n",
       "      <th>non veg</th>\n",
       "      <th>veg</th>\n",
       "    </tr>\n",
       "    <tr>\n",
       "      <th>Veg_Non</th>\n",
       "      <th></th>\n",
       "      <th></th>\n",
       "      <th></th>\n",
       "    </tr>\n",
       "  </thead>\n",
       "  <tbody>\n",
       "    <tr>\n",
       "      <th>veg</th>\n",
       "      <td>0.000000</td>\n",
       "      <td>0.000000</td>\n",
       "      <td>1.000000</td>\n",
       "    </tr>\n",
       "    <tr>\n",
       "      <th>non-veg</th>\n",
       "      <td>0.619805</td>\n",
       "      <td>0.619805</td>\n",
       "      <td>0.481334</td>\n",
       "    </tr>\n",
       "    <tr>\n",
       "      <th>non-veg</th>\n",
       "      <td>0.619805</td>\n",
       "      <td>0.619805</td>\n",
       "      <td>0.481334</td>\n",
       "    </tr>\n",
       "  </tbody>\n",
       "</table>\n",
       "</div>"
      ],
      "text/plain": [
       "              non   non veg       veg\n",
       "Veg_Non                              \n",
       "veg      0.000000  0.000000  1.000000\n",
       "non-veg  0.619805  0.619805  0.481334\n",
       "non-veg  0.619805  0.619805  0.481334"
      ]
     },
     "execution_count": 168,
     "metadata": {},
     "output_type": "execute_result"
    }
   ],
   "source": [
    "bahan_matrix = pd.DataFrame(tfidf_bahan.todense(),\n",
    "             columns=bahan,\n",
    "             index=perbandingan_df.Veg_Non\n",
    ")\n",
    "\n",
    "n_cols = min(3, bahan_matrix.shape[1])  # Sampel kolom\n",
    "n_rows = min(3, bahan_matrix.shape[0])  # Sampel baris\n",
    "\n",
    "bahan_matrix.sample(n_cols, axis=1).sample(n_rows, axis=0)"
   ]
  },
  {
   "cell_type": "markdown",
   "metadata": {},
   "source": [
    "Menampilkan hasil perhitungan skor relevansi:"
   ]
  },
  {
   "cell_type": "code",
   "execution_count": 166,
   "metadata": {},
   "outputs": [
    {
     "data": {
      "text/html": [
       "<div>\n",
       "<style scoped>\n",
       "    .dataframe tbody tr th:only-of-type {\n",
       "        vertical-align: middle;\n",
       "    }\n",
       "\n",
       "    .dataframe tbody tr th {\n",
       "        vertical-align: top;\n",
       "    }\n",
       "\n",
       "    .dataframe thead th {\n",
       "        text-align: right;\n",
       "    }\n",
       "</style>\n",
       "<table border=\"1\" class=\"dataframe\">\n",
       "  <thead>\n",
       "    <tr style=\"text-align: right;\">\n",
       "      <th></th>\n",
       "      <th>Food_ID</th>\n",
       "      <th>Name</th>\n",
       "      <th>C_Type</th>\n",
       "      <th>Veg_Non</th>\n",
       "      <th>Describe</th>\n",
       "      <th>Skor Relevansi</th>\n",
       "    </tr>\n",
       "  </thead>\n",
       "  <tbody>\n",
       "    <tr>\n",
       "      <th>0</th>\n",
       "      <td>2</td>\n",
       "      <td>chicken minced salad</td>\n",
       "      <td>Healthy Food</td>\n",
       "      <td>non-veg</td>\n",
       "      <td>olive oil, chicken mince, garlic (minced), oni...</td>\n",
       "      <td>1.000000</td>\n",
       "    </tr>\n",
       "    <tr>\n",
       "      <th>1</th>\n",
       "      <td>104</td>\n",
       "      <td>chilli chicken</td>\n",
       "      <td>Chinese</td>\n",
       "      <td>non-veg</td>\n",
       "      <td>boneless chicken, salt, cornflour, black peppe...</td>\n",
       "      <td>1.000000</td>\n",
       "    </tr>\n",
       "    <tr>\n",
       "      <th>2</th>\n",
       "      <td>283</td>\n",
       "      <td>veg hakka noodles</td>\n",
       "      <td>Chinese</td>\n",
       "      <td>veg</td>\n",
       "      <td>noodles, salt, oil, garlic paste, ginger paste...</td>\n",
       "      <td>0.481334</td>\n",
       "    </tr>\n",
       "    <tr>\n",
       "      <th>3</th>\n",
       "      <td>167</td>\n",
       "      <td>veg fried rice</td>\n",
       "      <td>Chinese</td>\n",
       "      <td>veg</td>\n",
       "      <td>oil, ginger-garlic paste, spring onion, carrot...</td>\n",
       "      <td>0.481334</td>\n",
       "    </tr>\n",
       "    <tr>\n",
       "      <th>4</th>\n",
       "      <td>152</td>\n",
       "      <td>prawn fried rice</td>\n",
       "      <td>Thai</td>\n",
       "      <td>veg</td>\n",
       "      <td>Oil, Bacon, Prawns, Chicken, Carrots, Garlic B...</td>\n",
       "      <td>0.481334</td>\n",
       "    </tr>\n",
       "    <tr>\n",
       "      <th>5</th>\n",
       "      <td>155</td>\n",
       "      <td>chilli fish</td>\n",
       "      <td>Chinese</td>\n",
       "      <td>non-veg</td>\n",
       "      <td>For fish pieces (Boneless), Flour, Cornflour, ...</td>\n",
       "      <td>1.000000</td>\n",
       "    </tr>\n",
       "    <tr>\n",
       "      <th>6</th>\n",
       "      <td>107</td>\n",
       "      <td>garlic soya chicken</td>\n",
       "      <td>Healthy Food</td>\n",
       "      <td>non-veg</td>\n",
       "      <td>chicken thigh/breast (cut crosswise into 1/2-i...</td>\n",
       "      <td>1.000000</td>\n",
       "    </tr>\n",
       "    <tr>\n",
       "      <th>7</th>\n",
       "      <td>329</td>\n",
       "      <td>Thai Spareribs</td>\n",
       "      <td>Thai</td>\n",
       "      <td>non-veg</td>\n",
       "      <td>lemongrass, ginger, meaty sparerib, Sesame-Ci...</td>\n",
       "      <td>1.000000</td>\n",
       "    </tr>\n",
       "    <tr>\n",
       "      <th>8</th>\n",
       "      <td>313</td>\n",
       "      <td>Spicy Korean Steak</td>\n",
       "      <td>Korean</td>\n",
       "      <td>non-veg</td>\n",
       "      <td>boneless steak, olive oil, black pepper, oyst...</td>\n",
       "      <td>1.000000</td>\n",
       "    </tr>\n",
       "    <tr>\n",
       "      <th>9</th>\n",
       "      <td>168</td>\n",
       "      <td>egg and garlic fried rice</td>\n",
       "      <td>Chinese</td>\n",
       "      <td>non-veg</td>\n",
       "      <td>oil, garlic, spring onion , ginger, red chilli...</td>\n",
       "      <td>1.000000</td>\n",
       "    </tr>\n",
       "    <tr>\n",
       "      <th>10</th>\n",
       "      <td>48</td>\n",
       "      <td>almond and chicken momos (without shell)</td>\n",
       "      <td>Chinese</td>\n",
       "      <td>non-veg</td>\n",
       "      <td>chicken mince, garlic, carrots, spring onion, ...</td>\n",
       "      <td>1.000000</td>\n",
       "    </tr>\n",
       "  </tbody>\n",
       "</table>\n",
       "</div>"
      ],
      "text/plain": [
       "    Food_ID                                      Name        C_Type  Veg_Non  \\\n",
       "0         2                      chicken minced salad  Healthy Food  non-veg   \n",
       "1       104                            chilli chicken       Chinese  non-veg   \n",
       "2       283                         veg hakka noodles       Chinese      veg   \n",
       "3       167                            veg fried rice       Chinese      veg   \n",
       "4       152                          prawn fried rice          Thai      veg   \n",
       "5       155                               chilli fish       Chinese  non-veg   \n",
       "6       107                       garlic soya chicken  Healthy Food  non-veg   \n",
       "7       329                            Thai Spareribs          Thai  non-veg   \n",
       "8       313                        Spicy Korean Steak        Korean  non-veg   \n",
       "9       168                 egg and garlic fried rice       Chinese  non-veg   \n",
       "10       48  almond and chicken momos (without shell)       Chinese  non-veg   \n",
       "\n",
       "                                             Describe  Skor Relevansi  \n",
       "0   olive oil, chicken mince, garlic (minced), oni...        1.000000  \n",
       "1   boneless chicken, salt, cornflour, black peppe...        1.000000  \n",
       "2   noodles, salt, oil, garlic paste, ginger paste...        0.481334  \n",
       "3   oil, ginger-garlic paste, spring onion, carrot...        0.481334  \n",
       "4   Oil, Bacon, Prawns, Chicken, Carrots, Garlic B...        0.481334  \n",
       "5   For fish pieces (Boneless), Flour, Cornflour, ...        1.000000  \n",
       "6   chicken thigh/breast (cut crosswise into 1/2-i...        1.000000  \n",
       "7    lemongrass, ginger, meaty sparerib, Sesame-Ci...        1.000000  \n",
       "8    boneless steak, olive oil, black pepper, oyst...        1.000000  \n",
       "9   oil, garlic, spring onion , ginger, red chilli...        1.000000  \n",
       "10  chicken mince, garlic, carrots, spring onion, ...        1.000000  "
      ]
     },
     "execution_count": 166,
     "metadata": {},
     "output_type": "execute_result"
    }
   ],
   "source": [
    "perbandingan_df"
   ]
  },
  {
   "cell_type": "markdown",
   "metadata": {},
   "source": [
    "Menghitung rata-rata skor relevansi:"
   ]
  },
  {
   "cell_type": "code",
   "execution_count": 171,
   "metadata": {},
   "outputs": [
    {
     "name": "stdout",
     "output_type": "stream",
     "text": [
      "Mean Cosine Similarity: 0.859\n"
     ]
    }
   ],
   "source": [
    "print(\"Mean Cosine Similarity:\", perbandingan_df['Skor Relevansi'].mean().round(3))"
   ]
  },
  {
   "cell_type": "markdown",
   "metadata": {},
   "source": [
    "### Collaborative Filtering"
   ]
  },
  {
   "cell_type": "markdown",
   "metadata": {},
   "source": [
    "Menampilkan visualisasi history pelatihan model:"
   ]
  },
  {
   "cell_type": "code",
   "execution_count": 144,
   "metadata": {},
   "outputs": [
    {
     "data": {
      "image/png": "[encoded data removed]",
      "text/plain": [
       "<Figure size 1000x600 with 1 Axes>"
      ]
     },
     "execution_count": 144,
     "metadata": {},
     "output_type": "execute_result"
    }
   ],
   "source": [
    "train_result"
   ]
  },
  {
   "cell_type": "markdown",
   "metadata": {},
   "source": [
    "Catatan:\n",
    "* Grafik _history_ pelatihan model menunjukkan nilai RMSE pada data training terus menurun secara konsisten, artinya bahwa model semakin baik dalam mempelajari pola pada data training.\n",
    "* Nilai RMSE pada data validasi juga menurun, meski lebih lambat dibandingkan dengan data training. Ini menunjukkan bahwa model cukup baik dalam melakukan generalisasi pada data yang tidak terlihat sebelumnya.\n",
    "* Terlihat tidak ada kenaikan signifikan pada nilai RMSE validasi yang menandakan bahwa overfitting belum terjadi."
   ]
  },
  {
   "cell_type": "markdown",
   "metadata": {},
   "source": [
    "## Conclusion"
   ]
  },
  {
   "cell_type": "markdown",
   "metadata": {},
   "source": [
    "1. Sistem rekomendasi dapat memberikan pilihan makanan yang memiliki kemiripan dari segi bahan baku yang digunakan dengan menggunakan model rekomendasi yang dikembangkan melalui pendekatan _content-based filtering_. Model dapat memberikan rekomendasi berbagai pilihan makanan berdasarkan makanan yang pernah dipilih oleh pelanggan. Model memanfaatkan dataset yang berisi data nama dan daftar bahan baku makanan yang tersedia. Model akan menghitung _cosine similarity_ antara bahan baku dari nama makanan yang dipilih, kemudian menghasilkan rekomendasi nama makanan yang memiliki kemiripan bahan baku dengan mengurutkannya berdasarkan nilai _similarity_ terbesar. \n",
    "\n",
    "2. Sistem rekomendasi dapat memberikan pilihan makanan yang mungkin disukai oleh pelanggan dengan menggunakan model rekomendasi yang dikembangkan melalui pendekatan _collaborative filtering_. Model dapat memberikan rekomendasi berbagai pilihan makanan yang belum pernah dicoba dan mungkin akan disukai berdasarkan makanan yang sebelumnya pernah disukai oleh pelanggan. Model dikembangkan dengan memanfaatkan dataset interaksi pelanggan terhadap makanan melalui ulasan _rating_ kepuasan pelanggan. Model dilatih dengan algoritma embedding yang dikombinasikan dengan neural network sehingga dapat memprediksi makanan yang mungkin akan disukai oleh pelanggan."
   ]
  },
  {
   "cell_type": "markdown",
   "metadata": {},
   "source": [
    "## References"
   ]
  },
  {
   "cell_type": "markdown",
   "metadata": {},
   "source": [
    "1. Damar Upahita. 2021. *Panduan Mencukupi Kebutuhan Gizi Harian Untuk Anak Usia Sekolah (6 - 9 Tahun).* https://hellosehat.com/parenting/anak-6-sampai-9-tahun/gizi-anak/kebutuhan-asupan-gizi-anak/?amp=1. \n",
    "\n",
    "2. Dewi, dkk. 2021. *Pentingnya Pemenuhan Gizi Terhadap Kecerdasan Anak*. SENAPADMA:Seminar Nasional Pendidikan Dasar dan Menengah, Vol.1, pp. 16-21. Sukabumi: Universitas Nusa Putra.\n",
    "\n",
    "1. KA, Mutirasari. 2024. *Program Makan Bergizi Gratis: Jadwal Berlaku, Sasaran hingga Aturan Pembagian.* Diakses pada 6 Desember 2024, dari https://news.detik.com/berita/d-7617806/program-makan-bergizi-gratis-jadwal-berlaku-sasaran-hingga-aturan-pembagian.\n",
    "\n",
    "2. Kementerian Koordinator Bidang Pembangunan Manusia dan Kebudayaan Republik Indonesia. 2024. *Program Makan Bergizi Gratis untuk Tingkatkan Kualitas SDM Indonesia.* Diakses pada 6 Desember 2024, dari https://www.kemenkopmk.go.id/program-makan-bergizi-gratis-untuk-tingkatkan-kualitas-sdm-indonesia.\n",
    "\n",
    "3. Kementerian Kesehatan Republik Indonesia. 2019. *Peraturan Menteri Kesehatan Republik Indonesia Nomor 28 Tahun 2019 Tentang Angka Kecukupan Gizi Yang Dianjurkan Untuk Masyarakat Indonesia.*"
   ]
  },
  {
   "cell_type": "markdown",
   "metadata": {},
   "source": []
  }
 ],
 "metadata": {
  "kernelspec": {
   "display_name": "Recommendation-System",
   "language": "python",
   "name": "python3"
  },
  "language_info": {
   "codemirror_mode": {
    "name": "ipython",
    "version": 3
   },
   "file_extension": ".py",
   "mimetype": "text/x-python",
   "name": "python",
   "nbconvert_exporter": "python",
   "pygments_lexer": "ipython3",
   "version": "3.9.20"
  }
 },
 "nbformat": 4,
 "nbformat_minor": 2
}
