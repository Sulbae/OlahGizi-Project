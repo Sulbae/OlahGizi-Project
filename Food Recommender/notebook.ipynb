{
 "cells": [
  {
   "cell_type": "markdown",
   "metadata": {},
   "source": [
    "# Basic Food Recommender Model"
   ]
  },
  {
   "cell_type": "markdown",
   "metadata": {},
   "source": [
    "## Background"
   ]
  },
  {
   "cell_type": "markdown",
   "metadata": {},
   "source": [
    "Indonesia memiliki cita-cita besar untuk menjadi negara maju. Oleh karena itu, peningkatan kualitas Sumber Daya Manusia (SDM) menjadi pilar penting yang harus diperbaiki, terutama dalam hal peningkatan kesehatan, pemenuhan gizi, dan pencegahan stunting (Kemenko PMK RI, 2024). Pemerintah Indonesia telah merencanakan untuk melaksanakan program makan bergizi gratis sesuai arahan Presiden RI Prabowo Subianto. Pemerintah berharap program tersebut dapat menurunkan jumlah kasus stunting bahkan mencegah kasus stunting baru di masa depan. Fokus awal dari program ini adalah anak-anak sekolah dan kelompok rentan lainnya. Anak sekolah yang dimaksud antara lain pelajar PAUD, SD, SMP, dan SMA (detik.com, 2024). \n",
    "\n",
    "Anak sekolah menjadi sasaran karena status gizi dan  stunting sangat mempengaruhi kecerdasan anak. Status gizi memberikan kontribusi terhadap kesulitan belajar sebesar 32,83%. Anak yang kekurangan nutrisi cenderung memiliki kelemahan pada sistem saraf hingga dapat menyebabkan kelainan motorik dan kognitif (Dewi, dkk, 2021). Sebagai calon penerus bangsa, maka pertumbuhan dan perkembangan anak sekolah perlu diperhatikan dengan baik agar menghasilkan potensi sumber daya manusia dengan kualitas maksimal. Hal ini dapat dicapai dengan salah satu cara yaitu pemenuhan kebutuhan nutrisi harian melalui program makanan bergizi gratis.\n",
    "\n",
    "Angka Kecukupan Gizi (AKG) menurut Kementerian Kesehatan Republik Indonesia adalah kecukupan rata-rata gizi harian yang dianjurkan untuk sekelompok orang setiap harinya. Kebutuhan gizi ideal anak yang harus terpenuhi dalam sehari terbagi menjadi dua kelompok, yaitu zat gizi makro dan mikro. Zat gizi makro adalah semua jenis zat gizi yang dibutuhkan anak dalam jumlah banyak, seperti energi (kalori), protein, lemak, dan karbohidrat. Sementara zat gizi mikro adalah nutrisi yang dibutuhkan dalam jumlah sedikit, seperti vitamin dan mineral (Damar Upahita, 2021). Penentuan nilai gizi disesuaikan dengan jenis kelamin, kelompok umur, tinggi badan, berat badan, serta aktivitas fisik (Kemenkes RI, 2019).\n",
    "\n",
    "Seluruh program makanan bergizi gratis harus melibatkan kolaborasi pemangku kepentingan terkait untuk dikonvergensikan sehingga bisa komprehensif dan terintegrasi. Salah satunya adalah penyediaan makanan yang efektif dan efisien. Salah satu perusahaan penyedia layanan catering dan bento, Olagizi ingin mengambil peran penting dalam penyediaan paket makanan bergizi bagi siswa SMP dan SMA. Olagizi ingin memberikan layanan dengan optimal. Oleh karena itu, Olagizi ingin membuat sebuah sistem yang dapat memberikan rekomendasi tentang makanan bergizi yang dipersonalisasi sesuai kebutuhan gizi dan selera para siswa. Di sisi lain, Olagizi juga ingin rekomendasi tersebut memberikan pilihan makanan yang dapat dimasak dalam waktu yang tidak terlalu lama agar makanan dapat disiapkan tepat pada waktu, khususnya makanan untuk sesi sarapan. Untuk pengembangan tahap awal, Olagizi ingin membuat model sistem rekomendasi makanan berdasarkan kemiripan bahan baku yang digunakan serta berdasarkan hasil ulasan rating makanan."
   ]
  },
  {
   "cell_type": "markdown",
   "metadata": {},
   "source": [
    "## Business Understanding"
   ]
  },
  {
   "cell_type": "markdown",
   "metadata": {},
   "source": [
    "### Problem Statements"
   ]
  },
  {
   "cell_type": "markdown",
   "metadata": {},
   "source": [
    "1. Bagaimana sistem rekomendasi dapat memberikan pilihan makanan dengan bahan baku utama yang sama?\n",
    "\n",
    "2. Bagaimana sistem rekomendasi dapat memberikan berbagai pilihan makanan yang mungkin disukai oleh target pelanggan?"
   ]
  },
  {
   "cell_type": "markdown",
   "metadata": {},
   "source": [
    "### Goals"
   ]
  },
  {
   "cell_type": "markdown",
   "metadata": {},
   "source": [
    "1. Menghasilkan 10 rekomendasi makanan yang memiliki bahan baku utama yang sama serta dapat dimasak dalam waktu kurang dari 2 jam.\n",
    "\n",
    "2. Menghasilkan 10 rekomendasi makanan yang mungkin disukai oleh target pelanggan dan dapat dimasak dalam waktu kurang dari 2 jam."
   ]
  },
  {
   "cell_type": "markdown",
   "metadata": {},
   "source": [
    "### Solution Statements"
   ]
  },
  {
   "cell_type": "markdown",
   "metadata": {},
   "source": [
    "1. Menerapkan pendekatan _content-based filtering_ menggunakan algoritma _cosine similarity_ untuk menghitung kemiripan bahan baku yang digunakan diurutkan berdasarkan nilai _similarity_ terbesar.\n",
    "\n",
    "2. Menerapkan pendekatan _collaborative filtering_ menggunakan algoritma _deep learning_ untuk menemukan pola pemberian rating oleh user."
   ]
  },
  {
   "cell_type": "markdown",
   "metadata": {},
   "source": [
    "## Data Understanding"
   ]
  },
  {
   "cell_type": "markdown",
   "metadata": {},
   "source": [
    "#### Overview"
   ]
  },
  {
   "cell_type": "markdown",
   "metadata": {},
   "source": [
    "Dataset ini berasal dari platform Kaggle salah satu pengembang sistem rekomendasi makanan dengan nama akun \"GRACE HEPHZIBAH M\" yang dapat diakses pada link di bawah. Pada proyek ini, akan menggunakan 2 file dataset dalam format csv, yaitu food data dan rating data.\n",
    "\n",
    "_Download raw dataset_:\n",
    "[Food Recommendation System](https://www.kaggle.com/code/gracehephzibahm/food-recommendation-system-easy-comprehensive/input)"
   ]
  },
  {
   "cell_type": "markdown",
   "metadata": {},
   "source": [
    "##### food_df"
   ]
  },
  {
   "cell_type": "markdown",
   "metadata": {},
   "source": [
    "| No | Kolom | Tipe Data | Deskripsi |\n",
    "|----|-------|-----------|-----------|\n",
    "| 1 | Name | `object` | Nama makanan. |\n",
    "| 2 | Food_ID | `integer` | ID makanan. |\n",
    "| 3 | C_Type | `object` | Kategori makanan. |\n",
    "| 4 | Veg_Non | `object` | Keterangan apakah makanan mengandung bahan baku hewani atau tidak |\n",
    "| 5 | Describe | `object` | Keterangan bahan-bahan yang digunakan pada makanan tersebut. |"
   ]
  },
  {
   "cell_type": "markdown",
   "metadata": {},
   "source": [
    "##### rating_df"
   ]
  },
  {
   "cell_type": "markdown",
   "metadata": {},
   "source": [
    "| No | Kolom | Tipe Data | Deskripsi |\n",
    "|----|-------|-----------|-----------|\n",
    "| 1 | User_ID | `integer` | ID pengguna yang memberikan ulasan. |\n",
    "| 2 | Food_ID | `integer` | ID resep yang diberi ulasan. |\n",
    "| 3 | Rating | `integer` | Penilaian yang diberikan (dalam skala 1 - 10). |"
   ]
  },
  {
   "cell_type": "markdown",
   "metadata": {},
   "source": [
    "### Import Libraries"
   ]
  },
  {
   "cell_type": "markdown",
   "metadata": {},
   "source": [
    "Import seluruh library yang diperlukan:"
   ]
  },
  {
   "cell_type": "code",
   "execution_count": 2,
   "metadata": {},
   "outputs": [],
   "source": [
    "import numpy as np\n",
    "import pandas as pd\n",
    "import matplotlib.pyplot as plt\n",
    "import seaborn as sns\n",
    "import ast\n",
    "\n",
    "import tensorflow as tf\n",
    "from tensorflow import keras\n",
    "from tensorflow.keras import layers\n",
    "from tensorflow.keras.layers import Embedding, Flatten, Dot, Input, Dense, Dropout, BatchNormalization\n",
    "from tensorflow.keras.callbacks import EarlyStopping, Callback, ModelCheckpoint\n",
    "\n",
    "from sklearn.neighbors import KNeighborsRegressor\n",
    "from sklearn.preprocessing import MultiLabelBinarizer, MinMaxScaler\n",
    "from sklearn.feature_extraction.text import TfidfVectorizer\n",
    "from sklearn.model_selection import train_test_split\n",
    "from sklearn.metrics import mean_squared_error, mean_absolute_error, root_mean_squared_error, r2_score, confusion_matrix\n",
    "from sklearn.metrics.pairwise import cosine_similarity"
   ]
  },
  {
   "cell_type": "markdown",
   "metadata": {},
   "source": [
    "### Load Data"
   ]
  },
  {
   "cell_type": "markdown",
   "metadata": {},
   "source": [
    "Muat semua dataset yang akan digunakan:"
   ]
  },
  {
   "cell_type": "code",
   "execution_count": 3,
   "metadata": {},
   "outputs": [],
   "source": [
    "# Data 1\n",
    "food_data = \"https://raw.githubusercontent.com/Sulbae/OlahGizi-Project/refs/heads/main/Food%20Recommender/raw-dataset/food.csv\"\n",
    "food_df = pd.read_csv(food_data)\n",
    "\n",
    "# Data 2\n",
    "rating_data = \"https://raw.githubusercontent.com/Sulbae/OlahGizi-Project/refs/heads/main/Food%20Recommender/raw-dataset/ratings.csv\"\n",
    "rating_df = pd.read_csv(rating_data)"
   ]
  },
  {
   "cell_type": "markdown",
   "metadata": {},
   "source": [
    "### Explore Data"
   ]
  },
  {
   "cell_type": "markdown",
   "metadata": {},
   "source": [
    "#### Explore food_df"
   ]
  },
  {
   "cell_type": "code",
   "execution_count": 4,
   "metadata": {},
   "outputs": [
    {
     "name": "stdout",
     "output_type": "stream",
     "text": [
      "<class 'pandas.core.frame.DataFrame'>\n",
      "RangeIndex: 400 entries, 0 to 399\n",
      "Data columns (total 5 columns):\n",
      " #   Column    Non-Null Count  Dtype \n",
      "---  ------    --------------  ----- \n",
      " 0   Food_ID   400 non-null    int64 \n",
      " 1   Name      400 non-null    object\n",
      " 2   C_Type    400 non-null    object\n",
      " 3   Veg_Non   400 non-null    object\n",
      " 4   Describe  400 non-null    object\n",
      "dtypes: int64(1), object(4)\n",
      "memory usage: 15.8+ KB\n"
     ]
    }
   ],
   "source": [
    "food_df.info()"
   ]
  },
  {
   "cell_type": "markdown",
   "metadata": {},
   "source": [
    "* Diketahui dataset memiliki 2 tipe data yaitu `int64` (untuk kolom Food_ID) dan `object` (untuk kolom lainnya) dengan total baris sebanyak 400."
   ]
  },
  {
   "cell_type": "code",
   "execution_count": 6,
   "metadata": {},
   "outputs": [
    {
     "name": "stdout",
     "output_type": "stream",
     "text": [
      "Duplicated data: 0\n",
      "Missing value: 0\n"
     ]
    }
   ],
   "source": [
    "# Check duplicates\n",
    "print(f\"Duplicated data:\", food_df.duplicated().sum())\n",
    "\n",
    "# recheck missing value\n",
    "print(f\"Missing value:\", food_df.isna().sum().sum())"
   ]
  },
  {
   "cell_type": "markdown",
   "metadata": {},
   "source": [
    "* Tidak terdapat duplikasi data maupun _missing value_."
   ]
  },
  {
   "cell_type": "markdown",
   "metadata": {},
   "source": [
    "Menampilkan 5 data teratas:"
   ]
  },
  {
   "cell_type": "code",
   "execution_count": 7,
   "metadata": {},
   "outputs": [
    {
     "data": {
      "text/html": [
       "<div>\n",
       "<style scoped>\n",
       "    .dataframe tbody tr th:only-of-type {\n",
       "        vertical-align: middle;\n",
       "    }\n",
       "\n",
       "    .dataframe tbody tr th {\n",
       "        vertical-align: top;\n",
       "    }\n",
       "\n",
       "    .dataframe thead th {\n",
       "        text-align: right;\n",
       "    }\n",
       "</style>\n",
       "<table border=\"1\" class=\"dataframe\">\n",
       "  <thead>\n",
       "    <tr style=\"text-align: right;\">\n",
       "      <th></th>\n",
       "      <th>Food_ID</th>\n",
       "      <th>Name</th>\n",
       "      <th>C_Type</th>\n",
       "      <th>Veg_Non</th>\n",
       "      <th>Describe</th>\n",
       "    </tr>\n",
       "  </thead>\n",
       "  <tbody>\n",
       "    <tr>\n",
       "      <th>0</th>\n",
       "      <td>1</td>\n",
       "      <td>summer squash salad</td>\n",
       "      <td>Healthy Food</td>\n",
       "      <td>veg</td>\n",
       "      <td>white balsamic vinegar, lemon juice, lemon rin...</td>\n",
       "    </tr>\n",
       "    <tr>\n",
       "      <th>1</th>\n",
       "      <td>2</td>\n",
       "      <td>chicken minced salad</td>\n",
       "      <td>Healthy Food</td>\n",
       "      <td>non-veg</td>\n",
       "      <td>olive oil, chicken mince, garlic (minced), oni...</td>\n",
       "    </tr>\n",
       "    <tr>\n",
       "      <th>2</th>\n",
       "      <td>3</td>\n",
       "      <td>sweet chilli almonds</td>\n",
       "      <td>Snack</td>\n",
       "      <td>veg</td>\n",
       "      <td>almonds whole, egg white, curry leaves, salt, ...</td>\n",
       "    </tr>\n",
       "    <tr>\n",
       "      <th>3</th>\n",
       "      <td>4</td>\n",
       "      <td>tricolour salad</td>\n",
       "      <td>Healthy Food</td>\n",
       "      <td>veg</td>\n",
       "      <td>vinegar, honey/sugar, soy sauce, salt, garlic ...</td>\n",
       "    </tr>\n",
       "    <tr>\n",
       "      <th>4</th>\n",
       "      <td>5</td>\n",
       "      <td>christmas cake</td>\n",
       "      <td>Dessert</td>\n",
       "      <td>veg</td>\n",
       "      <td>christmas dry fruits (pre-soaked), orange zest...</td>\n",
       "    </tr>\n",
       "  </tbody>\n",
       "</table>\n",
       "</div>"
      ],
      "text/plain": [
       "   Food_ID                  Name        C_Type  Veg_Non  \\\n",
       "0        1   summer squash salad  Healthy Food      veg   \n",
       "1        2  chicken minced salad  Healthy Food  non-veg   \n",
       "2        3  sweet chilli almonds         Snack      veg   \n",
       "3        4       tricolour salad  Healthy Food      veg   \n",
       "4        5        christmas cake       Dessert      veg   \n",
       "\n",
       "                                            Describe  \n",
       "0  white balsamic vinegar, lemon juice, lemon rin...  \n",
       "1  olive oil, chicken mince, garlic (minced), oni...  \n",
       "2  almonds whole, egg white, curry leaves, salt, ...  \n",
       "3  vinegar, honey/sugar, soy sauce, salt, garlic ...  \n",
       "4  christmas dry fruits (pre-soaked), orange zest...  "
      ]
     },
     "execution_count": 7,
     "metadata": {},
     "output_type": "execute_result"
    }
   ],
   "source": [
    "food_df.head()"
   ]
  },
  {
   "cell_type": "markdown",
   "metadata": {},
   "source": [
    "Visualisasi data *C_Type*:"
   ]
  },
  {
   "cell_type": "code",
   "execution_count": 17,
   "metadata": {},
   "outputs": [
    {
     "data": {
      "image/png": "[encoded data removed]",
      "text/plain": [
       "<Figure size 800x600 with 1 Axes>"
      ]
     },
     "metadata": {},
     "output_type": "display_data"
    }
   ],
   "source": [
    "category_counts = food_df['C_Type'].value_counts().sort_values(ascending=True)\n",
    "\n",
    "# Visualisasi dengan bar chart horizontal\n",
    "plt.figure(figsize=(8, 6))\n",
    "bars = plt.barh(category_counts.index, category_counts.values, color=sns.color_palette(\"pastel\"))\n",
    "\n",
    "for bar in bars:\n",
    "    plt.text(bar.get_width() + 0.1, bar.get_y() + bar.get_height() / 2,\n",
    "             f'{bar.get_width()}', va='center', ha='left', fontsize=12)\n",
    "\n",
    "plt.title('Distribusi Kategori C_Type', fontsize=16)\n",
    "plt.xlabel('Frekuensi', fontsize=14)\n",
    "plt.ylabel('Kategori', fontsize=14)\n",
    "plt.show()"
   ]
  },
  {
   "cell_type": "markdown",
   "metadata": {},
   "source": [
    "* Makanan pada dataset didominasi oleh makanan dengan kateogori makanan India, Healthy Food, dan Dessert."
   ]
  },
  {
   "cell_type": "code",
   "execution_count": 19,
   "metadata": {},
   "outputs": [
    {
     "data": {
      "image/png": "[encoded data removed]",
      "text/plain": [
       "<Figure size 600x600 with 1 Axes>"
      ]
     },
     "metadata": {},
     "output_type": "display_data"
    }
   ],
   "source": [
    "Veg_Non_counts = food_df['Veg_Non'].value_counts()\n",
    "\n",
    "plt.figure(figsize=(6, 6))\n",
    "plt.pie(Veg_Non_counts, labels=Veg_Non_counts.index, autopct='%1.1f%%', startangle=140, colors=sns.color_palette(\"pastel\"))\n",
    "plt.title('Proporsi Kategori Veg_Non', fontsize=16)\n",
    "plt.show()"
   ]
  },
  {
   "cell_type": "markdown",
   "metadata": {},
   "source": [
    "* Enam puluh persen makanan pada dataset merupakan makanan yang tidak mengandung bahan baku hewani, sementara sisanya menggunakan bahan baku hewani."
   ]
  },
  {
   "cell_type": "markdown",
   "metadata": {},
   "source": [
    "#### Explore rating_df"
   ]
  },
  {
   "cell_type": "code",
   "execution_count": 20,
   "metadata": {},
   "outputs": [
    {
     "name": "stdout",
     "output_type": "stream",
     "text": [
      "<class 'pandas.core.frame.DataFrame'>\n",
      "RangeIndex: 512 entries, 0 to 511\n",
      "Data columns (total 3 columns):\n",
      " #   Column   Non-Null Count  Dtype  \n",
      "---  ------   --------------  -----  \n",
      " 0   User_ID  511 non-null    float64\n",
      " 1   Food_ID  511 non-null    float64\n",
      " 2   Rating   511 non-null    float64\n",
      "dtypes: float64(3)\n",
      "memory usage: 12.1 KB\n"
     ]
    }
   ],
   "source": [
    "rating_df.info()"
   ]
  },
  {
   "cell_type": "markdown",
   "metadata": {},
   "source": [
    "* Diketahui seluruh data pada dataset memiliki tipe data `float`."
   ]
  },
  {
   "cell_type": "markdown",
   "metadata": {},
   "source": [
    "Menampilkan 5 data teratas:"
   ]
  },
  {
   "cell_type": "code",
   "execution_count": 27,
   "metadata": {},
   "outputs": [
    {
     "data": {
      "text/html": [
       "<div>\n",
       "<style scoped>\n",
       "    .dataframe tbody tr th:only-of-type {\n",
       "        vertical-align: middle;\n",
       "    }\n",
       "\n",
       "    .dataframe tbody tr th {\n",
       "        vertical-align: top;\n",
       "    }\n",
       "\n",
       "    .dataframe thead th {\n",
       "        text-align: right;\n",
       "    }\n",
       "</style>\n",
       "<table border=\"1\" class=\"dataframe\">\n",
       "  <thead>\n",
       "    <tr style=\"text-align: right;\">\n",
       "      <th></th>\n",
       "      <th>User_ID</th>\n",
       "      <th>Food_ID</th>\n",
       "      <th>Rating</th>\n",
       "    </tr>\n",
       "  </thead>\n",
       "  <tbody>\n",
       "    <tr>\n",
       "      <th>0</th>\n",
       "      <td>1.0</td>\n",
       "      <td>88.0</td>\n",
       "      <td>4.0</td>\n",
       "    </tr>\n",
       "    <tr>\n",
       "      <th>1</th>\n",
       "      <td>1.0</td>\n",
       "      <td>46.0</td>\n",
       "      <td>3.0</td>\n",
       "    </tr>\n",
       "    <tr>\n",
       "      <th>2</th>\n",
       "      <td>1.0</td>\n",
       "      <td>24.0</td>\n",
       "      <td>5.0</td>\n",
       "    </tr>\n",
       "    <tr>\n",
       "      <th>3</th>\n",
       "      <td>1.0</td>\n",
       "      <td>25.0</td>\n",
       "      <td>4.0</td>\n",
       "    </tr>\n",
       "    <tr>\n",
       "      <th>4</th>\n",
       "      <td>2.0</td>\n",
       "      <td>49.0</td>\n",
       "      <td>1.0</td>\n",
       "    </tr>\n",
       "  </tbody>\n",
       "</table>\n",
       "</div>"
      ],
      "text/plain": [
       "   User_ID  Food_ID  Rating\n",
       "0      1.0     88.0     4.0\n",
       "1      1.0     46.0     3.0\n",
       "2      1.0     24.0     5.0\n",
       "3      1.0     25.0     4.0\n",
       "4      2.0     49.0     1.0"
      ]
     },
     "execution_count": 27,
     "metadata": {},
     "output_type": "execute_result"
    }
   ],
   "source": [
    "rating_df.head()"
   ]
  },
  {
   "cell_type": "markdown",
   "metadata": {},
   "source": [
    "Cek duplikasi dan missing value data:"
   ]
  },
  {
   "cell_type": "code",
   "execution_count": 25,
   "metadata": {},
   "outputs": [
    {
     "name": "stdout",
     "output_type": "stream",
     "text": [
      "Duplicated data: 0\n",
      "Missing value: 0\n"
     ]
    }
   ],
   "source": [
    "# Check duplicates\n",
    "print(f\"Duplicated data:\", rating_df.duplicated().sum())\n",
    "\n",
    "# Check missing value\n",
    "print(f\"Missing value:\", rating_df.isna().sum().sum())"
   ]
  },
  {
   "cell_type": "markdown",
   "metadata": {},
   "source": [
    "* Terdapat __3__ __missing value__."
   ]
  },
  {
   "cell_type": "markdown",
   "metadata": {},
   "source": [
    "Menghapus data yang mengandung *missing_value*:"
   ]
  },
  {
   "cell_type": "code",
   "execution_count": 24,
   "metadata": {},
   "outputs": [],
   "source": [
    "rating_df = rating_df.dropna()"
   ]
  },
  {
   "cell_type": "markdown",
   "metadata": {},
   "source": [
    "Recheck:"
   ]
  },
  {
   "cell_type": "code",
   "execution_count": 26,
   "metadata": {},
   "outputs": [
    {
     "name": "stdout",
     "output_type": "stream",
     "text": [
      "Missing value: 0\n"
     ]
    }
   ],
   "source": [
    "# recheck missing value\n",
    "print(f\"Missing value:\", rating_df.isna().sum().sum())"
   ]
  },
  {
   "cell_type": "markdown",
   "metadata": {},
   "source": [
    "Menampilkan statistik deskriptif:"
   ]
  },
  {
   "cell_type": "code",
   "execution_count": 28,
   "metadata": {},
   "outputs": [
    {
     "data": {
      "text/html": [
       "<div>\n",
       "<style scoped>\n",
       "    .dataframe tbody tr th:only-of-type {\n",
       "        vertical-align: middle;\n",
       "    }\n",
       "\n",
       "    .dataframe tbody tr th {\n",
       "        vertical-align: top;\n",
       "    }\n",
       "\n",
       "    .dataframe thead th {\n",
       "        text-align: right;\n",
       "    }\n",
       "</style>\n",
       "<table border=\"1\" class=\"dataframe\">\n",
       "  <thead>\n",
       "    <tr style=\"text-align: right;\">\n",
       "      <th></th>\n",
       "      <th>count</th>\n",
       "      <th>mean</th>\n",
       "      <th>std</th>\n",
       "      <th>min</th>\n",
       "      <th>25%</th>\n",
       "      <th>50%</th>\n",
       "      <th>75%</th>\n",
       "      <th>max</th>\n",
       "    </tr>\n",
       "  </thead>\n",
       "  <tbody>\n",
       "    <tr>\n",
       "      <th>User_ID</th>\n",
       "      <td>511.0</td>\n",
       "      <td>49.068493</td>\n",
       "      <td>28.739213</td>\n",
       "      <td>1.0</td>\n",
       "      <td>25.0</td>\n",
       "      <td>49.0</td>\n",
       "      <td>72.0</td>\n",
       "      <td>100.0</td>\n",
       "    </tr>\n",
       "    <tr>\n",
       "      <th>Food_ID</th>\n",
       "      <td>511.0</td>\n",
       "      <td>125.311155</td>\n",
       "      <td>91.292629</td>\n",
       "      <td>1.0</td>\n",
       "      <td>45.5</td>\n",
       "      <td>111.0</td>\n",
       "      <td>204.0</td>\n",
       "      <td>309.0</td>\n",
       "    </tr>\n",
       "    <tr>\n",
       "      <th>Rating</th>\n",
       "      <td>511.0</td>\n",
       "      <td>5.438356</td>\n",
       "      <td>2.866236</td>\n",
       "      <td>1.0</td>\n",
       "      <td>3.0</td>\n",
       "      <td>5.0</td>\n",
       "      <td>8.0</td>\n",
       "      <td>10.0</td>\n",
       "    </tr>\n",
       "  </tbody>\n",
       "</table>\n",
       "</div>"
      ],
      "text/plain": [
       "         count        mean        std  min   25%    50%    75%    max\n",
       "User_ID  511.0   49.068493  28.739213  1.0  25.0   49.0   72.0  100.0\n",
       "Food_ID  511.0  125.311155  91.292629  1.0  45.5  111.0  204.0  309.0\n",
       "Rating   511.0    5.438356   2.866236  1.0   3.0    5.0    8.0   10.0"
      ]
     },
     "execution_count": 28,
     "metadata": {},
     "output_type": "execute_result"
    }
   ],
   "source": [
    "rating_df.describe().T"
   ]
  },
  {
   "cell_type": "markdown",
   "metadata": {},
   "source": [
    "* Diketahui rata-rata rating yang diberikan user adalah 5,4 dan diketahui nilai median sebesar 5. Sementara rentang nilai rating berkisar dari 1 hingga 10. Artinya distribusi data cukup seimbang."
   ]
  },
  {
   "cell_type": "markdown",
   "metadata": {},
   "source": [
    "Cek distribusi dan outlier data _rating_ menggunakan histogram dan boxplot:"
   ]
  },
  {
   "cell_type": "code",
   "execution_count": 29,
   "metadata": {},
   "outputs": [
    {
     "data": {
      "image/png": "[encoded data removed]",
      "text/plain": [
       "<Figure size 1200x500 with 2 Axes>"
      ]
     },
     "metadata": {},
     "output_type": "display_data"
    },
    {
     "data": {
      "image/png": "[encoded data removed]",
      "text/plain": [
       "<Figure size 1200x500 with 2 Axes>"
      ]
     },
     "metadata": {},
     "output_type": "display_data"
    },
    {
     "data": {
      "image/png": "[encoded data removed]",
      "text/plain": [
       "<Figure size 1200x500 with 2 Axes>"
      ]
     },
     "metadata": {},
     "output_type": "display_data"
    }
   ],
   "source": [
    "for col in rating_df.select_dtypes(include=\"number\").columns:\n",
    "    fig, axes = plt.subplots(nrows=1, ncols=2, figsize=(12, 5))\n",
    "    fig.suptitle(f\"Distribution of {col}\")\n",
    "\n",
    "    # Histogram\n",
    "    sns.histplot(rating_df[col], kde=True, ax=axes[0])\n",
    "    axes[0].set_ylabel(\"Frequency\")\n",
    "    # Box PLot\n",
    "    sns.boxplot(x=rating_df[col], ax=axes[1])\n",
    "\n",
    "    plt.tight_layout()\n",
    "    plt.show()"
   ]
  },
  {
   "cell_type": "markdown",
   "metadata": {},
   "source": [
    "* Diketahui tidak terdapat outlier pada data _rating_."
   ]
  },
  {
   "cell_type": "markdown",
   "metadata": {},
   "source": [
    "## Data Preparation"
   ]
  },
  {
   "cell_type": "markdown",
   "metadata": {},
   "source": [
    "### Data Cleaning"
   ]
  },
  {
   "cell_type": "markdown",
   "metadata": {},
   "source": [
    "#### Convert _Date_ to `datetime`"
   ]
  },
  {
   "cell_type": "markdown",
   "metadata": {},
   "source": [
    "Kolom _submitted_ pada food_df:"
   ]
  },
  {
   "cell_type": "code",
   "execution_count": 190,
   "metadata": {},
   "outputs": [
    {
     "name": "stdout",
     "output_type": "stream",
     "text": [
      "<class 'pandas.core.frame.DataFrame'>\n",
      "RangeIndex: 2316 entries, 0 to 2315\n",
      "Data columns (total 12 columns):\n",
      " #   Column          Non-Null Count  Dtype         \n",
      "---  ------          --------------  -----         \n",
      " 0   name            2316 non-null   object        \n",
      " 1   id              2316 non-null   int64         \n",
      " 2   minutes         2316 non-null   int64         \n",
      " 3   contributor_id  2316 non-null   int64         \n",
      " 4   submitted       2316 non-null   datetime64[ns]\n",
      " 5   tags            2316 non-null   object        \n",
      " 6   nutrition       2316 non-null   object        \n",
      " 7   n_steps         2316 non-null   int64         \n",
      " 8   steps           2316 non-null   object        \n",
      " 9   description     2264 non-null   object        \n",
      " 10  ingredients     2316 non-null   object        \n",
      " 11  n_ingredients   2316 non-null   int64         \n",
      "dtypes: datetime64[ns](1), int64(5), object(6)\n",
      "memory usage: 217.2+ KB\n"
     ]
    }
   ],
   "source": [
    "food_df['submitted'] = pd.to_datetime(food_df['submitted'])\n",
    "food_df.info()"
   ]
  },
  {
   "cell_type": "markdown",
   "metadata": {},
   "source": [
    "Kolom _date_ pada rating_df:"
   ]
  },
  {
   "cell_type": "code",
   "execution_count": null,
   "metadata": {},
   "outputs": [
    {
     "name": "stdout",
     "output_type": "stream",
     "text": [
      "<class 'pandas.core.frame.DataFrame'>\n",
      "RangeIndex: 11324 entries, 0 to 11323\n",
      "Data columns (total 5 columns):\n",
      " #   Column     Non-Null Count  Dtype         \n",
      "---  ------     --------------  -----         \n",
      " 0   user_id    11324 non-null  int64         \n",
      " 1   recipe_id  11324 non-null  int64         \n",
      " 2   date       11324 non-null  datetime64[ns]\n",
      " 3   rating     11324 non-null  int64         \n",
      " 4   review     11323 non-null  object        \n",
      "dtypes: datetime64[ns](1), int64(3), object(1)\n",
      "memory usage: 442.5+ KB\n"
     ]
    }
   ],
   "source": [
    "rating_df['date'] = pd.to_datetime(rating_df['date'])\n",
    "rating_df.info()"
   ]
  },
  {
   "cell_type": "markdown",
   "metadata": {},
   "source": [
    "#### Remove Missing Value"
   ]
  },
  {
   "cell_type": "markdown",
   "metadata": {},
   "source": [
    "Menghapus baris data yang memiliki missing value pada  `recipes_samplpe_df`:"
   ]
  },
  {
   "cell_type": "code",
   "execution_count": null,
   "metadata": {},
   "outputs": [],
   "source": [
    "food_df = food_df.dropna()"
   ]
  },
  {
   "cell_type": "markdown",
   "metadata": {},
   "source": [
    "Recheck:"
   ]
  },
  {
   "cell_type": "code",
   "execution_count": null,
   "metadata": {},
   "outputs": [
    {
     "name": "stdout",
     "output_type": "stream",
     "text": [
      "Missing value: 0\n"
     ]
    }
   ],
   "source": [
    "# Recheck missing value\n",
    "print(f\"Missing value:\", food_df.isna().sum().sum())"
   ]
  },
  {
   "cell_type": "code",
   "execution_count": null,
   "metadata": {},
   "outputs": [
    {
     "name": "stdout",
     "output_type": "stream",
     "text": [
      "<class 'pandas.core.frame.DataFrame'>\n",
      "Index: 2264 entries, 0 to 2315\n",
      "Data columns (total 12 columns):\n",
      " #   Column          Non-Null Count  Dtype         \n",
      "---  ------          --------------  -----         \n",
      " 0   name            2264 non-null   object        \n",
      " 1   id              2264 non-null   int64         \n",
      " 2   minutes         2264 non-null   int64         \n",
      " 3   contributor_id  2264 non-null   int64         \n",
      " 4   submitted       2264 non-null   datetime64[ns]\n",
      " 5   tags            2264 non-null   object        \n",
      " 6   nutrition       2264 non-null   object        \n",
      " 7   n_steps         2264 non-null   int64         \n",
      " 8   steps           2264 non-null   object        \n",
      " 9   description     2264 non-null   object        \n",
      " 10  ingredients     2264 non-null   object        \n",
      " 11  n_ingredients   2264 non-null   int64         \n",
      "dtypes: datetime64[ns](1), int64(5), object(6)\n",
      "memory usage: 229.9+ KB\n"
     ]
    }
   ],
   "source": [
    "food_df.info()"
   ]
  },
  {
   "cell_type": "markdown",
   "metadata": {},
   "source": [
    "Menghapus baris data yang memiliki missing value pada  `interaction_samplpe_df`:"
   ]
  },
  {
   "cell_type": "code",
   "execution_count": null,
   "metadata": {},
   "outputs": [],
   "source": [
    "rating_df = rating_df.dropna()"
   ]
  },
  {
   "cell_type": "markdown",
   "metadata": {},
   "source": [
    "Recheck:"
   ]
  },
  {
   "cell_type": "code",
   "execution_count": null,
   "metadata": {},
   "outputs": [
    {
     "name": "stdout",
     "output_type": "stream",
     "text": [
      "Missing value: 0\n"
     ]
    }
   ],
   "source": [
    "# Recheck missing value\n",
    "print(f\"Missing value:\", rating_df.isna().sum().sum())"
   ]
  },
  {
   "cell_type": "code",
   "execution_count": null,
   "metadata": {},
   "outputs": [
    {
     "name": "stdout",
     "output_type": "stream",
     "text": [
      "<class 'pandas.core.frame.DataFrame'>\n",
      "Index: 11323 entries, 0 to 11323\n",
      "Data columns (total 5 columns):\n",
      " #   Column     Non-Null Count  Dtype         \n",
      "---  ------     --------------  -----         \n",
      " 0   user_id    11323 non-null  int64         \n",
      " 1   recipe_id  11323 non-null  int64         \n",
      " 2   date       11323 non-null  datetime64[ns]\n",
      " 3   rating     11323 non-null  int64         \n",
      " 4   review     11323 non-null  object        \n",
      "dtypes: datetime64[ns](1), int64(3), object(1)\n",
      "memory usage: 530.8+ KB\n"
     ]
    }
   ],
   "source": [
    "rating_df.info()"
   ]
  },
  {
   "cell_type": "markdown",
   "metadata": {},
   "source": [
    "#### Outlier Handling"
   ]
  },
  {
   "cell_type": "markdown",
   "metadata": {},
   "source": [
    "Remove outlier dari data _minutes_ pada food_df:"
   ]
  },
  {
   "cell_type": "code",
   "execution_count": null,
   "metadata": {},
   "outputs": [
    {
     "name": "stdout",
     "output_type": "stream",
     "text": [
      "<class 'pandas.core.frame.DataFrame'>\n",
      "Index: 2239 entries, 0 to 2315\n",
      "Data columns (total 12 columns):\n",
      " #   Column          Non-Null Count  Dtype         \n",
      "---  ------          --------------  -----         \n",
      " 0   name            2239 non-null   object        \n",
      " 1   id              2239 non-null   int64         \n",
      " 2   minutes         2239 non-null   int64         \n",
      " 3   contributor_id  2239 non-null   int64         \n",
      " 4   submitted       2239 non-null   datetime64[ns]\n",
      " 5   tags            2239 non-null   object        \n",
      " 6   nutrition       2239 non-null   object        \n",
      " 7   n_steps         2239 non-null   int64         \n",
      " 8   steps           2239 non-null   object        \n",
      " 9   description     2239 non-null   object        \n",
      " 10  ingredients     2239 non-null   object        \n",
      " 11  n_ingredients   2239 non-null   int64         \n",
      "dtypes: datetime64[ns](1), int64(5), object(6)\n",
      "memory usage: 227.4+ KB\n"
     ]
    }
   ],
   "source": [
    "food_df = food_df[food_df['minutes'] <= 1440]\n",
    "food_df.info()"
   ]
  },
  {
   "cell_type": "markdown",
   "metadata": {},
   "source": [
    "* Menghapus data resep makanan yang membutuhkan waktu lebih dari 24 jam atau 1440 menit untuk memasaknya."
   ]
  },
  {
   "cell_type": "markdown",
   "metadata": {},
   "source": [
    "### Filter Data"
   ]
  },
  {
   "cell_type": "markdown",
   "metadata": {},
   "source": [
    "#### food_df"
   ]
  },
  {
   "cell_type": "markdown",
   "metadata": {},
   "source": [
    "Berdasarkan _goals_ yang telah ditetapkan, Olagizi ingin sistem memberikan rekomendasi makanan yang dapat dimasak kurang dari 2 jam. Oleh karena itu, data sebaiknya disaring terlebih dahulu."
   ]
  },
  {
   "cell_type": "code",
   "execution_count": null,
   "metadata": {},
   "outputs": [
    {
     "name": "stdout",
     "output_type": "stream",
     "text": [
      "<class 'pandas.core.frame.DataFrame'>\n",
      "Index: 2009 entries, 2 to 2315\n",
      "Data columns (total 12 columns):\n",
      " #   Column          Non-Null Count  Dtype         \n",
      "---  ------          --------------  -----         \n",
      " 0   name            2009 non-null   object        \n",
      " 1   id              2009 non-null   int64         \n",
      " 2   minutes         2009 non-null   int64         \n",
      " 3   contributor_id  2009 non-null   int64         \n",
      " 4   submitted       2009 non-null   datetime64[ns]\n",
      " 5   tags            2009 non-null   object        \n",
      " 6   nutrition       2009 non-null   object        \n",
      " 7   n_steps         2009 non-null   int64         \n",
      " 8   steps           2009 non-null   object        \n",
      " 9   description     2009 non-null   object        \n",
      " 10  ingredients     2009 non-null   object        \n",
      " 11  n_ingredients   2009 non-null   int64         \n",
      "dtypes: datetime64[ns](1), int64(5), object(6)\n",
      "memory usage: 204.0+ KB\n"
     ]
    }
   ],
   "source": [
    "food_df = food_df[food_df['minutes'] < 120]\n",
    "food_df.info()"
   ]
  },
  {
   "cell_type": "markdown",
   "metadata": {},
   "source": [
    "### Features Enginering"
   ]
  },
  {
   "cell_type": "markdown",
   "metadata": {},
   "source": [
    "#### Ekstrak data pada fitur _nutrition_ dalam `food_df`:"
   ]
  },
  {
   "cell_type": "markdown",
   "metadata": {},
   "source": [
    "1. Check data"
   ]
  },
  {
   "cell_type": "code",
   "execution_count": null,
   "metadata": {},
   "outputs": [
    {
     "name": "stdout",
     "output_type": "stream",
     "text": [
      "<class 'pandas.core.series.Series'>\n",
      "Index: 2009 entries, 2 to 2315\n",
      "Series name: nutrition\n",
      "Non-Null Count  Dtype \n",
      "--------------  ----- \n",
      "2009 non-null   object\n",
      "dtypes: object(1)\n",
      "memory usage: 31.4+ KB\n"
     ]
    },
    {
     "data": {
      "text/plain": [
       "2         [42.3, 0.0, 13.0, 2.0, 6.0, 0.0, 2.0]\n",
       "3     [241.8, 2.0, 57.0, 63.0, 21.0, 3.0, 16.0]\n",
       "4       [207.2, 3.0, 7.0, 44.0, 52.0, 3.0, 6.0]\n",
       "5     [170.9, 16.0, 11.0, 12.0, 20.0, 9.0, 3.0]\n",
       "6    [220.7, 8.0, 20.0, 12.0, 17.0, 17.0, 11.0]\n",
       "Name: nutrition, dtype: object"
      ]
     },
     "execution_count": 200,
     "metadata": {},
     "output_type": "execute_result"
    }
   ],
   "source": [
    "food_df['nutrition'].info()\n",
    "food_df['nutrition'].head()"
   ]
  },
  {
   "cell_type": "markdown",
   "metadata": {},
   "source": [
    "Diketahui data pada kolom _nutrition_ memiliki format `object` yang berisi sebuah `list`. Data tersebut mengandung informasi jumlah kalori, lemak, gula, sodium, protein, lemak jenuh, dan karbohidrat."
   ]
  },
  {
   "cell_type": "markdown",
   "metadata": {},
   "source": [
    "2. Mengubah tipe data menjadi list:"
   ]
  },
  {
   "cell_type": "code",
   "execution_count": null,
   "metadata": {},
   "outputs": [
    {
     "name": "stdout",
     "output_type": "stream",
     "text": [
      "<class 'pandas.core.series.Series'>\n",
      "Index: 2009 entries, 2 to 2315\n",
      "Series name: nutrition\n",
      "Non-Null Count  Dtype \n",
      "--------------  ----- \n",
      "2009 non-null   object\n",
      "dtypes: object(1)\n",
      "memory usage: 31.4+ KB\n"
     ]
    }
   ],
   "source": [
    "food_df['nutrition'] = food_df['nutrition'].apply(lambda x: eval(x))\n",
    "\n",
    "food_df['nutrition'].info()"
   ]
  },
  {
   "cell_type": "markdown",
   "metadata": {},
   "source": [
    "recheck tipe data:"
   ]
  },
  {
   "cell_type": "code",
   "execution_count": null,
   "metadata": {},
   "outputs": [
    {
     "data": {
      "text/plain": [
       "2       <class 'list'>\n",
       "3       <class 'list'>\n",
       "4       <class 'list'>\n",
       "5       <class 'list'>\n",
       "6       <class 'list'>\n",
       "             ...      \n",
       "2311    <class 'list'>\n",
       "2312    <class 'list'>\n",
       "2313    <class 'list'>\n",
       "2314    <class 'list'>\n",
       "2315    <class 'list'>\n",
       "Name: nutrition, Length: 2009, dtype: object"
      ]
     },
     "execution_count": 202,
     "metadata": {},
     "output_type": "execute_result"
    }
   ],
   "source": [
    "food_df['nutrition'].apply(type)"
   ]
  },
  {
   "cell_type": "markdown",
   "metadata": {},
   "source": [
    "3. Memisahkan data _nutrition_ menjadi kolom tersendiri:"
   ]
  },
  {
   "cell_type": "code",
   "execution_count": null,
   "metadata": {},
   "outputs": [
    {
     "data": {
      "text/html": [
       "<div>\n",
       "<style scoped>\n",
       "    .dataframe tbody tr th:only-of-type {\n",
       "        vertical-align: middle;\n",
       "    }\n",
       "\n",
       "    .dataframe tbody tr th {\n",
       "        vertical-align: top;\n",
       "    }\n",
       "\n",
       "    .dataframe thead th {\n",
       "        text-align: right;\n",
       "    }\n",
       "</style>\n",
       "<table border=\"1\" class=\"dataframe\">\n",
       "  <thead>\n",
       "    <tr style=\"text-align: right;\">\n",
       "      <th></th>\n",
       "      <th>name</th>\n",
       "      <th>id</th>\n",
       "      <th>minutes</th>\n",
       "      <th>contributor_id</th>\n",
       "      <th>submitted</th>\n",
       "      <th>tags</th>\n",
       "      <th>n_steps</th>\n",
       "      <th>steps</th>\n",
       "      <th>description</th>\n",
       "      <th>ingredients</th>\n",
       "      <th>n_ingredients</th>\n",
       "      <th>calories</th>\n",
       "      <th>fat</th>\n",
       "      <th>sugar</th>\n",
       "      <th>sodium</th>\n",
       "      <th>protein</th>\n",
       "      <th>saturated fat</th>\n",
       "      <th>carbohydrates</th>\n",
       "    </tr>\n",
       "  </thead>\n",
       "  <tbody>\n",
       "    <tr>\n",
       "      <th>2</th>\n",
       "      <td>simple spinach salad with lemon mint dressing</td>\n",
       "      <td>161266</td>\n",
       "      <td>10</td>\n",
       "      <td>11297</td>\n",
       "      <td>2006-03-23</td>\n",
       "      <td>['15-minutes-or-less', 'time-to-make', 'course...</td>\n",
       "      <td>9</td>\n",
       "      <td>['place spinach leaves on a platter', 'mix thr...</td>\n",
       "      <td>the title says it all  :)   makes a nice healt...</td>\n",
       "      <td>['baby spinach leaves', 'alfalfa sprout', 'che...</td>\n",
       "      <td>9</td>\n",
       "      <td>42.3</td>\n",
       "      <td>0.0</td>\n",
       "      <td>13.0</td>\n",
       "      <td>2.0</td>\n",
       "      <td>6.0</td>\n",
       "      <td>0.0</td>\n",
       "      <td>2.0</td>\n",
       "    </tr>\n",
       "    <tr>\n",
       "      <th>3</th>\n",
       "      <td>fat free sugar free soft serve</td>\n",
       "      <td>233665</td>\n",
       "      <td>2</td>\n",
       "      <td>512320</td>\n",
       "      <td>2007-06-09</td>\n",
       "      <td>['15-minutes-or-less', 'time-to-make', 'course...</td>\n",
       "      <td>1</td>\n",
       "      <td>['mix all the ingredients together with a whis...</td>\n",
       "      <td>for use in a soft serve maker</td>\n",
       "      <td>['fat-free sugar-free instant chocolate puddin...</td>\n",
       "      <td>4</td>\n",
       "      <td>241.8</td>\n",
       "      <td>2.0</td>\n",
       "      <td>57.0</td>\n",
       "      <td>63.0</td>\n",
       "      <td>21.0</td>\n",
       "      <td>3.0</td>\n",
       "      <td>16.0</td>\n",
       "    </tr>\n",
       "    <tr>\n",
       "      <th>4</th>\n",
       "      <td>u nega gei</td>\n",
       "      <td>306936</td>\n",
       "      <td>50</td>\n",
       "      <td>527886</td>\n",
       "      <td>2008-06-03</td>\n",
       "      <td>['60-minutes-or-less', 'time-to-make', 'course...</td>\n",
       "      <td>8</td>\n",
       "      <td>['place broth in a large saucepan', 'add green...</td>\n",
       "      <td>the iroquois confederacy included parts of wha...</td>\n",
       "      <td>['chicken broth', 'green onion', 'cornmeal', '...</td>\n",
       "      <td>10</td>\n",
       "      <td>207.2</td>\n",
       "      <td>3.0</td>\n",
       "      <td>7.0</td>\n",
       "      <td>44.0</td>\n",
       "      <td>52.0</td>\n",
       "      <td>3.0</td>\n",
       "      <td>6.0</td>\n",
       "    </tr>\n",
       "    <tr>\n",
       "      <th>5</th>\n",
       "      <td>bosnian vegetarian meatballs in yogurt sauce</td>\n",
       "      <td>134497</td>\n",
       "      <td>75</td>\n",
       "      <td>206722</td>\n",
       "      <td>2005-08-22</td>\n",
       "      <td>['time-to-make', 'course', 'main-ingredient', ...</td>\n",
       "      <td>11</td>\n",
       "      <td>['saute the onions and garlic in oil until the...</td>\n",
       "      <td>an untried moosewood recipe posted for the zaa...</td>\n",
       "      <td>['onions', 'garlic cloves', 'vegetable oil', '...</td>\n",
       "      <td>19</td>\n",
       "      <td>170.9</td>\n",
       "      <td>16.0</td>\n",
       "      <td>11.0</td>\n",
       "      <td>12.0</td>\n",
       "      <td>20.0</td>\n",
       "      <td>9.0</td>\n",
       "      <td>3.0</td>\n",
       "    </tr>\n",
       "    <tr>\n",
       "      <th>6</th>\n",
       "      <td>potato goat cheese gratin</td>\n",
       "      <td>334056</td>\n",
       "      <td>90</td>\n",
       "      <td>705876</td>\n",
       "      <td>2008-10-29</td>\n",
       "      <td>['time-to-make', 'course', 'main-ingredient', ...</td>\n",
       "      <td>18</td>\n",
       "      <td>['preheat oven to 400f in nonstick skillet coo...</td>\n",
       "      <td>usually not a big fan of goat cheese, but this...</td>\n",
       "      <td>['leeks', 'nonfat milk', 'all-purpose flour', ...</td>\n",
       "      <td>12</td>\n",
       "      <td>220.7</td>\n",
       "      <td>8.0</td>\n",
       "      <td>20.0</td>\n",
       "      <td>12.0</td>\n",
       "      <td>17.0</td>\n",
       "      <td>17.0</td>\n",
       "      <td>11.0</td>\n",
       "    </tr>\n",
       "  </tbody>\n",
       "</table>\n",
       "</div>"
      ],
      "text/plain": [
       "                                            name      id  minutes  \\\n",
       "2  simple spinach salad with lemon mint dressing  161266       10   \n",
       "3                 fat free sugar free soft serve  233665        2   \n",
       "4                                     u nega gei  306936       50   \n",
       "5   bosnian vegetarian meatballs in yogurt sauce  134497       75   \n",
       "6                      potato goat cheese gratin  334056       90   \n",
       "\n",
       "   contributor_id  submitted  \\\n",
       "2           11297 2006-03-23   \n",
       "3          512320 2007-06-09   \n",
       "4          527886 2008-06-03   \n",
       "5          206722 2005-08-22   \n",
       "6          705876 2008-10-29   \n",
       "\n",
       "                                                tags  n_steps  \\\n",
       "2  ['15-minutes-or-less', 'time-to-make', 'course...        9   \n",
       "3  ['15-minutes-or-less', 'time-to-make', 'course...        1   \n",
       "4  ['60-minutes-or-less', 'time-to-make', 'course...        8   \n",
       "5  ['time-to-make', 'course', 'main-ingredient', ...       11   \n",
       "6  ['time-to-make', 'course', 'main-ingredient', ...       18   \n",
       "\n",
       "                                               steps  \\\n",
       "2  ['place spinach leaves on a platter', 'mix thr...   \n",
       "3  ['mix all the ingredients together with a whis...   \n",
       "4  ['place broth in a large saucepan', 'add green...   \n",
       "5  ['saute the onions and garlic in oil until the...   \n",
       "6  ['preheat oven to 400f in nonstick skillet coo...   \n",
       "\n",
       "                                         description  \\\n",
       "2  the title says it all  :)   makes a nice healt...   \n",
       "3                      for use in a soft serve maker   \n",
       "4  the iroquois confederacy included parts of wha...   \n",
       "5  an untried moosewood recipe posted for the zaa...   \n",
       "6  usually not a big fan of goat cheese, but this...   \n",
       "\n",
       "                                         ingredients  n_ingredients  calories  \\\n",
       "2  ['baby spinach leaves', 'alfalfa sprout', 'che...              9      42.3   \n",
       "3  ['fat-free sugar-free instant chocolate puddin...              4     241.8   \n",
       "4  ['chicken broth', 'green onion', 'cornmeal', '...             10     207.2   \n",
       "5  ['onions', 'garlic cloves', 'vegetable oil', '...             19     170.9   \n",
       "6  ['leeks', 'nonfat milk', 'all-purpose flour', ...             12     220.7   \n",
       "\n",
       "    fat  sugar  sodium  protein  saturated fat  carbohydrates  \n",
       "2   0.0   13.0     2.0      6.0            0.0            2.0  \n",
       "3   2.0   57.0    63.0     21.0            3.0           16.0  \n",
       "4   3.0    7.0    44.0     52.0            3.0            6.0  \n",
       "5  16.0   11.0    12.0     20.0            9.0            3.0  \n",
       "6   8.0   20.0    12.0     17.0           17.0           11.0  "
      ]
     },
     "execution_count": 203,
     "metadata": {},
     "output_type": "execute_result"
    }
   ],
   "source": [
    "nutrition_columns = [\"calories\", \"fat\", \"sugar\", \"sodium\", \"protein\", \"saturated fat\", \"carbohydrates\"]\n",
    "\n",
    "food_df[nutrition_columns] = pd.DataFrame(food_df['nutrition'].tolist(), index=food_df.index, dtype=\"float64\")\n",
    "food_df.drop(columns=['nutrition'], inplace=True)\n",
    "\n",
    "food_df.head()"
   ]
  },
  {
   "cell_type": "code",
   "execution_count": null,
   "metadata": {},
   "outputs": [
    {
     "name": "stdout",
     "output_type": "stream",
     "text": [
      "<class 'pandas.core.frame.DataFrame'>\n",
      "Index: 2009 entries, 2 to 2315\n",
      "Data columns (total 18 columns):\n",
      " #   Column          Non-Null Count  Dtype         \n",
      "---  ------          --------------  -----         \n",
      " 0   name            2009 non-null   object        \n",
      " 1   id              2009 non-null   int64         \n",
      " 2   minutes         2009 non-null   int64         \n",
      " 3   contributor_id  2009 non-null   int64         \n",
      " 4   submitted       2009 non-null   datetime64[ns]\n",
      " 5   tags            2009 non-null   object        \n",
      " 6   n_steps         2009 non-null   int64         \n",
      " 7   steps           2009 non-null   object        \n",
      " 8   description     2009 non-null   object        \n",
      " 9   ingredients     2009 non-null   object        \n",
      " 10  n_ingredients   2009 non-null   int64         \n",
      " 11  calories        2009 non-null   float64       \n",
      " 12  fat             2009 non-null   float64       \n",
      " 13  sugar           2009 non-null   float64       \n",
      " 14  sodium          2009 non-null   float64       \n",
      " 15  protein         2009 non-null   float64       \n",
      " 16  saturated fat   2009 non-null   float64       \n",
      " 17  carbohydrates   2009 non-null   float64       \n",
      "dtypes: datetime64[ns](1), float64(7), int64(5), object(5)\n",
      "memory usage: 298.2+ KB\n"
     ]
    }
   ],
   "source": [
    "food_df.info()"
   ]
  },
  {
   "cell_type": "markdown",
   "metadata": {},
   "source": [
    "#### Ambil bahan baku utama pada kolom _ingredients_ dalam `food_df`:"
   ]
  },
  {
   "cell_type": "markdown",
   "metadata": {},
   "source": [
    "Konversi data string menjadi list:"
   ]
  },
  {
   "cell_type": "code",
   "execution_count": null,
   "metadata": {},
   "outputs": [],
   "source": [
    "food_df['ingredients'] = food_df['ingredients'].apply(\n",
    "    lambda x: ast.literal_eval(x) if isinstance(x, str) else x\n",
    ")"
   ]
  },
  {
   "cell_type": "code",
   "execution_count": null,
   "metadata": {},
   "outputs": [
    {
     "data": {
      "text/plain": [
       "2       [baby spinach leaves, alfalfa sprout, cherry t...\n",
       "3       [fat-free sugar-free instant chocolate pudding...\n",
       "4       [chicken broth, green onion, cornmeal, haddock...\n",
       "5       [onions, garlic cloves, vegetable oil, carrots...\n",
       "6       [leeks, nonfat milk, all-purpose flour, salt, ...\n",
       "                              ...                        \n",
       "2311    [white sugar, light karo syrup, water, cinnamo...\n",
       "2312    [butter, eggs, milk, sugar, baking powder, sal...\n",
       "2313    [fish steaks, tomatoes, malt vinegar, soft bre...\n",
       "2314    [eggs, sugar, vegetable oil, cinnamon, baking ...\n",
       "2315    [dry breadcrumbs, fresh cilantro, parmesan che...\n",
       "Name: ingredients, Length: 2009, dtype: object"
      ]
     },
     "execution_count": 206,
     "metadata": {},
     "output_type": "execute_result"
    }
   ],
   "source": [
    "food_df['ingredients']"
   ]
  },
  {
   "cell_type": "markdown",
   "metadata": {},
   "source": [
    "Mengambil elemen ke-1 - 3 dan ubah menjadi string:"
   ]
  },
  {
   "cell_type": "code",
   "execution_count": null,
   "metadata": {},
   "outputs": [],
   "source": [
    "food_df['ingredients'] = food_df['ingredients'].apply(\n",
    "    lambda x: str(x[0]) if isinstance(x, list) and len(x) > 0 else None\n",
    ")"
   ]
  },
  {
   "cell_type": "code",
   "execution_count": null,
   "metadata": {},
   "outputs": [
    {
     "data": {
      "text/plain": [
       "2       None\n",
       "3       None\n",
       "4       None\n",
       "5       None\n",
       "6       None\n",
       "        ... \n",
       "2311    None\n",
       "2312    None\n",
       "2313    None\n",
       "2314    None\n",
       "2315    None\n",
       "Name: ingredients, Length: 2009, dtype: object"
      ]
     },
     "execution_count": 220,
     "metadata": {},
     "output_type": "execute_result"
    }
   ],
   "source": [
    "food_df['ingredients']"
   ]
  },
  {
   "cell_type": "markdown",
   "metadata": {},
   "source": [
    "### Content-Based Filtering"
   ]
  },
  {
   "cell_type": "markdown",
   "metadata": {},
   "source": [
    "#### Features Selection"
   ]
  },
  {
   "cell_type": "markdown",
   "metadata": {},
   "source": [
    "Untuk sistem rekomendasi content-based filtering, data yang digunakan cukup data *recipe_id, name, minutes,* dan *n_steps* dari `recipes_sampel_df`."
   ]
  },
  {
   "cell_type": "code",
   "execution_count": null,
   "metadata": {},
   "outputs": [
    {
     "data": {
      "text/html": [
       "<div>\n",
       "<style scoped>\n",
       "    .dataframe tbody tr th:only-of-type {\n",
       "        vertical-align: middle;\n",
       "    }\n",
       "\n",
       "    .dataframe tbody tr th {\n",
       "        vertical-align: top;\n",
       "    }\n",
       "\n",
       "    .dataframe thead th {\n",
       "        text-align: right;\n",
       "    }\n",
       "</style>\n",
       "<table border=\"1\" class=\"dataframe\">\n",
       "  <thead>\n",
       "    <tr style=\"text-align: right;\">\n",
       "      <th></th>\n",
       "      <th>id</th>\n",
       "      <th>name</th>\n",
       "      <th>ingredients</th>\n",
       "      <th>calories</th>\n",
       "      <th>minutes</th>\n",
       "      <th>steps</th>\n",
       "    </tr>\n",
       "  </thead>\n",
       "  <tbody>\n",
       "    <tr>\n",
       "      <th>2</th>\n",
       "      <td>161266</td>\n",
       "      <td>simple spinach salad with lemon mint dressing</td>\n",
       "      <td>None</td>\n",
       "      <td>42.3</td>\n",
       "      <td>10</td>\n",
       "      <td>['place spinach leaves on a platter', 'mix thr...</td>\n",
       "    </tr>\n",
       "    <tr>\n",
       "      <th>3</th>\n",
       "      <td>233665</td>\n",
       "      <td>fat free sugar free soft serve</td>\n",
       "      <td>None</td>\n",
       "      <td>241.8</td>\n",
       "      <td>2</td>\n",
       "      <td>['mix all the ingredients together with a whis...</td>\n",
       "    </tr>\n",
       "    <tr>\n",
       "      <th>4</th>\n",
       "      <td>306936</td>\n",
       "      <td>u nega gei</td>\n",
       "      <td>None</td>\n",
       "      <td>207.2</td>\n",
       "      <td>50</td>\n",
       "      <td>['place broth in a large saucepan', 'add green...</td>\n",
       "    </tr>\n",
       "    <tr>\n",
       "      <th>5</th>\n",
       "      <td>134497</td>\n",
       "      <td>bosnian vegetarian meatballs in yogurt sauce</td>\n",
       "      <td>None</td>\n",
       "      <td>170.9</td>\n",
       "      <td>75</td>\n",
       "      <td>['saute the onions and garlic in oil until the...</td>\n",
       "    </tr>\n",
       "    <tr>\n",
       "      <th>6</th>\n",
       "      <td>334056</td>\n",
       "      <td>potato goat cheese gratin</td>\n",
       "      <td>None</td>\n",
       "      <td>220.7</td>\n",
       "      <td>90</td>\n",
       "      <td>['preheat oven to 400f in nonstick skillet coo...</td>\n",
       "    </tr>\n",
       "    <tr>\n",
       "      <th>...</th>\n",
       "      <td>...</td>\n",
       "      <td>...</td>\n",
       "      <td>...</td>\n",
       "      <td>...</td>\n",
       "      <td>...</td>\n",
       "      <td>...</td>\n",
       "    </tr>\n",
       "    <tr>\n",
       "      <th>2311</th>\n",
       "      <td>199856</td>\n",
       "      <td>cinnamon hard candy</td>\n",
       "      <td>None</td>\n",
       "      <td>5217.1</td>\n",
       "      <td>25</td>\n",
       "      <td>['boil sugar , syrup , and water to a hard cra...</td>\n",
       "    </tr>\n",
       "    <tr>\n",
       "      <th>2312</th>\n",
       "      <td>529697</td>\n",
       "      <td>best ever cornbread</td>\n",
       "      <td>None</td>\n",
       "      <td>618.8</td>\n",
       "      <td>85</td>\n",
       "      <td>['dry bowl: whisk 2 cups cornmeal , 3 cups all...</td>\n",
       "    </tr>\n",
       "    <tr>\n",
       "      <th>2313</th>\n",
       "      <td>10778</td>\n",
       "      <td>savoury fish steaks</td>\n",
       "      <td>None</td>\n",
       "      <td>110.7</td>\n",
       "      <td>25</td>\n",
       "      <td>['place in a baking pan', 'wash and pat fish s...</td>\n",
       "    </tr>\n",
       "    <tr>\n",
       "      <th>2314</th>\n",
       "      <td>128239</td>\n",
       "      <td>dolly madison muffins</td>\n",
       "      <td>None</td>\n",
       "      <td>166.8</td>\n",
       "      <td>30</td>\n",
       "      <td>['mix all ingredients together in very large b...</td>\n",
       "    </tr>\n",
       "    <tr>\n",
       "      <th>2315</th>\n",
       "      <td>163400</td>\n",
       "      <td>cilantro turkey burgers with chipotle ketchup</td>\n",
       "      <td>None</td>\n",
       "      <td>369.4</td>\n",
       "      <td>30</td>\n",
       "      <td>['in a mixing bowl , combine the first 6 ingre...</td>\n",
       "    </tr>\n",
       "  </tbody>\n",
       "</table>\n",
       "<p>2009 rows × 6 columns</p>\n",
       "</div>"
      ],
      "text/plain": [
       "          id                                           name ingredients  \\\n",
       "2     161266  simple spinach salad with lemon mint dressing        None   \n",
       "3     233665                 fat free sugar free soft serve        None   \n",
       "4     306936                                     u nega gei        None   \n",
       "5     134497   bosnian vegetarian meatballs in yogurt sauce        None   \n",
       "6     334056                      potato goat cheese gratin        None   \n",
       "...      ...                                            ...         ...   \n",
       "2311  199856                            cinnamon hard candy        None   \n",
       "2312  529697                            best ever cornbread        None   \n",
       "2313   10778                            savoury fish steaks        None   \n",
       "2314  128239                          dolly madison muffins        None   \n",
       "2315  163400  cilantro turkey burgers with chipotle ketchup        None   \n",
       "\n",
       "      calories  minutes                                              steps  \n",
       "2         42.3       10  ['place spinach leaves on a platter', 'mix thr...  \n",
       "3        241.8        2  ['mix all the ingredients together with a whis...  \n",
       "4        207.2       50  ['place broth in a large saucepan', 'add green...  \n",
       "5        170.9       75  ['saute the onions and garlic in oil until the...  \n",
       "6        220.7       90  ['preheat oven to 400f in nonstick skillet coo...  \n",
       "...        ...      ...                                                ...  \n",
       "2311    5217.1       25  ['boil sugar , syrup , and water to a hard cra...  \n",
       "2312     618.8       85  ['dry bowl: whisk 2 cups cornmeal , 3 cups all...  \n",
       "2313     110.7       25  ['place in a baking pan', 'wash and pat fish s...  \n",
       "2314     166.8       30  ['mix all ingredients together in very large b...  \n",
       "2315     369.4       30  ['in a mixing bowl , combine the first 6 ingre...  \n",
       "\n",
       "[2009 rows x 6 columns]"
      ]
     },
     "execution_count": 223,
     "metadata": {},
     "output_type": "execute_result"
    }
   ],
   "source": [
    "content_based_columns = [\"id\", \n",
    "                         \"name\",\n",
    "                         \"ingredients\",\n",
    "                         \"calories\",\n",
    "                         \"minutes\",\n",
    "                         \"steps\"]\n",
    "\n",
    "content_based_df = food_df[content_based_columns]\n",
    "content_based_df"
   ]
  },
  {
   "cell_type": "code",
   "execution_count": 211,
   "metadata": {},
   "outputs": [
    {
     "name": "stdout",
     "output_type": "stream",
     "text": [
      "<class 'pandas.core.frame.DataFrame'>\n",
      "Index: 2009 entries, 2 to 2315\n",
      "Data columns (total 6 columns):\n",
      " #   Column       Non-Null Count  Dtype  \n",
      "---  ------       --------------  -----  \n",
      " 0   id           2009 non-null   int64  \n",
      " 1   name         2009 non-null   object \n",
      " 2   ingredients  2009 non-null   object \n",
      " 3   calories     2009 non-null   float64\n",
      " 4   minutes      2009 non-null   int64  \n",
      " 5   steps        2009 non-null   object \n",
      "dtypes: float64(1), int64(2), object(3)\n",
      "memory usage: 109.9+ KB\n"
     ]
    }
   ],
   "source": [
    "content_based_df.info()"
   ]
  },
  {
   "cell_type": "markdown",
   "metadata": {},
   "source": [
    "#### Feature Extraction"
   ]
  },
  {
   "cell_type": "code",
   "execution_count": 214,
   "metadata": {},
   "outputs": [
    {
     "data": {
      "text/plain": [
       "2       [baby spinach leaves, alfalfa sprout, cherry t...\n",
       "3       [fat-free sugar-free instant chocolate pudding...\n",
       "4       [chicken broth, green onion, cornmeal, haddock...\n",
       "5       [onions, garlic cloves, vegetable oil, carrots...\n",
       "6       [leeks, nonfat milk, all-purpose flour, salt, ...\n",
       "                              ...                        \n",
       "2311    [white sugar, light karo syrup, water, cinnamo...\n",
       "2312    [butter, eggs, milk, sugar, baking powder, sal...\n",
       "2313    [fish steaks, tomatoes, malt vinegar, soft bre...\n",
       "2314    [eggs, sugar, vegetable oil, cinnamon, baking ...\n",
       "2315    [dry breadcrumbs, fresh cilantro, parmesan che...\n",
       "Name: ingredients, Length: 2009, dtype: object"
      ]
     },
     "execution_count": 214,
     "metadata": {},
     "output_type": "execute_result"
    }
   ],
   "source": [
    "content_based_df['ingredients']"
   ]
  },
  {
   "cell_type": "markdown",
   "metadata": {},
   "source": [
    "Mengubah data teks menjadi vektor numerik:"
   ]
  },
  {
   "cell_type": "code",
   "execution_count": 215,
   "metadata": {},
   "outputs": [
    {
     "ename": "AttributeError",
     "evalue": "'list' object has no attribute 'lower'",
     "output_type": "error",
     "traceback": [
      "\u001b[1;31m---------------------------------------------------------------------------\u001b[0m",
      "\u001b[1;31mAttributeError\u001b[0m                            Traceback (most recent call last)",
      "Cell \u001b[1;32mIn[215], line 3\u001b[0m\n\u001b[0;32m      1\u001b[0m tfidf_vectorizer \u001b[38;5;241m=\u001b[39m TfidfVectorizer(stop_words\u001b[38;5;241m=\u001b[39m\u001b[38;5;124m'\u001b[39m\u001b[38;5;124menglish\u001b[39m\u001b[38;5;124m'\u001b[39m, ngram_range\u001b[38;5;241m=\u001b[39m(\u001b[38;5;241m1\u001b[39m, \u001b[38;5;241m4\u001b[39m), token_pattern\u001b[38;5;241m=\u001b[39m\u001b[38;5;124mr\u001b[39m\u001b[38;5;124m'\u001b[39m\u001b[38;5;124m\\\u001b[39m\u001b[38;5;124mb[a-zA-Z]+\u001b[39m\u001b[38;5;124m\\\u001b[39m\u001b[38;5;124mb\u001b[39m\u001b[38;5;124m'\u001b[39m)\n\u001b[1;32m----> 3\u001b[0m \u001b[43mtfidf_vectorizer\u001b[49m\u001b[38;5;241;43m.\u001b[39;49m\u001b[43mfit\u001b[49m\u001b[43m(\u001b[49m\u001b[43mcontent_based_df\u001b[49m\u001b[43m[\u001b[49m\u001b[38;5;124;43m'\u001b[39;49m\u001b[38;5;124;43mingredients\u001b[39;49m\u001b[38;5;124;43m'\u001b[39;49m\u001b[43m]\u001b[49m\u001b[43m)\u001b[49m\n\u001b[0;32m      5\u001b[0m teks \u001b[38;5;241m=\u001b[39m tfidf_vectorizer\u001b[38;5;241m.\u001b[39mget_feature_names_out()\n",
      "File \u001b[1;32mc:\\ProgramData\\anaconda3\\envs\\Recommendation-System\\lib\\site-packages\\sklearn\\base.py:1473\u001b[0m, in \u001b[0;36m_fit_context.<locals>.decorator.<locals>.wrapper\u001b[1;34m(estimator, *args, **kwargs)\u001b[0m\n\u001b[0;32m   1466\u001b[0m     estimator\u001b[38;5;241m.\u001b[39m_validate_params()\n\u001b[0;32m   1468\u001b[0m \u001b[38;5;28;01mwith\u001b[39;00m config_context(\n\u001b[0;32m   1469\u001b[0m     skip_parameter_validation\u001b[38;5;241m=\u001b[39m(\n\u001b[0;32m   1470\u001b[0m         prefer_skip_nested_validation \u001b[38;5;129;01mor\u001b[39;00m global_skip_validation\n\u001b[0;32m   1471\u001b[0m     )\n\u001b[0;32m   1472\u001b[0m ):\n\u001b[1;32m-> 1473\u001b[0m     \u001b[38;5;28;01mreturn\u001b[39;00m fit_method(estimator, \u001b[38;5;241m*\u001b[39margs, \u001b[38;5;241m*\u001b[39m\u001b[38;5;241m*\u001b[39mkwargs)\n",
      "File \u001b[1;32mc:\\ProgramData\\anaconda3\\envs\\Recommendation-System\\lib\\site-packages\\sklearn\\feature_extraction\\text.py:2061\u001b[0m, in \u001b[0;36mTfidfVectorizer.fit\u001b[1;34m(self, raw_documents, y)\u001b[0m\n\u001b[0;32m   2054\u001b[0m \u001b[38;5;28mself\u001b[39m\u001b[38;5;241m.\u001b[39m_warn_for_unused_params()\n\u001b[0;32m   2055\u001b[0m \u001b[38;5;28mself\u001b[39m\u001b[38;5;241m.\u001b[39m_tfidf \u001b[38;5;241m=\u001b[39m TfidfTransformer(\n\u001b[0;32m   2056\u001b[0m     norm\u001b[38;5;241m=\u001b[39m\u001b[38;5;28mself\u001b[39m\u001b[38;5;241m.\u001b[39mnorm,\n\u001b[0;32m   2057\u001b[0m     use_idf\u001b[38;5;241m=\u001b[39m\u001b[38;5;28mself\u001b[39m\u001b[38;5;241m.\u001b[39muse_idf,\n\u001b[0;32m   2058\u001b[0m     smooth_idf\u001b[38;5;241m=\u001b[39m\u001b[38;5;28mself\u001b[39m\u001b[38;5;241m.\u001b[39msmooth_idf,\n\u001b[0;32m   2059\u001b[0m     sublinear_tf\u001b[38;5;241m=\u001b[39m\u001b[38;5;28mself\u001b[39m\u001b[38;5;241m.\u001b[39msublinear_tf,\n\u001b[0;32m   2060\u001b[0m )\n\u001b[1;32m-> 2061\u001b[0m X \u001b[38;5;241m=\u001b[39m \u001b[38;5;28;43msuper\u001b[39;49m\u001b[43m(\u001b[49m\u001b[43m)\u001b[49m\u001b[38;5;241;43m.\u001b[39;49m\u001b[43mfit_transform\u001b[49m\u001b[43m(\u001b[49m\u001b[43mraw_documents\u001b[49m\u001b[43m)\u001b[49m\n\u001b[0;32m   2062\u001b[0m \u001b[38;5;28mself\u001b[39m\u001b[38;5;241m.\u001b[39m_tfidf\u001b[38;5;241m.\u001b[39mfit(X)\n\u001b[0;32m   2063\u001b[0m \u001b[38;5;28;01mreturn\u001b[39;00m \u001b[38;5;28mself\u001b[39m\n",
      "File \u001b[1;32mc:\\ProgramData\\anaconda3\\envs\\Recommendation-System\\lib\\site-packages\\sklearn\\base.py:1473\u001b[0m, in \u001b[0;36m_fit_context.<locals>.decorator.<locals>.wrapper\u001b[1;34m(estimator, *args, **kwargs)\u001b[0m\n\u001b[0;32m   1466\u001b[0m     estimator\u001b[38;5;241m.\u001b[39m_validate_params()\n\u001b[0;32m   1468\u001b[0m \u001b[38;5;28;01mwith\u001b[39;00m config_context(\n\u001b[0;32m   1469\u001b[0m     skip_parameter_validation\u001b[38;5;241m=\u001b[39m(\n\u001b[0;32m   1470\u001b[0m         prefer_skip_nested_validation \u001b[38;5;129;01mor\u001b[39;00m global_skip_validation\n\u001b[0;32m   1471\u001b[0m     )\n\u001b[0;32m   1472\u001b[0m ):\n\u001b[1;32m-> 1473\u001b[0m     \u001b[38;5;28;01mreturn\u001b[39;00m fit_method(estimator, \u001b[38;5;241m*\u001b[39margs, \u001b[38;5;241m*\u001b[39m\u001b[38;5;241m*\u001b[39mkwargs)\n",
      "File \u001b[1;32mc:\\ProgramData\\anaconda3\\envs\\Recommendation-System\\lib\\site-packages\\sklearn\\feature_extraction\\text.py:1372\u001b[0m, in \u001b[0;36mCountVectorizer.fit_transform\u001b[1;34m(self, raw_documents, y)\u001b[0m\n\u001b[0;32m   1364\u001b[0m             warnings\u001b[38;5;241m.\u001b[39mwarn(\n\u001b[0;32m   1365\u001b[0m                 \u001b[38;5;124m\"\u001b[39m\u001b[38;5;124mUpper case characters found in\u001b[39m\u001b[38;5;124m\"\u001b[39m\n\u001b[0;32m   1366\u001b[0m                 \u001b[38;5;124m\"\u001b[39m\u001b[38;5;124m vocabulary while \u001b[39m\u001b[38;5;124m'\u001b[39m\u001b[38;5;124mlowercase\u001b[39m\u001b[38;5;124m'\u001b[39m\u001b[38;5;124m\"\u001b[39m\n\u001b[0;32m   1367\u001b[0m                 \u001b[38;5;124m\"\u001b[39m\u001b[38;5;124m is True. These entries will not\u001b[39m\u001b[38;5;124m\"\u001b[39m\n\u001b[0;32m   1368\u001b[0m                 \u001b[38;5;124m\"\u001b[39m\u001b[38;5;124m be matched with any documents\u001b[39m\u001b[38;5;124m\"\u001b[39m\n\u001b[0;32m   1369\u001b[0m             )\n\u001b[0;32m   1370\u001b[0m             \u001b[38;5;28;01mbreak\u001b[39;00m\n\u001b[1;32m-> 1372\u001b[0m vocabulary, X \u001b[38;5;241m=\u001b[39m \u001b[38;5;28;43mself\u001b[39;49m\u001b[38;5;241;43m.\u001b[39;49m\u001b[43m_count_vocab\u001b[49m\u001b[43m(\u001b[49m\u001b[43mraw_documents\u001b[49m\u001b[43m,\u001b[49m\u001b[43m \u001b[49m\u001b[38;5;28;43mself\u001b[39;49m\u001b[38;5;241;43m.\u001b[39;49m\u001b[43mfixed_vocabulary_\u001b[49m\u001b[43m)\u001b[49m\n\u001b[0;32m   1374\u001b[0m \u001b[38;5;28;01mif\u001b[39;00m \u001b[38;5;28mself\u001b[39m\u001b[38;5;241m.\u001b[39mbinary:\n\u001b[0;32m   1375\u001b[0m     X\u001b[38;5;241m.\u001b[39mdata\u001b[38;5;241m.\u001b[39mfill(\u001b[38;5;241m1\u001b[39m)\n",
      "File \u001b[1;32mc:\\ProgramData\\anaconda3\\envs\\Recommendation-System\\lib\\site-packages\\sklearn\\feature_extraction\\text.py:1259\u001b[0m, in \u001b[0;36mCountVectorizer._count_vocab\u001b[1;34m(self, raw_documents, fixed_vocab)\u001b[0m\n\u001b[0;32m   1257\u001b[0m \u001b[38;5;28;01mfor\u001b[39;00m doc \u001b[38;5;129;01min\u001b[39;00m raw_documents:\n\u001b[0;32m   1258\u001b[0m     feature_counter \u001b[38;5;241m=\u001b[39m {}\n\u001b[1;32m-> 1259\u001b[0m     \u001b[38;5;28;01mfor\u001b[39;00m feature \u001b[38;5;129;01min\u001b[39;00m \u001b[43manalyze\u001b[49m\u001b[43m(\u001b[49m\u001b[43mdoc\u001b[49m\u001b[43m)\u001b[49m:\n\u001b[0;32m   1260\u001b[0m         \u001b[38;5;28;01mtry\u001b[39;00m:\n\u001b[0;32m   1261\u001b[0m             feature_idx \u001b[38;5;241m=\u001b[39m vocabulary[feature]\n",
      "File \u001b[1;32mc:\\ProgramData\\anaconda3\\envs\\Recommendation-System\\lib\\site-packages\\sklearn\\feature_extraction\\text.py:108\u001b[0m, in \u001b[0;36m_analyze\u001b[1;34m(doc, analyzer, tokenizer, ngrams, preprocessor, decoder, stop_words)\u001b[0m\n\u001b[0;32m    106\u001b[0m \u001b[38;5;28;01melse\u001b[39;00m:\n\u001b[0;32m    107\u001b[0m     \u001b[38;5;28;01mif\u001b[39;00m preprocessor \u001b[38;5;129;01mis\u001b[39;00m \u001b[38;5;129;01mnot\u001b[39;00m \u001b[38;5;28;01mNone\u001b[39;00m:\n\u001b[1;32m--> 108\u001b[0m         doc \u001b[38;5;241m=\u001b[39m \u001b[43mpreprocessor\u001b[49m\u001b[43m(\u001b[49m\u001b[43mdoc\u001b[49m\u001b[43m)\u001b[49m\n\u001b[0;32m    109\u001b[0m     \u001b[38;5;28;01mif\u001b[39;00m tokenizer \u001b[38;5;129;01mis\u001b[39;00m \u001b[38;5;129;01mnot\u001b[39;00m \u001b[38;5;28;01mNone\u001b[39;00m:\n\u001b[0;32m    110\u001b[0m         doc \u001b[38;5;241m=\u001b[39m tokenizer(doc)\n",
      "File \u001b[1;32mc:\\ProgramData\\anaconda3\\envs\\Recommendation-System\\lib\\site-packages\\sklearn\\feature_extraction\\text.py:66\u001b[0m, in \u001b[0;36m_preprocess\u001b[1;34m(doc, accent_function, lower)\u001b[0m\n\u001b[0;32m     47\u001b[0m \u001b[38;5;250m\u001b[39m\u001b[38;5;124;03m\"\"\"Chain together an optional series of text preprocessing steps to\u001b[39;00m\n\u001b[0;32m     48\u001b[0m \u001b[38;5;124;03mapply to a document.\u001b[39;00m\n\u001b[0;32m     49\u001b[0m \n\u001b[1;32m   (...)\u001b[0m\n\u001b[0;32m     63\u001b[0m \u001b[38;5;124;03m    preprocessed string\u001b[39;00m\n\u001b[0;32m     64\u001b[0m \u001b[38;5;124;03m\"\"\"\u001b[39;00m\n\u001b[0;32m     65\u001b[0m \u001b[38;5;28;01mif\u001b[39;00m lower:\n\u001b[1;32m---> 66\u001b[0m     doc \u001b[38;5;241m=\u001b[39m \u001b[43mdoc\u001b[49m\u001b[38;5;241;43m.\u001b[39;49m\u001b[43mlower\u001b[49m()\n\u001b[0;32m     67\u001b[0m \u001b[38;5;28;01mif\u001b[39;00m accent_function \u001b[38;5;129;01mis\u001b[39;00m \u001b[38;5;129;01mnot\u001b[39;00m \u001b[38;5;28;01mNone\u001b[39;00m:\n\u001b[0;32m     68\u001b[0m     doc \u001b[38;5;241m=\u001b[39m accent_function(doc)\n",
      "\u001b[1;31mAttributeError\u001b[0m: 'list' object has no attribute 'lower'"
     ]
    }
   ],
   "source": [
    "tfidf_vectorizer = TfidfVectorizer(stop_words='english', ngram_range=(1, 4), token_pattern=r'\\b[a-zA-Z]+\\b')\n",
    "\n",
    "tfidf_vectorizer.fit(content_based_df['ingredients'])\n",
    "\n",
    "teks = tfidf_vectorizer.get_feature_names_out()"
   ]
  },
  {
   "cell_type": "code",
   "execution_count": 84,
   "metadata": {},
   "outputs": [
    {
     "data": {
      "text/plain": [
       "array(['active', 'active dry', 'active dry yeast', ..., 'zinfandel',\n",
       "       'zinfandel wine', 'zucchini'], dtype=object)"
      ]
     },
     "execution_count": 84,
     "metadata": {},
     "output_type": "execute_result"
    }
   ],
   "source": [
    "teks"
   ]
  },
  {
   "cell_type": "code",
   "execution_count": 85,
   "metadata": {},
   "outputs": [
    {
     "data": {
      "text/plain": [
       "(2009, 2045)"
      ]
     },
     "execution_count": 85,
     "metadata": {},
     "output_type": "execute_result"
    }
   ],
   "source": [
    "tfidf_matrix = tfidf_vectorizer.fit_transform(content_based_df['ingredients'])\n",
    "\n",
    "tfidf_matrix.shape"
   ]
  },
  {
   "cell_type": "code",
   "execution_count": 86,
   "metadata": {},
   "outputs": [
    {
     "data": {
      "text/plain": [
       "matrix([[0., 0., 0., ..., 0., 0., 0.],\n",
       "        [0., 0., 0., ..., 0., 0., 0.],\n",
       "        [0., 0., 0., ..., 0., 0., 0.],\n",
       "        ...,\n",
       "        [0., 0., 0., ..., 0., 0., 0.],\n",
       "        [0., 0., 0., ..., 0., 0., 0.],\n",
       "        [0., 0., 0., ..., 0., 0., 0.]])"
      ]
     },
     "execution_count": 86,
     "metadata": {},
     "output_type": "execute_result"
    }
   ],
   "source": [
    "tfidf_matrix.todense()"
   ]
  },
  {
   "cell_type": "code",
   "execution_count": 87,
   "metadata": {},
   "outputs": [
    {
     "data": {
      "text/html": [
       "<div>\n",
       "<style scoped>\n",
       "    .dataframe tbody tr th:only-of-type {\n",
       "        vertical-align: middle;\n",
       "    }\n",
       "\n",
       "    .dataframe tbody tr th {\n",
       "        vertical-align: top;\n",
       "    }\n",
       "\n",
       "    .dataframe thead th {\n",
       "        text-align: right;\n",
       "    }\n",
       "</style>\n",
       "<table border=\"1\" class=\"dataframe\">\n",
       "  <thead>\n",
       "    <tr style=\"text-align: right;\">\n",
       "      <th></th>\n",
       "      <th>raspberry juice</th>\n",
       "      <th>molasses</th>\n",
       "      <th>oat cereal</th>\n",
       "      <th>chops</th>\n",
       "      <th>chocolate baking</th>\n",
       "      <th>lamb chops</th>\n",
       "      <th>heads</th>\n",
       "      <th>x rated</th>\n",
       "      <th>halves</th>\n",
       "      <th>brown rice syrup</th>\n",
       "      <th>tofu</th>\n",
       "      <th>unbleached purpose flour</th>\n",
       "      <th>yellow cake mix</th>\n",
       "      <th>grapes</th>\n",
       "      <th>instant</th>\n",
       "      <th>baby carrots</th>\n",
       "      <th>tri</th>\n",
       "      <th>white chocolate candy melts</th>\n",
       "      <th>flake</th>\n",
       "      <th>sugar free instant chocolate</th>\n",
       "    </tr>\n",
       "    <tr>\n",
       "      <th>ingredients</th>\n",
       "      <th></th>\n",
       "      <th></th>\n",
       "      <th></th>\n",
       "      <th></th>\n",
       "      <th></th>\n",
       "      <th></th>\n",
       "      <th></th>\n",
       "      <th></th>\n",
       "      <th></th>\n",
       "      <th></th>\n",
       "      <th></th>\n",
       "      <th></th>\n",
       "      <th></th>\n",
       "      <th></th>\n",
       "      <th></th>\n",
       "      <th></th>\n",
       "      <th></th>\n",
       "      <th></th>\n",
       "      <th></th>\n",
       "      <th></th>\n",
       "    </tr>\n",
       "  </thead>\n",
       "  <tbody>\n",
       "    <tr>\n",
       "      <th>apple juice</th>\n",
       "      <td>0.0</td>\n",
       "      <td>0.0</td>\n",
       "      <td>0.0</td>\n",
       "      <td>0.0</td>\n",
       "      <td>0.0</td>\n",
       "      <td>0.0</td>\n",
       "      <td>0.0</td>\n",
       "      <td>0.0</td>\n",
       "      <td>0.0</td>\n",
       "      <td>0.0</td>\n",
       "      <td>0.0</td>\n",
       "      <td>0.0</td>\n",
       "      <td>0.0</td>\n",
       "      <td>0.0</td>\n",
       "      <td>0.0</td>\n",
       "      <td>0.0</td>\n",
       "      <td>0.0</td>\n",
       "      <td>0.0</td>\n",
       "      <td>0.0</td>\n",
       "      <td>0.0</td>\n",
       "    </tr>\n",
       "    <tr>\n",
       "      <th>salmon steaks</th>\n",
       "      <td>0.0</td>\n",
       "      <td>0.0</td>\n",
       "      <td>0.0</td>\n",
       "      <td>0.0</td>\n",
       "      <td>0.0</td>\n",
       "      <td>0.0</td>\n",
       "      <td>0.0</td>\n",
       "      <td>0.0</td>\n",
       "      <td>0.0</td>\n",
       "      <td>0.0</td>\n",
       "      <td>0.0</td>\n",
       "      <td>0.0</td>\n",
       "      <td>0.0</td>\n",
       "      <td>0.0</td>\n",
       "      <td>0.0</td>\n",
       "      <td>0.0</td>\n",
       "      <td>0.0</td>\n",
       "      <td>0.0</td>\n",
       "      <td>0.0</td>\n",
       "      <td>0.0</td>\n",
       "    </tr>\n",
       "    <tr>\n",
       "      <th>brown rice</th>\n",
       "      <td>0.0</td>\n",
       "      <td>0.0</td>\n",
       "      <td>0.0</td>\n",
       "      <td>0.0</td>\n",
       "      <td>0.0</td>\n",
       "      <td>0.0</td>\n",
       "      <td>0.0</td>\n",
       "      <td>0.0</td>\n",
       "      <td>0.0</td>\n",
       "      <td>0.0</td>\n",
       "      <td>0.0</td>\n",
       "      <td>0.0</td>\n",
       "      <td>0.0</td>\n",
       "      <td>0.0</td>\n",
       "      <td>0.0</td>\n",
       "      <td>0.0</td>\n",
       "      <td>0.0</td>\n",
       "      <td>0.0</td>\n",
       "      <td>0.0</td>\n",
       "      <td>0.0</td>\n",
       "    </tr>\n",
       "    <tr>\n",
       "      <th>all-purpose flour</th>\n",
       "      <td>0.0</td>\n",
       "      <td>0.0</td>\n",
       "      <td>0.0</td>\n",
       "      <td>0.0</td>\n",
       "      <td>0.0</td>\n",
       "      <td>0.0</td>\n",
       "      <td>0.0</td>\n",
       "      <td>0.0</td>\n",
       "      <td>0.0</td>\n",
       "      <td>0.0</td>\n",
       "      <td>0.0</td>\n",
       "      <td>0.0</td>\n",
       "      <td>0.0</td>\n",
       "      <td>0.0</td>\n",
       "      <td>0.0</td>\n",
       "      <td>0.0</td>\n",
       "      <td>0.0</td>\n",
       "      <td>0.0</td>\n",
       "      <td>0.0</td>\n",
       "      <td>0.0</td>\n",
       "    </tr>\n",
       "    <tr>\n",
       "      <th>plain flour</th>\n",
       "      <td>0.0</td>\n",
       "      <td>0.0</td>\n",
       "      <td>0.0</td>\n",
       "      <td>0.0</td>\n",
       "      <td>0.0</td>\n",
       "      <td>0.0</td>\n",
       "      <td>0.0</td>\n",
       "      <td>0.0</td>\n",
       "      <td>0.0</td>\n",
       "      <td>0.0</td>\n",
       "      <td>0.0</td>\n",
       "      <td>0.0</td>\n",
       "      <td>0.0</td>\n",
       "      <td>0.0</td>\n",
       "      <td>0.0</td>\n",
       "      <td>0.0</td>\n",
       "      <td>0.0</td>\n",
       "      <td>0.0</td>\n",
       "      <td>0.0</td>\n",
       "      <td>0.0</td>\n",
       "    </tr>\n",
       "  </tbody>\n",
       "</table>\n",
       "</div>"
      ],
      "text/plain": [
       "                   raspberry juice  molasses  oat cereal  chops  \\\n",
       "ingredients                                                       \n",
       "apple juice                    0.0       0.0         0.0    0.0   \n",
       "salmon steaks                  0.0       0.0         0.0    0.0   \n",
       "brown rice                     0.0       0.0         0.0    0.0   \n",
       "all-purpose flour              0.0       0.0         0.0    0.0   \n",
       "plain flour                    0.0       0.0         0.0    0.0   \n",
       "\n",
       "                   chocolate baking  lamb chops  heads  x rated  halves  \\\n",
       "ingredients                                                               \n",
       "apple juice                     0.0         0.0    0.0      0.0     0.0   \n",
       "salmon steaks                   0.0         0.0    0.0      0.0     0.0   \n",
       "brown rice                      0.0         0.0    0.0      0.0     0.0   \n",
       "all-purpose flour               0.0         0.0    0.0      0.0     0.0   \n",
       "plain flour                     0.0         0.0    0.0      0.0     0.0   \n",
       "\n",
       "                   brown rice syrup  tofu  unbleached purpose flour  \\\n",
       "ingredients                                                           \n",
       "apple juice                     0.0   0.0                       0.0   \n",
       "salmon steaks                   0.0   0.0                       0.0   \n",
       "brown rice                      0.0   0.0                       0.0   \n",
       "all-purpose flour               0.0   0.0                       0.0   \n",
       "plain flour                     0.0   0.0                       0.0   \n",
       "\n",
       "                   yellow cake mix  grapes  instant  baby carrots  tri  \\\n",
       "ingredients                                                              \n",
       "apple juice                    0.0     0.0      0.0           0.0  0.0   \n",
       "salmon steaks                  0.0     0.0      0.0           0.0  0.0   \n",
       "brown rice                     0.0     0.0      0.0           0.0  0.0   \n",
       "all-purpose flour              0.0     0.0      0.0           0.0  0.0   \n",
       "plain flour                    0.0     0.0      0.0           0.0  0.0   \n",
       "\n",
       "                   white chocolate candy melts  flake  \\\n",
       "ingredients                                             \n",
       "apple juice                                0.0    0.0   \n",
       "salmon steaks                              0.0    0.0   \n",
       "brown rice                                 0.0    0.0   \n",
       "all-purpose flour                          0.0    0.0   \n",
       "plain flour                                0.0    0.0   \n",
       "\n",
       "                   sugar free instant chocolate  \n",
       "ingredients                                      \n",
       "apple juice                                 0.0  \n",
       "salmon steaks                               0.0  \n",
       "brown rice                                  0.0  \n",
       "all-purpose flour                           0.0  \n",
       "plain flour                                 0.0  "
      ]
     },
     "execution_count": 87,
     "metadata": {},
     "output_type": "execute_result"
    }
   ],
   "source": [
    "pd.DataFrame(tfidf_matrix.todense(),\n",
    "             columns=teks,\n",
    "             index=content_based_df.ingredients\n",
    "             ).sample(20, axis=1).sample(5, axis=0)"
   ]
  },
  {
   "cell_type": "markdown",
   "metadata": {},
   "source": [
    "### Collaborative Filtering"
   ]
  },
  {
   "cell_type": "markdown",
   "metadata": {},
   "source": [
    "#### Features Selection"
   ]
  },
  {
   "cell_type": "code",
   "execution_count": null,
   "metadata": {},
   "outputs": [
    {
     "name": "stderr",
     "output_type": "stream",
     "text": [
      "C:\\Users\\ACER\\AppData\\Local\\Temp\\ipykernel_7420\\1035763189.py:6: SettingWithCopyWarning: \n",
      "A value is trying to be set on a copy of a slice from a DataFrame.\n",
      "Try using .loc[row_indexer,col_indexer] = value instead\n",
      "\n",
      "See the caveats in the documentation: https://pandas.pydata.org/pandas-docs/stable/user_guide/indexing.html#returning-a-view-versus-a-copy\n",
      "  collaborative_df['food_name'] = recipes_sample_df['name']\n"
     ]
    },
    {
     "data": {
      "text/html": [
       "<div>\n",
       "<style scoped>\n",
       "    .dataframe tbody tr th:only-of-type {\n",
       "        vertical-align: middle;\n",
       "    }\n",
       "\n",
       "    .dataframe tbody tr th {\n",
       "        vertical-align: top;\n",
       "    }\n",
       "\n",
       "    .dataframe thead th {\n",
       "        text-align: right;\n",
       "    }\n",
       "</style>\n",
       "<table border=\"1\" class=\"dataframe\">\n",
       "  <thead>\n",
       "    <tr style=\"text-align: right;\">\n",
       "      <th></th>\n",
       "      <th>recipe_id</th>\n",
       "      <th>user_id</th>\n",
       "      <th>rating</th>\n",
       "      <th>food_name</th>\n",
       "    </tr>\n",
       "  </thead>\n",
       "  <tbody>\n",
       "    <tr>\n",
       "      <th>0</th>\n",
       "      <td>380365</td>\n",
       "      <td>167527</td>\n",
       "      <td>5</td>\n",
       "      <td>NaN</td>\n",
       "    </tr>\n",
       "    <tr>\n",
       "      <th>1</th>\n",
       "      <td>34335</td>\n",
       "      <td>184723</td>\n",
       "      <td>5</td>\n",
       "      <td>NaN</td>\n",
       "    </tr>\n",
       "    <tr>\n",
       "      <th>2</th>\n",
       "      <td>491150</td>\n",
       "      <td>2001108724</td>\n",
       "      <td>5</td>\n",
       "      <td>simple spinach salad with lemon mint dressing</td>\n",
       "    </tr>\n",
       "    <tr>\n",
       "      <th>3</th>\n",
       "      <td>50367</td>\n",
       "      <td>135804</td>\n",
       "      <td>4</td>\n",
       "      <td>fat free sugar free soft serve</td>\n",
       "    </tr>\n",
       "    <tr>\n",
       "      <th>4</th>\n",
       "      <td>388076</td>\n",
       "      <td>1048246</td>\n",
       "      <td>5</td>\n",
       "      <td>u nega gei</td>\n",
       "    </tr>\n",
       "  </tbody>\n",
       "</table>\n",
       "</div>"
      ],
      "text/plain": [
       "   recipe_id     user_id  rating  \\\n",
       "0     380365      167527       5   \n",
       "1      34335      184723       5   \n",
       "2     491150  2001108724       5   \n",
       "3      50367      135804       4   \n",
       "4     388076     1048246       5   \n",
       "\n",
       "                                       food_name  \n",
       "0                                            NaN  \n",
       "1                                            NaN  \n",
       "2  simple spinach salad with lemon mint dressing  \n",
       "3                 fat free sugar free soft serve  \n",
       "4                                     u nega gei  "
      ]
     },
     "execution_count": 658,
     "metadata": {},
     "output_type": "execute_result"
    }
   ],
   "source": [
    "collaborative_based_columns = [\"recipe_id\", \n",
    "                               \"user_id\",\n",
    "                               \"rating\"]\n",
    "\n",
    "collaborative_df = rating_df[collaborative_based_columns]\n",
    "collaborative_df['food_name'] = food_df['name']\n",
    "\n",
    "collaborative_df.head()"
   ]
  },
  {
   "cell_type": "markdown",
   "metadata": {},
   "source": [
    "Check data:"
   ]
  },
  {
   "cell_type": "code",
   "execution_count": 659,
   "metadata": {},
   "outputs": [
    {
     "name": "stdout",
     "output_type": "stream",
     "text": [
      "<class 'pandas.core.frame.DataFrame'>\n",
      "Index: 11323 entries, 0 to 11323\n",
      "Data columns (total 4 columns):\n",
      " #   Column     Non-Null Count  Dtype \n",
      "---  ------     --------------  ----- \n",
      " 0   recipe_id  11323 non-null  int64 \n",
      " 1   user_id    11323 non-null  int64 \n",
      " 2   rating     11323 non-null  int64 \n",
      " 3   food_name  2009 non-null   object\n",
      "dtypes: int64(3), object(1)\n",
      "memory usage: 442.3+ KB\n"
     ]
    }
   ],
   "source": [
    "collaborative_df.info()"
   ]
  },
  {
   "cell_type": "markdown",
   "metadata": {},
   "source": [
    "Check missing value:"
   ]
  },
  {
   "cell_type": "code",
   "execution_count": 660,
   "metadata": {},
   "outputs": [
    {
     "name": "stdout",
     "output_type": "stream",
     "text": [
      "Missing Value: recipe_id       0\n",
      "user_id         0\n",
      "rating          0\n",
      "food_name    9314\n",
      "dtype: int64\n"
     ]
    }
   ],
   "source": [
    "print(\"Missing Value:\", collaborative_df.isna().sum())"
   ]
  },
  {
   "cell_type": "markdown",
   "metadata": {},
   "source": [
    "Remove the data have missing value:"
   ]
  },
  {
   "cell_type": "code",
   "execution_count": 661,
   "metadata": {},
   "outputs": [
    {
     "name": "stdout",
     "output_type": "stream",
     "text": [
      "<class 'pandas.core.frame.DataFrame'>\n",
      "Index: 2009 entries, 2 to 2315\n",
      "Data columns (total 4 columns):\n",
      " #   Column     Non-Null Count  Dtype \n",
      "---  ------     --------------  ----- \n",
      " 0   recipe_id  2009 non-null   int64 \n",
      " 1   user_id    2009 non-null   int64 \n",
      " 2   rating     2009 non-null   int64 \n",
      " 3   food_name  2009 non-null   object\n",
      "dtypes: int64(3), object(1)\n",
      "memory usage: 78.5+ KB\n"
     ]
    }
   ],
   "source": [
    "collaborative_df = collaborative_df.dropna()\n",
    "\n",
    "collaborative_df.info()"
   ]
  },
  {
   "cell_type": "markdown",
   "metadata": {},
   "source": [
    "#### Features Encoding"
   ]
  },
  {
   "cell_type": "markdown",
   "metadata": {},
   "source": [
    "Melakukan encoding terhadap data recipe_id:"
   ]
  },
  {
   "cell_type": "code",
   "execution_count": 662,
   "metadata": {},
   "outputs": [
    {
     "name": "stdout",
     "output_type": "stream",
     "text": [
      "list recipe_id:  [491150, 50367, 388076, 82666, 477779, 293316, 329224, 217803, 123111, 112478, 62936, 473421, 34853, 286015, 27208, 126611, 43812, 76495, 374133, 494105, 386397, 320452, 31811, 39087, 257701, 113014, 38824, 49153, 236725, 57062, 211523, 94055, 140051, 115153, 93573, 117370, 53907, 3470, 17092, 118285, 392711, 3653, 173701, 123854, 137370, 56891, 132757, 32277, 118373, 15025, 25568, 51834, 371960, 117317, 403520, 240260, 154740, 162961, 256670, 1236, 248350, 61044, 15072, 198995, 87072, 449590, 256175, 188291, 321624, 29413, 85516, 51830, 87028, 108964, 137495, 107997, 221275, 335132, 377585, 261072, 31286, 330420, 411617, 63446, 8701, 49534, 458842, 289343, 116266, 28165, 110604, 32880, 22539, 401282, 168258, 92660, 367044, 450096, 46501, 445697, 202200, 241042, 301865, 71227, 60820, 401483, 77666, 461075, 105260, 61827, 105051, 211496, 208369, 403492, 323117, 323677, 161430, 319384, 371606, 142729, 24217, 59668, 61333, 71373, 425704, 268411, 287276, 86983, 151090, 223028, 96139, 121441, 152596, 20786, 146288, 203634, 151565, 300178, 68274, 179854, 444127, 313028, 116230, 218629, 256001, 42367, 241030, 146427, 51306, 14888, 235408, 136946, 463947, 240465, 14186, 133056, 23789, 111413, 60160, 361842, 30018, 165563, 355130, 122836, 45602, 131018, 45784, 114749, 52362, 110726, 108775, 101789, 210757, 237495, 96523, 84987, 65911, 194339, 82102, 121205, 307052, 53048, 228330, 364882, 146022, 91460, 179940, 142524, 23195, 47818, 2708, 466236, 272391, 305026, 408145, 23726, 219073, 158292, 1356, 186566, 494720, 95926, 73450, 401532, 123696, 53293, 59636, 155186, 416475, 298530, 427971, 70287, 106298, 211060, 159657, 114908, 24548, 383692, 87782, 342042, 51104, 77774, 139668, 113490, 89204, 24712, 63828, 412044, 193509, 7435, 86275, 130386, 137732, 373092, 501151, 50684, 24952, 95598, 33770, 275854, 28439, 66575, 99645, 18286, 29765, 210171, 394518, 266894, 271547, 536678, 207432, 348440, 151446, 277242, 266296, 67490, 463294, 156293, 83945, 217754, 61591, 34450, 252241, 487985, 142860, 130785, 261634, 122030, 79526, 81564, 423116, 200577, 180964, 170166, 20387, 105830, 238347, 49833, 150863, 272815, 155458, 11293, 47062, 108524, 25625, 116152, 218059, 14086, 200452, 123813, 13214, 96988, 47953, 16267, 443305, 41996, 53081, 194109, 19915, 278806, 146246, 122379, 168634, 172050, 382072, 55519, 128749, 227127, 17475, 105454, 178833, 58263, 309276, 129926, 88880, 16465, 357354, 106666, 54379, 151292, 292483, 4344, 105670, 76360, 225324, 26849, 257276, 97122, 170184, 453637, 93802, 192896, 187362, 277704, 350894, 122786, 48289, 61038, 77585, 12316, 20184, 28768, 89048, 78048, 316226, 31629, 48636, 83524, 207034, 5343, 455832, 201918, 448966, 291125, 98981, 333917, 416720, 221541, 62708, 428627, 62513, 377581, 143995, 193831, 234213, 323289, 15870, 19710, 74532, 244768, 34382, 74224, 49990, 297251, 47851, 258844, 12921, 104014, 94296, 10481, 65051, 327922, 185453, 28880, 126596, 307678, 297856, 483743, 60018, 137860, 489734, 497981, 334417, 225346, 137262, 88486, 12294, 52743, 13269, 119178, 80156, 33170, 26820, 24612, 87887, 32215, 193972, 8777, 264110, 68955, 10297, 176874, 75955, 107786, 187210, 190940, 89725, 31349, 203715, 43817, 141983, 63986, 27021, 264565, 154861, 41950, 424710, 40788, 99103, 989, 227439, 4271, 63712, 192, 88794, 109264, 89678, 341903, 76864, 251329, 96925, 50412, 87421, 112725, 210409, 16531, 147090, 531161, 262140, 246959, 50767, 29100, 13379, 486261, 223591, 20233, 53343, 53758, 113817, 61851, 99156, 141940, 134775, 77992, 424532, 335676, 410728, 217263, 82591, 357116, 103403, 143991, 103762, 108522, 152441, 207320, 203762, 51997, 51924, 344319, 159615, 385129, 316263, 322957, 226408, 411056, 95893, 54854, 91363, 31147, 62995, 25458, 107956, 151223, 13087, 181186, 230211, 121053, 43750, 321164, 291234, 22910, 71537, 119767, 58516, 266170, 115321, 15431, 348492, 13073, 256451, 536, 2886, 3954, 168785, 77692, 47616, 132263, 116601, 11493, 31083, 159982, 28943, 96204, 40727, 203112, 38996, 122193, 423682, 116236, 283311, 100763, 215919, 366087, 70522, 91454, 109839, 80435, 105548, 138440, 100362, 20374, 73754, 49252, 342892, 422895, 160394, 33489, 87748, 170223, 86727, 253310, 97365, 28984, 79004, 118241, 31959, 32317, 79566, 172830, 90674, 64376, 419935, 109669, 466455, 66850, 252395, 107281, 148385, 85382, 123206, 175264, 13862, 316866, 81419, 415103, 201, 52406, 105141, 284428, 339988, 180034, 42710, 273114, 167136, 92994, 24378, 490440, 332140, 95466, 330932, 75202, 20077, 515466, 102830, 81406, 352781, 235402, 344648, 17962, 105545, 27999, 329774, 152170, 514965, 155021, 139135, 65347, 10478, 118361, 142325, 111661, 10404, 243205, 456, 19101, 258754, 186965, 272045, 94670, 10075, 264506, 52999, 89066, 111951, 178075, 326682, 10785, 101971, 391984, 307917, 254778, 341581, 259769, 92096, 305739, 216237, 203925, 72506, 402866, 100999, 15773, 35027, 149514, 124391, 98197, 31128, 23922, 22493, 184501, 11028, 15553, 53620, 247096, 110458, 188041, 108248, 7645, 123526, 45497, 16705, 44887, 164367, 211602, 104022, 332873, 121648, 263336, 9050, 347977, 35805, 327776, 158440, 26723, 158591, 101132, 429569, 249147, 503093, 302004, 449809, 293243, 29301, 37187, 29210, 196167, 146361, 13699, 75302, 33869, 259786, 157674, 139874, 344336, 156586, 132052, 53643, 482400, 204124, 80931, 17316, 183334, 242319, 296692, 52104, 15194, 58345, 152087, 110806, 70022, 325674, 192661, 50022, 69051, 62505, 205569, 90361, 22908, 374959, 4627, 204551, 383868, 223073, 21201, 456475, 380988, 306878, 129345, 187184, 214384, 9823, 45672, 52358, 84161, 122323, 119387, 54257, 28148, 135350, 66148, 119586, 96843, 197922, 21768, 53285, 1746, 431399, 10125, 151177, 153694, 59219, 4897, 444693, 8251, 272698, 419782, 169620, 71109, 163343, 243419, 82830, 28530, 112578, 225761, 130084, 41703, 129438, 531172, 453782, 250284, 145580, 17727, 32204, 309586, 311749, 49929, 292396, 71503, 373374, 26911, 221779, 162319, 607, 281472, 312076, 74275, 111783, 284640, 98035, 200673, 370046, 210059, 41893, 139227, 96098, 57177, 116536, 425747, 11615, 190639, 65131, 14433, 18597, 59289, 381195, 37413, 434863, 7537, 59662, 35629, 306373, 171421, 53508, 205873, 15865, 37638, 134924, 97389, 121987, 120519, 178337, 12654, 344032, 118112, 45070, 102015, 259423, 13704, 521550, 295726, 453403, 358997, 256294, 321710, 466949, 107996, 428770, 285538, 338900, 384750, 195729, 36041, 438883, 51235, 43023, 130916, 238994, 140050, 47702, 20437, 128098, 148484, 23480, 272309, 359279, 426510, 109577, 272671, 133435, 107868, 345212, 399826, 55294, 83828, 56459, 131042, 170581, 102524, 14325, 183769, 24054, 97496, 65886, 262510, 69173, 384132, 12660, 33362, 10780, 72303, 132535, 8972, 56287, 113097, 481041, 1600, 248008, 261263, 312573, 155480, 3094, 181857, 55673, 424775, 77476, 104729, 65986, 99272, 310967, 153067, 159780, 57919, 45963, 139518, 234885, 82486, 239333, 255852, 462021, 136829, 33147, 316463, 87925, 113006, 24085, 118828, 7944, 138296, 401451, 353990, 83008, 266939, 23429, 5158, 311788, 62567, 223679, 53328, 31632, 231135, 476656, 89819, 188958, 367439, 33454, 381269, 261382, 189571, 32511, 62700, 336622, 282997, 56748, 278914, 12369, 362486, 181106, 48913, 310687, 79944, 305900, 69372, 199326, 226802, 63031, 110507, 8613, 217753, 98034, 50395, 256970, 11274, 74453, 368707, 38413, 424536, 43509, 8574, 338442, 144148, 195908, 56969, 233651, 261772, 201452, 95068, 347701, 175976, 80079, 363571, 30081, 117319, 155018, 341097, 88625, 69630, 100404, 605, 306090, 75130, 52757, 126623, 286624, 82972, 23143, 385611, 351304, 49590, 356040, 109603, 287112, 168117, 88304, 279941, 117372, 203028, 201195, 13388, 187731, 217179, 15411, 131447, 33919, 16702, 428026, 98636, 100009, 26049, 428860, 215760, 314702, 138315, 311466, 222399, 19177, 433477, 420677, 179371, 66686, 115886, 392060, 161909, 88430, 72467, 407907, 45244, 44007, 288345, 349731, 66976, 29679, 26036, 259920, 502536, 138782, 100761, 62564, 38085, 174022, 89523, 157068, 217989, 68118, 472170, 83203, 190410, 9114, 163739, 229506, 121875, 186849, 132764, 331991, 147596, 350722, 94532, 117061, 79766, 35185, 385221, 108105, 25885, 80413, 97425, 391327, 339322, 339284, 146029, 73166, 35328, 27652, 254289, 31607, 77300, 92072, 102234, 77087, 283040, 22612, 198488, 96886, 189441, 163971, 204045, 105874, 276155, 75316, 205883, 28011, 157194, 72867, 84516, 56818, 205610, 36510, 61210, 271023, 357881, 67256, 140307, 47549, 55056, 106627, 137972, 89908, 42094, 106586, 361064, 192371, 130015, 416201, 124666, 121405, 84141, 14016, 358553, 2066, 17601, 116899, 310418, 9782, 98526, 61789, 57772, 495152, 25631, 67068, 106435, 56218, 85148, 172455, 33921, 135664, 280795, 345614, 270583, 311567, 326810, 228390, 64699, 166466, 94963, 35932, 491807, 106056, 21175, 67329, 118641, 77001, 372941, 235943, 29884, 97498, 14613, 83409, 168780, 9492, 191473, 71497, 68063, 99746, 110548, 442890, 19253, 315262, 138618, 75225, 97573, 68328, 170248, 76630, 81621, 35775, 346053, 247699, 47651, 142936, 57763, 300227, 160432, 66703, 120363, 115335, 4151, 226167, 360231, 41228, 352749, 61826, 134606, 362347, 190117, 64235, 116462, 192406, 121959, 34011, 5083, 22097, 182035, 196139, 51141, 349246, 114392, 19724, 108948, 94395, 44133, 109699, 87073, 28927, 102054, 281425, 30600, 31639, 199845, 82888, 258094, 19047, 333229, 59043, 237736, 27520, 94759, 28747, 63689, 40497, 464815, 340469, 109918, 62910, 31567, 307995, 139513, 103516, 48973, 107741, 8794, 427407, 423137, 64588, 458220, 463076, 131109, 518068, 340621, 181530, 109750, 120326, 14381, 160798, 56762, 28261, 130108, 8384, 149195, 261951, 94234, 20643, 42069, 17394, 30359, 31266, 134215, 332014, 21686, 95254, 275997, 200296, 17934, 108231, 123008, 383541, 93575, 131300, 265307, 32331, 17591, 54634, 235195, 16015, 18110, 137771, 191830, 375710, 158634, 73732, 19239, 121288, 12295, 133110, 173691, 178311, 24988, 214007, 80765, 108492, 9272, 167579, 110843, 296259, 11272, 48333, 307293, 284999, 397684, 81160, 222188, 315984, 61747, 108901, 9055, 166851, 35410, 356806, 98273, 22210, 204740, 303440, 147055, 437052, 31717, 147326, 130637, 91269, 176319, 319601, 133718, 51803, 242479, 134437, 94441, 253026, 45940, 208822, 120051, 29846, 335539, 118475, 56232, 64448, 16716, 147444, 110743, 282939, 42169, 275681, 263633, 220438, 64061, 349738, 167202, 235270, 114638, 264246, 23367, 209076, 252897, 17764, 163079, 166878, 85127, 187151, 112454, 94861, 410273, 164369, 138528, 426872, 201716, 206730, 22176, 134347, 236642, 120568, 162902, 42656, 113094, 41286, 195547, 311400, 61621, 154139, 351979, 137253, 113998, 24609, 237468, 81635, 26306, 97531, 112096, 252966, 69170, 149734, 190235, 22782, 56776, 54167, 264190, 174947, 106633, 46726, 175230, 85463, 21221, 29704, 286990, 216133, 61792, 64356, 27085, 8739, 101803, 111849, 190139, 29693, 39160, 484315, 224355, 297272, 91344, 186029, 51888, 62205, 111299, 507748, 83192, 454725, 318659, 127230, 12572, 93190, 45033, 26963, 120175, 219407, 202055, 262751, 283812, 26337, 325571, 71273, 159837, 125618, 287149, 193405, 219035, 167664, 113105, 149748, 131090, 273410, 221248, 336592, 111302, 362800, 38496, 376109, 369791, 157080, 88489, 71409, 178417, 194746, 130137, 350655, 24986, 155369, 47107, 195832, 55324, 156236, 346506, 218950, 125898, 27509, 98724, 124054, 822, 52782, 74332, 135272, 67949, 14979, 361789, 62702, 398642, 109287, 191225, 44587, 86849, 52379, 137345, 71837, 437729, 145375, 202530, 35819, 390108, 389970, 158990, 54351, 258821, 227644, 464539, 46527, 80726, 140486, 73937, 37201, 133295, 12877, 8432, 197113, 24088, 163170, 95632, 75659, 187975, 60821, 306971, 180119, 260563, 210160, 17978, 22698, 76828, 71393, 209226, 463708, 277466, 228537, 9131, 357820, 61319, 50101, 189012, 17982, 250276, 167914, 26209, 216301, 45562, 69846, 301280, 37087, 154833, 227016, 20462, 162807, 164127, 102617, 222479, 352102, 92021, 128679, 89577, 66447, 187708, 50842, 148783, 163811, 192098, 356632, 71085, 40467, 176506, 10589, 307828, 403282, 72627, 86071, 357091, 25520, 303295, 101104, 392356, 78158, 117160, 45504, 156427, 31750, 202833, 61601, 56085, 401240, 328467, 106262, 288501, 116053, 15886, 120810, 380442, 59573, 281130, 5000, 169032, 14462, 427797, 369886, 304529, 26085, 183806, 94979, 232717, 444206, 499043, 289070, 376897, 90975, 15722, 74844, 99320, 230769, 204291, 210687, 290903, 33707, 26111, 313369, 106641, 53133, 215662, 178644, 360924, 96099, 353384, 65084, 449452, 73927, 76616, 118487, 464233, 49200, 29528, 144377, 203538, 49400, 376786, 111774, 207171, 104565, 328951, 465692, 24306, 29939, 319350, 276119, 285530, 105766, 72044, 226305, 305733, 55977, 105264, 171703, 56804, 20093, 95222, 228028, 221594, 4199, 11217, 336205, 95842, 331989, 397744, 275334, 227732, 110047, 208486, 446062, 417181, 50201, 89177, 151089, 434019, 55186, 179171, 424870, 401607, 192298, 225291, 87775, 321179, 3180, 425626, 103966, 427482, 37393, 151614, 257794, 4312, 49232, 11345, 60877, 446975, 23312, 395145, 86691, 30360, 351440, 9836, 37639, 8626, 5297, 384069, 52253, 109297, 31230, 137164, 138239, 208554, 106363, 70778, 367952, 152413, 377848, 423880, 43503, 224793, 372388, 381325, 4957, 52251, 235054, 246849, 14960, 139499, 264669, 50590, 111777, 76610, 47641, 355506, 224710, 193354, 42901, 23779, 39745, 178153, 75531, 31833, 116205, 144673, 61857, 50875, 281771, 161439, 21120, 277175, 60339, 43507, 234608, 18066, 185409, 90544, 445240, 170721, 267896, 200504, 37968, 38238, 137328, 96635, 109880, 130623, 17186, 90080, 274815, 16211, 139488, 240807, 54112, 194283, 101839, 223897, 405033, 160537, 141789, 429768, 443144, 32290, 133902, 179522, 355889, 369849, 378033, 102677, 182600, 32844, 372574, 36232, 129825, 8507, 26370, 25753, 134402, 108527, 115208, 205504, 19577, 384800, 312478, 51140, 327077, 126086, 24978, 86178, 3768, 304636, 328828, 331112, 182386, 12365, 223844, 217415, 88294, 67204, 186363, 444408, 503781, 97297, 443987, 84957, 385365, 144179, 210576, 11811, 134192, 98493, 11107, 2496, 117253, 160089, 63746, 17509, 414317, 135386, 285832, 171628, 139807, 215789, 100480, 5170, 53605, 287680, 135777, 49401, 82697, 93295, 90454, 145573, 304163, 374354, 152013, 56695, 62907, 245503, 467873, 124503, 79563, 87380, 90745, 166289, 85002, 467362, 455551, 524863, 88615, 16752, 71849, 86637, 360000, 93886, 84310, 63786, 61153, 454315, 81207, 227991, 333702, 159239, 361715, 78024, 147850, 97523, 18632, 447553, 100663, 362501, 307320, 15968, 89181, 58347, 16981, 46780, 213214, 13473, 112064, 70294, 17012, 149506, 169303]\n",
      "encoded recipe_id:  {491150: 0, 50367: 1, 388076: 2, 82666: 3, 477779: 4, 293316: 5, 329224: 6, 217803: 7, 123111: 8, 112478: 9, 62936: 10, 473421: 11, 34853: 12, 286015: 13, 27208: 14, 126611: 15, 43812: 16, 76495: 17, 374133: 18, 494105: 19, 386397: 20, 320452: 21, 31811: 22, 39087: 23, 257701: 24, 113014: 25, 38824: 26, 49153: 27, 236725: 28, 57062: 29, 211523: 30, 94055: 31, 140051: 32, 115153: 33, 93573: 34, 117370: 35, 53907: 36, 3470: 37, 17092: 38, 118285: 39, 392711: 40, 3653: 41, 173701: 42, 123854: 43, 137370: 44, 56891: 45, 132757: 46, 32277: 47, 118373: 48, 15025: 49, 25568: 50, 51834: 51, 371960: 52, 117317: 53, 403520: 54, 240260: 55, 154740: 56, 162961: 57, 256670: 58, 1236: 59, 248350: 60, 61044: 61, 15072: 62, 198995: 63, 87072: 64, 449590: 65, 256175: 66, 188291: 67, 321624: 68, 29413: 69, 85516: 70, 51830: 71, 87028: 72, 108964: 73, 137495: 74, 107997: 75, 221275: 76, 335132: 77, 377585: 78, 261072: 79, 31286: 80, 330420: 81, 411617: 82, 63446: 83, 8701: 84, 49534: 85, 458842: 86, 289343: 87, 116266: 88, 28165: 89, 110604: 90, 32880: 91, 22539: 92, 401282: 93, 168258: 94, 92660: 95, 367044: 96, 450096: 97, 46501: 98, 445697: 99, 202200: 100, 241042: 101, 301865: 102, 71227: 103, 60820: 104, 401483: 105, 77666: 106, 461075: 107, 105260: 108, 61827: 109, 105051: 110, 211496: 111, 208369: 112, 403492: 113, 323117: 114, 323677: 115, 161430: 116, 319384: 117, 371606: 118, 142729: 119, 24217: 120, 59668: 121, 61333: 122, 71373: 123, 425704: 124, 268411: 125, 287276: 126, 86983: 127, 151090: 128, 223028: 129, 96139: 130, 121441: 131, 152596: 132, 20786: 133, 146288: 134, 203634: 135, 151565: 136, 300178: 137, 68274: 138, 179854: 139, 444127: 140, 313028: 141, 116230: 142, 218629: 143, 256001: 144, 42367: 145, 241030: 146, 146427: 147, 51306: 148, 14888: 149, 235408: 150, 136946: 151, 463947: 152, 240465: 153, 14186: 154, 133056: 155, 23789: 156, 111413: 157, 60160: 158, 361842: 159, 30018: 160, 165563: 161, 355130: 162, 122836: 163, 45602: 164, 131018: 165, 45784: 166, 114749: 167, 52362: 168, 110726: 169, 108775: 170, 101789: 171, 210757: 172, 237495: 173, 96523: 174, 84987: 175, 65911: 176, 194339: 177, 82102: 178, 121205: 179, 307052: 180, 53048: 181, 228330: 182, 364882: 183, 146022: 184, 91460: 185, 179940: 186, 142524: 187, 23195: 188, 47818: 189, 2708: 190, 466236: 191, 272391: 192, 305026: 193, 408145: 194, 23726: 195, 219073: 196, 158292: 197, 1356: 198, 186566: 199, 494720: 200, 95926: 201, 73450: 202, 401532: 203, 123696: 204, 53293: 205, 59636: 206, 155186: 207, 416475: 208, 298530: 209, 427971: 210, 70287: 211, 106298: 212, 211060: 213, 159657: 214, 114908: 215, 24548: 216, 383692: 217, 87782: 218, 342042: 219, 51104: 220, 77774: 221, 139668: 222, 113490: 223, 89204: 224, 24712: 225, 63828: 226, 412044: 227, 193509: 228, 7435: 229, 86275: 230, 130386: 231, 137732: 232, 373092: 233, 501151: 234, 50684: 235, 24952: 236, 95598: 237, 33770: 238, 275854: 239, 28439: 240, 66575: 241, 99645: 242, 18286: 243, 29765: 244, 210171: 245, 394518: 246, 266894: 247, 271547: 248, 536678: 249, 207432: 250, 348440: 251, 151446: 252, 277242: 253, 266296: 254, 67490: 255, 463294: 256, 156293: 257, 83945: 258, 217754: 259, 61591: 260, 34450: 261, 252241: 262, 487985: 263, 142860: 264, 130785: 265, 261634: 266, 122030: 267, 79526: 268, 81564: 269, 423116: 270, 200577: 271, 180964: 272, 170166: 273, 20387: 274, 105830: 275, 238347: 276, 49833: 277, 150863: 278, 272815: 279, 155458: 280, 11293: 281, 47062: 282, 108524: 283, 25625: 284, 116152: 285, 218059: 286, 14086: 287, 200452: 288, 123813: 289, 13214: 290, 96988: 291, 47953: 292, 16267: 293, 443305: 294, 41996: 295, 53081: 296, 194109: 297, 19915: 298, 278806: 299, 146246: 300, 122379: 301, 168634: 302, 172050: 303, 382072: 304, 55519: 305, 128749: 306, 227127: 307, 17475: 308, 105454: 309, 178833: 310, 58263: 311, 309276: 312, 129926: 313, 88880: 314, 16465: 315, 357354: 316, 106666: 317, 54379: 318, 151292: 319, 292483: 320, 4344: 321, 105670: 322, 76360: 323, 225324: 324, 26849: 325, 257276: 326, 97122: 327, 170184: 328, 453637: 329, 93802: 330, 192896: 331, 187362: 332, 277704: 333, 350894: 334, 122786: 335, 48289: 336, 61038: 337, 77585: 338, 12316: 339, 20184: 340, 28768: 341, 89048: 342, 78048: 343, 316226: 344, 31629: 345, 48636: 346, 83524: 347, 207034: 348, 5343: 349, 455832: 350, 201918: 351, 448966: 352, 291125: 353, 98981: 354, 333917: 355, 416720: 356, 221541: 357, 62708: 358, 428627: 359, 62513: 360, 377581: 361, 143995: 362, 193831: 363, 234213: 364, 323289: 365, 15870: 366, 19710: 367, 74532: 368, 244768: 369, 34382: 370, 74224: 371, 49990: 372, 297251: 373, 47851: 374, 258844: 375, 12921: 376, 104014: 377, 94296: 378, 10481: 379, 65051: 380, 327922: 381, 185453: 382, 28880: 383, 126596: 384, 307678: 385, 297856: 386, 483743: 387, 60018: 388, 137860: 389, 489734: 390, 497981: 391, 334417: 392, 225346: 393, 137262: 394, 88486: 395, 12294: 396, 52743: 397, 13269: 398, 119178: 399, 80156: 400, 33170: 401, 26820: 402, 24612: 403, 87887: 404, 32215: 405, 193972: 406, 8777: 407, 264110: 408, 68955: 409, 10297: 410, 176874: 411, 75955: 412, 107786: 413, 187210: 414, 190940: 415, 89725: 416, 31349: 417, 203715: 418, 43817: 419, 141983: 420, 63986: 421, 27021: 422, 264565: 423, 154861: 424, 41950: 425, 424710: 426, 40788: 427, 99103: 428, 989: 429, 227439: 430, 4271: 431, 63712: 432, 192: 433, 88794: 434, 109264: 435, 89678: 436, 341903: 437, 76864: 438, 251329: 439, 96925: 440, 50412: 441, 87421: 442, 112725: 443, 210409: 444, 16531: 445, 147090: 446, 531161: 447, 262140: 448, 246959: 449, 50767: 450, 29100: 451, 13379: 452, 486261: 453, 223591: 454, 20233: 455, 53343: 456, 53758: 457, 113817: 458, 61851: 459, 99156: 460, 141940: 461, 134775: 462, 77992: 463, 424532: 464, 335676: 465, 410728: 466, 217263: 467, 82591: 468, 357116: 469, 103403: 470, 143991: 471, 103762: 472, 108522: 473, 152441: 474, 207320: 475, 203762: 476, 51997: 477, 51924: 478, 344319: 479, 159615: 480, 385129: 481, 316263: 482, 322957: 483, 226408: 484, 411056: 485, 95893: 486, 54854: 487, 91363: 488, 31147: 489, 62995: 490, 25458: 491, 107956: 492, 151223: 493, 13087: 494, 181186: 495, 230211: 496, 121053: 497, 43750: 498, 321164: 499, 291234: 500, 22910: 501, 71537: 502, 119767: 503, 58516: 504, 266170: 505, 115321: 506, 15431: 507, 348492: 508, 13073: 509, 256451: 510, 536: 511, 2886: 512, 3954: 513, 168785: 514, 77692: 515, 47616: 516, 132263: 517, 116601: 518, 11493: 519, 31083: 520, 159982: 521, 28943: 522, 96204: 523, 40727: 524, 203112: 525, 38996: 526, 122193: 527, 423682: 528, 116236: 529, 283311: 530, 100763: 531, 215919: 532, 366087: 533, 70522: 534, 91454: 535, 109839: 536, 80435: 537, 105548: 538, 138440: 539, 100362: 540, 20374: 541, 73754: 542, 49252: 543, 342892: 544, 422895: 545, 160394: 546, 33489: 547, 87748: 548, 170223: 549, 86727: 550, 253310: 551, 97365: 552, 28984: 553, 79004: 554, 118241: 555, 31959: 556, 32317: 557, 79566: 558, 172830: 559, 90674: 560, 64376: 561, 419935: 562, 109669: 563, 466455: 564, 66850: 565, 252395: 566, 107281: 567, 148385: 568, 85382: 569, 123206: 570, 175264: 571, 13862: 572, 316866: 573, 81419: 574, 415103: 575, 201: 576, 52406: 577, 105141: 578, 284428: 579, 339988: 580, 180034: 581, 42710: 582, 273114: 583, 167136: 584, 92994: 585, 24378: 586, 490440: 587, 332140: 588, 95466: 589, 330932: 590, 75202: 591, 20077: 592, 515466: 593, 102830: 594, 81406: 595, 352781: 596, 235402: 597, 344648: 598, 17962: 599, 105545: 600, 27999: 601, 329774: 602, 152170: 603, 514965: 604, 155021: 605, 139135: 606, 65347: 607, 10478: 608, 118361: 609, 142325: 610, 111661: 611, 10404: 612, 243205: 613, 456: 614, 19101: 615, 258754: 616, 186965: 617, 272045: 618, 94670: 619, 10075: 620, 264506: 621, 52999: 622, 89066: 623, 111951: 624, 178075: 625, 326682: 626, 10785: 627, 101971: 628, 391984: 629, 307917: 630, 254778: 631, 341581: 632, 259769: 633, 92096: 634, 305739: 635, 216237: 636, 203925: 637, 72506: 638, 402866: 639, 100999: 640, 15773: 641, 35027: 642, 149514: 643, 124391: 644, 98197: 645, 31128: 646, 23922: 647, 22493: 648, 184501: 649, 11028: 650, 15553: 651, 53620: 652, 247096: 653, 110458: 654, 188041: 655, 108248: 656, 7645: 657, 123526: 658, 45497: 659, 16705: 660, 44887: 661, 164367: 662, 211602: 663, 104022: 664, 332873: 665, 121648: 666, 263336: 667, 9050: 668, 347977: 669, 35805: 670, 327776: 671, 158440: 672, 26723: 673, 158591: 674, 101132: 675, 429569: 676, 249147: 677, 503093: 678, 302004: 679, 449809: 680, 293243: 681, 29301: 682, 37187: 683, 29210: 684, 196167: 685, 146361: 686, 13699: 687, 75302: 688, 33869: 689, 259786: 690, 157674: 691, 139874: 692, 344336: 693, 156586: 694, 132052: 695, 53643: 696, 482400: 697, 204124: 698, 80931: 699, 17316: 700, 183334: 701, 242319: 702, 296692: 703, 52104: 704, 15194: 705, 58345: 706, 152087: 707, 110806: 708, 70022: 709, 325674: 710, 192661: 711, 50022: 712, 69051: 713, 62505: 714, 205569: 715, 90361: 716, 22908: 717, 374959: 718, 4627: 719, 204551: 720, 383868: 721, 223073: 722, 21201: 723, 456475: 724, 380988: 725, 306878: 726, 129345: 727, 187184: 728, 214384: 729, 9823: 730, 45672: 731, 52358: 732, 84161: 733, 122323: 734, 119387: 735, 54257: 736, 28148: 737, 135350: 738, 66148: 739, 119586: 740, 96843: 741, 197922: 742, 21768: 743, 53285: 744, 1746: 745, 431399: 746, 10125: 747, 151177: 748, 153694: 749, 59219: 750, 4897: 751, 444693: 752, 8251: 753, 272698: 754, 419782: 755, 169620: 756, 71109: 757, 163343: 758, 243419: 759, 82830: 760, 28530: 761, 112578: 762, 225761: 763, 130084: 764, 41703: 765, 129438: 766, 531172: 767, 453782: 768, 250284: 769, 145580: 770, 17727: 771, 32204: 772, 309586: 773, 311749: 774, 49929: 775, 292396: 776, 71503: 777, 373374: 778, 26911: 779, 221779: 780, 162319: 781, 607: 782, 281472: 783, 312076: 784, 74275: 785, 111783: 786, 284640: 787, 98035: 788, 200673: 789, 370046: 790, 210059: 791, 41893: 792, 139227: 793, 96098: 794, 57177: 795, 116536: 796, 425747: 797, 11615: 798, 190639: 799, 65131: 800, 14433: 801, 18597: 802, 59289: 803, 381195: 804, 37413: 805, 434863: 806, 7537: 807, 59662: 808, 35629: 809, 306373: 810, 171421: 811, 53508: 812, 205873: 813, 15865: 814, 37638: 815, 134924: 816, 97389: 817, 121987: 818, 120519: 819, 178337: 820, 12654: 821, 344032: 822, 118112: 823, 45070: 824, 102015: 825, 259423: 826, 13704: 827, 521550: 828, 295726: 829, 453403: 830, 358997: 831, 256294: 832, 321710: 833, 466949: 834, 107996: 835, 428770: 836, 285538: 837, 338900: 838, 384750: 839, 195729: 840, 36041: 841, 438883: 842, 51235: 843, 43023: 844, 130916: 845, 238994: 846, 140050: 847, 47702: 848, 20437: 849, 128098: 850, 148484: 851, 23480: 852, 272309: 853, 359279: 854, 426510: 855, 109577: 856, 272671: 857, 133435: 858, 107868: 859, 345212: 860, 399826: 861, 55294: 862, 83828: 863, 56459: 864, 131042: 865, 170581: 866, 102524: 867, 14325: 868, 183769: 869, 24054: 870, 97496: 871, 65886: 872, 262510: 873, 69173: 874, 384132: 875, 12660: 876, 33362: 877, 10780: 878, 72303: 879, 132535: 880, 8972: 881, 56287: 882, 113097: 883, 481041: 884, 1600: 885, 248008: 886, 261263: 887, 312573: 888, 155480: 889, 3094: 890, 181857: 891, 55673: 892, 424775: 893, 77476: 894, 104729: 895, 65986: 896, 99272: 897, 310967: 898, 153067: 899, 159780: 900, 57919: 901, 45963: 902, 139518: 903, 234885: 904, 82486: 905, 239333: 906, 255852: 907, 462021: 908, 136829: 909, 33147: 910, 316463: 911, 87925: 912, 113006: 913, 24085: 914, 118828: 915, 7944: 916, 138296: 917, 401451: 918, 353990: 919, 83008: 920, 266939: 921, 23429: 922, 5158: 923, 311788: 924, 62567: 925, 223679: 926, 53328: 927, 31632: 928, 231135: 929, 476656: 930, 89819: 931, 188958: 932, 367439: 933, 33454: 934, 381269: 935, 261382: 936, 189571: 937, 32511: 938, 62700: 939, 336622: 940, 282997: 941, 56748: 942, 278914: 943, 12369: 944, 362486: 945, 181106: 946, 48913: 947, 310687: 948, 79944: 949, 305900: 950, 69372: 951, 199326: 952, 226802: 953, 63031: 954, 110507: 955, 8613: 956, 217753: 957, 98034: 958, 50395: 959, 256970: 960, 11274: 961, 74453: 962, 368707: 963, 38413: 964, 424536: 965, 43509: 966, 8574: 967, 338442: 968, 144148: 969, 195908: 970, 56969: 971, 233651: 972, 261772: 973, 201452: 974, 95068: 975, 347701: 976, 175976: 977, 80079: 978, 363571: 979, 30081: 980, 117319: 981, 155018: 982, 341097: 983, 88625: 984, 69630: 985, 100404: 986, 605: 987, 306090: 988, 75130: 989, 52757: 990, 126623: 991, 286624: 992, 82972: 993, 23143: 994, 385611: 995, 351304: 996, 49590: 997, 356040: 998, 109603: 999, 287112: 1000, 168117: 1001, 88304: 1002, 279941: 1003, 117372: 1004, 203028: 1005, 201195: 1006, 13388: 1007, 187731: 1008, 217179: 1009, 15411: 1010, 131447: 1011, 33919: 1012, 16702: 1013, 428026: 1014, 98636: 1015, 100009: 1016, 26049: 1017, 428860: 1018, 215760: 1019, 314702: 1020, 138315: 1021, 311466: 1022, 222399: 1023, 19177: 1024, 433477: 1025, 420677: 1026, 179371: 1027, 66686: 1028, 115886: 1029, 392060: 1030, 161909: 1031, 88430: 1032, 72467: 1033, 407907: 1034, 45244: 1035, 44007: 1036, 288345: 1037, 349731: 1038, 66976: 1039, 29679: 1040, 26036: 1041, 259920: 1042, 502536: 1043, 138782: 1044, 100761: 1045, 62564: 1046, 38085: 1047, 174022: 1048, 89523: 1049, 157068: 1050, 217989: 1051, 68118: 1052, 472170: 1053, 83203: 1054, 190410: 1055, 9114: 1056, 163739: 1057, 229506: 1058, 121875: 1059, 186849: 1060, 132764: 1061, 331991: 1062, 147596: 1063, 350722: 1064, 94532: 1065, 117061: 1066, 79766: 1067, 35185: 1068, 385221: 1069, 108105: 1070, 25885: 1071, 80413: 1072, 97425: 1073, 391327: 1074, 339322: 1075, 339284: 1076, 146029: 1077, 73166: 1078, 35328: 1079, 27652: 1080, 254289: 1081, 31607: 1082, 77300: 1083, 92072: 1084, 102234: 1085, 77087: 1086, 283040: 1087, 22612: 1088, 198488: 1089, 96886: 1090, 189441: 1091, 163971: 1092, 204045: 1093, 105874: 1094, 276155: 1095, 75316: 1096, 205883: 1097, 28011: 1098, 157194: 1099, 72867: 1100, 84516: 1101, 56818: 1102, 205610: 1103, 36510: 1104, 61210: 1105, 271023: 1106, 357881: 1107, 67256: 1108, 140307: 1109, 47549: 1110, 55056: 1111, 106627: 1112, 137972: 1113, 89908: 1114, 42094: 1115, 106586: 1116, 361064: 1117, 192371: 1118, 130015: 1119, 416201: 1120, 124666: 1121, 121405: 1122, 84141: 1123, 14016: 1124, 358553: 1125, 2066: 1126, 17601: 1127, 116899: 1128, 310418: 1129, 9782: 1130, 98526: 1131, 61789: 1132, 57772: 1133, 495152: 1134, 25631: 1135, 67068: 1136, 106435: 1137, 56218: 1138, 85148: 1139, 172455: 1140, 33921: 1141, 135664: 1142, 280795: 1143, 345614: 1144, 270583: 1145, 311567: 1146, 326810: 1147, 228390: 1148, 64699: 1149, 166466: 1150, 94963: 1151, 35932: 1152, 491807: 1153, 106056: 1154, 21175: 1155, 67329: 1156, 118641: 1157, 77001: 1158, 372941: 1159, 235943: 1160, 29884: 1161, 97498: 1162, 14613: 1163, 83409: 1164, 168780: 1165, 9492: 1166, 191473: 1167, 71497: 1168, 68063: 1169, 99746: 1170, 110548: 1171, 442890: 1172, 19253: 1173, 315262: 1174, 138618: 1175, 75225: 1176, 97573: 1177, 68328: 1178, 170248: 1179, 76630: 1180, 81621: 1181, 35775: 1182, 346053: 1183, 247699: 1184, 47651: 1185, 142936: 1186, 57763: 1187, 300227: 1188, 160432: 1189, 66703: 1190, 120363: 1191, 115335: 1192, 4151: 1193, 226167: 1194, 360231: 1195, 41228: 1196, 352749: 1197, 61826: 1198, 134606: 1199, 362347: 1200, 190117: 1201, 64235: 1202, 116462: 1203, 192406: 1204, 121959: 1205, 34011: 1206, 5083: 1207, 22097: 1208, 182035: 1209, 196139: 1210, 51141: 1211, 349246: 1212, 114392: 1213, 19724: 1214, 108948: 1215, 94395: 1216, 44133: 1217, 109699: 1218, 87073: 1219, 28927: 1220, 102054: 1221, 281425: 1222, 30600: 1223, 31639: 1224, 199845: 1225, 82888: 1226, 258094: 1227, 19047: 1228, 333229: 1229, 59043: 1230, 237736: 1231, 27520: 1232, 94759: 1233, 28747: 1234, 63689: 1235, 40497: 1236, 464815: 1237, 340469: 1238, 109918: 1239, 62910: 1240, 31567: 1241, 307995: 1242, 139513: 1243, 103516: 1244, 48973: 1245, 107741: 1246, 8794: 1247, 427407: 1248, 423137: 1249, 64588: 1250, 458220: 1251, 463076: 1252, 131109: 1253, 518068: 1254, 340621: 1255, 181530: 1256, 109750: 1257, 120326: 1258, 14381: 1259, 160798: 1260, 56762: 1261, 28261: 1262, 130108: 1263, 8384: 1264, 149195: 1265, 261951: 1266, 94234: 1267, 20643: 1268, 42069: 1269, 17394: 1270, 30359: 1271, 31266: 1272, 134215: 1273, 332014: 1274, 21686: 1275, 95254: 1276, 275997: 1277, 200296: 1278, 17934: 1279, 108231: 1280, 123008: 1281, 383541: 1282, 93575: 1283, 131300: 1284, 265307: 1285, 32331: 1286, 17591: 1287, 54634: 1288, 235195: 1289, 16015: 1290, 18110: 1291, 137771: 1292, 191830: 1293, 375710: 1294, 158634: 1295, 73732: 1296, 19239: 1297, 121288: 1298, 12295: 1299, 133110: 1300, 173691: 1301, 178311: 1302, 24988: 1303, 214007: 1304, 80765: 1305, 108492: 1306, 9272: 1307, 167579: 1308, 110843: 1309, 296259: 1310, 11272: 1311, 48333: 1312, 307293: 1313, 284999: 1314, 397684: 1315, 81160: 1316, 222188: 1317, 315984: 1318, 61747: 1319, 108901: 1320, 9055: 1321, 166851: 1322, 35410: 1323, 356806: 1324, 98273: 1325, 22210: 1326, 204740: 1327, 303440: 1328, 147055: 1329, 437052: 1330, 31717: 1331, 147326: 1332, 130637: 1333, 91269: 1334, 176319: 1335, 319601: 1336, 133718: 1337, 51803: 1338, 242479: 1339, 134437: 1340, 94441: 1341, 253026: 1342, 45940: 1343, 208822: 1344, 120051: 1345, 29846: 1346, 335539: 1347, 118475: 1348, 56232: 1349, 64448: 1350, 16716: 1351, 147444: 1352, 110743: 1353, 282939: 1354, 42169: 1355, 275681: 1356, 263633: 1357, 220438: 1358, 64061: 1359, 349738: 1360, 167202: 1361, 235270: 1362, 114638: 1363, 264246: 1364, 23367: 1365, 209076: 1366, 252897: 1367, 17764: 1368, 163079: 1369, 166878: 1370, 85127: 1371, 187151: 1372, 112454: 1373, 94861: 1374, 410273: 1375, 164369: 1376, 138528: 1377, 426872: 1378, 201716: 1379, 206730: 1380, 22176: 1381, 134347: 1382, 236642: 1383, 120568: 1384, 162902: 1385, 42656: 1386, 113094: 1387, 41286: 1388, 195547: 1389, 311400: 1390, 61621: 1391, 154139: 1392, 351979: 1393, 137253: 1394, 113998: 1395, 24609: 1396, 237468: 1397, 81635: 1398, 26306: 1399, 97531: 1400, 112096: 1401, 252966: 1402, 69170: 1403, 149734: 1404, 190235: 1405, 22782: 1406, 56776: 1407, 54167: 1408, 264190: 1409, 174947: 1410, 106633: 1411, 46726: 1412, 175230: 1413, 85463: 1414, 21221: 1415, 29704: 1416, 286990: 1417, 216133: 1418, 61792: 1419, 64356: 1420, 27085: 1421, 8739: 1422, 101803: 1423, 111849: 1424, 190139: 1425, 29693: 1426, 39160: 1427, 484315: 1428, 224355: 1429, 297272: 1430, 91344: 1431, 186029: 1432, 51888: 1433, 62205: 1434, 111299: 1435, 507748: 1436, 83192: 1437, 454725: 1438, 318659: 1439, 127230: 1440, 12572: 1441, 93190: 1442, 45033: 1443, 26963: 1444, 120175: 1445, 219407: 1446, 202055: 1447, 262751: 1448, 283812: 1449, 26337: 1450, 325571: 1451, 71273: 1452, 159837: 1453, 125618: 1454, 287149: 1455, 193405: 1456, 219035: 1457, 167664: 1458, 113105: 1459, 149748: 1460, 131090: 1461, 273410: 1462, 221248: 1463, 336592: 1464, 111302: 1465, 362800: 1466, 38496: 1467, 376109: 1468, 369791: 1469, 157080: 1470, 88489: 1471, 71409: 1472, 178417: 1473, 194746: 1474, 130137: 1475, 350655: 1476, 24986: 1477, 155369: 1478, 47107: 1479, 195832: 1480, 55324: 1481, 156236: 1482, 346506: 1483, 218950: 1484, 125898: 1485, 27509: 1486, 98724: 1487, 124054: 1488, 822: 1489, 52782: 1490, 74332: 1491, 135272: 1492, 67949: 1493, 14979: 1494, 361789: 1495, 62702: 1496, 398642: 1497, 109287: 1498, 191225: 1499, 44587: 1500, 86849: 1501, 52379: 1502, 137345: 1503, 71837: 1504, 437729: 1505, 145375: 1506, 202530: 1507, 35819: 1508, 390108: 1509, 389970: 1510, 158990: 1511, 54351: 1512, 258821: 1513, 227644: 1514, 464539: 1515, 46527: 1516, 80726: 1517, 140486: 1518, 73937: 1519, 37201: 1520, 133295: 1521, 12877: 1522, 8432: 1523, 197113: 1524, 24088: 1525, 163170: 1526, 95632: 1527, 75659: 1528, 187975: 1529, 60821: 1530, 306971: 1531, 180119: 1532, 260563: 1533, 210160: 1534, 17978: 1535, 22698: 1536, 76828: 1537, 71393: 1538, 209226: 1539, 463708: 1540, 277466: 1541, 228537: 1542, 9131: 1543, 357820: 1544, 61319: 1545, 50101: 1546, 189012: 1547, 17982: 1548, 250276: 1549, 167914: 1550, 26209: 1551, 216301: 1552, 45562: 1553, 69846: 1554, 301280: 1555, 37087: 1556, 154833: 1557, 227016: 1558, 20462: 1559, 162807: 1560, 164127: 1561, 102617: 1562, 222479: 1563, 352102: 1564, 92021: 1565, 128679: 1566, 89577: 1567, 66447: 1568, 187708: 1569, 50842: 1570, 148783: 1571, 163811: 1572, 192098: 1573, 356632: 1574, 71085: 1575, 40467: 1576, 176506: 1577, 10589: 1578, 307828: 1579, 403282: 1580, 72627: 1581, 86071: 1582, 357091: 1583, 25520: 1584, 303295: 1585, 101104: 1586, 392356: 1587, 78158: 1588, 117160: 1589, 45504: 1590, 156427: 1591, 31750: 1592, 202833: 1593, 61601: 1594, 56085: 1595, 401240: 1596, 328467: 1597, 106262: 1598, 288501: 1599, 116053: 1600, 15886: 1601, 120810: 1602, 380442: 1603, 59573: 1604, 281130: 1605, 5000: 1606, 169032: 1607, 14462: 1608, 427797: 1609, 369886: 1610, 304529: 1611, 26085: 1612, 183806: 1613, 94979: 1614, 232717: 1615, 444206: 1616, 499043: 1617, 289070: 1618, 376897: 1619, 90975: 1620, 15722: 1621, 74844: 1622, 99320: 1623, 230769: 1624, 204291: 1625, 210687: 1626, 290903: 1627, 33707: 1628, 26111: 1629, 313369: 1630, 106641: 1631, 53133: 1632, 215662: 1633, 178644: 1634, 360924: 1635, 96099: 1636, 353384: 1637, 65084: 1638, 449452: 1639, 73927: 1640, 76616: 1641, 118487: 1642, 464233: 1643, 49200: 1644, 29528: 1645, 144377: 1646, 203538: 1647, 49400: 1648, 376786: 1649, 111774: 1650, 207171: 1651, 104565: 1652, 328951: 1653, 465692: 1654, 24306: 1655, 29939: 1656, 319350: 1657, 276119: 1658, 285530: 1659, 105766: 1660, 72044: 1661, 226305: 1662, 305733: 1663, 55977: 1664, 105264: 1665, 171703: 1666, 56804: 1667, 20093: 1668, 95222: 1669, 228028: 1670, 221594: 1671, 4199: 1672, 11217: 1673, 336205: 1674, 95842: 1675, 331989: 1676, 397744: 1677, 275334: 1678, 227732: 1679, 110047: 1680, 208486: 1681, 446062: 1682, 417181: 1683, 50201: 1684, 89177: 1685, 151089: 1686, 434019: 1687, 55186: 1688, 179171: 1689, 424870: 1690, 401607: 1691, 192298: 1692, 225291: 1693, 87775: 1694, 321179: 1695, 3180: 1696, 425626: 1697, 103966: 1698, 427482: 1699, 37393: 1700, 151614: 1701, 257794: 1702, 4312: 1703, 49232: 1704, 11345: 1705, 60877: 1706, 446975: 1707, 23312: 1708, 395145: 1709, 86691: 1710, 30360: 1711, 351440: 1712, 9836: 1713, 37639: 1714, 8626: 1715, 5297: 1716, 384069: 1717, 52253: 1718, 109297: 1719, 31230: 1720, 137164: 1721, 138239: 1722, 208554: 1723, 106363: 1724, 70778: 1725, 367952: 1726, 152413: 1727, 377848: 1728, 423880: 1729, 43503: 1730, 224793: 1731, 372388: 1732, 381325: 1733, 4957: 1734, 52251: 1735, 235054: 1736, 246849: 1737, 14960: 1738, 139499: 1739, 264669: 1740, 50590: 1741, 111777: 1742, 76610: 1743, 47641: 1744, 355506: 1745, 224710: 1746, 193354: 1747, 42901: 1748, 23779: 1749, 39745: 1750, 178153: 1751, 75531: 1752, 31833: 1753, 116205: 1754, 144673: 1755, 61857: 1756, 50875: 1757, 281771: 1758, 161439: 1759, 21120: 1760, 277175: 1761, 60339: 1762, 43507: 1763, 234608: 1764, 18066: 1765, 185409: 1766, 90544: 1767, 445240: 1768, 170721: 1769, 267896: 1770, 200504: 1771, 37968: 1772, 38238: 1773, 137328: 1774, 96635: 1775, 109880: 1776, 130623: 1777, 17186: 1778, 90080: 1779, 274815: 1780, 16211: 1781, 139488: 1782, 240807: 1783, 54112: 1784, 194283: 1785, 101839: 1786, 223897: 1787, 405033: 1788, 160537: 1789, 141789: 1790, 429768: 1791, 443144: 1792, 32290: 1793, 133902: 1794, 179522: 1795, 355889: 1796, 369849: 1797, 378033: 1798, 102677: 1799, 182600: 1800, 32844: 1801, 372574: 1802, 36232: 1803, 129825: 1804, 8507: 1805, 26370: 1806, 25753: 1807, 134402: 1808, 108527: 1809, 115208: 1810, 205504: 1811, 19577: 1812, 384800: 1813, 312478: 1814, 51140: 1815, 327077: 1816, 126086: 1817, 24978: 1818, 86178: 1819, 3768: 1820, 304636: 1821, 328828: 1822, 331112: 1823, 182386: 1824, 12365: 1825, 223844: 1826, 217415: 1827, 88294: 1828, 67204: 1829, 186363: 1830, 444408: 1831, 503781: 1832, 97297: 1833, 443987: 1834, 84957: 1835, 385365: 1836, 144179: 1837, 210576: 1838, 11811: 1839, 134192: 1840, 98493: 1841, 11107: 1842, 2496: 1843, 117253: 1844, 160089: 1845, 63746: 1846, 17509: 1847, 414317: 1848, 135386: 1849, 285832: 1850, 171628: 1851, 139807: 1852, 215789: 1853, 100480: 1854, 5170: 1855, 53605: 1856, 287680: 1857, 135777: 1858, 49401: 1859, 82697: 1860, 93295: 1861, 90454: 1862, 145573: 1863, 304163: 1864, 374354: 1865, 152013: 1866, 56695: 1867, 62907: 1868, 245503: 1869, 467873: 1870, 124503: 1871, 79563: 1872, 87380: 1873, 90745: 1874, 166289: 1875, 85002: 1876, 467362: 1877, 455551: 1878, 524863: 1879, 88615: 1880, 16752: 1881, 71849: 1882, 86637: 1883, 360000: 1884, 93886: 1885, 84310: 1886, 63786: 1887, 61153: 1888, 454315: 1889, 81207: 1890, 227991: 1891, 333702: 1892, 159239: 1893, 361715: 1894, 78024: 1895, 147850: 1896, 97523: 1897, 18632: 1898, 447553: 1899, 100663: 1900, 362501: 1901, 307320: 1902, 15968: 1903, 89181: 1904, 58347: 1905, 16981: 1906, 46780: 1907, 213214: 1908, 13473: 1909, 112064: 1910, 70294: 1911, 17012: 1912, 149506: 1913, 169303: 1914}\n",
      "encoded angka ke recipe_id:  {0: 491150, 1: 50367, 2: 388076, 3: 82666, 4: 477779, 5: 293316, 6: 329224, 7: 217803, 8: 123111, 9: 112478, 10: 62936, 11: 473421, 12: 34853, 13: 286015, 14: 27208, 15: 126611, 16: 43812, 17: 76495, 18: 374133, 19: 494105, 20: 386397, 21: 320452, 22: 31811, 23: 39087, 24: 257701, 25: 113014, 26: 38824, 27: 49153, 28: 236725, 29: 57062, 30: 211523, 31: 94055, 32: 140051, 33: 115153, 34: 93573, 35: 117370, 36: 53907, 37: 3470, 38: 17092, 39: 118285, 40: 392711, 41: 3653, 42: 173701, 43: 123854, 44: 137370, 45: 56891, 46: 132757, 47: 32277, 48: 118373, 49: 15025, 50: 25568, 51: 51834, 52: 371960, 53: 117317, 54: 403520, 55: 240260, 56: 154740, 57: 162961, 58: 256670, 59: 1236, 60: 248350, 61: 61044, 62: 15072, 63: 198995, 64: 87072, 65: 449590, 66: 256175, 67: 188291, 68: 321624, 69: 29413, 70: 85516, 71: 51830, 72: 87028, 73: 108964, 74: 137495, 75: 107997, 76: 221275, 77: 335132, 78: 377585, 79: 261072, 80: 31286, 81: 330420, 82: 411617, 83: 63446, 84: 8701, 85: 49534, 86: 458842, 87: 289343, 88: 116266, 89: 28165, 90: 110604, 91: 32880, 92: 22539, 93: 401282, 94: 168258, 95: 92660, 96: 367044, 97: 450096, 98: 46501, 99: 445697, 100: 202200, 101: 241042, 102: 301865, 103: 71227, 104: 60820, 105: 401483, 106: 77666, 107: 461075, 108: 105260, 109: 61827, 110: 105051, 111: 211496, 112: 208369, 113: 403492, 114: 323117, 115: 323677, 116: 161430, 117: 319384, 118: 371606, 119: 142729, 120: 24217, 121: 59668, 122: 61333, 123: 71373, 124: 425704, 125: 268411, 126: 287276, 127: 86983, 128: 151090, 129: 223028, 130: 96139, 131: 121441, 132: 152596, 133: 20786, 134: 146288, 135: 203634, 136: 151565, 137: 300178, 138: 68274, 139: 179854, 140: 444127, 141: 313028, 142: 116230, 143: 218629, 144: 256001, 145: 42367, 146: 241030, 147: 146427, 148: 51306, 149: 14888, 150: 235408, 151: 136946, 152: 463947, 153: 240465, 154: 14186, 155: 133056, 156: 23789, 157: 111413, 158: 60160, 159: 361842, 160: 30018, 161: 165563, 162: 355130, 163: 122836, 164: 45602, 165: 131018, 166: 45784, 167: 114749, 168: 52362, 169: 110726, 170: 108775, 171: 101789, 172: 210757, 173: 237495, 174: 96523, 175: 84987, 176: 65911, 177: 194339, 178: 82102, 179: 121205, 180: 307052, 181: 53048, 182: 228330, 183: 364882, 184: 146022, 185: 91460, 186: 179940, 187: 142524, 188: 23195, 189: 47818, 190: 2708, 191: 466236, 192: 272391, 193: 305026, 194: 408145, 195: 23726, 196: 219073, 197: 158292, 198: 1356, 199: 186566, 200: 494720, 201: 95926, 202: 73450, 203: 401532, 204: 123696, 205: 53293, 206: 59636, 207: 155186, 208: 416475, 209: 298530, 210: 427971, 211: 70287, 212: 106298, 213: 211060, 214: 159657, 215: 114908, 216: 24548, 217: 383692, 218: 87782, 219: 342042, 220: 51104, 221: 77774, 222: 139668, 223: 113490, 224: 89204, 225: 24712, 226: 63828, 227: 412044, 228: 193509, 229: 7435, 230: 86275, 231: 130386, 232: 137732, 233: 373092, 234: 501151, 235: 50684, 236: 24952, 237: 95598, 238: 33770, 239: 275854, 240: 28439, 241: 66575, 242: 99645, 243: 18286, 244: 29765, 245: 210171, 246: 394518, 247: 266894, 248: 271547, 249: 536678, 250: 207432, 251: 348440, 252: 151446, 253: 277242, 254: 266296, 255: 67490, 256: 463294, 257: 156293, 258: 83945, 259: 217754, 260: 61591, 261: 34450, 262: 252241, 263: 487985, 264: 142860, 265: 130785, 266: 261634, 267: 122030, 268: 79526, 269: 81564, 270: 423116, 271: 200577, 272: 180964, 273: 170166, 274: 20387, 275: 105830, 276: 238347, 277: 49833, 278: 150863, 279: 272815, 280: 155458, 281: 11293, 282: 47062, 283: 108524, 284: 25625, 285: 116152, 286: 218059, 287: 14086, 288: 200452, 289: 123813, 290: 13214, 291: 96988, 292: 47953, 293: 16267, 294: 443305, 295: 41996, 296: 53081, 297: 194109, 298: 19915, 299: 278806, 300: 146246, 301: 122379, 302: 168634, 303: 172050, 304: 382072, 305: 55519, 306: 128749, 307: 227127, 308: 17475, 309: 105454, 310: 178833, 311: 58263, 312: 309276, 313: 129926, 314: 88880, 315: 16465, 316: 357354, 317: 106666, 318: 54379, 319: 151292, 320: 292483, 321: 4344, 322: 105670, 323: 76360, 324: 225324, 325: 26849, 326: 257276, 327: 97122, 328: 170184, 329: 453637, 330: 93802, 331: 192896, 332: 187362, 333: 277704, 334: 350894, 335: 122786, 336: 48289, 337: 61038, 338: 77585, 339: 12316, 340: 20184, 341: 28768, 342: 89048, 343: 78048, 344: 316226, 345: 31629, 346: 48636, 347: 83524, 348: 207034, 349: 5343, 350: 455832, 351: 201918, 352: 448966, 353: 291125, 354: 98981, 355: 333917, 356: 416720, 357: 221541, 358: 62708, 359: 428627, 360: 62513, 361: 377581, 362: 143995, 363: 193831, 364: 234213, 365: 323289, 366: 15870, 367: 19710, 368: 74532, 369: 244768, 370: 34382, 371: 74224, 372: 49990, 373: 297251, 374: 47851, 375: 258844, 376: 12921, 377: 104014, 378: 94296, 379: 10481, 380: 65051, 381: 327922, 382: 185453, 383: 28880, 384: 126596, 385: 307678, 386: 297856, 387: 483743, 388: 60018, 389: 137860, 390: 489734, 391: 497981, 392: 334417, 393: 225346, 394: 137262, 395: 88486, 396: 12294, 397: 52743, 398: 13269, 399: 119178, 400: 80156, 401: 33170, 402: 26820, 403: 24612, 404: 87887, 405: 32215, 406: 193972, 407: 8777, 408: 264110, 409: 68955, 410: 10297, 411: 176874, 412: 75955, 413: 107786, 414: 187210, 415: 190940, 416: 89725, 417: 31349, 418: 203715, 419: 43817, 420: 141983, 421: 63986, 422: 27021, 423: 264565, 424: 154861, 425: 41950, 426: 424710, 427: 40788, 428: 99103, 429: 989, 430: 227439, 431: 4271, 432: 63712, 433: 192, 434: 88794, 435: 109264, 436: 89678, 437: 341903, 438: 76864, 439: 251329, 440: 96925, 441: 50412, 442: 87421, 443: 112725, 444: 210409, 445: 16531, 446: 147090, 447: 531161, 448: 262140, 449: 246959, 450: 50767, 451: 29100, 452: 13379, 453: 486261, 454: 223591, 455: 20233, 456: 53343, 457: 53758, 458: 113817, 459: 61851, 460: 99156, 461: 141940, 462: 134775, 463: 77992, 464: 424532, 465: 335676, 466: 410728, 467: 217263, 468: 82591, 469: 357116, 470: 103403, 471: 143991, 472: 103762, 473: 108522, 474: 152441, 475: 207320, 476: 203762, 477: 51997, 478: 51924, 479: 344319, 480: 159615, 481: 385129, 482: 316263, 483: 322957, 484: 226408, 485: 411056, 486: 95893, 487: 54854, 488: 91363, 489: 31147, 490: 62995, 491: 25458, 492: 107956, 493: 151223, 494: 13087, 495: 181186, 496: 230211, 497: 121053, 498: 43750, 499: 321164, 500: 291234, 501: 22910, 502: 71537, 503: 119767, 504: 58516, 505: 266170, 506: 115321, 507: 15431, 508: 348492, 509: 13073, 510: 256451, 511: 536, 512: 2886, 513: 3954, 514: 168785, 515: 77692, 516: 47616, 517: 132263, 518: 116601, 519: 11493, 520: 31083, 521: 159982, 522: 28943, 523: 96204, 524: 40727, 525: 203112, 526: 38996, 527: 122193, 528: 423682, 529: 116236, 530: 283311, 531: 100763, 532: 215919, 533: 366087, 534: 70522, 535: 91454, 536: 109839, 537: 80435, 538: 105548, 539: 138440, 540: 100362, 541: 20374, 542: 73754, 543: 49252, 544: 342892, 545: 422895, 546: 160394, 547: 33489, 548: 87748, 549: 170223, 550: 86727, 551: 253310, 552: 97365, 553: 28984, 554: 79004, 555: 118241, 556: 31959, 557: 32317, 558: 79566, 559: 172830, 560: 90674, 561: 64376, 562: 419935, 563: 109669, 564: 466455, 565: 66850, 566: 252395, 567: 107281, 568: 148385, 569: 85382, 570: 123206, 571: 175264, 572: 13862, 573: 316866, 574: 81419, 575: 415103, 576: 201, 577: 52406, 578: 105141, 579: 284428, 580: 339988, 581: 180034, 582: 42710, 583: 273114, 584: 167136, 585: 92994, 586: 24378, 587: 490440, 588: 332140, 589: 95466, 590: 330932, 591: 75202, 592: 20077, 593: 515466, 594: 102830, 595: 81406, 596: 352781, 597: 235402, 598: 344648, 599: 17962, 600: 105545, 601: 27999, 602: 329774, 603: 152170, 604: 514965, 605: 155021, 606: 139135, 607: 65347, 608: 10478, 609: 118361, 610: 142325, 611: 111661, 612: 10404, 613: 243205, 614: 456, 615: 19101, 616: 258754, 617: 186965, 618: 272045, 619: 94670, 620: 10075, 621: 264506, 622: 52999, 623: 89066, 624: 111951, 625: 178075, 626: 326682, 627: 10785, 628: 101971, 629: 391984, 630: 307917, 631: 254778, 632: 341581, 633: 259769, 634: 92096, 635: 305739, 636: 216237, 637: 203925, 638: 72506, 639: 402866, 640: 100999, 641: 15773, 642: 35027, 643: 149514, 644: 124391, 645: 98197, 646: 31128, 647: 23922, 648: 22493, 649: 184501, 650: 11028, 651: 15553, 652: 53620, 653: 247096, 654: 110458, 655: 188041, 656: 108248, 657: 7645, 658: 123526, 659: 45497, 660: 16705, 661: 44887, 662: 164367, 663: 211602, 664: 104022, 665: 332873, 666: 121648, 667: 263336, 668: 9050, 669: 347977, 670: 35805, 671: 327776, 672: 158440, 673: 26723, 674: 158591, 675: 101132, 676: 429569, 677: 249147, 678: 503093, 679: 302004, 680: 449809, 681: 293243, 682: 29301, 683: 37187, 684: 29210, 685: 196167, 686: 146361, 687: 13699, 688: 75302, 689: 33869, 690: 259786, 691: 157674, 692: 139874, 693: 344336, 694: 156586, 695: 132052, 696: 53643, 697: 482400, 698: 204124, 699: 80931, 700: 17316, 701: 183334, 702: 242319, 703: 296692, 704: 52104, 705: 15194, 706: 58345, 707: 152087, 708: 110806, 709: 70022, 710: 325674, 711: 192661, 712: 50022, 713: 69051, 714: 62505, 715: 205569, 716: 90361, 717: 22908, 718: 374959, 719: 4627, 720: 204551, 721: 383868, 722: 223073, 723: 21201, 724: 456475, 725: 380988, 726: 306878, 727: 129345, 728: 187184, 729: 214384, 730: 9823, 731: 45672, 732: 52358, 733: 84161, 734: 122323, 735: 119387, 736: 54257, 737: 28148, 738: 135350, 739: 66148, 740: 119586, 741: 96843, 742: 197922, 743: 21768, 744: 53285, 745: 1746, 746: 431399, 747: 10125, 748: 151177, 749: 153694, 750: 59219, 751: 4897, 752: 444693, 753: 8251, 754: 272698, 755: 419782, 756: 169620, 757: 71109, 758: 163343, 759: 243419, 760: 82830, 761: 28530, 762: 112578, 763: 225761, 764: 130084, 765: 41703, 766: 129438, 767: 531172, 768: 453782, 769: 250284, 770: 145580, 771: 17727, 772: 32204, 773: 309586, 774: 311749, 775: 49929, 776: 292396, 777: 71503, 778: 373374, 779: 26911, 780: 221779, 781: 162319, 782: 607, 783: 281472, 784: 312076, 785: 74275, 786: 111783, 787: 284640, 788: 98035, 789: 200673, 790: 370046, 791: 210059, 792: 41893, 793: 139227, 794: 96098, 795: 57177, 796: 116536, 797: 425747, 798: 11615, 799: 190639, 800: 65131, 801: 14433, 802: 18597, 803: 59289, 804: 381195, 805: 37413, 806: 434863, 807: 7537, 808: 59662, 809: 35629, 810: 306373, 811: 171421, 812: 53508, 813: 205873, 814: 15865, 815: 37638, 816: 134924, 817: 97389, 818: 121987, 819: 120519, 820: 178337, 821: 12654, 822: 344032, 823: 118112, 824: 45070, 825: 102015, 826: 259423, 827: 13704, 828: 521550, 829: 295726, 830: 453403, 831: 358997, 832: 256294, 833: 321710, 834: 466949, 835: 107996, 836: 428770, 837: 285538, 838: 338900, 839: 384750, 840: 195729, 841: 36041, 842: 438883, 843: 51235, 844: 43023, 845: 130916, 846: 238994, 847: 140050, 848: 47702, 849: 20437, 850: 128098, 851: 148484, 852: 23480, 853: 272309, 854: 359279, 855: 426510, 856: 109577, 857: 272671, 858: 133435, 859: 107868, 860: 345212, 861: 399826, 862: 55294, 863: 83828, 864: 56459, 865: 131042, 866: 170581, 867: 102524, 868: 14325, 869: 183769, 870: 24054, 871: 97496, 872: 65886, 873: 262510, 874: 69173, 875: 384132, 876: 12660, 877: 33362, 878: 10780, 879: 72303, 880: 132535, 881: 8972, 882: 56287, 883: 113097, 884: 481041, 885: 1600, 886: 248008, 887: 261263, 888: 312573, 889: 155480, 890: 3094, 891: 181857, 892: 55673, 893: 424775, 894: 77476, 895: 104729, 896: 65986, 897: 99272, 898: 310967, 899: 153067, 900: 159780, 901: 57919, 902: 45963, 903: 139518, 904: 234885, 905: 82486, 906: 239333, 907: 255852, 908: 462021, 909: 136829, 910: 33147, 911: 316463, 912: 87925, 913: 113006, 914: 24085, 915: 118828, 916: 7944, 917: 138296, 918: 401451, 919: 353990, 920: 83008, 921: 266939, 922: 23429, 923: 5158, 924: 311788, 925: 62567, 926: 223679, 927: 53328, 928: 31632, 929: 231135, 930: 476656, 931: 89819, 932: 188958, 933: 367439, 934: 33454, 935: 381269, 936: 261382, 937: 189571, 938: 32511, 939: 62700, 940: 336622, 941: 282997, 942: 56748, 943: 278914, 944: 12369, 945: 362486, 946: 181106, 947: 48913, 948: 310687, 949: 79944, 950: 305900, 951: 69372, 952: 199326, 953: 226802, 954: 63031, 955: 110507, 956: 8613, 957: 217753, 958: 98034, 959: 50395, 960: 256970, 961: 11274, 962: 74453, 963: 368707, 964: 38413, 965: 424536, 966: 43509, 967: 8574, 968: 338442, 969: 144148, 970: 195908, 971: 56969, 972: 233651, 973: 261772, 974: 201452, 975: 95068, 976: 347701, 977: 175976, 978: 80079, 979: 363571, 980: 30081, 981: 117319, 982: 155018, 983: 341097, 984: 88625, 985: 69630, 986: 100404, 987: 605, 988: 306090, 989: 75130, 990: 52757, 991: 126623, 992: 286624, 993: 82972, 994: 23143, 995: 385611, 996: 351304, 997: 49590, 998: 356040, 999: 109603, 1000: 287112, 1001: 168117, 1002: 88304, 1003: 279941, 1004: 117372, 1005: 203028, 1006: 201195, 1007: 13388, 1008: 187731, 1009: 217179, 1010: 15411, 1011: 131447, 1012: 33919, 1013: 16702, 1014: 428026, 1015: 98636, 1016: 100009, 1017: 26049, 1018: 428860, 1019: 215760, 1020: 314702, 1021: 138315, 1022: 311466, 1023: 222399, 1024: 19177, 1025: 433477, 1026: 420677, 1027: 179371, 1028: 66686, 1029: 115886, 1030: 392060, 1031: 161909, 1032: 88430, 1033: 72467, 1034: 407907, 1035: 45244, 1036: 44007, 1037: 288345, 1038: 349731, 1039: 66976, 1040: 29679, 1041: 26036, 1042: 259920, 1043: 502536, 1044: 138782, 1045: 100761, 1046: 62564, 1047: 38085, 1048: 174022, 1049: 89523, 1050: 157068, 1051: 217989, 1052: 68118, 1053: 472170, 1054: 83203, 1055: 190410, 1056: 9114, 1057: 163739, 1058: 229506, 1059: 121875, 1060: 186849, 1061: 132764, 1062: 331991, 1063: 147596, 1064: 350722, 1065: 94532, 1066: 117061, 1067: 79766, 1068: 35185, 1069: 385221, 1070: 108105, 1071: 25885, 1072: 80413, 1073: 97425, 1074: 391327, 1075: 339322, 1076: 339284, 1077: 146029, 1078: 73166, 1079: 35328, 1080: 27652, 1081: 254289, 1082: 31607, 1083: 77300, 1084: 92072, 1085: 102234, 1086: 77087, 1087: 283040, 1088: 22612, 1089: 198488, 1090: 96886, 1091: 189441, 1092: 163971, 1093: 204045, 1094: 105874, 1095: 276155, 1096: 75316, 1097: 205883, 1098: 28011, 1099: 157194, 1100: 72867, 1101: 84516, 1102: 56818, 1103: 205610, 1104: 36510, 1105: 61210, 1106: 271023, 1107: 357881, 1108: 67256, 1109: 140307, 1110: 47549, 1111: 55056, 1112: 106627, 1113: 137972, 1114: 89908, 1115: 42094, 1116: 106586, 1117: 361064, 1118: 192371, 1119: 130015, 1120: 416201, 1121: 124666, 1122: 121405, 1123: 84141, 1124: 14016, 1125: 358553, 1126: 2066, 1127: 17601, 1128: 116899, 1129: 310418, 1130: 9782, 1131: 98526, 1132: 61789, 1133: 57772, 1134: 495152, 1135: 25631, 1136: 67068, 1137: 106435, 1138: 56218, 1139: 85148, 1140: 172455, 1141: 33921, 1142: 135664, 1143: 280795, 1144: 345614, 1145: 270583, 1146: 311567, 1147: 326810, 1148: 228390, 1149: 64699, 1150: 166466, 1151: 94963, 1152: 35932, 1153: 491807, 1154: 106056, 1155: 21175, 1156: 67329, 1157: 118641, 1158: 77001, 1159: 372941, 1160: 235943, 1161: 29884, 1162: 97498, 1163: 14613, 1164: 83409, 1165: 168780, 1166: 9492, 1167: 191473, 1168: 71497, 1169: 68063, 1170: 99746, 1171: 110548, 1172: 442890, 1173: 19253, 1174: 315262, 1175: 138618, 1176: 75225, 1177: 97573, 1178: 68328, 1179: 170248, 1180: 76630, 1181: 81621, 1182: 35775, 1183: 346053, 1184: 247699, 1185: 47651, 1186: 142936, 1187: 57763, 1188: 300227, 1189: 160432, 1190: 66703, 1191: 120363, 1192: 115335, 1193: 4151, 1194: 226167, 1195: 360231, 1196: 41228, 1197: 352749, 1198: 61826, 1199: 134606, 1200: 362347, 1201: 190117, 1202: 64235, 1203: 116462, 1204: 192406, 1205: 121959, 1206: 34011, 1207: 5083, 1208: 22097, 1209: 182035, 1210: 196139, 1211: 51141, 1212: 349246, 1213: 114392, 1214: 19724, 1215: 108948, 1216: 94395, 1217: 44133, 1218: 109699, 1219: 87073, 1220: 28927, 1221: 102054, 1222: 281425, 1223: 30600, 1224: 31639, 1225: 199845, 1226: 82888, 1227: 258094, 1228: 19047, 1229: 333229, 1230: 59043, 1231: 237736, 1232: 27520, 1233: 94759, 1234: 28747, 1235: 63689, 1236: 40497, 1237: 464815, 1238: 340469, 1239: 109918, 1240: 62910, 1241: 31567, 1242: 307995, 1243: 139513, 1244: 103516, 1245: 48973, 1246: 107741, 1247: 8794, 1248: 427407, 1249: 423137, 1250: 64588, 1251: 458220, 1252: 463076, 1253: 131109, 1254: 518068, 1255: 340621, 1256: 181530, 1257: 109750, 1258: 120326, 1259: 14381, 1260: 160798, 1261: 56762, 1262: 28261, 1263: 130108, 1264: 8384, 1265: 149195, 1266: 261951, 1267: 94234, 1268: 20643, 1269: 42069, 1270: 17394, 1271: 30359, 1272: 31266, 1273: 134215, 1274: 332014, 1275: 21686, 1276: 95254, 1277: 275997, 1278: 200296, 1279: 17934, 1280: 108231, 1281: 123008, 1282: 383541, 1283: 93575, 1284: 131300, 1285: 265307, 1286: 32331, 1287: 17591, 1288: 54634, 1289: 235195, 1290: 16015, 1291: 18110, 1292: 137771, 1293: 191830, 1294: 375710, 1295: 158634, 1296: 73732, 1297: 19239, 1298: 121288, 1299: 12295, 1300: 133110, 1301: 173691, 1302: 178311, 1303: 24988, 1304: 214007, 1305: 80765, 1306: 108492, 1307: 9272, 1308: 167579, 1309: 110843, 1310: 296259, 1311: 11272, 1312: 48333, 1313: 307293, 1314: 284999, 1315: 397684, 1316: 81160, 1317: 222188, 1318: 315984, 1319: 61747, 1320: 108901, 1321: 9055, 1322: 166851, 1323: 35410, 1324: 356806, 1325: 98273, 1326: 22210, 1327: 204740, 1328: 303440, 1329: 147055, 1330: 437052, 1331: 31717, 1332: 147326, 1333: 130637, 1334: 91269, 1335: 176319, 1336: 319601, 1337: 133718, 1338: 51803, 1339: 242479, 1340: 134437, 1341: 94441, 1342: 253026, 1343: 45940, 1344: 208822, 1345: 120051, 1346: 29846, 1347: 335539, 1348: 118475, 1349: 56232, 1350: 64448, 1351: 16716, 1352: 147444, 1353: 110743, 1354: 282939, 1355: 42169, 1356: 275681, 1357: 263633, 1358: 220438, 1359: 64061, 1360: 349738, 1361: 167202, 1362: 235270, 1363: 114638, 1364: 264246, 1365: 23367, 1366: 209076, 1367: 252897, 1368: 17764, 1369: 163079, 1370: 166878, 1371: 85127, 1372: 187151, 1373: 112454, 1374: 94861, 1375: 410273, 1376: 164369, 1377: 138528, 1378: 426872, 1379: 201716, 1380: 206730, 1381: 22176, 1382: 134347, 1383: 236642, 1384: 120568, 1385: 162902, 1386: 42656, 1387: 113094, 1388: 41286, 1389: 195547, 1390: 311400, 1391: 61621, 1392: 154139, 1393: 351979, 1394: 137253, 1395: 113998, 1396: 24609, 1397: 237468, 1398: 81635, 1399: 26306, 1400: 97531, 1401: 112096, 1402: 252966, 1403: 69170, 1404: 149734, 1405: 190235, 1406: 22782, 1407: 56776, 1408: 54167, 1409: 264190, 1410: 174947, 1411: 106633, 1412: 46726, 1413: 175230, 1414: 85463, 1415: 21221, 1416: 29704, 1417: 286990, 1418: 216133, 1419: 61792, 1420: 64356, 1421: 27085, 1422: 8739, 1423: 101803, 1424: 111849, 1425: 190139, 1426: 29693, 1427: 39160, 1428: 484315, 1429: 224355, 1430: 297272, 1431: 91344, 1432: 186029, 1433: 51888, 1434: 62205, 1435: 111299, 1436: 507748, 1437: 83192, 1438: 454725, 1439: 318659, 1440: 127230, 1441: 12572, 1442: 93190, 1443: 45033, 1444: 26963, 1445: 120175, 1446: 219407, 1447: 202055, 1448: 262751, 1449: 283812, 1450: 26337, 1451: 325571, 1452: 71273, 1453: 159837, 1454: 125618, 1455: 287149, 1456: 193405, 1457: 219035, 1458: 167664, 1459: 113105, 1460: 149748, 1461: 131090, 1462: 273410, 1463: 221248, 1464: 336592, 1465: 111302, 1466: 362800, 1467: 38496, 1468: 376109, 1469: 369791, 1470: 157080, 1471: 88489, 1472: 71409, 1473: 178417, 1474: 194746, 1475: 130137, 1476: 350655, 1477: 24986, 1478: 155369, 1479: 47107, 1480: 195832, 1481: 55324, 1482: 156236, 1483: 346506, 1484: 218950, 1485: 125898, 1486: 27509, 1487: 98724, 1488: 124054, 1489: 822, 1490: 52782, 1491: 74332, 1492: 135272, 1493: 67949, 1494: 14979, 1495: 361789, 1496: 62702, 1497: 398642, 1498: 109287, 1499: 191225, 1500: 44587, 1501: 86849, 1502: 52379, 1503: 137345, 1504: 71837, 1505: 437729, 1506: 145375, 1507: 202530, 1508: 35819, 1509: 390108, 1510: 389970, 1511: 158990, 1512: 54351, 1513: 258821, 1514: 227644, 1515: 464539, 1516: 46527, 1517: 80726, 1518: 140486, 1519: 73937, 1520: 37201, 1521: 133295, 1522: 12877, 1523: 8432, 1524: 197113, 1525: 24088, 1526: 163170, 1527: 95632, 1528: 75659, 1529: 187975, 1530: 60821, 1531: 306971, 1532: 180119, 1533: 260563, 1534: 210160, 1535: 17978, 1536: 22698, 1537: 76828, 1538: 71393, 1539: 209226, 1540: 463708, 1541: 277466, 1542: 228537, 1543: 9131, 1544: 357820, 1545: 61319, 1546: 50101, 1547: 189012, 1548: 17982, 1549: 250276, 1550: 167914, 1551: 26209, 1552: 216301, 1553: 45562, 1554: 69846, 1555: 301280, 1556: 37087, 1557: 154833, 1558: 227016, 1559: 20462, 1560: 162807, 1561: 164127, 1562: 102617, 1563: 222479, 1564: 352102, 1565: 92021, 1566: 128679, 1567: 89577, 1568: 66447, 1569: 187708, 1570: 50842, 1571: 148783, 1572: 163811, 1573: 192098, 1574: 356632, 1575: 71085, 1576: 40467, 1577: 176506, 1578: 10589, 1579: 307828, 1580: 403282, 1581: 72627, 1582: 86071, 1583: 357091, 1584: 25520, 1585: 303295, 1586: 101104, 1587: 392356, 1588: 78158, 1589: 117160, 1590: 45504, 1591: 156427, 1592: 31750, 1593: 202833, 1594: 61601, 1595: 56085, 1596: 401240, 1597: 328467, 1598: 106262, 1599: 288501, 1600: 116053, 1601: 15886, 1602: 120810, 1603: 380442, 1604: 59573, 1605: 281130, 1606: 5000, 1607: 169032, 1608: 14462, 1609: 427797, 1610: 369886, 1611: 304529, 1612: 26085, 1613: 183806, 1614: 94979, 1615: 232717, 1616: 444206, 1617: 499043, 1618: 289070, 1619: 376897, 1620: 90975, 1621: 15722, 1622: 74844, 1623: 99320, 1624: 230769, 1625: 204291, 1626: 210687, 1627: 290903, 1628: 33707, 1629: 26111, 1630: 313369, 1631: 106641, 1632: 53133, 1633: 215662, 1634: 178644, 1635: 360924, 1636: 96099, 1637: 353384, 1638: 65084, 1639: 449452, 1640: 73927, 1641: 76616, 1642: 118487, 1643: 464233, 1644: 49200, 1645: 29528, 1646: 144377, 1647: 203538, 1648: 49400, 1649: 376786, 1650: 111774, 1651: 207171, 1652: 104565, 1653: 328951, 1654: 465692, 1655: 24306, 1656: 29939, 1657: 319350, 1658: 276119, 1659: 285530, 1660: 105766, 1661: 72044, 1662: 226305, 1663: 305733, 1664: 55977, 1665: 105264, 1666: 171703, 1667: 56804, 1668: 20093, 1669: 95222, 1670: 228028, 1671: 221594, 1672: 4199, 1673: 11217, 1674: 336205, 1675: 95842, 1676: 331989, 1677: 397744, 1678: 275334, 1679: 227732, 1680: 110047, 1681: 208486, 1682: 446062, 1683: 417181, 1684: 50201, 1685: 89177, 1686: 151089, 1687: 434019, 1688: 55186, 1689: 179171, 1690: 424870, 1691: 401607, 1692: 192298, 1693: 225291, 1694: 87775, 1695: 321179, 1696: 3180, 1697: 425626, 1698: 103966, 1699: 427482, 1700: 37393, 1701: 151614, 1702: 257794, 1703: 4312, 1704: 49232, 1705: 11345, 1706: 60877, 1707: 446975, 1708: 23312, 1709: 395145, 1710: 86691, 1711: 30360, 1712: 351440, 1713: 9836, 1714: 37639, 1715: 8626, 1716: 5297, 1717: 384069, 1718: 52253, 1719: 109297, 1720: 31230, 1721: 137164, 1722: 138239, 1723: 208554, 1724: 106363, 1725: 70778, 1726: 367952, 1727: 152413, 1728: 377848, 1729: 423880, 1730: 43503, 1731: 224793, 1732: 372388, 1733: 381325, 1734: 4957, 1735: 52251, 1736: 235054, 1737: 246849, 1738: 14960, 1739: 139499, 1740: 264669, 1741: 50590, 1742: 111777, 1743: 76610, 1744: 47641, 1745: 355506, 1746: 224710, 1747: 193354, 1748: 42901, 1749: 23779, 1750: 39745, 1751: 178153, 1752: 75531, 1753: 31833, 1754: 116205, 1755: 144673, 1756: 61857, 1757: 50875, 1758: 281771, 1759: 161439, 1760: 21120, 1761: 277175, 1762: 60339, 1763: 43507, 1764: 234608, 1765: 18066, 1766: 185409, 1767: 90544, 1768: 445240, 1769: 170721, 1770: 267896, 1771: 200504, 1772: 37968, 1773: 38238, 1774: 137328, 1775: 96635, 1776: 109880, 1777: 130623, 1778: 17186, 1779: 90080, 1780: 274815, 1781: 16211, 1782: 139488, 1783: 240807, 1784: 54112, 1785: 194283, 1786: 101839, 1787: 223897, 1788: 405033, 1789: 160537, 1790: 141789, 1791: 429768, 1792: 443144, 1793: 32290, 1794: 133902, 1795: 179522, 1796: 355889, 1797: 369849, 1798: 378033, 1799: 102677, 1800: 182600, 1801: 32844, 1802: 372574, 1803: 36232, 1804: 129825, 1805: 8507, 1806: 26370, 1807: 25753, 1808: 134402, 1809: 108527, 1810: 115208, 1811: 205504, 1812: 19577, 1813: 384800, 1814: 312478, 1815: 51140, 1816: 327077, 1817: 126086, 1818: 24978, 1819: 86178, 1820: 3768, 1821: 304636, 1822: 328828, 1823: 331112, 1824: 182386, 1825: 12365, 1826: 223844, 1827: 217415, 1828: 88294, 1829: 67204, 1830: 186363, 1831: 444408, 1832: 503781, 1833: 97297, 1834: 443987, 1835: 84957, 1836: 385365, 1837: 144179, 1838: 210576, 1839: 11811, 1840: 134192, 1841: 98493, 1842: 11107, 1843: 2496, 1844: 117253, 1845: 160089, 1846: 63746, 1847: 17509, 1848: 414317, 1849: 135386, 1850: 285832, 1851: 171628, 1852: 139807, 1853: 215789, 1854: 100480, 1855: 5170, 1856: 53605, 1857: 287680, 1858: 135777, 1859: 49401, 1860: 82697, 1861: 93295, 1862: 90454, 1863: 145573, 1864: 304163, 1865: 374354, 1866: 152013, 1867: 56695, 1868: 62907, 1869: 245503, 1870: 467873, 1871: 124503, 1872: 79563, 1873: 87380, 1874: 90745, 1875: 166289, 1876: 85002, 1877: 467362, 1878: 455551, 1879: 524863, 1880: 88615, 1881: 16752, 1882: 71849, 1883: 86637, 1884: 360000, 1885: 93886, 1886: 84310, 1887: 63786, 1888: 61153, 1889: 454315, 1890: 81207, 1891: 227991, 1892: 333702, 1893: 159239, 1894: 361715, 1895: 78024, 1896: 147850, 1897: 97523, 1898: 18632, 1899: 447553, 1900: 100663, 1901: 362501, 1902: 307320, 1903: 15968, 1904: 89181, 1905: 58347, 1906: 16981, 1907: 46780, 1908: 213214, 1909: 13473, 1910: 112064, 1911: 70294, 1912: 17012, 1913: 149506, 1914: 169303}\n"
     ]
    }
   ],
   "source": [
    "# Mengubah recipe_id menjadi list tanpa nilai yang sama\n",
    "recipe_ids = collaborative_df[\"recipe_id\"].unique().tolist()\n",
    "print(\"list recipe_id: \", recipe_ids)\n",
    "\n",
    "# Melakukan encoding terhadap recipe_id\n",
    "recipe_to_recipe_encoded = {x: i for i, x in enumerate(recipe_ids)}\n",
    "print(\"encoded recipe_id: \", recipe_to_recipe_encoded)\n",
    "\n",
    "# Melakukan proses encoding angka ke recipe_id\n",
    "recipe_encoded_to_recipe = {i: x for i, x in enumerate(recipe_ids)}\n",
    "print(\"encoded angka ke recipe_id: \", recipe_encoded_to_recipe)"
   ]
  },
  {
   "cell_type": "markdown",
   "metadata": {},
   "source": [
    "Melakukan encoding terhadap data user_id:"
   ]
  },
  {
   "cell_type": "code",
   "execution_count": 663,
   "metadata": {},
   "outputs": [
    {
     "name": "stdout",
     "output_type": "stream",
     "text": [
      "list user_id:  [2001108724, 135804, 1048246, 128950, 869153, 134124, 593927, 2000991193, 307995, 129652, 230617, 2179545, 9869, 37636, 194888, 201064, 145547, 176615, 632657, 383346, 113509, 107583, 179133, 327600, 1801014030, 229800, 55827, 55862, 797486, 233829, 47559, 90987, 83503, 1839316, 89831, 1565704, 168922, 605947, 41481, 2100351, 936601, 412186, 1336981, 1160862, 51011, 531768, 528197, 35701, 226863, 33135, 37471, 50509, 865936, 1830040, 28397, 550518, 2656825, 559290, 345380, 1449637, 1802863776, 2798981, 30911, 8629, 6357, 2308358, 226066, 37449, 379033, 486078, 567219, 14823, 101376, 98063, 229009, 670089, 1814518, 1224782, 469021, 537937, 1571237, 197023, 220166, 604073, 616177, 1179225, 361238, 752595, 2000695358, 487548, 31083, 358095, 288587, 2001681622, 270212, 895132, 383795, 573325, 128473, 143387, 653438, 322381, 851841, 460048, 96359, 486725, 513933, 135017, 270514, 813515, 354763, 61660, 293102, 1365025, 993476, 510313, 2021204, 211184, 439797, 142200, 110210, 153101, 1579905, 46046826, 246482, 37305, 264017, 141654, 424544, 158086, 39835, 295691, 420929, 37106, 679953, 108488, 92816, 920589, 1405270, 324390, 212609, 1138497, 55221, 166642, 284922, 1329782, 166019, 1094446, 29063, 705251, 121690, 1072593, 296809, 45059129, 1625628, 79772, 229619, 870705, 253283, 617508, 311757, 2001924259, 184594, 187069, 1485581, 415204, 362983, 70570, 68884, 579298, 258115, 651350, 2001478815, 42817523, 1251027, 189616, 465056, 1855913, 492485, 146284, 1058174, 60992, 268611, 2000292079, 195589, 126440, 1409966, 232823, 195852, 281293, 175803, 2000185368, 919613, 431813, 201581, 37080, 1135521, 675265, 601528, 7507, 424680, 280271, 2000912079, 248524, 396078, 175827, 298801, 345617, 747477, 1419314, 2000091861, 854842, 384041, 57400, 427184, 962690, 302445, 114882, 1909732, 442988, 2001612640, 2001861123, 111347, 668861, 663717, 1161157, 600105, 2001247868, 428885, 118268, 168896, 58210, 232669, 498271, 305531, 696631, 126435, 1160345, 91897, 185446, 232031, 366672, 58104, 198154, 998226, 101732, 653244, 221235, 157425, 98722, 341170, 1028917, 28995, 457992, 564101, 199848, 145410, 125411, 539686, 203823, 169969, 442014, 162826, 415934, 311203, 96796, 1800040750, 2001407734, 133174, 149415, 414166, 165623, 4740, 889489, 2002199158, 265559, 55578, 53586, 2001695335, 334628, 236959, 199792, 152251, 76273, 67243, 741591, 12118, 117927, 242729, 246266, 185387, 2775470, 624854, 1220686, 1644565, 59163, 2000354261, 146187, 590701, 79142, 33159, 1346217, 543029, 497077, 155469, 27443, 108460, 474840, 2001501054, 1231233, 35526, 63098, 13029, 373552, 274826, 1034569, 1800269591, 2136802, 689540, 388414, 193516, 452940, 236742, 1278514, 2717385, 808027, 13483, 640199, 98867, 2000894756, 1027870, 2087541, 258528, 1205987, 907991, 124416, 900992, 192581, 315565, 64625, 28087, 2001833200, 165217, 17803, 186979, 659630, 42217, 583349, 447742, 446143, 560491, 666723, 1211153, 1010380, 1125517, 103876, 68928, 513848, 88585, 29014, 307214, 577934, 2002317255, 2002286950, 1173262, 1500146, 319738, 885058, 225541, 657246, 134011, 814478, 118007, 1670583, 2757176, 231219, 77458, 53932, 11176, 394815, 680579, 66847, 1800108094, 52448, 587597, 2002361699, 2001529238, 355637, 620435, 341478, 36128, 1342334, 42041, 681033, 146486, 131088, 215014, 14410, 306797, 90767, 56718, 52282, 826620, 2001504418, 1463206, 269430, 470920, 163112, 596377, 941715, 22278, 1802849661, 2000822050, 160974, 188837, 713096, 501717, 599450, 2302567, 932899, 451700, 1122161, 661999, 173579, 43083, 351811, 131751, 56463, 138429, 767039, 1246968, 262203, 646042, 2002167039, 353579, 2422141, 369715, 1622480, 11461, 239808, 359533, 2000760176, 78466, 75705, 797706, 335855, 93997, 496999, 323186, 149295, 491337, 474155, 1832505, 793153, 173880, 144038, 394592, 2001442983, 231054, 88099, 1628373, 286566, 863930, 223979, 186149, 41503, 27643, 91392, 937528, 537578, 109110, 142335, 192332, 4470, 65573, 418915, 5060, 247473, 199213, 989152, 583193, 1347853, 171084, 854048, 145637, 136997, 1921136, 38172, 788178, 226887, 1107439, 223854, 1964159, 2168699, 400708, 115054, 173314, 659138, 172256, 33588, 437991, 212497, 1162654, 476053, 137854, 152393, 284904, 110135, 445654, 19540, 632249, 177362, 56905, 389660, 47907, 570804, 650758, 725368, 537188, 678366, 793440, 710088, 1230012, 95743, 65056, 370215, 28177, 2001352464, 1802364480, 302094, 2041451, 86520, 1914116, 142559, 1802119886, 2000225933, 29782, 468627, 15385, 649322, 3505, 39194, 1186623, 182010, 96955, 49516, 76695, 2176521, 1983265, 2002246049, 732283, 47892, 2555346, 2002004080, 2000357065, 269521, 140132, 21752, 1800054678, 65197, 267125, 1009143, 2000130290, 339025, 791407, 681167, 1320105, 852554, 611441, 1802636976, 1663989, 36944, 157080, 122001, 1706068, 513305, 170359, 283251, 1943764, 804794, 122595, 169774, 494068, 416985, 115758, 407207, 1562407, 2002043605, 174096, 2221308, 130663, 433225, 579630, 147095, 1699397, 597538, 1609858, 117438, 1372737, 2001910310, 340438, 76535, 152995, 275926, 107135, 67899, 95502, 1165778, 579760, 386849, 2158358, 346221, 318711, 524350, 1609326, 845315, 14613, 333017, 1364452, 14987, 131126, 1892740, 537400, 530085, 471700, 302689, 671893, 1445088, 87023, 293946, 394288, 1185672, 183098, 487641, 1244997, 1862801, 2726970, 2725239, 2000057084, 1623620, 576855, 1161734, 127971, 23542, 2707451, 303162, 294255, 1200752, 145375, 308765, 2001290001, 857489, 1800546044, 1295285, 710155, 1450029, 1998389, 538545, 37868, 369363, 742029, 1118211, 1802829436, 371096, 283390, 578636, 2001194700, 591608, 83093, 2001700575, 1800243971, 2000586971, 185146, 2274260, 167242, 482376, 161953, 64934, 572152, 439731, 134289, 1981065, 242006, 1166952, 2001495929, 2001004779, 67728, 954129, 1802667521, 839492, 93230, 713725, 2002248161, 12200, 171303, 288838, 74558, 153438, 1509777, 308434, 708506, 252514, 502147, 2894200, 1967465, 279912, 2000437018, 382203, 481092, 244146, 1814491, 2001802061, 2001136521, 145489, 2000915451, 55143, 56087, 527886, 352885, 310371, 104103, 489818, 904480, 580295, 761589, 1802711505, 906665, 227607, 710496, 220348, 215765, 150281, 156460, 2117138, 766964, 862801, 231198, 444132, 344494, 2002101455, 188744, 61569, 422893, 366781, 2839749, 1292935, 212585, 1666812, 157102, 500476, 317809, 339260, 51047, 284180, 756031, 44383, 207478, 22995, 2001975677, 557649, 346874, 644191, 464080, 1060667, 167277, 765012, 96177, 362734, 1692440, 2001289780, 55966, 130219, 12657, 2000953256, 373020, 350812, 1678694, 450004, 46660, 573090, 35106, 2831470, 725849, 892967, 206789, 2001641903, 186071, 2002130595, 42720, 513039, 346576, 2001678737, 44589, 187373, 837451, 204024, 38513, 13593, 200728, 91867, 8688, 1149293, 80778, 239758, 119466, 629158, 2002061790, 212417, 1800249063, 126418, 216058, 1677099, 604782, 317696, 290578, 562865, 452355, 1377630, 120108, 647389, 200862, 1513099, 29956, 64667, 2246682, 60231, 311926, 245653, 461834, 724516, 2727256, 1421140, 887204, 3775, 1124480, 32772, 284897, 708130, 38182, 93095, 145352, 1461159, 1150951, 469831, 313705, 234062, 368222, 2001378820, 176706, 265375, 846280, 224170, 766288, 143318, 1203830, 224921, 55729, 213067, 337246, 179306, 523615, 651269, 121985, 1020526, 340503, 480195, 359220, 740483, 231507, 104295, 399156, 62086, 129333, 375329, 305740, 591307, 469903, 308961, 1010338, 256411, 1946802, 135870, 1188561, 208755, 50969, 665614, 917282, 95114, 364863, 59064, 1800125853, 380547, 865653, 63526, 407007, 22015, 1172588, 85018, 2148336, 325816, 58836, 289437, 27702, 587114, 259532, 1641724, 327989, 1317887, 441443, 216999, 227831, 59473, 149396, 607376, 266635, 51257, 220403, 993604, 60101, 379195, 111291, 4986575, 391467, 8377, 455970, 430117, 259154, 310109, 2000216260, 1803076805, 773381, 755869, 90086, 148715, 227586, 204705, 1384072, 74281, 766490, 399576, 507233, 1326313, 447165, 347873, 183524, 472042, 250920, 674022, 306897, 628779, 214633, 494867, 1733645, 1794395, 894563, 1880048, 57042, 124196, 507500, 434314, 240552, 1582575, 1718673, 439174, 232480, 102058, 1972415, 387942, 111075, 2001591758, 2324285, 1354238, 68460, 2001310112, 210117, 593726, 840768, 56447, 672320, 777321, 1052873, 296085, 122541, 212922, 630047, 1017476, 68526, 217724, 302486, 879716, 57695, 67656, 930286, 362565, 41799, 49312, 703869, 403729, 923687, 154026, 286209, 376098, 2189849, 191050, 663171, 386585, 858069, 1728937, 1331733, 169430, 1536449, 348530, 234182, 328154, 377712, 2001839561, 6651, 268179, 92385, 115525, 50472, 206747, 492434, 723186, 929091, 141610, 341513, 32143, 2002287422, 1110411, 2002039534, 229940, 346860, 515239, 869444, 68357, 932914, 508312, 2000685907, 169411, 41894, 280979, 209130, 554496, 214618, 628076, 1880217, 1589782, 601182, 76835, 704950, 236760, 1287027, 711772, 2640829, 708697, 1573654, 41578, 91724, 296027, 496803, 567976, 159532, 679703, 553178, 54716, 349739, 1983275, 2001941934, 242007, 102672, 92641, 1802986713, 469534, 2528442, 468227, 122993, 1956875, 300755, 309630, 66983, 1014369, 121178, 344938, 518275, 39334, 69906, 488244, 646304, 2001299762, 1518304, 127988, 2791625, 2002344910, 117835, 36902, 2000927144, 693345, 112165, 226867, 258350, 825969, 482933, 1663686, 2198132, 347909, 222478, 219657, 46545, 2002108923, 866963, 429710, 1800078245, 789516, 849647, 230102, 1254424, 2002304197, 221231, 296546, 1373529, 1561184, 156034, 64583, 312577, 955167, 207000, 251917, 68715, 727423, 192483, 847456, 2001037537, 1306775, 303700, 203111, 52543, 321820, 1483642, 1499332, 2001846277, 171790, 493276, 138047, 1865690, 241152, 1445414, 1581225, 112411, 228458, 356062, 23302, 153401, 592481, 2002042906, 285298, 2941544, 58300, 679429, 500671, 1305346, 894666, 1803684521, 2000292491, 769558, 276156, 156008, 28636, 1999264, 177753, 527607, 1591517, 41218, 552613, 470211, 844554, 1328758, 46104, 949568, 274563, 1496272, 478309, 50151, 152067, 512309, 1506604, 47510, 58075, 775207, 411647, 222564, 496594, 2000715946, 24386, 750003, 326084, 121193, 1535, 189191, 2666083, 2000929091, 62264, 1086570, 1157750, 430471, 1803581314, 2206637, 400817, 120121, 37909, 2001829380, 567714, 565828, 357071, 357723, 115321, 313014, 628753, 55052, 54678, 1856659, 461724, 146310, 723614, 2001938368, 51109, 494084, 182358, 269331, 2258073, 427535, 1253164, 2001024905, 703014, 274977, 1415433, 1329897, 988458, 840025, 472394, 251533, 124249, 171920, 41809, 120448, 60989, 751979, 2602045, 167236, 196296, 1533, 1089925, 1356010, 577908, 1615404, 726636, 32058, 2001227147, 539977, 339280, 515278, 1905490, 199198, 776846, 116687, 913076, 178738, 1417765, 73917, 1404437, 1839856, 293806, 165612, 187103, 497135, 1362345, 22724, 40961, 437776, 444967, 551498, 510362, 1648730, 301724, 161282, 1918475, 267853, 421027, 2001465107, 206854, 156653, 1517472, 237134, 530520, 59439, 350750, 50778, 2000216130, 126602, 136696, 117073, 1866846, 255838, 713116, 423264, 1417292, 2000268458, 1802854711, 841835, 137050, 41379, 29196, 1800226000, 1055699, 427101, 272731, 111163, 172057, 281112, 564718, 2001598898, 697860, 1706426, 205786, 1609532, 323328, 2000206835, 486648, 181231, 824055, 100811, 99308, 298981, 199394, 278546, 1085374, 2000579376, 466405, 904483, 344069, 1479319, 200243, 1250369, 2001228906, 297543, 1009223, 40525, 143721, 1870301, 69927, 199771, 2000604934, 1236791, 235982, 2001896443, 306812, 790908, 2483897, 841981, 191819, 340994, 621175, 35664, 1816255, 2213873, 470815, 601700, 535033, 148630, 294000, 11297, 1364481, 339239, 2000865451, 1379323, 156049, 2001425691, 135470, 278118, 829250, 1162041, 317554, 217824, 2001865205, 980012, 1680722, 1802736406, 22973, 60304, 2001662231, 770656, 122878, 285039, 37463, 239767, 1797076, 68960, 27783, 202431, 721654, 2054052, 678857, 1844337, 293410, 123220, 20480, 1058097, 2085008, 67026, 2000555289, 309967, 67270, 611409, 60716, 542518, 782723, 813629, 44192, 706608, 2000068357, 60031, 649612, 200822, 742667, 2000431901, 375823, 254415, 382265, 2000984626, 2011420, 142367, 780028, 135887, 124190, 456799, 271119, 626096, 351446, 523665, 10255570, 553587, 134027, 299591, 1219343, 352538, 410352, 190421, 7108, 233495, 2001315189, 377039, 281701, 354150, 25792, 268955, 220023, 394902, 424008, 113894, 204452, 440324, 480666, 356746, 1116742, 36127, 197788, 243749, 540322, 759159, 771965, 1048179, 363806, 11464, 2385525, 85873, 212032, 209747, 207375, 87308, 330505, 80353, 53425, 1803035838, 19198, 395981, 2000831019, 797714, 173883, 364838, 125808, 254614, 227652, 827835, 1800183309, 80219, 1803549484, 611494, 1605194, 35751, 389712, 2001780798, 860079, 281665, 2000693138, 154379, 2000203533, 2383576, 260679, 2795674, 724631, 984155, 189643, 836822, 526666, 449929, 175574, 2404924, 2549237, 1052065, 37779, 355282, 242929, 866805, 776876, 43514, 587766, 1028382, 932620, 208988, 95044, 129783, 481494, 833434, 216671, 67395, 879350, 2000250456, 225118, 2000369714, 59780, 121185, 101823, 119997, 168462, 204153, 187128, 340113, 2001959332, 1242063, 1920020, 1677154, 2000178451, 37862, 2732810, 764845, 417881, 403428, 918697, 2374266, 237123, 296081, 1934136, 125388, 748089, 58439, 868654, 2908565, 20371, 169130, 600208, 2001775882, 2002250296, 2000729009, 63807, 23293, 2001796296, 98812, 516457, 113868, 79989, 304235, 542159, 125325, 232463, 885339, 440735, 39857, 2002063018, 2002019965, 330545, 88717, 302795, 157126, 446403, 118342, 518488, 174991, 128693, 141569, 311904, 689332, 204124]\n",
      "encoded user_id:  {2001108724: 0, 135804: 1, 1048246: 2, 128950: 3, 869153: 4, 134124: 5, 593927: 6, 2000991193: 7, 307995: 8, 129652: 9, 230617: 10, 2179545: 11, 9869: 12, 37636: 13, 194888: 14, 201064: 15, 145547: 16, 176615: 17, 632657: 18, 383346: 19, 113509: 20, 107583: 21, 179133: 22, 327600: 23, 1801014030: 24, 229800: 25, 55827: 26, 55862: 27, 797486: 28, 233829: 29, 47559: 30, 90987: 31, 83503: 32, 1839316: 33, 89831: 34, 1565704: 35, 168922: 36, 605947: 37, 41481: 38, 2100351: 39, 936601: 40, 412186: 41, 1336981: 42, 1160862: 43, 51011: 44, 531768: 45, 528197: 46, 35701: 47, 226863: 48, 33135: 49, 37471: 50, 50509: 51, 865936: 52, 1830040: 53, 28397: 54, 550518: 55, 2656825: 56, 559290: 57, 345380: 58, 1449637: 59, 1802863776: 60, 2798981: 61, 30911: 62, 8629: 63, 6357: 64, 2308358: 65, 226066: 66, 37449: 67, 379033: 68, 486078: 69, 567219: 70, 14823: 71, 101376: 72, 98063: 73, 229009: 74, 670089: 75, 1814518: 76, 1224782: 77, 469021: 78, 537937: 79, 1571237: 80, 197023: 81, 220166: 82, 604073: 83, 616177: 84, 1179225: 85, 361238: 86, 752595: 87, 2000695358: 88, 487548: 89, 31083: 90, 358095: 91, 288587: 92, 2001681622: 93, 270212: 94, 895132: 95, 383795: 96, 573325: 97, 128473: 98, 143387: 99, 653438: 100, 322381: 101, 851841: 102, 460048: 103, 96359: 104, 486725: 105, 513933: 106, 135017: 107, 270514: 108, 813515: 109, 354763: 110, 61660: 111, 293102: 112, 1365025: 113, 993476: 114, 510313: 115, 2021204: 116, 211184: 117, 439797: 118, 142200: 119, 110210: 120, 153101: 121, 1579905: 122, 46046826: 123, 246482: 124, 37305: 125, 264017: 126, 141654: 127, 424544: 128, 158086: 129, 39835: 130, 295691: 131, 420929: 132, 37106: 133, 679953: 134, 108488: 135, 92816: 136, 920589: 137, 1405270: 138, 324390: 139, 212609: 140, 1138497: 141, 55221: 142, 166642: 143, 284922: 144, 1329782: 145, 166019: 146, 1094446: 147, 29063: 148, 705251: 149, 121690: 150, 1072593: 151, 296809: 152, 45059129: 153, 1625628: 154, 79772: 155, 229619: 156, 870705: 157, 253283: 158, 617508: 159, 311757: 160, 2001924259: 161, 184594: 162, 187069: 163, 1485581: 164, 415204: 165, 362983: 166, 70570: 167, 68884: 168, 579298: 169, 258115: 170, 651350: 171, 2001478815: 172, 42817523: 173, 1251027: 174, 189616: 175, 465056: 176, 1855913: 177, 492485: 178, 146284: 179, 1058174: 180, 60992: 181, 268611: 182, 2000292079: 183, 195589: 184, 126440: 185, 1409966: 186, 232823: 187, 195852: 188, 281293: 189, 175803: 190, 2000185368: 191, 919613: 192, 431813: 193, 201581: 194, 37080: 195, 1135521: 196, 675265: 197, 601528: 198, 7507: 199, 424680: 200, 280271: 201, 2000912079: 202, 248524: 203, 396078: 204, 175827: 205, 298801: 206, 345617: 207, 747477: 208, 1419314: 209, 2000091861: 210, 854842: 211, 384041: 212, 57400: 213, 427184: 214, 962690: 215, 302445: 216, 114882: 217, 1909732: 218, 442988: 219, 2001612640: 220, 2001861123: 221, 111347: 222, 668861: 223, 663717: 224, 1161157: 225, 600105: 226, 2001247868: 227, 428885: 228, 118268: 229, 168896: 230, 58210: 231, 232669: 232, 498271: 233, 305531: 234, 696631: 235, 126435: 236, 1160345: 237, 91897: 238, 185446: 239, 232031: 240, 366672: 241, 58104: 242, 198154: 243, 998226: 244, 101732: 245, 653244: 246, 221235: 247, 157425: 248, 98722: 249, 341170: 250, 1028917: 251, 28995: 252, 457992: 253, 564101: 254, 199848: 255, 145410: 256, 125411: 257, 539686: 258, 203823: 259, 169969: 260, 442014: 261, 162826: 262, 415934: 263, 311203: 264, 96796: 265, 1800040750: 266, 2001407734: 267, 133174: 268, 149415: 269, 414166: 270, 165623: 271, 4740: 272, 889489: 273, 2002199158: 274, 265559: 275, 55578: 276, 53586: 277, 2001695335: 278, 334628: 279, 236959: 280, 199792: 281, 152251: 282, 76273: 283, 67243: 284, 741591: 285, 12118: 286, 117927: 287, 242729: 288, 246266: 289, 185387: 290, 2775470: 291, 624854: 292, 1220686: 293, 1644565: 294, 59163: 295, 2000354261: 296, 146187: 297, 590701: 298, 79142: 299, 33159: 300, 1346217: 301, 543029: 302, 497077: 303, 155469: 304, 27443: 305, 108460: 306, 474840: 307, 2001501054: 308, 1231233: 309, 35526: 310, 63098: 311, 13029: 312, 373552: 313, 274826: 314, 1034569: 315, 1800269591: 316, 2136802: 317, 689540: 318, 388414: 319, 193516: 320, 452940: 321, 236742: 322, 1278514: 323, 2717385: 324, 808027: 325, 13483: 326, 640199: 327, 98867: 328, 2000894756: 329, 1027870: 330, 2087541: 331, 258528: 332, 1205987: 333, 907991: 334, 124416: 335, 900992: 336, 192581: 337, 315565: 338, 64625: 339, 28087: 340, 2001833200: 341, 165217: 342, 17803: 343, 186979: 344, 659630: 345, 42217: 346, 583349: 347, 447742: 348, 446143: 349, 560491: 350, 666723: 351, 1211153: 352, 1010380: 353, 1125517: 354, 103876: 355, 68928: 356, 513848: 357, 88585: 358, 29014: 359, 307214: 360, 577934: 361, 2002317255: 362, 2002286950: 363, 1173262: 364, 1500146: 365, 319738: 366, 885058: 367, 225541: 368, 657246: 369, 134011: 370, 814478: 371, 118007: 372, 1670583: 373, 2757176: 374, 231219: 375, 77458: 376, 53932: 377, 11176: 378, 394815: 379, 680579: 380, 66847: 381, 1800108094: 382, 52448: 383, 587597: 384, 2002361699: 385, 2001529238: 386, 355637: 387, 620435: 388, 341478: 389, 36128: 390, 1342334: 391, 42041: 392, 681033: 393, 146486: 394, 131088: 395, 215014: 396, 14410: 397, 306797: 398, 90767: 399, 56718: 400, 52282: 401, 826620: 402, 2001504418: 403, 1463206: 404, 269430: 405, 470920: 406, 163112: 407, 596377: 408, 941715: 409, 22278: 410, 1802849661: 411, 2000822050: 412, 160974: 413, 188837: 414, 713096: 415, 501717: 416, 599450: 417, 2302567: 418, 932899: 419, 451700: 420, 1122161: 421, 661999: 422, 173579: 423, 43083: 424, 351811: 425, 131751: 426, 56463: 427, 138429: 428, 767039: 429, 1246968: 430, 262203: 431, 646042: 432, 2002167039: 433, 353579: 434, 2422141: 435, 369715: 436, 1622480: 437, 11461: 438, 239808: 439, 359533: 440, 2000760176: 441, 78466: 442, 75705: 443, 797706: 444, 335855: 445, 93997: 446, 496999: 447, 323186: 448, 149295: 449, 491337: 450, 474155: 451, 1832505: 452, 793153: 453, 173880: 454, 144038: 455, 394592: 456, 2001442983: 457, 231054: 458, 88099: 459, 1628373: 460, 286566: 461, 863930: 462, 223979: 463, 186149: 464, 41503: 465, 27643: 466, 91392: 467, 937528: 468, 537578: 469, 109110: 470, 142335: 471, 192332: 472, 4470: 473, 65573: 474, 418915: 475, 5060: 476, 247473: 477, 199213: 478, 989152: 479, 583193: 480, 1347853: 481, 171084: 482, 854048: 483, 145637: 484, 136997: 485, 1921136: 486, 38172: 487, 788178: 488, 226887: 489, 1107439: 490, 223854: 491, 1964159: 492, 2168699: 493, 400708: 494, 115054: 495, 173314: 496, 659138: 497, 172256: 498, 33588: 499, 437991: 500, 212497: 501, 1162654: 502, 476053: 503, 137854: 504, 152393: 505, 284904: 506, 110135: 507, 445654: 508, 19540: 509, 632249: 510, 177362: 511, 56905: 512, 389660: 513, 47907: 514, 570804: 515, 650758: 516, 725368: 517, 537188: 518, 678366: 519, 793440: 520, 710088: 521, 1230012: 522, 95743: 523, 65056: 524, 370215: 525, 28177: 526, 2001352464: 527, 1802364480: 528, 302094: 529, 2041451: 530, 86520: 531, 1914116: 532, 142559: 533, 1802119886: 534, 2000225933: 535, 29782: 536, 468627: 537, 15385: 538, 649322: 539, 3505: 540, 39194: 541, 1186623: 542, 182010: 543, 96955: 544, 49516: 545, 76695: 546, 2176521: 547, 1983265: 548, 2002246049: 549, 732283: 550, 47892: 551, 2555346: 552, 2002004080: 553, 2000357065: 554, 269521: 555, 140132: 556, 21752: 557, 1800054678: 558, 65197: 559, 267125: 560, 1009143: 561, 2000130290: 562, 339025: 563, 791407: 564, 681167: 565, 1320105: 566, 852554: 567, 611441: 568, 1802636976: 569, 1663989: 570, 36944: 571, 157080: 572, 122001: 573, 1706068: 574, 513305: 575, 170359: 576, 283251: 577, 1943764: 578, 804794: 579, 122595: 580, 169774: 581, 494068: 582, 416985: 583, 115758: 584, 407207: 585, 1562407: 586, 2002043605: 587, 174096: 588, 2221308: 589, 130663: 590, 433225: 591, 579630: 592, 147095: 593, 1699397: 594, 597538: 595, 1609858: 596, 117438: 597, 1372737: 598, 2001910310: 599, 340438: 600, 76535: 601, 152995: 602, 275926: 603, 107135: 604, 67899: 605, 95502: 606, 1165778: 607, 579760: 608, 386849: 609, 2158358: 610, 346221: 611, 318711: 612, 524350: 613, 1609326: 614, 845315: 615, 14613: 616, 333017: 617, 1364452: 618, 14987: 619, 131126: 620, 1892740: 621, 537400: 622, 530085: 623, 471700: 624, 302689: 625, 671893: 626, 1445088: 627, 87023: 628, 293946: 629, 394288: 630, 1185672: 631, 183098: 632, 487641: 633, 1244997: 634, 1862801: 635, 2726970: 636, 2725239: 637, 2000057084: 638, 1623620: 639, 576855: 640, 1161734: 641, 127971: 642, 23542: 643, 2707451: 644, 303162: 645, 294255: 646, 1200752: 647, 145375: 648, 308765: 649, 2001290001: 650, 857489: 651, 1800546044: 652, 1295285: 653, 710155: 654, 1450029: 655, 1998389: 656, 538545: 657, 37868: 658, 369363: 659, 742029: 660, 1118211: 661, 1802829436: 662, 371096: 663, 283390: 664, 578636: 665, 2001194700: 666, 591608: 667, 83093: 668, 2001700575: 669, 1800243971: 670, 2000586971: 671, 185146: 672, 2274260: 673, 167242: 674, 482376: 675, 161953: 676, 64934: 677, 572152: 678, 439731: 679, 134289: 680, 1981065: 681, 242006: 682, 1166952: 683, 2001495929: 684, 2001004779: 685, 67728: 686, 954129: 687, 1802667521: 688, 839492: 689, 93230: 690, 713725: 691, 2002248161: 692, 12200: 693, 171303: 694, 288838: 695, 74558: 696, 153438: 697, 1509777: 698, 308434: 699, 708506: 700, 252514: 701, 502147: 702, 2894200: 703, 1967465: 704, 279912: 705, 2000437018: 706, 382203: 707, 481092: 708, 244146: 709, 1814491: 710, 2001802061: 711, 2001136521: 712, 145489: 713, 2000915451: 714, 55143: 715, 56087: 716, 527886: 717, 352885: 718, 310371: 719, 104103: 720, 489818: 721, 904480: 722, 580295: 723, 761589: 724, 1802711505: 725, 906665: 726, 227607: 727, 710496: 728, 220348: 729, 215765: 730, 150281: 731, 156460: 732, 2117138: 733, 766964: 734, 862801: 735, 231198: 736, 444132: 737, 344494: 738, 2002101455: 739, 188744: 740, 61569: 741, 422893: 742, 366781: 743, 2839749: 744, 1292935: 745, 212585: 746, 1666812: 747, 157102: 748, 500476: 749, 317809: 750, 339260: 751, 51047: 752, 284180: 753, 756031: 754, 44383: 755, 207478: 756, 22995: 757, 2001975677: 758, 557649: 759, 346874: 760, 644191: 761, 464080: 762, 1060667: 763, 167277: 764, 765012: 765, 96177: 766, 362734: 767, 1692440: 768, 2001289780: 769, 55966: 770, 130219: 771, 12657: 772, 2000953256: 773, 373020: 774, 350812: 775, 1678694: 776, 450004: 777, 46660: 778, 573090: 779, 35106: 780, 2831470: 781, 725849: 782, 892967: 783, 206789: 784, 2001641903: 785, 186071: 786, 2002130595: 787, 42720: 788, 513039: 789, 346576: 790, 2001678737: 791, 44589: 792, 187373: 793, 837451: 794, 204024: 795, 38513: 796, 13593: 797, 200728: 798, 91867: 799, 8688: 800, 1149293: 801, 80778: 802, 239758: 803, 119466: 804, 629158: 805, 2002061790: 806, 212417: 807, 1800249063: 808, 126418: 809, 216058: 810, 1677099: 811, 604782: 812, 317696: 813, 290578: 814, 562865: 815, 452355: 816, 1377630: 817, 120108: 818, 647389: 819, 200862: 820, 1513099: 821, 29956: 822, 64667: 823, 2246682: 824, 60231: 825, 311926: 826, 245653: 827, 461834: 828, 724516: 829, 2727256: 830, 1421140: 831, 887204: 832, 3775: 833, 1124480: 834, 32772: 835, 284897: 836, 708130: 837, 38182: 838, 93095: 839, 145352: 840, 1461159: 841, 1150951: 842, 469831: 843, 313705: 844, 234062: 845, 368222: 846, 2001378820: 847, 176706: 848, 265375: 849, 846280: 850, 224170: 851, 766288: 852, 143318: 853, 1203830: 854, 224921: 855, 55729: 856, 213067: 857, 337246: 858, 179306: 859, 523615: 860, 651269: 861, 121985: 862, 1020526: 863, 340503: 864, 480195: 865, 359220: 866, 740483: 867, 231507: 868, 104295: 869, 399156: 870, 62086: 871, 129333: 872, 375329: 873, 305740: 874, 591307: 875, 469903: 876, 308961: 877, 1010338: 878, 256411: 879, 1946802: 880, 135870: 881, 1188561: 882, 208755: 883, 50969: 884, 665614: 885, 917282: 886, 95114: 887, 364863: 888, 59064: 889, 1800125853: 890, 380547: 891, 865653: 892, 63526: 893, 407007: 894, 22015: 895, 1172588: 896, 85018: 897, 2148336: 898, 325816: 899, 58836: 900, 289437: 901, 27702: 902, 587114: 903, 259532: 904, 1641724: 905, 327989: 906, 1317887: 907, 441443: 908, 216999: 909, 227831: 910, 59473: 911, 149396: 912, 607376: 913, 266635: 914, 51257: 915, 220403: 916, 993604: 917, 60101: 918, 379195: 919, 111291: 920, 4986575: 921, 391467: 922, 8377: 923, 455970: 924, 430117: 925, 259154: 926, 310109: 927, 2000216260: 928, 1803076805: 929, 773381: 930, 755869: 931, 90086: 932, 148715: 933, 227586: 934, 204705: 935, 1384072: 936, 74281: 937, 766490: 938, 399576: 939, 507233: 940, 1326313: 941, 447165: 942, 347873: 943, 183524: 944, 472042: 945, 250920: 946, 674022: 947, 306897: 948, 628779: 949, 214633: 950, 494867: 951, 1733645: 952, 1794395: 953, 894563: 954, 1880048: 955, 57042: 956, 124196: 957, 507500: 958, 434314: 959, 240552: 960, 1582575: 961, 1718673: 962, 439174: 963, 232480: 964, 102058: 965, 1972415: 966, 387942: 967, 111075: 968, 2001591758: 969, 2324285: 970, 1354238: 971, 68460: 972, 2001310112: 973, 210117: 974, 593726: 975, 840768: 976, 56447: 977, 672320: 978, 777321: 979, 1052873: 980, 296085: 981, 122541: 982, 212922: 983, 630047: 984, 1017476: 985, 68526: 986, 217724: 987, 302486: 988, 879716: 989, 57695: 990, 67656: 991, 930286: 992, 362565: 993, 41799: 994, 49312: 995, 703869: 996, 403729: 997, 923687: 998, 154026: 999, 286209: 1000, 376098: 1001, 2189849: 1002, 191050: 1003, 663171: 1004, 386585: 1005, 858069: 1006, 1728937: 1007, 1331733: 1008, 169430: 1009, 1536449: 1010, 348530: 1011, 234182: 1012, 328154: 1013, 377712: 1014, 2001839561: 1015, 6651: 1016, 268179: 1017, 92385: 1018, 115525: 1019, 50472: 1020, 206747: 1021, 492434: 1022, 723186: 1023, 929091: 1024, 141610: 1025, 341513: 1026, 32143: 1027, 2002287422: 1028, 1110411: 1029, 2002039534: 1030, 229940: 1031, 346860: 1032, 515239: 1033, 869444: 1034, 68357: 1035, 932914: 1036, 508312: 1037, 2000685907: 1038, 169411: 1039, 41894: 1040, 280979: 1041, 209130: 1042, 554496: 1043, 214618: 1044, 628076: 1045, 1880217: 1046, 1589782: 1047, 601182: 1048, 76835: 1049, 704950: 1050, 236760: 1051, 1287027: 1052, 711772: 1053, 2640829: 1054, 708697: 1055, 1573654: 1056, 41578: 1057, 91724: 1058, 296027: 1059, 496803: 1060, 567976: 1061, 159532: 1062, 679703: 1063, 553178: 1064, 54716: 1065, 349739: 1066, 1983275: 1067, 2001941934: 1068, 242007: 1069, 102672: 1070, 92641: 1071, 1802986713: 1072, 469534: 1073, 2528442: 1074, 468227: 1075, 122993: 1076, 1956875: 1077, 300755: 1078, 309630: 1079, 66983: 1080, 1014369: 1081, 121178: 1082, 344938: 1083, 518275: 1084, 39334: 1085, 69906: 1086, 488244: 1087, 646304: 1088, 2001299762: 1089, 1518304: 1090, 127988: 1091, 2791625: 1092, 2002344910: 1093, 117835: 1094, 36902: 1095, 2000927144: 1096, 693345: 1097, 112165: 1098, 226867: 1099, 258350: 1100, 825969: 1101, 482933: 1102, 1663686: 1103, 2198132: 1104, 347909: 1105, 222478: 1106, 219657: 1107, 46545: 1108, 2002108923: 1109, 866963: 1110, 429710: 1111, 1800078245: 1112, 789516: 1113, 849647: 1114, 230102: 1115, 1254424: 1116, 2002304197: 1117, 221231: 1118, 296546: 1119, 1373529: 1120, 1561184: 1121, 156034: 1122, 64583: 1123, 312577: 1124, 955167: 1125, 207000: 1126, 251917: 1127, 68715: 1128, 727423: 1129, 192483: 1130, 847456: 1131, 2001037537: 1132, 1306775: 1133, 303700: 1134, 203111: 1135, 52543: 1136, 321820: 1137, 1483642: 1138, 1499332: 1139, 2001846277: 1140, 171790: 1141, 493276: 1142, 138047: 1143, 1865690: 1144, 241152: 1145, 1445414: 1146, 1581225: 1147, 112411: 1148, 228458: 1149, 356062: 1150, 23302: 1151, 153401: 1152, 592481: 1153, 2002042906: 1154, 285298: 1155, 2941544: 1156, 58300: 1157, 679429: 1158, 500671: 1159, 1305346: 1160, 894666: 1161, 1803684521: 1162, 2000292491: 1163, 769558: 1164, 276156: 1165, 156008: 1166, 28636: 1167, 1999264: 1168, 177753: 1169, 527607: 1170, 1591517: 1171, 41218: 1172, 552613: 1173, 470211: 1174, 844554: 1175, 1328758: 1176, 46104: 1177, 949568: 1178, 274563: 1179, 1496272: 1180, 478309: 1181, 50151: 1182, 152067: 1183, 512309: 1184, 1506604: 1185, 47510: 1186, 58075: 1187, 775207: 1188, 411647: 1189, 222564: 1190, 496594: 1191, 2000715946: 1192, 24386: 1193, 750003: 1194, 326084: 1195, 121193: 1196, 1535: 1197, 189191: 1198, 2666083: 1199, 2000929091: 1200, 62264: 1201, 1086570: 1202, 1157750: 1203, 430471: 1204, 1803581314: 1205, 2206637: 1206, 400817: 1207, 120121: 1208, 37909: 1209, 2001829380: 1210, 567714: 1211, 565828: 1212, 357071: 1213, 357723: 1214, 115321: 1215, 313014: 1216, 628753: 1217, 55052: 1218, 54678: 1219, 1856659: 1220, 461724: 1221, 146310: 1222, 723614: 1223, 2001938368: 1224, 51109: 1225, 494084: 1226, 182358: 1227, 269331: 1228, 2258073: 1229, 427535: 1230, 1253164: 1231, 2001024905: 1232, 703014: 1233, 274977: 1234, 1415433: 1235, 1329897: 1236, 988458: 1237, 840025: 1238, 472394: 1239, 251533: 1240, 124249: 1241, 171920: 1242, 41809: 1243, 120448: 1244, 60989: 1245, 751979: 1246, 2602045: 1247, 167236: 1248, 196296: 1249, 1533: 1250, 1089925: 1251, 1356010: 1252, 577908: 1253, 1615404: 1254, 726636: 1255, 32058: 1256, 2001227147: 1257, 539977: 1258, 339280: 1259, 515278: 1260, 1905490: 1261, 199198: 1262, 776846: 1263, 116687: 1264, 913076: 1265, 178738: 1266, 1417765: 1267, 73917: 1268, 1404437: 1269, 1839856: 1270, 293806: 1271, 165612: 1272, 187103: 1273, 497135: 1274, 1362345: 1275, 22724: 1276, 40961: 1277, 437776: 1278, 444967: 1279, 551498: 1280, 510362: 1281, 1648730: 1282, 301724: 1283, 161282: 1284, 1918475: 1285, 267853: 1286, 421027: 1287, 2001465107: 1288, 206854: 1289, 156653: 1290, 1517472: 1291, 237134: 1292, 530520: 1293, 59439: 1294, 350750: 1295, 50778: 1296, 2000216130: 1297, 126602: 1298, 136696: 1299, 117073: 1300, 1866846: 1301, 255838: 1302, 713116: 1303, 423264: 1304, 1417292: 1305, 2000268458: 1306, 1802854711: 1307, 841835: 1308, 137050: 1309, 41379: 1310, 29196: 1311, 1800226000: 1312, 1055699: 1313, 427101: 1314, 272731: 1315, 111163: 1316, 172057: 1317, 281112: 1318, 564718: 1319, 2001598898: 1320, 697860: 1321, 1706426: 1322, 205786: 1323, 1609532: 1324, 323328: 1325, 2000206835: 1326, 486648: 1327, 181231: 1328, 824055: 1329, 100811: 1330, 99308: 1331, 298981: 1332, 199394: 1333, 278546: 1334, 1085374: 1335, 2000579376: 1336, 466405: 1337, 904483: 1338, 344069: 1339, 1479319: 1340, 200243: 1341, 1250369: 1342, 2001228906: 1343, 297543: 1344, 1009223: 1345, 40525: 1346, 143721: 1347, 1870301: 1348, 69927: 1349, 199771: 1350, 2000604934: 1351, 1236791: 1352, 235982: 1353, 2001896443: 1354, 306812: 1355, 790908: 1356, 2483897: 1357, 841981: 1358, 191819: 1359, 340994: 1360, 621175: 1361, 35664: 1362, 1816255: 1363, 2213873: 1364, 470815: 1365, 601700: 1366, 535033: 1367, 148630: 1368, 294000: 1369, 11297: 1370, 1364481: 1371, 339239: 1372, 2000865451: 1373, 1379323: 1374, 156049: 1375, 2001425691: 1376, 135470: 1377, 278118: 1378, 829250: 1379, 1162041: 1380, 317554: 1381, 217824: 1382, 2001865205: 1383, 980012: 1384, 1680722: 1385, 1802736406: 1386, 22973: 1387, 60304: 1388, 2001662231: 1389, 770656: 1390, 122878: 1391, 285039: 1392, 37463: 1393, 239767: 1394, 1797076: 1395, 68960: 1396, 27783: 1397, 202431: 1398, 721654: 1399, 2054052: 1400, 678857: 1401, 1844337: 1402, 293410: 1403, 123220: 1404, 20480: 1405, 1058097: 1406, 2085008: 1407, 67026: 1408, 2000555289: 1409, 309967: 1410, 67270: 1411, 611409: 1412, 60716: 1413, 542518: 1414, 782723: 1415, 813629: 1416, 44192: 1417, 706608: 1418, 2000068357: 1419, 60031: 1420, 649612: 1421, 200822: 1422, 742667: 1423, 2000431901: 1424, 375823: 1425, 254415: 1426, 382265: 1427, 2000984626: 1428, 2011420: 1429, 142367: 1430, 780028: 1431, 135887: 1432, 124190: 1433, 456799: 1434, 271119: 1435, 626096: 1436, 351446: 1437, 523665: 1438, 10255570: 1439, 553587: 1440, 134027: 1441, 299591: 1442, 1219343: 1443, 352538: 1444, 410352: 1445, 190421: 1446, 7108: 1447, 233495: 1448, 2001315189: 1449, 377039: 1450, 281701: 1451, 354150: 1452, 25792: 1453, 268955: 1454, 220023: 1455, 394902: 1456, 424008: 1457, 113894: 1458, 204452: 1459, 440324: 1460, 480666: 1461, 356746: 1462, 1116742: 1463, 36127: 1464, 197788: 1465, 243749: 1466, 540322: 1467, 759159: 1468, 771965: 1469, 1048179: 1470, 363806: 1471, 11464: 1472, 2385525: 1473, 85873: 1474, 212032: 1475, 209747: 1476, 207375: 1477, 87308: 1478, 330505: 1479, 80353: 1480, 53425: 1481, 1803035838: 1482, 19198: 1483, 395981: 1484, 2000831019: 1485, 797714: 1486, 173883: 1487, 364838: 1488, 125808: 1489, 254614: 1490, 227652: 1491, 827835: 1492, 1800183309: 1493, 80219: 1494, 1803549484: 1495, 611494: 1496, 1605194: 1497, 35751: 1498, 389712: 1499, 2001780798: 1500, 860079: 1501, 281665: 1502, 2000693138: 1503, 154379: 1504, 2000203533: 1505, 2383576: 1506, 260679: 1507, 2795674: 1508, 724631: 1509, 984155: 1510, 189643: 1511, 836822: 1512, 526666: 1513, 449929: 1514, 175574: 1515, 2404924: 1516, 2549237: 1517, 1052065: 1518, 37779: 1519, 355282: 1520, 242929: 1521, 866805: 1522, 776876: 1523, 43514: 1524, 587766: 1525, 1028382: 1526, 932620: 1527, 208988: 1528, 95044: 1529, 129783: 1530, 481494: 1531, 833434: 1532, 216671: 1533, 67395: 1534, 879350: 1535, 2000250456: 1536, 225118: 1537, 2000369714: 1538, 59780: 1539, 121185: 1540, 101823: 1541, 119997: 1542, 168462: 1543, 204153: 1544, 187128: 1545, 340113: 1546, 2001959332: 1547, 1242063: 1548, 1920020: 1549, 1677154: 1550, 2000178451: 1551, 37862: 1552, 2732810: 1553, 764845: 1554, 417881: 1555, 403428: 1556, 918697: 1557, 2374266: 1558, 237123: 1559, 296081: 1560, 1934136: 1561, 125388: 1562, 748089: 1563, 58439: 1564, 868654: 1565, 2908565: 1566, 20371: 1567, 169130: 1568, 600208: 1569, 2001775882: 1570, 2002250296: 1571, 2000729009: 1572, 63807: 1573, 23293: 1574, 2001796296: 1575, 98812: 1576, 516457: 1577, 113868: 1578, 79989: 1579, 304235: 1580, 542159: 1581, 125325: 1582, 232463: 1583, 885339: 1584, 440735: 1585, 39857: 1586, 2002063018: 1587, 2002019965: 1588, 330545: 1589, 88717: 1590, 302795: 1591, 157126: 1592, 446403: 1593, 118342: 1594, 518488: 1595, 174991: 1596, 128693: 1597, 141569: 1598, 311904: 1599, 689332: 1600, 204124: 1601}\n",
      "encoded angka ke user_id:  {0: 2001108724, 1: 135804, 2: 1048246, 3: 128950, 4: 869153, 5: 134124, 6: 593927, 7: 2000991193, 8: 307995, 9: 129652, 10: 230617, 11: 2179545, 12: 9869, 13: 37636, 14: 194888, 15: 201064, 16: 145547, 17: 176615, 18: 632657, 19: 383346, 20: 113509, 21: 107583, 22: 179133, 23: 327600, 24: 1801014030, 25: 229800, 26: 55827, 27: 55862, 28: 797486, 29: 233829, 30: 47559, 31: 90987, 32: 83503, 33: 1839316, 34: 89831, 35: 1565704, 36: 168922, 37: 605947, 38: 41481, 39: 2100351, 40: 936601, 41: 412186, 42: 1336981, 43: 1160862, 44: 51011, 45: 531768, 46: 528197, 47: 35701, 48: 226863, 49: 33135, 50: 37471, 51: 50509, 52: 865936, 53: 1830040, 54: 28397, 55: 550518, 56: 2656825, 57: 559290, 58: 345380, 59: 1449637, 60: 1802863776, 61: 2798981, 62: 30911, 63: 8629, 64: 6357, 65: 2308358, 66: 226066, 67: 37449, 68: 379033, 69: 486078, 70: 567219, 71: 14823, 72: 101376, 73: 98063, 74: 229009, 75: 670089, 76: 1814518, 77: 1224782, 78: 469021, 79: 537937, 80: 1571237, 81: 197023, 82: 220166, 83: 604073, 84: 616177, 85: 1179225, 86: 361238, 87: 752595, 88: 2000695358, 89: 487548, 90: 31083, 91: 358095, 92: 288587, 93: 2001681622, 94: 270212, 95: 895132, 96: 383795, 97: 573325, 98: 128473, 99: 143387, 100: 653438, 101: 322381, 102: 851841, 103: 460048, 104: 96359, 105: 486725, 106: 513933, 107: 135017, 108: 270514, 109: 813515, 110: 354763, 111: 61660, 112: 293102, 113: 1365025, 114: 993476, 115: 510313, 116: 2021204, 117: 211184, 118: 439797, 119: 142200, 120: 110210, 121: 153101, 122: 1579905, 123: 46046826, 124: 246482, 125: 37305, 126: 264017, 127: 141654, 128: 424544, 129: 158086, 130: 39835, 131: 295691, 132: 420929, 133: 37106, 134: 679953, 135: 108488, 136: 92816, 137: 920589, 138: 1405270, 139: 324390, 140: 212609, 141: 1138497, 142: 55221, 143: 166642, 144: 284922, 145: 1329782, 146: 166019, 147: 1094446, 148: 29063, 149: 705251, 150: 121690, 151: 1072593, 152: 296809, 153: 45059129, 154: 1625628, 155: 79772, 156: 229619, 157: 870705, 158: 253283, 159: 617508, 160: 311757, 161: 2001924259, 162: 184594, 163: 187069, 164: 1485581, 165: 415204, 166: 362983, 167: 70570, 168: 68884, 169: 579298, 170: 258115, 171: 651350, 172: 2001478815, 173: 42817523, 174: 1251027, 175: 189616, 176: 465056, 177: 1855913, 178: 492485, 179: 146284, 180: 1058174, 181: 60992, 182: 268611, 183: 2000292079, 184: 195589, 185: 126440, 186: 1409966, 187: 232823, 188: 195852, 189: 281293, 190: 175803, 191: 2000185368, 192: 919613, 193: 431813, 194: 201581, 195: 37080, 196: 1135521, 197: 675265, 198: 601528, 199: 7507, 200: 424680, 201: 280271, 202: 2000912079, 203: 248524, 204: 396078, 205: 175827, 206: 298801, 207: 345617, 208: 747477, 209: 1419314, 210: 2000091861, 211: 854842, 212: 384041, 213: 57400, 214: 427184, 215: 962690, 216: 302445, 217: 114882, 218: 1909732, 219: 442988, 220: 2001612640, 221: 2001861123, 222: 111347, 223: 668861, 224: 663717, 225: 1161157, 226: 600105, 227: 2001247868, 228: 428885, 229: 118268, 230: 168896, 231: 58210, 232: 232669, 233: 498271, 234: 305531, 235: 696631, 236: 126435, 237: 1160345, 238: 91897, 239: 185446, 240: 232031, 241: 366672, 242: 58104, 243: 198154, 244: 998226, 245: 101732, 246: 653244, 247: 221235, 248: 157425, 249: 98722, 250: 341170, 251: 1028917, 252: 28995, 253: 457992, 254: 564101, 255: 199848, 256: 145410, 257: 125411, 258: 539686, 259: 203823, 260: 169969, 261: 442014, 262: 162826, 263: 415934, 264: 311203, 265: 96796, 266: 1800040750, 267: 2001407734, 268: 133174, 269: 149415, 270: 414166, 271: 165623, 272: 4740, 273: 889489, 274: 2002199158, 275: 265559, 276: 55578, 277: 53586, 278: 2001695335, 279: 334628, 280: 236959, 281: 199792, 282: 152251, 283: 76273, 284: 67243, 285: 741591, 286: 12118, 287: 117927, 288: 242729, 289: 246266, 290: 185387, 291: 2775470, 292: 624854, 293: 1220686, 294: 1644565, 295: 59163, 296: 2000354261, 297: 146187, 298: 590701, 299: 79142, 300: 33159, 301: 1346217, 302: 543029, 303: 497077, 304: 155469, 305: 27443, 306: 108460, 307: 474840, 308: 2001501054, 309: 1231233, 310: 35526, 311: 63098, 312: 13029, 313: 373552, 314: 274826, 315: 1034569, 316: 1800269591, 317: 2136802, 318: 689540, 319: 388414, 320: 193516, 321: 452940, 322: 236742, 323: 1278514, 324: 2717385, 325: 808027, 326: 13483, 327: 640199, 328: 98867, 329: 2000894756, 330: 1027870, 331: 2087541, 332: 258528, 333: 1205987, 334: 907991, 335: 124416, 336: 900992, 337: 192581, 338: 315565, 339: 64625, 340: 28087, 341: 2001833200, 342: 165217, 343: 17803, 344: 186979, 345: 659630, 346: 42217, 347: 583349, 348: 447742, 349: 446143, 350: 560491, 351: 666723, 352: 1211153, 353: 1010380, 354: 1125517, 355: 103876, 356: 68928, 357: 513848, 358: 88585, 359: 29014, 360: 307214, 361: 577934, 362: 2002317255, 363: 2002286950, 364: 1173262, 365: 1500146, 366: 319738, 367: 885058, 368: 225541, 369: 657246, 370: 134011, 371: 814478, 372: 118007, 373: 1670583, 374: 2757176, 375: 231219, 376: 77458, 377: 53932, 378: 11176, 379: 394815, 380: 680579, 381: 66847, 382: 1800108094, 383: 52448, 384: 587597, 385: 2002361699, 386: 2001529238, 387: 355637, 388: 620435, 389: 341478, 390: 36128, 391: 1342334, 392: 42041, 393: 681033, 394: 146486, 395: 131088, 396: 215014, 397: 14410, 398: 306797, 399: 90767, 400: 56718, 401: 52282, 402: 826620, 403: 2001504418, 404: 1463206, 405: 269430, 406: 470920, 407: 163112, 408: 596377, 409: 941715, 410: 22278, 411: 1802849661, 412: 2000822050, 413: 160974, 414: 188837, 415: 713096, 416: 501717, 417: 599450, 418: 2302567, 419: 932899, 420: 451700, 421: 1122161, 422: 661999, 423: 173579, 424: 43083, 425: 351811, 426: 131751, 427: 56463, 428: 138429, 429: 767039, 430: 1246968, 431: 262203, 432: 646042, 433: 2002167039, 434: 353579, 435: 2422141, 436: 369715, 437: 1622480, 438: 11461, 439: 239808, 440: 359533, 441: 2000760176, 442: 78466, 443: 75705, 444: 797706, 445: 335855, 446: 93997, 447: 496999, 448: 323186, 449: 149295, 450: 491337, 451: 474155, 452: 1832505, 453: 793153, 454: 173880, 455: 144038, 456: 394592, 457: 2001442983, 458: 231054, 459: 88099, 460: 1628373, 461: 286566, 462: 863930, 463: 223979, 464: 186149, 465: 41503, 466: 27643, 467: 91392, 468: 937528, 469: 537578, 470: 109110, 471: 142335, 472: 192332, 473: 4470, 474: 65573, 475: 418915, 476: 5060, 477: 247473, 478: 199213, 479: 989152, 480: 583193, 481: 1347853, 482: 171084, 483: 854048, 484: 145637, 485: 136997, 486: 1921136, 487: 38172, 488: 788178, 489: 226887, 490: 1107439, 491: 223854, 492: 1964159, 493: 2168699, 494: 400708, 495: 115054, 496: 173314, 497: 659138, 498: 172256, 499: 33588, 500: 437991, 501: 212497, 502: 1162654, 503: 476053, 504: 137854, 505: 152393, 506: 284904, 507: 110135, 508: 445654, 509: 19540, 510: 632249, 511: 177362, 512: 56905, 513: 389660, 514: 47907, 515: 570804, 516: 650758, 517: 725368, 518: 537188, 519: 678366, 520: 793440, 521: 710088, 522: 1230012, 523: 95743, 524: 65056, 525: 370215, 526: 28177, 527: 2001352464, 528: 1802364480, 529: 302094, 530: 2041451, 531: 86520, 532: 1914116, 533: 142559, 534: 1802119886, 535: 2000225933, 536: 29782, 537: 468627, 538: 15385, 539: 649322, 540: 3505, 541: 39194, 542: 1186623, 543: 182010, 544: 96955, 545: 49516, 546: 76695, 547: 2176521, 548: 1983265, 549: 2002246049, 550: 732283, 551: 47892, 552: 2555346, 553: 2002004080, 554: 2000357065, 555: 269521, 556: 140132, 557: 21752, 558: 1800054678, 559: 65197, 560: 267125, 561: 1009143, 562: 2000130290, 563: 339025, 564: 791407, 565: 681167, 566: 1320105, 567: 852554, 568: 611441, 569: 1802636976, 570: 1663989, 571: 36944, 572: 157080, 573: 122001, 574: 1706068, 575: 513305, 576: 170359, 577: 283251, 578: 1943764, 579: 804794, 580: 122595, 581: 169774, 582: 494068, 583: 416985, 584: 115758, 585: 407207, 586: 1562407, 587: 2002043605, 588: 174096, 589: 2221308, 590: 130663, 591: 433225, 592: 579630, 593: 147095, 594: 1699397, 595: 597538, 596: 1609858, 597: 117438, 598: 1372737, 599: 2001910310, 600: 340438, 601: 76535, 602: 152995, 603: 275926, 604: 107135, 605: 67899, 606: 95502, 607: 1165778, 608: 579760, 609: 386849, 610: 2158358, 611: 346221, 612: 318711, 613: 524350, 614: 1609326, 615: 845315, 616: 14613, 617: 333017, 618: 1364452, 619: 14987, 620: 131126, 621: 1892740, 622: 537400, 623: 530085, 624: 471700, 625: 302689, 626: 671893, 627: 1445088, 628: 87023, 629: 293946, 630: 394288, 631: 1185672, 632: 183098, 633: 487641, 634: 1244997, 635: 1862801, 636: 2726970, 637: 2725239, 638: 2000057084, 639: 1623620, 640: 576855, 641: 1161734, 642: 127971, 643: 23542, 644: 2707451, 645: 303162, 646: 294255, 647: 1200752, 648: 145375, 649: 308765, 650: 2001290001, 651: 857489, 652: 1800546044, 653: 1295285, 654: 710155, 655: 1450029, 656: 1998389, 657: 538545, 658: 37868, 659: 369363, 660: 742029, 661: 1118211, 662: 1802829436, 663: 371096, 664: 283390, 665: 578636, 666: 2001194700, 667: 591608, 668: 83093, 669: 2001700575, 670: 1800243971, 671: 2000586971, 672: 185146, 673: 2274260, 674: 167242, 675: 482376, 676: 161953, 677: 64934, 678: 572152, 679: 439731, 680: 134289, 681: 1981065, 682: 242006, 683: 1166952, 684: 2001495929, 685: 2001004779, 686: 67728, 687: 954129, 688: 1802667521, 689: 839492, 690: 93230, 691: 713725, 692: 2002248161, 693: 12200, 694: 171303, 695: 288838, 696: 74558, 697: 153438, 698: 1509777, 699: 308434, 700: 708506, 701: 252514, 702: 502147, 703: 2894200, 704: 1967465, 705: 279912, 706: 2000437018, 707: 382203, 708: 481092, 709: 244146, 710: 1814491, 711: 2001802061, 712: 2001136521, 713: 145489, 714: 2000915451, 715: 55143, 716: 56087, 717: 527886, 718: 352885, 719: 310371, 720: 104103, 721: 489818, 722: 904480, 723: 580295, 724: 761589, 725: 1802711505, 726: 906665, 727: 227607, 728: 710496, 729: 220348, 730: 215765, 731: 150281, 732: 156460, 733: 2117138, 734: 766964, 735: 862801, 736: 231198, 737: 444132, 738: 344494, 739: 2002101455, 740: 188744, 741: 61569, 742: 422893, 743: 366781, 744: 2839749, 745: 1292935, 746: 212585, 747: 1666812, 748: 157102, 749: 500476, 750: 317809, 751: 339260, 752: 51047, 753: 284180, 754: 756031, 755: 44383, 756: 207478, 757: 22995, 758: 2001975677, 759: 557649, 760: 346874, 761: 644191, 762: 464080, 763: 1060667, 764: 167277, 765: 765012, 766: 96177, 767: 362734, 768: 1692440, 769: 2001289780, 770: 55966, 771: 130219, 772: 12657, 773: 2000953256, 774: 373020, 775: 350812, 776: 1678694, 777: 450004, 778: 46660, 779: 573090, 780: 35106, 781: 2831470, 782: 725849, 783: 892967, 784: 206789, 785: 2001641903, 786: 186071, 787: 2002130595, 788: 42720, 789: 513039, 790: 346576, 791: 2001678737, 792: 44589, 793: 187373, 794: 837451, 795: 204024, 796: 38513, 797: 13593, 798: 200728, 799: 91867, 800: 8688, 801: 1149293, 802: 80778, 803: 239758, 804: 119466, 805: 629158, 806: 2002061790, 807: 212417, 808: 1800249063, 809: 126418, 810: 216058, 811: 1677099, 812: 604782, 813: 317696, 814: 290578, 815: 562865, 816: 452355, 817: 1377630, 818: 120108, 819: 647389, 820: 200862, 821: 1513099, 822: 29956, 823: 64667, 824: 2246682, 825: 60231, 826: 311926, 827: 245653, 828: 461834, 829: 724516, 830: 2727256, 831: 1421140, 832: 887204, 833: 3775, 834: 1124480, 835: 32772, 836: 284897, 837: 708130, 838: 38182, 839: 93095, 840: 145352, 841: 1461159, 842: 1150951, 843: 469831, 844: 313705, 845: 234062, 846: 368222, 847: 2001378820, 848: 176706, 849: 265375, 850: 846280, 851: 224170, 852: 766288, 853: 143318, 854: 1203830, 855: 224921, 856: 55729, 857: 213067, 858: 337246, 859: 179306, 860: 523615, 861: 651269, 862: 121985, 863: 1020526, 864: 340503, 865: 480195, 866: 359220, 867: 740483, 868: 231507, 869: 104295, 870: 399156, 871: 62086, 872: 129333, 873: 375329, 874: 305740, 875: 591307, 876: 469903, 877: 308961, 878: 1010338, 879: 256411, 880: 1946802, 881: 135870, 882: 1188561, 883: 208755, 884: 50969, 885: 665614, 886: 917282, 887: 95114, 888: 364863, 889: 59064, 890: 1800125853, 891: 380547, 892: 865653, 893: 63526, 894: 407007, 895: 22015, 896: 1172588, 897: 85018, 898: 2148336, 899: 325816, 900: 58836, 901: 289437, 902: 27702, 903: 587114, 904: 259532, 905: 1641724, 906: 327989, 907: 1317887, 908: 441443, 909: 216999, 910: 227831, 911: 59473, 912: 149396, 913: 607376, 914: 266635, 915: 51257, 916: 220403, 917: 993604, 918: 60101, 919: 379195, 920: 111291, 921: 4986575, 922: 391467, 923: 8377, 924: 455970, 925: 430117, 926: 259154, 927: 310109, 928: 2000216260, 929: 1803076805, 930: 773381, 931: 755869, 932: 90086, 933: 148715, 934: 227586, 935: 204705, 936: 1384072, 937: 74281, 938: 766490, 939: 399576, 940: 507233, 941: 1326313, 942: 447165, 943: 347873, 944: 183524, 945: 472042, 946: 250920, 947: 674022, 948: 306897, 949: 628779, 950: 214633, 951: 494867, 952: 1733645, 953: 1794395, 954: 894563, 955: 1880048, 956: 57042, 957: 124196, 958: 507500, 959: 434314, 960: 240552, 961: 1582575, 962: 1718673, 963: 439174, 964: 232480, 965: 102058, 966: 1972415, 967: 387942, 968: 111075, 969: 2001591758, 970: 2324285, 971: 1354238, 972: 68460, 973: 2001310112, 974: 210117, 975: 593726, 976: 840768, 977: 56447, 978: 672320, 979: 777321, 980: 1052873, 981: 296085, 982: 122541, 983: 212922, 984: 630047, 985: 1017476, 986: 68526, 987: 217724, 988: 302486, 989: 879716, 990: 57695, 991: 67656, 992: 930286, 993: 362565, 994: 41799, 995: 49312, 996: 703869, 997: 403729, 998: 923687, 999: 154026, 1000: 286209, 1001: 376098, 1002: 2189849, 1003: 191050, 1004: 663171, 1005: 386585, 1006: 858069, 1007: 1728937, 1008: 1331733, 1009: 169430, 1010: 1536449, 1011: 348530, 1012: 234182, 1013: 328154, 1014: 377712, 1015: 2001839561, 1016: 6651, 1017: 268179, 1018: 92385, 1019: 115525, 1020: 50472, 1021: 206747, 1022: 492434, 1023: 723186, 1024: 929091, 1025: 141610, 1026: 341513, 1027: 32143, 1028: 2002287422, 1029: 1110411, 1030: 2002039534, 1031: 229940, 1032: 346860, 1033: 515239, 1034: 869444, 1035: 68357, 1036: 932914, 1037: 508312, 1038: 2000685907, 1039: 169411, 1040: 41894, 1041: 280979, 1042: 209130, 1043: 554496, 1044: 214618, 1045: 628076, 1046: 1880217, 1047: 1589782, 1048: 601182, 1049: 76835, 1050: 704950, 1051: 236760, 1052: 1287027, 1053: 711772, 1054: 2640829, 1055: 708697, 1056: 1573654, 1057: 41578, 1058: 91724, 1059: 296027, 1060: 496803, 1061: 567976, 1062: 159532, 1063: 679703, 1064: 553178, 1065: 54716, 1066: 349739, 1067: 1983275, 1068: 2001941934, 1069: 242007, 1070: 102672, 1071: 92641, 1072: 1802986713, 1073: 469534, 1074: 2528442, 1075: 468227, 1076: 122993, 1077: 1956875, 1078: 300755, 1079: 309630, 1080: 66983, 1081: 1014369, 1082: 121178, 1083: 344938, 1084: 518275, 1085: 39334, 1086: 69906, 1087: 488244, 1088: 646304, 1089: 2001299762, 1090: 1518304, 1091: 127988, 1092: 2791625, 1093: 2002344910, 1094: 117835, 1095: 36902, 1096: 2000927144, 1097: 693345, 1098: 112165, 1099: 226867, 1100: 258350, 1101: 825969, 1102: 482933, 1103: 1663686, 1104: 2198132, 1105: 347909, 1106: 222478, 1107: 219657, 1108: 46545, 1109: 2002108923, 1110: 866963, 1111: 429710, 1112: 1800078245, 1113: 789516, 1114: 849647, 1115: 230102, 1116: 1254424, 1117: 2002304197, 1118: 221231, 1119: 296546, 1120: 1373529, 1121: 1561184, 1122: 156034, 1123: 64583, 1124: 312577, 1125: 955167, 1126: 207000, 1127: 251917, 1128: 68715, 1129: 727423, 1130: 192483, 1131: 847456, 1132: 2001037537, 1133: 1306775, 1134: 303700, 1135: 203111, 1136: 52543, 1137: 321820, 1138: 1483642, 1139: 1499332, 1140: 2001846277, 1141: 171790, 1142: 493276, 1143: 138047, 1144: 1865690, 1145: 241152, 1146: 1445414, 1147: 1581225, 1148: 112411, 1149: 228458, 1150: 356062, 1151: 23302, 1152: 153401, 1153: 592481, 1154: 2002042906, 1155: 285298, 1156: 2941544, 1157: 58300, 1158: 679429, 1159: 500671, 1160: 1305346, 1161: 894666, 1162: 1803684521, 1163: 2000292491, 1164: 769558, 1165: 276156, 1166: 156008, 1167: 28636, 1168: 1999264, 1169: 177753, 1170: 527607, 1171: 1591517, 1172: 41218, 1173: 552613, 1174: 470211, 1175: 844554, 1176: 1328758, 1177: 46104, 1178: 949568, 1179: 274563, 1180: 1496272, 1181: 478309, 1182: 50151, 1183: 152067, 1184: 512309, 1185: 1506604, 1186: 47510, 1187: 58075, 1188: 775207, 1189: 411647, 1190: 222564, 1191: 496594, 1192: 2000715946, 1193: 24386, 1194: 750003, 1195: 326084, 1196: 121193, 1197: 1535, 1198: 189191, 1199: 2666083, 1200: 2000929091, 1201: 62264, 1202: 1086570, 1203: 1157750, 1204: 430471, 1205: 1803581314, 1206: 2206637, 1207: 400817, 1208: 120121, 1209: 37909, 1210: 2001829380, 1211: 567714, 1212: 565828, 1213: 357071, 1214: 357723, 1215: 115321, 1216: 313014, 1217: 628753, 1218: 55052, 1219: 54678, 1220: 1856659, 1221: 461724, 1222: 146310, 1223: 723614, 1224: 2001938368, 1225: 51109, 1226: 494084, 1227: 182358, 1228: 269331, 1229: 2258073, 1230: 427535, 1231: 1253164, 1232: 2001024905, 1233: 703014, 1234: 274977, 1235: 1415433, 1236: 1329897, 1237: 988458, 1238: 840025, 1239: 472394, 1240: 251533, 1241: 124249, 1242: 171920, 1243: 41809, 1244: 120448, 1245: 60989, 1246: 751979, 1247: 2602045, 1248: 167236, 1249: 196296, 1250: 1533, 1251: 1089925, 1252: 1356010, 1253: 577908, 1254: 1615404, 1255: 726636, 1256: 32058, 1257: 2001227147, 1258: 539977, 1259: 339280, 1260: 515278, 1261: 1905490, 1262: 199198, 1263: 776846, 1264: 116687, 1265: 913076, 1266: 178738, 1267: 1417765, 1268: 73917, 1269: 1404437, 1270: 1839856, 1271: 293806, 1272: 165612, 1273: 187103, 1274: 497135, 1275: 1362345, 1276: 22724, 1277: 40961, 1278: 437776, 1279: 444967, 1280: 551498, 1281: 510362, 1282: 1648730, 1283: 301724, 1284: 161282, 1285: 1918475, 1286: 267853, 1287: 421027, 1288: 2001465107, 1289: 206854, 1290: 156653, 1291: 1517472, 1292: 237134, 1293: 530520, 1294: 59439, 1295: 350750, 1296: 50778, 1297: 2000216130, 1298: 126602, 1299: 136696, 1300: 117073, 1301: 1866846, 1302: 255838, 1303: 713116, 1304: 423264, 1305: 1417292, 1306: 2000268458, 1307: 1802854711, 1308: 841835, 1309: 137050, 1310: 41379, 1311: 29196, 1312: 1800226000, 1313: 1055699, 1314: 427101, 1315: 272731, 1316: 111163, 1317: 172057, 1318: 281112, 1319: 564718, 1320: 2001598898, 1321: 697860, 1322: 1706426, 1323: 205786, 1324: 1609532, 1325: 323328, 1326: 2000206835, 1327: 486648, 1328: 181231, 1329: 824055, 1330: 100811, 1331: 99308, 1332: 298981, 1333: 199394, 1334: 278546, 1335: 1085374, 1336: 2000579376, 1337: 466405, 1338: 904483, 1339: 344069, 1340: 1479319, 1341: 200243, 1342: 1250369, 1343: 2001228906, 1344: 297543, 1345: 1009223, 1346: 40525, 1347: 143721, 1348: 1870301, 1349: 69927, 1350: 199771, 1351: 2000604934, 1352: 1236791, 1353: 235982, 1354: 2001896443, 1355: 306812, 1356: 790908, 1357: 2483897, 1358: 841981, 1359: 191819, 1360: 340994, 1361: 621175, 1362: 35664, 1363: 1816255, 1364: 2213873, 1365: 470815, 1366: 601700, 1367: 535033, 1368: 148630, 1369: 294000, 1370: 11297, 1371: 1364481, 1372: 339239, 1373: 2000865451, 1374: 1379323, 1375: 156049, 1376: 2001425691, 1377: 135470, 1378: 278118, 1379: 829250, 1380: 1162041, 1381: 317554, 1382: 217824, 1383: 2001865205, 1384: 980012, 1385: 1680722, 1386: 1802736406, 1387: 22973, 1388: 60304, 1389: 2001662231, 1390: 770656, 1391: 122878, 1392: 285039, 1393: 37463, 1394: 239767, 1395: 1797076, 1396: 68960, 1397: 27783, 1398: 202431, 1399: 721654, 1400: 2054052, 1401: 678857, 1402: 1844337, 1403: 293410, 1404: 123220, 1405: 20480, 1406: 1058097, 1407: 2085008, 1408: 67026, 1409: 2000555289, 1410: 309967, 1411: 67270, 1412: 611409, 1413: 60716, 1414: 542518, 1415: 782723, 1416: 813629, 1417: 44192, 1418: 706608, 1419: 2000068357, 1420: 60031, 1421: 649612, 1422: 200822, 1423: 742667, 1424: 2000431901, 1425: 375823, 1426: 254415, 1427: 382265, 1428: 2000984626, 1429: 2011420, 1430: 142367, 1431: 780028, 1432: 135887, 1433: 124190, 1434: 456799, 1435: 271119, 1436: 626096, 1437: 351446, 1438: 523665, 1439: 10255570, 1440: 553587, 1441: 134027, 1442: 299591, 1443: 1219343, 1444: 352538, 1445: 410352, 1446: 190421, 1447: 7108, 1448: 233495, 1449: 2001315189, 1450: 377039, 1451: 281701, 1452: 354150, 1453: 25792, 1454: 268955, 1455: 220023, 1456: 394902, 1457: 424008, 1458: 113894, 1459: 204452, 1460: 440324, 1461: 480666, 1462: 356746, 1463: 1116742, 1464: 36127, 1465: 197788, 1466: 243749, 1467: 540322, 1468: 759159, 1469: 771965, 1470: 1048179, 1471: 363806, 1472: 11464, 1473: 2385525, 1474: 85873, 1475: 212032, 1476: 209747, 1477: 207375, 1478: 87308, 1479: 330505, 1480: 80353, 1481: 53425, 1482: 1803035838, 1483: 19198, 1484: 395981, 1485: 2000831019, 1486: 797714, 1487: 173883, 1488: 364838, 1489: 125808, 1490: 254614, 1491: 227652, 1492: 827835, 1493: 1800183309, 1494: 80219, 1495: 1803549484, 1496: 611494, 1497: 1605194, 1498: 35751, 1499: 389712, 1500: 2001780798, 1501: 860079, 1502: 281665, 1503: 2000693138, 1504: 154379, 1505: 2000203533, 1506: 2383576, 1507: 260679, 1508: 2795674, 1509: 724631, 1510: 984155, 1511: 189643, 1512: 836822, 1513: 526666, 1514: 449929, 1515: 175574, 1516: 2404924, 1517: 2549237, 1518: 1052065, 1519: 37779, 1520: 355282, 1521: 242929, 1522: 866805, 1523: 776876, 1524: 43514, 1525: 587766, 1526: 1028382, 1527: 932620, 1528: 208988, 1529: 95044, 1530: 129783, 1531: 481494, 1532: 833434, 1533: 216671, 1534: 67395, 1535: 879350, 1536: 2000250456, 1537: 225118, 1538: 2000369714, 1539: 59780, 1540: 121185, 1541: 101823, 1542: 119997, 1543: 168462, 1544: 204153, 1545: 187128, 1546: 340113, 1547: 2001959332, 1548: 1242063, 1549: 1920020, 1550: 1677154, 1551: 2000178451, 1552: 37862, 1553: 2732810, 1554: 764845, 1555: 417881, 1556: 403428, 1557: 918697, 1558: 2374266, 1559: 237123, 1560: 296081, 1561: 1934136, 1562: 125388, 1563: 748089, 1564: 58439, 1565: 868654, 1566: 2908565, 1567: 20371, 1568: 169130, 1569: 600208, 1570: 2001775882, 1571: 2002250296, 1572: 2000729009, 1573: 63807, 1574: 23293, 1575: 2001796296, 1576: 98812, 1577: 516457, 1578: 113868, 1579: 79989, 1580: 304235, 1581: 542159, 1582: 125325, 1583: 232463, 1584: 885339, 1585: 440735, 1586: 39857, 1587: 2002063018, 1588: 2002019965, 1589: 330545, 1590: 88717, 1591: 302795, 1592: 157126, 1593: 446403, 1594: 118342, 1595: 518488, 1596: 174991, 1597: 128693, 1598: 141569, 1599: 311904, 1600: 689332, 1601: 204124}\n"
     ]
    }
   ],
   "source": [
    "# Mengubah user_id menjadi list tanpa nilai yang sama\n",
    "user_ids = collaborative_df[\"user_id\"].unique().tolist()\n",
    "print(\"list user_id: \", user_ids)\n",
    "\n",
    "# Melakukan encoding terhadap user_id\n",
    "user_to_user_encoded = {x: i for i, x in enumerate(user_ids)}\n",
    "print(\"encoded user_id: \", user_to_user_encoded)\n",
    "\n",
    "# Melakukan proses encoding angka ke user_id\n",
    "user_encoded_to_user = {i: x for i, x in enumerate(user_ids)}\n",
    "print(\"encoded angka ke user_id: \", user_encoded_to_user)"
   ]
  },
  {
   "cell_type": "markdown",
   "metadata": {},
   "source": [
    "Memetakan recipe_id dan user_id yang telah diproses ke dataframe yang berkaitan:"
   ]
  },
  {
   "cell_type": "code",
   "execution_count": 664,
   "metadata": {},
   "outputs": [],
   "source": [
    "# Mapping recipe_id ke dataframe recipe\n",
    "collaborative_df['recipe'] = collaborative_df['recipe_id'].map(recipe_to_recipe_encoded)\n",
    "\n",
    "# Mapping user_id ke dataframe user\n",
    "collaborative_df['user'] = collaborative_df['user_id'].map(user_to_user_encoded)"
   ]
  },
  {
   "cell_type": "markdown",
   "metadata": {},
   "source": [
    "Check data:"
   ]
  },
  {
   "cell_type": "code",
   "execution_count": 665,
   "metadata": {},
   "outputs": [
    {
     "name": "stdout",
     "output_type": "stream",
     "text": [
      "<class 'pandas.core.frame.DataFrame'>\n",
      "Index: 2009 entries, 2 to 2315\n",
      "Data columns (total 6 columns):\n",
      " #   Column     Non-Null Count  Dtype \n",
      "---  ------     --------------  ----- \n",
      " 0   recipe_id  2009 non-null   int64 \n",
      " 1   user_id    2009 non-null   int64 \n",
      " 2   rating     2009 non-null   int64 \n",
      " 3   food_name  2009 non-null   object\n",
      " 4   recipe     2009 non-null   int64 \n",
      " 5   user       2009 non-null   int64 \n",
      "dtypes: int64(5), object(1)\n",
      "memory usage: 109.9+ KB\n"
     ]
    }
   ],
   "source": [
    "collaborative_df.info()"
   ]
  },
  {
   "cell_type": "code",
   "execution_count": 666,
   "metadata": {},
   "outputs": [
    {
     "data": {
      "text/html": [
       "<div>\n",
       "<style scoped>\n",
       "    .dataframe tbody tr th:only-of-type {\n",
       "        vertical-align: middle;\n",
       "    }\n",
       "\n",
       "    .dataframe tbody tr th {\n",
       "        vertical-align: top;\n",
       "    }\n",
       "\n",
       "    .dataframe thead th {\n",
       "        text-align: right;\n",
       "    }\n",
       "</style>\n",
       "<table border=\"1\" class=\"dataframe\">\n",
       "  <thead>\n",
       "    <tr style=\"text-align: right;\">\n",
       "      <th></th>\n",
       "      <th>recipe_id</th>\n",
       "      <th>user_id</th>\n",
       "      <th>rating</th>\n",
       "      <th>food_name</th>\n",
       "      <th>recipe</th>\n",
       "      <th>user</th>\n",
       "    </tr>\n",
       "  </thead>\n",
       "  <tbody>\n",
       "    <tr>\n",
       "      <th>2</th>\n",
       "      <td>491150</td>\n",
       "      <td>2001108724</td>\n",
       "      <td>5</td>\n",
       "      <td>simple spinach salad with lemon mint dressing</td>\n",
       "      <td>0</td>\n",
       "      <td>0</td>\n",
       "    </tr>\n",
       "    <tr>\n",
       "      <th>3</th>\n",
       "      <td>50367</td>\n",
       "      <td>135804</td>\n",
       "      <td>4</td>\n",
       "      <td>fat free sugar free soft serve</td>\n",
       "      <td>1</td>\n",
       "      <td>1</td>\n",
       "    </tr>\n",
       "    <tr>\n",
       "      <th>4</th>\n",
       "      <td>388076</td>\n",
       "      <td>1048246</td>\n",
       "      <td>5</td>\n",
       "      <td>u nega gei</td>\n",
       "      <td>2</td>\n",
       "      <td>2</td>\n",
       "    </tr>\n",
       "    <tr>\n",
       "      <th>5</th>\n",
       "      <td>82666</td>\n",
       "      <td>128950</td>\n",
       "      <td>5</td>\n",
       "      <td>bosnian vegetarian meatballs in yogurt sauce</td>\n",
       "      <td>3</td>\n",
       "      <td>3</td>\n",
       "    </tr>\n",
       "    <tr>\n",
       "      <th>6</th>\n",
       "      <td>477779</td>\n",
       "      <td>869153</td>\n",
       "      <td>0</td>\n",
       "      <td>potato goat cheese gratin</td>\n",
       "      <td>4</td>\n",
       "      <td>4</td>\n",
       "    </tr>\n",
       "  </tbody>\n",
       "</table>\n",
       "</div>"
      ],
      "text/plain": [
       "   recipe_id     user_id  rating  \\\n",
       "2     491150  2001108724       5   \n",
       "3      50367      135804       4   \n",
       "4     388076     1048246       5   \n",
       "5      82666      128950       5   \n",
       "6     477779      869153       0   \n",
       "\n",
       "                                       food_name  recipe  user  \n",
       "2  simple spinach salad with lemon mint dressing       0     0  \n",
       "3                 fat free sugar free soft serve       1     1  \n",
       "4                                     u nega gei       2     2  \n",
       "5   bosnian vegetarian meatballs in yogurt sauce       3     3  \n",
       "6                      potato goat cheese gratin       4     4  "
      ]
     },
     "execution_count": 666,
     "metadata": {},
     "output_type": "execute_result"
    }
   ],
   "source": [
    "collaborative_df.head()"
   ]
  },
  {
   "cell_type": "markdown",
   "metadata": {},
   "source": [
    "#### Data Normalization"
   ]
  },
  {
   "cell_type": "markdown",
   "metadata": {},
   "source": [
    "Normalisasi data target untuk pelatihan:"
   ]
  },
  {
   "cell_type": "code",
   "execution_count": 667,
   "metadata": {},
   "outputs": [],
   "source": [
    "rating_scaler = MinMaxScaler()\n",
    "\n",
    "collaborative_df['rating'] = rating_scaler.fit_transform(collaborative_df['rating'].values.reshape(-1, 1))"
   ]
  },
  {
   "cell_type": "code",
   "execution_count": 668,
   "metadata": {},
   "outputs": [
    {
     "data": {
      "text/plain": [
       "2       1.0\n",
       "3       0.8\n",
       "4       1.0\n",
       "5       1.0\n",
       "6       0.0\n",
       "       ... \n",
       "2311    1.0\n",
       "2312    1.0\n",
       "2313    1.0\n",
       "2314    1.0\n",
       "2315    1.0\n",
       "Name: rating, Length: 2009, dtype: float64"
      ]
     },
     "execution_count": 668,
     "metadata": {},
     "output_type": "execute_result"
    }
   ],
   "source": [
    "collaborative_df['rating']"
   ]
  },
  {
   "cell_type": "code",
   "execution_count": 669,
   "metadata": {},
   "outputs": [
    {
     "data": {
      "text/plain": [
       "count    2009.000000\n",
       "mean        0.879044\n",
       "std         0.256555\n",
       "min         0.000000\n",
       "25%         0.800000\n",
       "50%         1.000000\n",
       "75%         1.000000\n",
       "max         1.000000\n",
       "Name: rating, dtype: float64"
      ]
     },
     "execution_count": 669,
     "metadata": {},
     "output_type": "execute_result"
    }
   ],
   "source": [
    "collaborative_df['rating'].describe()"
   ]
  },
  {
   "cell_type": "markdown",
   "metadata": {},
   "source": [
    "#### Data Split"
   ]
  },
  {
   "cell_type": "markdown",
   "metadata": {},
   "source": [
    "Data diacak terlebih dahulu agar distribusinya random:"
   ]
  },
  {
   "cell_type": "code",
   "execution_count": 670,
   "metadata": {},
   "outputs": [],
   "source": [
    "collaborative_df = collaborative_df.sample(frac=1, random_state=42)"
   ]
  },
  {
   "cell_type": "markdown",
   "metadata": {},
   "source": [
    "Menentukan fitur dan target:"
   ]
  },
  {
   "cell_type": "code",
   "execution_count": 671,
   "metadata": {},
   "outputs": [],
   "source": [
    "x = collaborative_df[['user', 'recipe']].values\n",
    "y = collaborative_df['rating'].values"
   ]
  },
  {
   "cell_type": "markdown",
   "metadata": {},
   "source": [
    "Pembagian data ke dalam training set dan validation set:"
   ]
  },
  {
   "cell_type": "code",
   "execution_count": 672,
   "metadata": {},
   "outputs": [
    {
     "name": "stdout",
     "output_type": "stream",
     "text": [
      "[[ 707 1526]\n",
      " [ 489  514]\n",
      " [ 200  385]\n",
      " ...\n",
      " [ 760  832]\n",
      " [  23 1395]\n",
      " [ 120 1086]] [1.  0.8 1.  ... 1.  1.  1. ]\n"
     ]
    }
   ],
   "source": [
    "train_indices = int(0.8 * collaborative_df.shape[0])\n",
    "\n",
    "x_train, x_val, y_train, y_val = (\n",
    "    x[:train_indices],\n",
    "    x[train_indices:],\n",
    "    y[:train_indices],\n",
    "    y[train_indices:]\n",
    ")\n",
    "\n",
    "print(x, y)"
   ]
  },
  {
   "cell_type": "markdown",
   "metadata": {},
   "source": [
    "## Modeling"
   ]
  },
  {
   "cell_type": "markdown",
   "metadata": {},
   "source": [
    "### Cosine Similarity"
   ]
  },
  {
   "cell_type": "code",
   "execution_count": 88,
   "metadata": {},
   "outputs": [],
   "source": [
    "cos_sim = cosine_similarity(tfidf_matrix, tfidf_matrix)"
   ]
  },
  {
   "cell_type": "code",
   "execution_count": 94,
   "metadata": {},
   "outputs": [
    {
     "name": "stdout",
     "output_type": "stream",
     "text": [
      "Shape: (2009, 2009)\n"
     ]
    },
    {
     "data": {
      "text/html": [
       "<div>\n",
       "<style scoped>\n",
       "    .dataframe tbody tr th:only-of-type {\n",
       "        vertical-align: middle;\n",
       "    }\n",
       "\n",
       "    .dataframe tbody tr th {\n",
       "        vertical-align: top;\n",
       "    }\n",
       "\n",
       "    .dataframe thead th {\n",
       "        text-align: right;\n",
       "    }\n",
       "</style>\n",
       "<table border=\"1\" class=\"dataframe\">\n",
       "  <thead>\n",
       "    <tr style=\"text-align: right;\">\n",
       "      <th>name</th>\n",
       "      <th>new  vanishing oatmeal raisin cookies</th>\n",
       "      <th>lunch ladies creamy italian spinach</th>\n",
       "      <th>coffee mousse pie</th>\n",
       "      <th>easy peasy chicken salad</th>\n",
       "      <th>korean lamb chops</th>\n",
       "      <th>piedmont roasted bell peppers</th>\n",
       "      <th>black coffee cake</th>\n",
       "      <th>apple and banana nut muffins</th>\n",
       "      <th>cream cheese hot dogs</th>\n",
       "      <th>u nega gei</th>\n",
       "    </tr>\n",
       "    <tr>\n",
       "      <th>name</th>\n",
       "      <th></th>\n",
       "      <th></th>\n",
       "      <th></th>\n",
       "      <th></th>\n",
       "      <th></th>\n",
       "      <th></th>\n",
       "      <th></th>\n",
       "      <th></th>\n",
       "      <th></th>\n",
       "      <th></th>\n",
       "    </tr>\n",
       "  </thead>\n",
       "  <tbody>\n",
       "    <tr>\n",
       "      <th>chazz s smoke bread  smoke bread</th>\n",
       "      <td>0.0</td>\n",
       "      <td>0.0</td>\n",
       "      <td>0.0</td>\n",
       "      <td>0.0</td>\n",
       "      <td>0.0</td>\n",
       "      <td>0.0</td>\n",
       "      <td>0.0</td>\n",
       "      <td>0.0</td>\n",
       "      <td>0.0</td>\n",
       "      <td>0.0</td>\n",
       "    </tr>\n",
       "    <tr>\n",
       "      <th>andouille burgers with red pepper mayo</th>\n",
       "      <td>0.0</td>\n",
       "      <td>0.0</td>\n",
       "      <td>0.0</td>\n",
       "      <td>0.0</td>\n",
       "      <td>0.0</td>\n",
       "      <td>0.0</td>\n",
       "      <td>0.0</td>\n",
       "      <td>0.0</td>\n",
       "      <td>0.0</td>\n",
       "      <td>0.0</td>\n",
       "    </tr>\n",
       "    <tr>\n",
       "      <th>fabulous icing</th>\n",
       "      <td>1.0</td>\n",
       "      <td>0.0</td>\n",
       "      <td>0.0</td>\n",
       "      <td>0.0</td>\n",
       "      <td>0.0</td>\n",
       "      <td>0.0</td>\n",
       "      <td>0.0</td>\n",
       "      <td>0.0</td>\n",
       "      <td>1.0</td>\n",
       "      <td>0.0</td>\n",
       "    </tr>\n",
       "    <tr>\n",
       "      <th>lori s risotto</th>\n",
       "      <td>0.0</td>\n",
       "      <td>0.0</td>\n",
       "      <td>0.0</td>\n",
       "      <td>0.0</td>\n",
       "      <td>0.0</td>\n",
       "      <td>0.0</td>\n",
       "      <td>0.0</td>\n",
       "      <td>0.0</td>\n",
       "      <td>0.0</td>\n",
       "      <td>0.0</td>\n",
       "    </tr>\n",
       "    <tr>\n",
       "      <th>condiglione  italian tuna salad</th>\n",
       "      <td>0.0</td>\n",
       "      <td>0.0</td>\n",
       "      <td>0.0</td>\n",
       "      <td>0.0</td>\n",
       "      <td>0.0</td>\n",
       "      <td>0.0</td>\n",
       "      <td>0.0</td>\n",
       "      <td>0.0</td>\n",
       "      <td>0.0</td>\n",
       "      <td>0.0</td>\n",
       "    </tr>\n",
       "    <tr>\n",
       "      <th>easy vegetarian lasagne  some assembly required</th>\n",
       "      <td>0.0</td>\n",
       "      <td>0.0</td>\n",
       "      <td>0.0</td>\n",
       "      <td>0.0</td>\n",
       "      <td>0.0</td>\n",
       "      <td>0.0</td>\n",
       "      <td>0.0</td>\n",
       "      <td>0.0</td>\n",
       "      <td>0.0</td>\n",
       "      <td>0.0</td>\n",
       "    </tr>\n",
       "    <tr>\n",
       "      <th>scott peacock s chocolate meringue pie</th>\n",
       "      <td>0.0</td>\n",
       "      <td>0.0</td>\n",
       "      <td>0.0</td>\n",
       "      <td>0.0</td>\n",
       "      <td>0.0</td>\n",
       "      <td>0.0</td>\n",
       "      <td>0.0</td>\n",
       "      <td>0.0</td>\n",
       "      <td>0.0</td>\n",
       "      <td>0.0</td>\n",
       "    </tr>\n",
       "    <tr>\n",
       "      <th>gaspacho  alentejana  gazpacho alentejo s way</th>\n",
       "      <td>0.0</td>\n",
       "      <td>0.0</td>\n",
       "      <td>0.0</td>\n",
       "      <td>0.0</td>\n",
       "      <td>0.0</td>\n",
       "      <td>0.0</td>\n",
       "      <td>0.0</td>\n",
       "      <td>0.0</td>\n",
       "      <td>0.0</td>\n",
       "      <td>0.0</td>\n",
       "    </tr>\n",
       "    <tr>\n",
       "      <th>new potatoes with fresh horseradish sauce  vegan</th>\n",
       "      <td>0.0</td>\n",
       "      <td>0.0</td>\n",
       "      <td>0.0</td>\n",
       "      <td>0.0</td>\n",
       "      <td>0.0</td>\n",
       "      <td>0.0</td>\n",
       "      <td>0.0</td>\n",
       "      <td>0.0</td>\n",
       "      <td>0.0</td>\n",
       "      <td>0.0</td>\n",
       "    </tr>\n",
       "    <tr>\n",
       "      <th>princess cruises fettuccine alfredo</th>\n",
       "      <td>0.0</td>\n",
       "      <td>0.0</td>\n",
       "      <td>0.0</td>\n",
       "      <td>0.0</td>\n",
       "      <td>0.0</td>\n",
       "      <td>0.0</td>\n",
       "      <td>0.0</td>\n",
       "      <td>0.0</td>\n",
       "      <td>0.0</td>\n",
       "      <td>0.0</td>\n",
       "    </tr>\n",
       "  </tbody>\n",
       "</table>\n",
       "</div>"
      ],
      "text/plain": [
       "name                                              new  vanishing oatmeal raisin cookies  \\\n",
       "name                                                                                      \n",
       "chazz s smoke bread  smoke bread                                                    0.0   \n",
       "andouille burgers with red pepper mayo                                              0.0   \n",
       "fabulous icing                                                                      1.0   \n",
       "lori s risotto                                                                      0.0   \n",
       "condiglione  italian tuna salad                                                     0.0   \n",
       "easy vegetarian lasagne  some assembly required                                     0.0   \n",
       "scott peacock s chocolate meringue pie                                              0.0   \n",
       "gaspacho  alentejana  gazpacho alentejo s way                                       0.0   \n",
       "new potatoes with fresh horseradish sauce  vegan                                    0.0   \n",
       "princess cruises fettuccine alfredo                                                 0.0   \n",
       "\n",
       "name                                              lunch ladies creamy italian spinach  \\\n",
       "name                                                                                    \n",
       "chazz s smoke bread  smoke bread                                                  0.0   \n",
       "andouille burgers with red pepper mayo                                            0.0   \n",
       "fabulous icing                                                                    0.0   \n",
       "lori s risotto                                                                    0.0   \n",
       "condiglione  italian tuna salad                                                   0.0   \n",
       "easy vegetarian lasagne  some assembly required                                   0.0   \n",
       "scott peacock s chocolate meringue pie                                            0.0   \n",
       "gaspacho  alentejana  gazpacho alentejo s way                                     0.0   \n",
       "new potatoes with fresh horseradish sauce  vegan                                  0.0   \n",
       "princess cruises fettuccine alfredo                                               0.0   \n",
       "\n",
       "name                                              coffee mousse pie  \\\n",
       "name                                                                  \n",
       "chazz s smoke bread  smoke bread                                0.0   \n",
       "andouille burgers with red pepper mayo                          0.0   \n",
       "fabulous icing                                                  0.0   \n",
       "lori s risotto                                                  0.0   \n",
       "condiglione  italian tuna salad                                 0.0   \n",
       "easy vegetarian lasagne  some assembly required                 0.0   \n",
       "scott peacock s chocolate meringue pie                          0.0   \n",
       "gaspacho  alentejana  gazpacho alentejo s way                   0.0   \n",
       "new potatoes with fresh horseradish sauce  vegan                0.0   \n",
       "princess cruises fettuccine alfredo                             0.0   \n",
       "\n",
       "name                                              easy peasy chicken salad  \\\n",
       "name                                                                         \n",
       "chazz s smoke bread  smoke bread                                       0.0   \n",
       "andouille burgers with red pepper mayo                                 0.0   \n",
       "fabulous icing                                                         0.0   \n",
       "lori s risotto                                                         0.0   \n",
       "condiglione  italian tuna salad                                        0.0   \n",
       "easy vegetarian lasagne  some assembly required                        0.0   \n",
       "scott peacock s chocolate meringue pie                                 0.0   \n",
       "gaspacho  alentejana  gazpacho alentejo s way                          0.0   \n",
       "new potatoes with fresh horseradish sauce  vegan                       0.0   \n",
       "princess cruises fettuccine alfredo                                    0.0   \n",
       "\n",
       "name                                              korean lamb chops  \\\n",
       "name                                                                  \n",
       "chazz s smoke bread  smoke bread                                0.0   \n",
       "andouille burgers with red pepper mayo                          0.0   \n",
       "fabulous icing                                                  0.0   \n",
       "lori s risotto                                                  0.0   \n",
       "condiglione  italian tuna salad                                 0.0   \n",
       "easy vegetarian lasagne  some assembly required                 0.0   \n",
       "scott peacock s chocolate meringue pie                          0.0   \n",
       "gaspacho  alentejana  gazpacho alentejo s way                   0.0   \n",
       "new potatoes with fresh horseradish sauce  vegan                0.0   \n",
       "princess cruises fettuccine alfredo                             0.0   \n",
       "\n",
       "name                                              piedmont roasted bell peppers  \\\n",
       "name                                                                              \n",
       "chazz s smoke bread  smoke bread                                            0.0   \n",
       "andouille burgers with red pepper mayo                                      0.0   \n",
       "fabulous icing                                                              0.0   \n",
       "lori s risotto                                                              0.0   \n",
       "condiglione  italian tuna salad                                             0.0   \n",
       "easy vegetarian lasagne  some assembly required                             0.0   \n",
       "scott peacock s chocolate meringue pie                                      0.0   \n",
       "gaspacho  alentejana  gazpacho alentejo s way                               0.0   \n",
       "new potatoes with fresh horseradish sauce  vegan                            0.0   \n",
       "princess cruises fettuccine alfredo                                         0.0   \n",
       "\n",
       "name                                              black coffee cake  \\\n",
       "name                                                                  \n",
       "chazz s smoke bread  smoke bread                                0.0   \n",
       "andouille burgers with red pepper mayo                          0.0   \n",
       "fabulous icing                                                  0.0   \n",
       "lori s risotto                                                  0.0   \n",
       "condiglione  italian tuna salad                                 0.0   \n",
       "easy vegetarian lasagne  some assembly required                 0.0   \n",
       "scott peacock s chocolate meringue pie                          0.0   \n",
       "gaspacho  alentejana  gazpacho alentejo s way                   0.0   \n",
       "new potatoes with fresh horseradish sauce  vegan                0.0   \n",
       "princess cruises fettuccine alfredo                             0.0   \n",
       "\n",
       "name                                              apple and banana nut muffins  \\\n",
       "name                                                                             \n",
       "chazz s smoke bread  smoke bread                                           0.0   \n",
       "andouille burgers with red pepper mayo                                     0.0   \n",
       "fabulous icing                                                             0.0   \n",
       "lori s risotto                                                             0.0   \n",
       "condiglione  italian tuna salad                                            0.0   \n",
       "easy vegetarian lasagne  some assembly required                            0.0   \n",
       "scott peacock s chocolate meringue pie                                     0.0   \n",
       "gaspacho  alentejana  gazpacho alentejo s way                              0.0   \n",
       "new potatoes with fresh horseradish sauce  vegan                           0.0   \n",
       "princess cruises fettuccine alfredo                                        0.0   \n",
       "\n",
       "name                                              cream cheese hot dogs  \\\n",
       "name                                                                      \n",
       "chazz s smoke bread  smoke bread                                    0.0   \n",
       "andouille burgers with red pepper mayo                              0.0   \n",
       "fabulous icing                                                      1.0   \n",
       "lori s risotto                                                      0.0   \n",
       "condiglione  italian tuna salad                                     0.0   \n",
       "easy vegetarian lasagne  some assembly required                     0.0   \n",
       "scott peacock s chocolate meringue pie                              0.0   \n",
       "gaspacho  alentejana  gazpacho alentejo s way                       0.0   \n",
       "new potatoes with fresh horseradish sauce  vegan                    0.0   \n",
       "princess cruises fettuccine alfredo                                 0.0   \n",
       "\n",
       "name                                              u nega gei  \n",
       "name                                                          \n",
       "chazz s smoke bread  smoke bread                         0.0  \n",
       "andouille burgers with red pepper mayo                   0.0  \n",
       "fabulous icing                                           0.0  \n",
       "lori s risotto                                           0.0  \n",
       "condiglione  italian tuna salad                          0.0  \n",
       "easy vegetarian lasagne  some assembly required          0.0  \n",
       "scott peacock s chocolate meringue pie                   0.0  \n",
       "gaspacho  alentejana  gazpacho alentejo s way            0.0  \n",
       "new potatoes with fresh horseradish sauce  vegan         0.0  \n",
       "princess cruises fettuccine alfredo                      0.0  "
      ]
     },
     "execution_count": 94,
     "metadata": {},
     "output_type": "execute_result"
    }
   ],
   "source": [
    "cos_sim_df = pd.DataFrame(cos_sim, \n",
    "                          index=content_based_df['name'],\n",
    "                          columns=content_based_df['name'])\n",
    "\n",
    "print(\"Shape:\", cos_sim_df.shape)\n",
    "\n",
    "cos_sim_df.sample(10, axis=1).sample(10, axis=0)"
   ]
  },
  {
   "cell_type": "markdown",
   "metadata": {},
   "source": [
    "### Neural Collaborative Filtering"
   ]
  },
  {
   "cell_type": "markdown",
   "metadata": {},
   "source": [
    "Menghitung jumlah nilai unik masing-masing fitur:"
   ]
  },
  {
   "cell_type": "code",
   "execution_count": 675,
   "metadata": {},
   "outputs": [
    {
     "name": "stdout",
     "output_type": "stream",
     "text": [
      "1602\n",
      "1915\n"
     ]
    }
   ],
   "source": [
    "n_users = collaborative_df['user'].nunique()\n",
    "print(n_users)\n",
    "\n",
    "n_recipes = collaborative_df['recipe'].nunique()\n",
    "print(n_recipes)"
   ]
  },
  {
   "cell_type": "markdown",
   "metadata": {},
   "source": [
    "Membuat model rekomendasi dengan embedding layer:"
   ]
  },
  {
   "cell_type": "code",
   "execution_count": 692,
   "metadata": {},
   "outputs": [],
   "source": [
    "class NFCRecommender(tf.keras.Model):\n",
    "    \n",
    "     # Insialisasi fungsi\n",
    "    def __init__(self, n_users, n_recipes, embedding_size, **kwargs):\n",
    "        super(NFCRecommender, self).__init__(**kwargs)\n",
    "        self.n_users = n_users\n",
    "        self.n_recipes = n_recipes\n",
    "        self.embedding_size = embedding_size\n",
    "\n",
    "        # Membentuk layer embedding user\n",
    "        self.users_embedding = layers.Embedding(\n",
    "            n_users,\n",
    "            embedding_size,\n",
    "            embeddings_initializer = 'he_normal',\n",
    "            embeddings_regularizer = keras.regularizers.l2(1e-6)\n",
    "        )\n",
    "        self.users_bias = layers.Embedding(n_users, 1)\n",
    "\n",
    "        # Membentuk layer embedding recipe\n",
    "        self.recipes_embedding = layers.Embedding(\n",
    "            n_recipes,\n",
    "            embedding_size,\n",
    "            embeddings_initializer = 'he_normal',\n",
    "            embeddings_regularizer = keras.regularizers.l2(1e-6)\n",
    "        )\n",
    "        self.recipes_bias = layers.Embedding(n_recipes, 1)\n",
    "\n",
    "    def call(self, inputs):\n",
    "        users_vector = self.users_embedding(inputs[:,0]) # memanggil layer embedding 1\n",
    "        users_bias = self.users_bias(inputs[:, 0]) # memanggil layer embedding 2\n",
    "        recipes_vector = self.recipes_embedding(inputs[:, 1]) # memanggil layer embedding 3\n",
    "        recipes_bias = self.recipes_bias(inputs[:, 1]) # memanggil layer embedding 4\n",
    "\n",
    "        dot_users_recipes = tf.reduce_sum(users_vector * recipes_vector, axis=1, keepdims=True)\n",
    "\n",
    "        x = dot_users_recipes + users_bias + recipes_bias\n",
    "\n",
    "        # Menggunakan fungsi aktivasi sigmoid\n",
    "        return tf.nn.sigmoid(x)"
   ]
  },
  {
   "cell_type": "markdown",
   "metadata": {},
   "source": [
    "Compile model:"
   ]
  },
  {
   "cell_type": "code",
   "execution_count": 693,
   "metadata": {},
   "outputs": [],
   "source": [
    "model = NFCRecommender(n_users, n_recipes, 4)\n",
    "\n",
    "model.compile(\n",
    "    loss = tf.keras.losses.BinaryCrossentropy(),\n",
    "    optimizer = tf.keras.optimizers.RMSprop(learning_rate = 0.001),\n",
    "    metrics = [tf.keras.metrics.RootMeanSquaredError()]\n",
    ")"
   ]
  },
  {
   "cell_type": "code",
   "execution_count": 694,
   "metadata": {},
   "outputs": [
    {
     "name": "stdout",
     "output_type": "stream",
     "text": [
      "Epoch 1/100\n",
      "13/13 [==============================] - 1s 32ms/step - loss: 0.6932 - root_mean_squared_error: 0.4560 - val_loss: 0.6928 - val_root_mean_squared_error: 0.4643\n",
      "Epoch 2/100\n",
      "13/13 [==============================] - 0s 7ms/step - loss: 0.6898 - root_mean_squared_error: 0.4541 - val_loss: 0.6922 - val_root_mean_squared_error: 0.4640\n",
      "Epoch 3/100\n",
      "13/13 [==============================] - 0s 5ms/step - loss: 0.6867 - root_mean_squared_error: 0.4524 - val_loss: 0.6916 - val_root_mean_squared_error: 0.4637\n",
      "Epoch 4/100\n",
      "13/13 [==============================] - 0s 8ms/step - loss: 0.6838 - root_mean_squared_error: 0.4508 - val_loss: 0.6909 - val_root_mean_squared_error: 0.4633\n",
      "Epoch 5/100\n",
      "13/13 [==============================] - 0s 35ms/step - loss: 0.6809 - root_mean_squared_error: 0.4492 - val_loss: 0.6903 - val_root_mean_squared_error: 0.4630\n",
      "Epoch 6/100\n",
      "13/13 [==============================] - 0s 31ms/step - loss: 0.6780 - root_mean_squared_error: 0.4476 - val_loss: 0.6897 - val_root_mean_squared_error: 0.4627\n",
      "Epoch 7/100\n",
      "13/13 [==============================] - 0s 16ms/step - loss: 0.6751 - root_mean_squared_error: 0.4460 - val_loss: 0.6891 - val_root_mean_squared_error: 0.4623\n",
      "Epoch 8/100\n",
      "13/13 [==============================] - 0s 24ms/step - loss: 0.6722 - root_mean_squared_error: 0.4443 - val_loss: 0.6886 - val_root_mean_squared_error: 0.4620\n",
      "Epoch 9/100\n",
      "13/13 [==============================] - 0s 15ms/step - loss: 0.6693 - root_mean_squared_error: 0.4427 - val_loss: 0.6880 - val_root_mean_squared_error: 0.4617\n",
      "Epoch 10/100\n",
      "13/13 [==============================] - 0s 16ms/step - loss: 0.6664 - root_mean_squared_error: 0.4410 - val_loss: 0.6874 - val_root_mean_squared_error: 0.4614\n",
      "Epoch 11/100\n",
      "13/13 [==============================] - 0s 17ms/step - loss: 0.6635 - root_mean_squared_error: 0.4394 - val_loss: 0.6868 - val_root_mean_squared_error: 0.4611\n",
      "Epoch 12/100\n",
      "13/13 [==============================] - 0s 17ms/step - loss: 0.6605 - root_mean_squared_error: 0.4377 - val_loss: 0.6862 - val_root_mean_squared_error: 0.4607\n",
      "Epoch 13/100\n",
      "13/13 [==============================] - 0s 13ms/step - loss: 0.6576 - root_mean_squared_error: 0.4360 - val_loss: 0.6856 - val_root_mean_squared_error: 0.4604\n",
      "Epoch 14/100\n",
      "13/13 [==============================] - 0s 11ms/step - loss: 0.6546 - root_mean_squared_error: 0.4343 - val_loss: 0.6850 - val_root_mean_squared_error: 0.4601\n",
      "Epoch 15/100\n",
      "13/13 [==============================] - 0s 13ms/step - loss: 0.6516 - root_mean_squared_error: 0.4326 - val_loss: 0.6845 - val_root_mean_squared_error: 0.4598\n",
      "Epoch 16/100\n",
      "13/13 [==============================] - 0s 13ms/step - loss: 0.6486 - root_mean_squared_error: 0.4308 - val_loss: 0.6839 - val_root_mean_squared_error: 0.4595\n",
      "Epoch 17/100\n",
      "13/13 [==============================] - 0s 16ms/step - loss: 0.6456 - root_mean_squared_error: 0.4291 - val_loss: 0.6833 - val_root_mean_squared_error: 0.4591\n",
      "Epoch 18/100\n",
      "13/13 [==============================] - 0s 12ms/step - loss: 0.6425 - root_mean_squared_error: 0.4273 - val_loss: 0.6827 - val_root_mean_squared_error: 0.4588\n",
      "Epoch 19/100\n",
      "13/13 [==============================] - 0s 11ms/step - loss: 0.6395 - root_mean_squared_error: 0.4255 - val_loss: 0.6821 - val_root_mean_squared_error: 0.4585\n",
      "Epoch 20/100\n",
      "13/13 [==============================] - 0s 6ms/step - loss: 0.6364 - root_mean_squared_error: 0.4237 - val_loss: 0.6815 - val_root_mean_squared_error: 0.4582\n",
      "Epoch 21/100\n",
      "13/13 [==============================] - 0s 7ms/step - loss: 0.6333 - root_mean_squared_error: 0.4219 - val_loss: 0.6810 - val_root_mean_squared_error: 0.4579\n",
      "Epoch 22/100\n",
      "13/13 [==============================] - 0s 6ms/step - loss: 0.6302 - root_mean_squared_error: 0.4201 - val_loss: 0.6804 - val_root_mean_squared_error: 0.4576\n",
      "Epoch 23/100\n",
      "13/13 [==============================] - 0s 6ms/step - loss: 0.6271 - root_mean_squared_error: 0.4182 - val_loss: 0.6798 - val_root_mean_squared_error: 0.4573\n",
      "Epoch 24/100\n",
      "13/13 [==============================] - 0s 5ms/step - loss: 0.6240 - root_mean_squared_error: 0.4164 - val_loss: 0.6793 - val_root_mean_squared_error: 0.4570\n",
      "Epoch 25/100\n",
      "13/13 [==============================] - 0s 6ms/step - loss: 0.6209 - root_mean_squared_error: 0.4145 - val_loss: 0.6787 - val_root_mean_squared_error: 0.4567\n",
      "Epoch 26/100\n",
      "13/13 [==============================] - 0s 6ms/step - loss: 0.6177 - root_mean_squared_error: 0.4126 - val_loss: 0.6781 - val_root_mean_squared_error: 0.4563\n",
      "Epoch 27/100\n",
      "13/13 [==============================] - 0s 6ms/step - loss: 0.6145 - root_mean_squared_error: 0.4107 - val_loss: 0.6776 - val_root_mean_squared_error: 0.4560\n",
      "Epoch 28/100\n",
      "13/13 [==============================] - 0s 7ms/step - loss: 0.6114 - root_mean_squared_error: 0.4088 - val_loss: 0.6770 - val_root_mean_squared_error: 0.4557\n",
      "Epoch 29/100\n",
      "13/13 [==============================] - 0s 6ms/step - loss: 0.6082 - root_mean_squared_error: 0.4069 - val_loss: 0.6765 - val_root_mean_squared_error: 0.4554\n",
      "Epoch 30/100\n",
      "13/13 [==============================] - 0s 10ms/step - loss: 0.6050 - root_mean_squared_error: 0.4049 - val_loss: 0.6759 - val_root_mean_squared_error: 0.4551\n",
      "Epoch 31/100\n",
      "13/13 [==============================] - 0s 9ms/step - loss: 0.6018 - root_mean_squared_error: 0.4030 - val_loss: 0.6753 - val_root_mean_squared_error: 0.4548\n",
      "Epoch 32/100\n",
      "13/13 [==============================] - 0s 6ms/step - loss: 0.5986 - root_mean_squared_error: 0.4010 - val_loss: 0.6748 - val_root_mean_squared_error: 0.4545\n",
      "Epoch 33/100\n",
      "13/13 [==============================] - 0s 6ms/step - loss: 0.5954 - root_mean_squared_error: 0.3990 - val_loss: 0.6742 - val_root_mean_squared_error: 0.4542\n",
      "Epoch 34/100\n",
      "13/13 [==============================] - 0s 6ms/step - loss: 0.5921 - root_mean_squared_error: 0.3970 - val_loss: 0.6737 - val_root_mean_squared_error: 0.4539\n",
      "Epoch 35/100\n",
      "13/13 [==============================] - 0s 6ms/step - loss: 0.5889 - root_mean_squared_error: 0.3950 - val_loss: 0.6731 - val_root_mean_squared_error: 0.4536\n",
      "Epoch 36/100\n",
      "13/13 [==============================] - 0s 11ms/step - loss: 0.5857 - root_mean_squared_error: 0.3930 - val_loss: 0.6726 - val_root_mean_squared_error: 0.4533\n",
      "Epoch 37/100\n",
      "13/13 [==============================] - 0s 6ms/step - loss: 0.5824 - root_mean_squared_error: 0.3910 - val_loss: 0.6721 - val_root_mean_squared_error: 0.4530\n",
      "Epoch 38/100\n",
      "13/13 [==============================] - 0s 6ms/step - loss: 0.5792 - root_mean_squared_error: 0.3889 - val_loss: 0.6716 - val_root_mean_squared_error: 0.4527\n",
      "Epoch 39/100\n",
      "13/13 [==============================] - 0s 7ms/step - loss: 0.5759 - root_mean_squared_error: 0.3869 - val_loss: 0.6710 - val_root_mean_squared_error: 0.4524\n",
      "Epoch 40/100\n",
      "13/13 [==============================] - 0s 6ms/step - loss: 0.5727 - root_mean_squared_error: 0.3848 - val_loss: 0.6705 - val_root_mean_squared_error: 0.4521\n",
      "Epoch 41/100\n",
      "13/13 [==============================] - 0s 6ms/step - loss: 0.5694 - root_mean_squared_error: 0.3827 - val_loss: 0.6700 - val_root_mean_squared_error: 0.4518\n",
      "Epoch 42/100\n",
      "13/13 [==============================] - 0s 7ms/step - loss: 0.5661 - root_mean_squared_error: 0.3806 - val_loss: 0.6694 - val_root_mean_squared_error: 0.4515\n",
      "Epoch 43/100\n",
      "13/13 [==============================] - 0s 6ms/step - loss: 0.5628 - root_mean_squared_error: 0.3785 - val_loss: 0.6689 - val_root_mean_squared_error: 0.4512\n",
      "Epoch 44/100\n",
      "13/13 [==============================] - 0s 7ms/step - loss: 0.5595 - root_mean_squared_error: 0.3764 - val_loss: 0.6683 - val_root_mean_squared_error: 0.4509\n",
      "Epoch 45/100\n",
      "13/13 [==============================] - 0s 7ms/step - loss: 0.5562 - root_mean_squared_error: 0.3743 - val_loss: 0.6678 - val_root_mean_squared_error: 0.4506\n",
      "Epoch 46/100\n",
      "13/13 [==============================] - 0s 6ms/step - loss: 0.5529 - root_mean_squared_error: 0.3721 - val_loss: 0.6673 - val_root_mean_squared_error: 0.4503\n",
      "Epoch 47/100\n",
      "13/13 [==============================] - 0s 6ms/step - loss: 0.5496 - root_mean_squared_error: 0.3700 - val_loss: 0.6668 - val_root_mean_squared_error: 0.4500\n",
      "Epoch 48/100\n",
      "13/13 [==============================] - 0s 6ms/step - loss: 0.5463 - root_mean_squared_error: 0.3678 - val_loss: 0.6663 - val_root_mean_squared_error: 0.4497\n",
      "Epoch 49/100\n",
      "13/13 [==============================] - 0s 6ms/step - loss: 0.5430 - root_mean_squared_error: 0.3657 - val_loss: 0.6657 - val_root_mean_squared_error: 0.4494\n",
      "Epoch 50/100\n",
      "13/13 [==============================] - 0s 6ms/step - loss: 0.5397 - root_mean_squared_error: 0.3635 - val_loss: 0.6652 - val_root_mean_squared_error: 0.4491\n",
      "Epoch 51/100\n",
      "13/13 [==============================] - 0s 6ms/step - loss: 0.5364 - root_mean_squared_error: 0.3613 - val_loss: 0.6647 - val_root_mean_squared_error: 0.4489\n",
      "Epoch 52/100\n",
      "13/13 [==============================] - 0s 6ms/step - loss: 0.5331 - root_mean_squared_error: 0.3591 - val_loss: 0.6642 - val_root_mean_squared_error: 0.4486\n",
      "Epoch 53/100\n",
      "13/13 [==============================] - 0s 7ms/step - loss: 0.5298 - root_mean_squared_error: 0.3569 - val_loss: 0.6637 - val_root_mean_squared_error: 0.4483\n",
      "Epoch 54/100\n",
      "13/13 [==============================] - 0s 7ms/step - loss: 0.5265 - root_mean_squared_error: 0.3547 - val_loss: 0.6632 - val_root_mean_squared_error: 0.4480\n",
      "Epoch 55/100\n",
      "13/13 [==============================] - 0s 6ms/step - loss: 0.5232 - root_mean_squared_error: 0.3525 - val_loss: 0.6627 - val_root_mean_squared_error: 0.4477\n",
      "Epoch 56/100\n",
      "13/13 [==============================] - 0s 6ms/step - loss: 0.5199 - root_mean_squared_error: 0.3503 - val_loss: 0.6622 - val_root_mean_squared_error: 0.4475\n",
      "Epoch 57/100\n",
      "13/13 [==============================] - 0s 8ms/step - loss: 0.5166 - root_mean_squared_error: 0.3481 - val_loss: 0.6617 - val_root_mean_squared_error: 0.4472\n",
      "Epoch 58/100\n",
      "13/13 [==============================] - 0s 6ms/step - loss: 0.5133 - root_mean_squared_error: 0.3458 - val_loss: 0.6612 - val_root_mean_squared_error: 0.4469\n",
      "Epoch 59/100\n",
      "13/13 [==============================] - 0s 6ms/step - loss: 0.5100 - root_mean_squared_error: 0.3436 - val_loss: 0.6607 - val_root_mean_squared_error: 0.4466\n",
      "Epoch 60/100\n",
      "13/13 [==============================] - 0s 8ms/step - loss: 0.5067 - root_mean_squared_error: 0.3413 - val_loss: 0.6602 - val_root_mean_squared_error: 0.4463\n",
      "Epoch 61/100\n",
      "13/13 [==============================] - 0s 7ms/step - loss: 0.5034 - root_mean_squared_error: 0.3390 - val_loss: 0.6597 - val_root_mean_squared_error: 0.4461\n",
      "Epoch 62/100\n",
      "13/13 [==============================] - 0s 6ms/step - loss: 0.5001 - root_mean_squared_error: 0.3368 - val_loss: 0.6592 - val_root_mean_squared_error: 0.4458\n",
      "Epoch 63/100\n",
      "13/13 [==============================] - 0s 7ms/step - loss: 0.4969 - root_mean_squared_error: 0.3345 - val_loss: 0.6587 - val_root_mean_squared_error: 0.4455\n",
      "Epoch 64/100\n",
      "13/13 [==============================] - 0s 6ms/step - loss: 0.4936 - root_mean_squared_error: 0.3322 - val_loss: 0.6583 - val_root_mean_squared_error: 0.4453\n",
      "Epoch 65/100\n",
      "13/13 [==============================] - 0s 6ms/step - loss: 0.4903 - root_mean_squared_error: 0.3299 - val_loss: 0.6578 - val_root_mean_squared_error: 0.4450\n",
      "Epoch 66/100\n",
      "13/13 [==============================] - 0s 5ms/step - loss: 0.4871 - root_mean_squared_error: 0.3277 - val_loss: 0.6573 - val_root_mean_squared_error: 0.4447\n",
      "Epoch 67/100\n",
      "13/13 [==============================] - 0s 8ms/step - loss: 0.4838 - root_mean_squared_error: 0.3254 - val_loss: 0.6568 - val_root_mean_squared_error: 0.4445\n",
      "Epoch 68/100\n",
      "13/13 [==============================] - 0s 7ms/step - loss: 0.4806 - root_mean_squared_error: 0.3231 - val_loss: 0.6564 - val_root_mean_squared_error: 0.4442\n",
      "Epoch 69/100\n",
      "13/13 [==============================] - 0s 6ms/step - loss: 0.4773 - root_mean_squared_error: 0.3208 - val_loss: 0.6559 - val_root_mean_squared_error: 0.4439\n",
      "Epoch 70/100\n",
      "13/13 [==============================] - 0s 6ms/step - loss: 0.4741 - root_mean_squared_error: 0.3185 - val_loss: 0.6554 - val_root_mean_squared_error: 0.4436\n",
      "Epoch 71/100\n",
      "13/13 [==============================] - 0s 6ms/step - loss: 0.4709 - root_mean_squared_error: 0.3162 - val_loss: 0.6549 - val_root_mean_squared_error: 0.4434\n",
      "Epoch 72/100\n",
      "13/13 [==============================] - 0s 8ms/step - loss: 0.4676 - root_mean_squared_error: 0.3139 - val_loss: 0.6545 - val_root_mean_squared_error: 0.4431\n",
      "Epoch 73/100\n",
      "13/13 [==============================] - 0s 6ms/step - loss: 0.4644 - root_mean_squared_error: 0.3116 - val_loss: 0.6540 - val_root_mean_squared_error: 0.4428\n",
      "Epoch 74/100\n",
      "13/13 [==============================] - 0s 6ms/step - loss: 0.4612 - root_mean_squared_error: 0.3092 - val_loss: 0.6535 - val_root_mean_squared_error: 0.4426\n",
      "Epoch 75/100\n",
      "13/13 [==============================] - 0s 6ms/step - loss: 0.4580 - root_mean_squared_error: 0.3069 - val_loss: 0.6531 - val_root_mean_squared_error: 0.4423\n",
      "Epoch 76/100\n",
      "13/13 [==============================] - 0s 6ms/step - loss: 0.4549 - root_mean_squared_error: 0.3046 - val_loss: 0.6526 - val_root_mean_squared_error: 0.4421\n",
      "Epoch 77/100\n",
      "13/13 [==============================] - 0s 6ms/step - loss: 0.4517 - root_mean_squared_error: 0.3023 - val_loss: 0.6522 - val_root_mean_squared_error: 0.4418\n",
      "Epoch 78/100\n",
      "13/13 [==============================] - 0s 6ms/step - loss: 0.4485 - root_mean_squared_error: 0.3000 - val_loss: 0.6517 - val_root_mean_squared_error: 0.4416\n",
      "Epoch 79/100\n",
      "13/13 [==============================] - 0s 6ms/step - loss: 0.4454 - root_mean_squared_error: 0.2977 - val_loss: 0.6513 - val_root_mean_squared_error: 0.4413\n",
      "Epoch 80/100\n",
      "13/13 [==============================] - 0s 8ms/step - loss: 0.4422 - root_mean_squared_error: 0.2953 - val_loss: 0.6508 - val_root_mean_squared_error: 0.4411\n",
      "Epoch 81/100\n",
      "13/13 [==============================] - 0s 9ms/step - loss: 0.4391 - root_mean_squared_error: 0.2930 - val_loss: 0.6504 - val_root_mean_squared_error: 0.4408\n",
      "Epoch 82/100\n",
      "13/13 [==============================] - 0s 7ms/step - loss: 0.4360 - root_mean_squared_error: 0.2907 - val_loss: 0.6499 - val_root_mean_squared_error: 0.4406\n",
      "Epoch 83/100\n",
      "13/13 [==============================] - 0s 7ms/step - loss: 0.4329 - root_mean_squared_error: 0.2884 - val_loss: 0.6495 - val_root_mean_squared_error: 0.4403\n",
      "Epoch 84/100\n",
      "13/13 [==============================] - 0s 6ms/step - loss: 0.4298 - root_mean_squared_error: 0.2861 - val_loss: 0.6491 - val_root_mean_squared_error: 0.4401\n",
      "Epoch 85/100\n",
      "13/13 [==============================] - 0s 6ms/step - loss: 0.4267 - root_mean_squared_error: 0.2837 - val_loss: 0.6486 - val_root_mean_squared_error: 0.4398\n",
      "Epoch 86/100\n",
      "13/13 [==============================] - 0s 14ms/step - loss: 0.4237 - root_mean_squared_error: 0.2814 - val_loss: 0.6482 - val_root_mean_squared_error: 0.4396\n",
      "Epoch 87/100\n",
      "13/13 [==============================] - 0s 11ms/step - loss: 0.4206 - root_mean_squared_error: 0.2791 - val_loss: 0.6478 - val_root_mean_squared_error: 0.4393\n",
      "Epoch 88/100\n",
      "13/13 [==============================] - 0s 9ms/step - loss: 0.4176 - root_mean_squared_error: 0.2768 - val_loss: 0.6473 - val_root_mean_squared_error: 0.4391\n",
      "Epoch 89/100\n",
      "13/13 [==============================] - 0s 7ms/step - loss: 0.4146 - root_mean_squared_error: 0.2745 - val_loss: 0.6469 - val_root_mean_squared_error: 0.4388\n",
      "Epoch 90/100\n",
      "13/13 [==============================] - 0s 6ms/step - loss: 0.4116 - root_mean_squared_error: 0.2722 - val_loss: 0.6465 - val_root_mean_squared_error: 0.4386\n",
      "Epoch 91/100\n",
      "13/13 [==============================] - 0s 6ms/step - loss: 0.4086 - root_mean_squared_error: 0.2699 - val_loss: 0.6461 - val_root_mean_squared_error: 0.4384\n",
      "Epoch 92/100\n",
      "13/13 [==============================] - 0s 6ms/step - loss: 0.4056 - root_mean_squared_error: 0.2676 - val_loss: 0.6457 - val_root_mean_squared_error: 0.4381\n",
      "Epoch 93/100\n",
      "13/13 [==============================] - 0s 9ms/step - loss: 0.4027 - root_mean_squared_error: 0.2653 - val_loss: 0.6453 - val_root_mean_squared_error: 0.4379\n",
      "Epoch 94/100\n",
      "13/13 [==============================] - 0s 8ms/step - loss: 0.3997 - root_mean_squared_error: 0.2630 - val_loss: 0.6449 - val_root_mean_squared_error: 0.4377\n",
      "Epoch 95/100\n",
      "13/13 [==============================] - 0s 6ms/step - loss: 0.3968 - root_mean_squared_error: 0.2607 - val_loss: 0.6444 - val_root_mean_squared_error: 0.4374\n",
      "Epoch 96/100\n",
      "13/13 [==============================] - 0s 5ms/step - loss: 0.3939 - root_mean_squared_error: 0.2584 - val_loss: 0.6440 - val_root_mean_squared_error: 0.4372\n",
      "Epoch 97/100\n",
      "13/13 [==============================] - 0s 6ms/step - loss: 0.3910 - root_mean_squared_error: 0.2561 - val_loss: 0.6436 - val_root_mean_squared_error: 0.4370\n",
      "Epoch 98/100\n",
      "13/13 [==============================] - 0s 5ms/step - loss: 0.3881 - root_mean_squared_error: 0.2539 - val_loss: 0.6432 - val_root_mean_squared_error: 0.4367\n",
      "Epoch 99/100\n",
      "13/13 [==============================] - 0s 6ms/step - loss: 0.3853 - root_mean_squared_error: 0.2516 - val_loss: 0.6428 - val_root_mean_squared_error: 0.4365\n",
      "Epoch 100/100\n",
      "13/13 [==============================] - 0s 5ms/step - loss: 0.3824 - root_mean_squared_error: 0.2493 - val_loss: 0.6424 - val_root_mean_squared_error: 0.4363\n"
     ]
    }
   ],
   "source": [
    "history = model.fit(\n",
    "    x = x_train,\n",
    "    y = y_train,\n",
    "    validation_data=(x_val, y_val),\n",
    "    batch_size=128,\n",
    "    epochs=100\n",
    ")"
   ]
  },
  {
   "cell_type": "markdown",
   "metadata": {},
   "source": [
    "Visualisasi hasil pelatihan model:"
   ]
  },
  {
   "cell_type": "code",
   "execution_count": 732,
   "metadata": {},
   "outputs": [
    {
     "name": "stderr",
     "output_type": "stream",
     "text": [
      "C:\\Users\\ACER\\AppData\\Local\\Temp\\ipykernel_7420\\2240796526.py:14: UserWarning: FigureCanvasAgg is non-interactive, and thus cannot be shown\n",
      "  train_result.show()\n"
     ]
    },
    {
     "data": {
      "image/png": "[encoded data removed]",
      "text/plain": [
       "<Figure size 1000x600 with 1 Axes>"
      ]
     },
     "metadata": {},
     "output_type": "display_data"
    }
   ],
   "source": [
    "train_result, ax = plt.subplots(figsize=(10, 6))\n",
    "\n",
    "ax.plot(history.history[\"root_mean_squared_error\"], label=\"Training RMSE\", color='blue', linewidth=2)\n",
    "ax.plot(history.history[\"val_root_mean_squared_error\"], label=\"Validation RMSE\", color='orange', linewidth=2)\n",
    "\n",
    "ax.set_title(\"Evaluasi Model: RMSE per Epoch\", fontsize=14)\n",
    "ax.set_ylabel(\"Root Mean Squared Error (RMSE)\", fontsize=12)\n",
    "ax.set_xlabel(\"Epoch\", fontsize=12)\n",
    "\n",
    "ax.legend(loc=\"upper right\", fontsize=12)\n",
    "\n",
    "train_result.tight_layout()\n",
    "\n",
    "train_result.show()"
   ]
  },
  {
   "cell_type": "markdown",
   "metadata": {},
   "source": [
    "## Get Recommendations"
   ]
  },
  {
   "cell_type": "markdown",
   "metadata": {},
   "source": [
    "### Content Based Filtering"
   ]
  },
  {
   "cell_type": "code",
   "execution_count": 95,
   "metadata": {},
   "outputs": [],
   "source": [
    "def rekomendasi_makanan(nama_makanan, similarity_data=cos_sim_df, items=content_based_df, k = 10):\n",
    "\n",
    "    # Mengambil data dengan menggunakan argpartition untuk melakukan partisi secara tidak langsung sepanjang sumbu yang diberikan\n",
    "    # Dataframe diubah menjadi numpy Range(start, stop, step)\n",
    "    index = similarity_data.loc[:, nama_makanan].to_numpy().argpartition(range(-1, -k, -1))\n",
    "\n",
    "    # Mengambil data dengan similarity terbesar dari index yang ada\n",
    "    closest = similarity_data.columns[index[-1 : -(k + 2) : -1].flatten()]\n",
    "\n",
    "    # Drop nama makanan target\n",
    "    closest = closest.drop(nama_makanan, errors = \"ignore\")\n",
    "\n",
    "    # Gabungkan dengan DataFrame asli untuk mengambil detail makanan\n",
    "    recommendations = pd.DataFrame(closest, columns=[\"name\"]).merge(items, on=\"name\")\n",
    "\n",
    "    # Ambil data makanan target\n",
    "    target_item = items[items['name'] == nama_makanan].iloc[0]\n",
    "    \n",
    "    # Tambahkan kolom perbedaan kriteria\n",
    "    recommendations['calories_gap'] = recommendations['calories'] - target_item['calories']\n",
    "\n",
    "    return recommendations.head(k)"
   ]
  },
  {
   "cell_type": "code",
   "execution_count": 96,
   "metadata": {},
   "outputs": [
    {
     "name": "stdout",
     "output_type": "stream",
     "text": [
      "<class 'pandas.core.frame.DataFrame'>\n",
      "Index: 2009 entries, 2 to 2315\n",
      "Data columns (total 6 columns):\n",
      " #   Column       Non-Null Count  Dtype  \n",
      "---  ------       --------------  -----  \n",
      " 0   id           2009 non-null   int64  \n",
      " 1   name         2009 non-null   object \n",
      " 2   ingredients  2009 non-null   object \n",
      " 3   calories     2009 non-null   float64\n",
      " 4   minutes      2009 non-null   int64  \n",
      " 5   steps        2009 non-null   object \n",
      "dtypes: float64(1), int64(2), object(3)\n",
      "memory usage: 109.9+ KB\n"
     ]
    }
   ],
   "source": [
    "content_based_df.info()"
   ]
  },
  {
   "cell_type": "code",
   "execution_count": 101,
   "metadata": {},
   "outputs": [
    {
     "data": {
      "text/html": [
       "<div>\n",
       "<style scoped>\n",
       "    .dataframe tbody tr th:only-of-type {\n",
       "        vertical-align: middle;\n",
       "    }\n",
       "\n",
       "    .dataframe tbody tr th {\n",
       "        vertical-align: top;\n",
       "    }\n",
       "\n",
       "    .dataframe thead th {\n",
       "        text-align: right;\n",
       "    }\n",
       "</style>\n",
       "<table border=\"1\" class=\"dataframe\">\n",
       "  <thead>\n",
       "    <tr style=\"text-align: right;\">\n",
       "      <th></th>\n",
       "      <th>id</th>\n",
       "      <th>name</th>\n",
       "      <th>ingredients</th>\n",
       "      <th>calories</th>\n",
       "      <th>minutes</th>\n",
       "      <th>steps</th>\n",
       "    </tr>\n",
       "  </thead>\n",
       "  <tbody>\n",
       "    <tr>\n",
       "      <th>2291</th>\n",
       "      <td>178424</td>\n",
       "      <td>meatloaf with potato topping</td>\n",
       "      <td>vegetable oil</td>\n",
       "      <td>414.6</td>\n",
       "      <td>105</td>\n",
       "      <td>['in nonstick skillet , heat oil over medium h...</td>\n",
       "    </tr>\n",
       "  </tbody>\n",
       "</table>\n",
       "</div>"
      ],
      "text/plain": [
       "          id                          name    ingredients  calories  minutes  \\\n",
       "2291  178424  meatloaf with potato topping  vegetable oil     414.6      105   \n",
       "\n",
       "                                                  steps  \n",
       "2291  ['in nonstick skillet , heat oil over medium h...  "
      ]
     },
     "execution_count": 101,
     "metadata": {},
     "output_type": "execute_result"
    }
   ],
   "source": [
    "# Menampilkan makanan yang pernah dipilih\n",
    "makanan_pertama_df = content_based_df[content_based_df['name'] == \"meatloaf with potato topping\"]\n",
    "makanan_pertama_df"
   ]
  },
  {
   "cell_type": "code",
   "execution_count": 102,
   "metadata": {},
   "outputs": [],
   "source": [
    "# Menampilkan rekomendasi makanan berdasarkan makanan yang pernah dipilih\n",
    "rekomendasi_makanan_df = pd.DataFrame(rekomendasi_makanan(\"meatloaf with potato topping\"))"
   ]
  },
  {
   "cell_type": "code",
   "execution_count": 103,
   "metadata": {},
   "outputs": [
    {
     "data": {
      "text/html": [
       "<div>\n",
       "<style scoped>\n",
       "    .dataframe tbody tr th:only-of-type {\n",
       "        vertical-align: middle;\n",
       "    }\n",
       "\n",
       "    .dataframe tbody tr th {\n",
       "        vertical-align: top;\n",
       "    }\n",
       "\n",
       "    .dataframe thead th {\n",
       "        text-align: right;\n",
       "    }\n",
       "</style>\n",
       "<table border=\"1\" class=\"dataframe\">\n",
       "  <thead>\n",
       "    <tr style=\"text-align: right;\">\n",
       "      <th></th>\n",
       "      <th>name</th>\n",
       "      <th>id</th>\n",
       "      <th>ingredients</th>\n",
       "      <th>calories</th>\n",
       "      <th>minutes</th>\n",
       "      <th>steps</th>\n",
       "      <th>calories_gap</th>\n",
       "    </tr>\n",
       "  </thead>\n",
       "  <tbody>\n",
       "    <tr>\n",
       "      <th>0</th>\n",
       "      <td>crustless spainch and mushroom quiche</td>\n",
       "      <td>527347</td>\n",
       "      <td>vegetable oil</td>\n",
       "      <td>125.2</td>\n",
       "      <td>55</td>\n",
       "      <td>['preheat oven to 350-degrees f', 'spray 9-inc...</td>\n",
       "      <td>-289.4</td>\n",
       "    </tr>\n",
       "    <tr>\n",
       "      <th>1</th>\n",
       "      <td>gumbo</td>\n",
       "      <td>32042</td>\n",
       "      <td>vegetable oil</td>\n",
       "      <td>551.6</td>\n",
       "      <td>60</td>\n",
       "      <td>['in a large stockpot combine oil and flour an...</td>\n",
       "      <td>137.0</td>\n",
       "    </tr>\n",
       "    <tr>\n",
       "      <th>2</th>\n",
       "      <td>argentinian grilled flank steak with chimichur...</td>\n",
       "      <td>457101</td>\n",
       "      <td>vegetable oil</td>\n",
       "      <td>672.1</td>\n",
       "      <td>20</td>\n",
       "      <td>[\"prepare grill according to manufacturer's in...</td>\n",
       "      <td>257.5</td>\n",
       "    </tr>\n",
       "    <tr>\n",
       "      <th>3</th>\n",
       "      <td>weight watchers chili lime chicken 3 points</td>\n",
       "      <td>408980</td>\n",
       "      <td>vegetable oil</td>\n",
       "      <td>300.9</td>\n",
       "      <td>15</td>\n",
       "      <td>['in a large nonstick skillet , heat the oil',...</td>\n",
       "      <td>-113.7</td>\n",
       "    </tr>\n",
       "    <tr>\n",
       "      <th>4</th>\n",
       "      <td>capo s chicken diablo</td>\n",
       "      <td>139260</td>\n",
       "      <td>vegetable oil</td>\n",
       "      <td>481.3</td>\n",
       "      <td>60</td>\n",
       "      <td>['preheat oven to 350 degrees f', 'in a small ...</td>\n",
       "      <td>66.7</td>\n",
       "    </tr>\n",
       "    <tr>\n",
       "      <th>5</th>\n",
       "      <td>cambodian sweet and sour fish</td>\n",
       "      <td>505454</td>\n",
       "      <td>vegetable oil</td>\n",
       "      <td>94.7</td>\n",
       "      <td>25</td>\n",
       "      <td>['in a measuring cup , mix together the fish s...</td>\n",
       "      <td>-319.9</td>\n",
       "    </tr>\n",
       "    <tr>\n",
       "      <th>6</th>\n",
       "      <td>french onion jambalaya</td>\n",
       "      <td>29073</td>\n",
       "      <td>vegetable oil</td>\n",
       "      <td>526.5</td>\n",
       "      <td>30</td>\n",
       "      <td>['heat oil in skillet', 'add the chicken , sau...</td>\n",
       "      <td>111.9</td>\n",
       "    </tr>\n",
       "    <tr>\n",
       "      <th>7</th>\n",
       "      <td>creamy chicken   black bean enchiladas</td>\n",
       "      <td>518749</td>\n",
       "      <td>vegetable oil</td>\n",
       "      <td>430.0</td>\n",
       "      <td>50</td>\n",
       "      <td>['add vegetable oil to skillet &amp; heat on mediu...</td>\n",
       "      <td>15.4</td>\n",
       "    </tr>\n",
       "    <tr>\n",
       "      <th>8</th>\n",
       "      <td>shrimp supreme</td>\n",
       "      <td>126333</td>\n",
       "      <td>vegetable oil</td>\n",
       "      <td>285.5</td>\n",
       "      <td>20</td>\n",
       "      <td>['heat oil in a large skillet on medium heat',...</td>\n",
       "      <td>-129.1</td>\n",
       "    </tr>\n",
       "    <tr>\n",
       "      <th>9</th>\n",
       "      <td>melt in your mouth barbecued chicken</td>\n",
       "      <td>190558</td>\n",
       "      <td>vegetable oil</td>\n",
       "      <td>541.7</td>\n",
       "      <td>70</td>\n",
       "      <td>['heat oil in a large skillet over medium-high...</td>\n",
       "      <td>127.1</td>\n",
       "    </tr>\n",
       "  </tbody>\n",
       "</table>\n",
       "</div>"
      ],
      "text/plain": [
       "                                                name      id    ingredients  \\\n",
       "0              crustless spainch and mushroom quiche  527347  vegetable oil   \n",
       "1                                              gumbo   32042  vegetable oil   \n",
       "2  argentinian grilled flank steak with chimichur...  457101  vegetable oil   \n",
       "3        weight watchers chili lime chicken 3 points  408980  vegetable oil   \n",
       "4                              capo s chicken diablo  139260  vegetable oil   \n",
       "5                      cambodian sweet and sour fish  505454  vegetable oil   \n",
       "6                             french onion jambalaya   29073  vegetable oil   \n",
       "7             creamy chicken   black bean enchiladas  518749  vegetable oil   \n",
       "8                                     shrimp supreme  126333  vegetable oil   \n",
       "9               melt in your mouth barbecued chicken  190558  vegetable oil   \n",
       "\n",
       "   calories  minutes                                              steps  \\\n",
       "0     125.2       55  ['preheat oven to 350-degrees f', 'spray 9-inc...   \n",
       "1     551.6       60  ['in a large stockpot combine oil and flour an...   \n",
       "2     672.1       20  [\"prepare grill according to manufacturer's in...   \n",
       "3     300.9       15  ['in a large nonstick skillet , heat the oil',...   \n",
       "4     481.3       60  ['preheat oven to 350 degrees f', 'in a small ...   \n",
       "5      94.7       25  ['in a measuring cup , mix together the fish s...   \n",
       "6     526.5       30  ['heat oil in skillet', 'add the chicken , sau...   \n",
       "7     430.0       50  ['add vegetable oil to skillet & heat on mediu...   \n",
       "8     285.5       20  ['heat oil in a large skillet on medium heat',...   \n",
       "9     541.7       70  ['heat oil in a large skillet over medium-high...   \n",
       "\n",
       "   calories_gap  \n",
       "0        -289.4  \n",
       "1         137.0  \n",
       "2         257.5  \n",
       "3        -113.7  \n",
       "4          66.7  \n",
       "5        -319.9  \n",
       "6         111.9  \n",
       "7          15.4  \n",
       "8        -129.1  \n",
       "9         127.1  "
      ]
     },
     "execution_count": 103,
     "metadata": {},
     "output_type": "execute_result"
    }
   ],
   "source": [
    "rekomendasi_makanan_df"
   ]
  },
  {
   "cell_type": "markdown",
   "metadata": {},
   "source": [
    "### Collaborative Filtering"
   ]
  },
  {
   "cell_type": "code",
   "execution_count": 707,
   "metadata": {},
   "outputs": [],
   "source": [
    "food_df = collaborative_df\n",
    "df = collaborative_df\n",
    " \n",
    "# Mengambil sample user\n",
    "user_id = df.user_id.sample(1).iloc[0]\n",
    "selected_food_by_user = df[df.user_id == user_id]\n",
    "\n",
    "food_not_selected = food_df[~food_df['recipe_id'].isin(selected_food_by_user.recipe_id.values)]['recipe_id'] \n",
    "food_not_selected = list(\n",
    "    set(food_not_selected)\n",
    "    .intersection(set(recipe_to_recipe_encoded.keys()))\n",
    ")\n",
    " \n",
    "food_not_selected = [[recipe_to_recipe_encoded.get(x)] for x in food_not_selected]\n",
    "user_encoder = user_to_user_encoded.get(user_id)\n",
    "user_resto_array = np.hstack(\n",
    "    ([[user_encoder]] * len(food_not_selected), food_not_selected)\n",
    ")"
   ]
  },
  {
   "cell_type": "code",
   "execution_count": 723,
   "metadata": {},
   "outputs": [
    {
     "name": "stdout",
     "output_type": "stream",
     "text": [
      "60/60 [==============================] - 0s 3ms/step\n",
      "Showing recommendations for users: 597538\n",
      "===========================\n",
      "Food with high ratings from user\n",
      "--------------------------------\n",
      "tomato and avocado goat cheese crostini\n",
      "--------------------------------\n",
      "Top 10 food recommendation\n",
      "--------------------------------\n",
      "Recipe ID: 141983 - Food Name: beefed up bloody mary soup\n",
      "----\n",
      "Recipe ID: 83524 - Food Name: dreamsicle cookie mix in a jar\n",
      "----\n",
      "Recipe ID: 33489 - Food Name: really good vegetarian meatloaf  really\n",
      "----\n",
      "Recipe ID: 141983 - Food Name: kourabiethes  greek butter cookies\n",
      "----\n",
      "Recipe ID: 83524 - Food Name: advocaat\n",
      "----\n",
      "Recipe ID: 105670 - Food Name: chicken osso buco\n",
      "----\n",
      "Recipe ID: 109264 - Food Name: homemade plant food\n",
      "----\n",
      "Recipe ID: 305026 - Food Name: blueberry sausage breakfast cake\n",
      "----\n",
      "Recipe ID: 87782 - Food Name: saucy pasta all in one pot\n",
      "----\n",
      "Recipe ID: 31349 - Food Name: apple cider gravy\n",
      "----\n"
     ]
    }
   ],
   "source": [
    "ratings = model.predict(user_resto_array).flatten()\n",
    " \n",
    "top_ratings_indices = ratings.argsort()[-10:][::-1]\n",
    "recommended_food_ids = list(set([\n",
    "    recipe_encoded_to_recipe.get(food_not_selected[x][0])\n",
    "    for x in top_ratings_indices\n",
    "]))\n",
    " \n",
    "print('Showing recommendations for users: {}'.format(user_id))\n",
    "print('===' * 9)\n",
    "print('Food with high ratings from user')\n",
    "print('----' * 8)\n",
    "\n",
    "top_food_user = (\n",
    "    selected_food_by_user.sort_values(\n",
    "        by = 'rating',\n",
    "        ascending=False\n",
    "    )\n",
    "    .head(5)\n",
    "    .recipe_id.values\n",
    ")\n",
    " \n",
    "food_df_rows = food_df[food_df['recipe_id'].isin(top_food_user)]\n",
    "for row in food_df_rows.itertuples():\n",
    "    print(row.food_name)\n",
    " \n",
    "print('----' * 8)\n",
    "print('Top 10 food recommendation')\n",
    "print('----' * 8)\n",
    " \n",
    "recommended_food = food_df[food_df['recipe_id'].isin(recommended_food_ids)].head(10)\n",
    "for row in recommended_food.itertuples():\n",
    "    print('Recipe ID:', row.recipe_id, '-' , 'Food Name:', row.food_name)\n",
    "    print('----')"
   ]
  },
  {
   "cell_type": "markdown",
   "metadata": {},
   "source": [
    "## Evaluation"
   ]
  },
  {
   "cell_type": "markdown",
   "metadata": {},
   "source": [
    "### Content Based Filtering"
   ]
  },
  {
   "cell_type": "markdown",
   "metadata": {},
   "source": [
    "Tampilkan data makanan pertama:"
   ]
  },
  {
   "cell_type": "code",
   "execution_count": 99,
   "metadata": {},
   "outputs": [
    {
     "data": {
      "text/html": [
       "<div>\n",
       "<style scoped>\n",
       "    .dataframe tbody tr th:only-of-type {\n",
       "        vertical-align: middle;\n",
       "    }\n",
       "\n",
       "    .dataframe tbody tr th {\n",
       "        vertical-align: top;\n",
       "    }\n",
       "\n",
       "    .dataframe thead th {\n",
       "        text-align: right;\n",
       "    }\n",
       "</style>\n",
       "<table border=\"1\" class=\"dataframe\">\n",
       "  <thead>\n",
       "    <tr style=\"text-align: right;\">\n",
       "      <th></th>\n",
       "      <th>id</th>\n",
       "      <th>name</th>\n",
       "      <th>ingredients</th>\n",
       "      <th>calories</th>\n",
       "      <th>minutes</th>\n",
       "      <th>steps</th>\n",
       "    </tr>\n",
       "  </thead>\n",
       "  <tbody>\n",
       "    <tr>\n",
       "      <th>2291</th>\n",
       "      <td>178424</td>\n",
       "      <td>meatloaf with potato topping</td>\n",
       "      <td>vegetable oil</td>\n",
       "      <td>414.6</td>\n",
       "      <td>105</td>\n",
       "      <td>['in nonstick skillet , heat oil over medium h...</td>\n",
       "    </tr>\n",
       "  </tbody>\n",
       "</table>\n",
       "</div>"
      ],
      "text/plain": [
       "          id                          name    ingredients  calories  minutes  \\\n",
       "2291  178424  meatloaf with potato topping  vegetable oil     414.6      105   \n",
       "\n",
       "                                                  steps  \n",
       "2291  ['in nonstick skillet , heat oil over medium h...  "
      ]
     },
     "execution_count": 99,
     "metadata": {},
     "output_type": "execute_result"
    }
   ],
   "source": [
    "makanan_pertama_df"
   ]
  },
  {
   "cell_type": "markdown",
   "metadata": {},
   "source": [
    "Tampilkan data hasil rekomendasi:"
   ]
  },
  {
   "cell_type": "code",
   "execution_count": 104,
   "metadata": {},
   "outputs": [
    {
     "data": {
      "text/html": [
       "<div>\n",
       "<style scoped>\n",
       "    .dataframe tbody tr th:only-of-type {\n",
       "        vertical-align: middle;\n",
       "    }\n",
       "\n",
       "    .dataframe tbody tr th {\n",
       "        vertical-align: top;\n",
       "    }\n",
       "\n",
       "    .dataframe thead th {\n",
       "        text-align: right;\n",
       "    }\n",
       "</style>\n",
       "<table border=\"1\" class=\"dataframe\">\n",
       "  <thead>\n",
       "    <tr style=\"text-align: right;\">\n",
       "      <th></th>\n",
       "      <th>name</th>\n",
       "      <th>id</th>\n",
       "      <th>ingredients</th>\n",
       "      <th>calories</th>\n",
       "      <th>minutes</th>\n",
       "      <th>steps</th>\n",
       "      <th>calories_gap</th>\n",
       "    </tr>\n",
       "  </thead>\n",
       "  <tbody>\n",
       "    <tr>\n",
       "      <th>0</th>\n",
       "      <td>crustless spainch and mushroom quiche</td>\n",
       "      <td>527347</td>\n",
       "      <td>vegetable oil</td>\n",
       "      <td>125.2</td>\n",
       "      <td>55</td>\n",
       "      <td>['preheat oven to 350-degrees f', 'spray 9-inc...</td>\n",
       "      <td>-289.4</td>\n",
       "    </tr>\n",
       "    <tr>\n",
       "      <th>1</th>\n",
       "      <td>gumbo</td>\n",
       "      <td>32042</td>\n",
       "      <td>vegetable oil</td>\n",
       "      <td>551.6</td>\n",
       "      <td>60</td>\n",
       "      <td>['in a large stockpot combine oil and flour an...</td>\n",
       "      <td>137.0</td>\n",
       "    </tr>\n",
       "    <tr>\n",
       "      <th>2</th>\n",
       "      <td>argentinian grilled flank steak with chimichur...</td>\n",
       "      <td>457101</td>\n",
       "      <td>vegetable oil</td>\n",
       "      <td>672.1</td>\n",
       "      <td>20</td>\n",
       "      <td>[\"prepare grill according to manufacturer's in...</td>\n",
       "      <td>257.5</td>\n",
       "    </tr>\n",
       "    <tr>\n",
       "      <th>3</th>\n",
       "      <td>weight watchers chili lime chicken 3 points</td>\n",
       "      <td>408980</td>\n",
       "      <td>vegetable oil</td>\n",
       "      <td>300.9</td>\n",
       "      <td>15</td>\n",
       "      <td>['in a large nonstick skillet , heat the oil',...</td>\n",
       "      <td>-113.7</td>\n",
       "    </tr>\n",
       "    <tr>\n",
       "      <th>4</th>\n",
       "      <td>capo s chicken diablo</td>\n",
       "      <td>139260</td>\n",
       "      <td>vegetable oil</td>\n",
       "      <td>481.3</td>\n",
       "      <td>60</td>\n",
       "      <td>['preheat oven to 350 degrees f', 'in a small ...</td>\n",
       "      <td>66.7</td>\n",
       "    </tr>\n",
       "    <tr>\n",
       "      <th>5</th>\n",
       "      <td>cambodian sweet and sour fish</td>\n",
       "      <td>505454</td>\n",
       "      <td>vegetable oil</td>\n",
       "      <td>94.7</td>\n",
       "      <td>25</td>\n",
       "      <td>['in a measuring cup , mix together the fish s...</td>\n",
       "      <td>-319.9</td>\n",
       "    </tr>\n",
       "    <tr>\n",
       "      <th>6</th>\n",
       "      <td>french onion jambalaya</td>\n",
       "      <td>29073</td>\n",
       "      <td>vegetable oil</td>\n",
       "      <td>526.5</td>\n",
       "      <td>30</td>\n",
       "      <td>['heat oil in skillet', 'add the chicken , sau...</td>\n",
       "      <td>111.9</td>\n",
       "    </tr>\n",
       "    <tr>\n",
       "      <th>7</th>\n",
       "      <td>creamy chicken   black bean enchiladas</td>\n",
       "      <td>518749</td>\n",
       "      <td>vegetable oil</td>\n",
       "      <td>430.0</td>\n",
       "      <td>50</td>\n",
       "      <td>['add vegetable oil to skillet &amp; heat on mediu...</td>\n",
       "      <td>15.4</td>\n",
       "    </tr>\n",
       "    <tr>\n",
       "      <th>8</th>\n",
       "      <td>shrimp supreme</td>\n",
       "      <td>126333</td>\n",
       "      <td>vegetable oil</td>\n",
       "      <td>285.5</td>\n",
       "      <td>20</td>\n",
       "      <td>['heat oil in a large skillet on medium heat',...</td>\n",
       "      <td>-129.1</td>\n",
       "    </tr>\n",
       "    <tr>\n",
       "      <th>9</th>\n",
       "      <td>melt in your mouth barbecued chicken</td>\n",
       "      <td>190558</td>\n",
       "      <td>vegetable oil</td>\n",
       "      <td>541.7</td>\n",
       "      <td>70</td>\n",
       "      <td>['heat oil in a large skillet over medium-high...</td>\n",
       "      <td>127.1</td>\n",
       "    </tr>\n",
       "  </tbody>\n",
       "</table>\n",
       "</div>"
      ],
      "text/plain": [
       "                                                name      id    ingredients  \\\n",
       "0              crustless spainch and mushroom quiche  527347  vegetable oil   \n",
       "1                                              gumbo   32042  vegetable oil   \n",
       "2  argentinian grilled flank steak with chimichur...  457101  vegetable oil   \n",
       "3        weight watchers chili lime chicken 3 points  408980  vegetable oil   \n",
       "4                              capo s chicken diablo  139260  vegetable oil   \n",
       "5                      cambodian sweet and sour fish  505454  vegetable oil   \n",
       "6                             french onion jambalaya   29073  vegetable oil   \n",
       "7             creamy chicken   black bean enchiladas  518749  vegetable oil   \n",
       "8                                     shrimp supreme  126333  vegetable oil   \n",
       "9               melt in your mouth barbecued chicken  190558  vegetable oil   \n",
       "\n",
       "   calories  minutes                                              steps  \\\n",
       "0     125.2       55  ['preheat oven to 350-degrees f', 'spray 9-inc...   \n",
       "1     551.6       60  ['in a large stockpot combine oil and flour an...   \n",
       "2     672.1       20  [\"prepare grill according to manufacturer's in...   \n",
       "3     300.9       15  ['in a large nonstick skillet , heat the oil',...   \n",
       "4     481.3       60  ['preheat oven to 350 degrees f', 'in a small ...   \n",
       "5      94.7       25  ['in a measuring cup , mix together the fish s...   \n",
       "6     526.5       30  ['heat oil in skillet', 'add the chicken , sau...   \n",
       "7     430.0       50  ['add vegetable oil to skillet & heat on mediu...   \n",
       "8     285.5       20  ['heat oil in a large skillet on medium heat',...   \n",
       "9     541.7       70  ['heat oil in a large skillet over medium-high...   \n",
       "\n",
       "   calories_gap  \n",
       "0        -289.4  \n",
       "1         137.0  \n",
       "2         257.5  \n",
       "3        -113.7  \n",
       "4          66.7  \n",
       "5        -319.9  \n",
       "6         111.9  \n",
       "7          15.4  \n",
       "8        -129.1  \n",
       "9         127.1  "
      ]
     },
     "execution_count": 104,
     "metadata": {},
     "output_type": "execute_result"
    }
   ],
   "source": [
    "rekomendasi_makanan_df"
   ]
  },
  {
   "cell_type": "markdown",
   "metadata": {},
   "source": [
    "Gabungkan data makanan_pertama_df dan rekomendasi_makanan_df, khususnya untuk kolom _name_ dan _ingredients_:"
   ]
  },
  {
   "cell_type": "code",
   "execution_count": 105,
   "metadata": {},
   "outputs": [],
   "source": [
    "perbandingan_df = pd.concat([\n",
    "    makanan_pertama_df[['name', 'ingredients']],\n",
    "    rekomendasi_makanan_df[['name', 'ingredients']]\n",
    "], ignore_index=True)"
   ]
  },
  {
   "cell_type": "code",
   "execution_count": 106,
   "metadata": {},
   "outputs": [
    {
     "data": {
      "text/html": [
       "<div>\n",
       "<style scoped>\n",
       "    .dataframe tbody tr th:only-of-type {\n",
       "        vertical-align: middle;\n",
       "    }\n",
       "\n",
       "    .dataframe tbody tr th {\n",
       "        vertical-align: top;\n",
       "    }\n",
       "\n",
       "    .dataframe thead th {\n",
       "        text-align: right;\n",
       "    }\n",
       "</style>\n",
       "<table border=\"1\" class=\"dataframe\">\n",
       "  <thead>\n",
       "    <tr style=\"text-align: right;\">\n",
       "      <th></th>\n",
       "      <th>name</th>\n",
       "      <th>ingredients</th>\n",
       "    </tr>\n",
       "  </thead>\n",
       "  <tbody>\n",
       "    <tr>\n",
       "      <th>0</th>\n",
       "      <td>meatloaf with potato topping</td>\n",
       "      <td>vegetable oil</td>\n",
       "    </tr>\n",
       "    <tr>\n",
       "      <th>1</th>\n",
       "      <td>crustless spainch and mushroom quiche</td>\n",
       "      <td>vegetable oil</td>\n",
       "    </tr>\n",
       "    <tr>\n",
       "      <th>2</th>\n",
       "      <td>gumbo</td>\n",
       "      <td>vegetable oil</td>\n",
       "    </tr>\n",
       "    <tr>\n",
       "      <th>3</th>\n",
       "      <td>argentinian grilled flank steak with chimichur...</td>\n",
       "      <td>vegetable oil</td>\n",
       "    </tr>\n",
       "    <tr>\n",
       "      <th>4</th>\n",
       "      <td>weight watchers chili lime chicken 3 points</td>\n",
       "      <td>vegetable oil</td>\n",
       "    </tr>\n",
       "    <tr>\n",
       "      <th>5</th>\n",
       "      <td>capo s chicken diablo</td>\n",
       "      <td>vegetable oil</td>\n",
       "    </tr>\n",
       "    <tr>\n",
       "      <th>6</th>\n",
       "      <td>cambodian sweet and sour fish</td>\n",
       "      <td>vegetable oil</td>\n",
       "    </tr>\n",
       "    <tr>\n",
       "      <th>7</th>\n",
       "      <td>french onion jambalaya</td>\n",
       "      <td>vegetable oil</td>\n",
       "    </tr>\n",
       "    <tr>\n",
       "      <th>8</th>\n",
       "      <td>creamy chicken   black bean enchiladas</td>\n",
       "      <td>vegetable oil</td>\n",
       "    </tr>\n",
       "    <tr>\n",
       "      <th>9</th>\n",
       "      <td>shrimp supreme</td>\n",
       "      <td>vegetable oil</td>\n",
       "    </tr>\n",
       "    <tr>\n",
       "      <th>10</th>\n",
       "      <td>melt in your mouth barbecued chicken</td>\n",
       "      <td>vegetable oil</td>\n",
       "    </tr>\n",
       "  </tbody>\n",
       "</table>\n",
       "</div>"
      ],
      "text/plain": [
       "                                                 name    ingredients\n",
       "0                        meatloaf with potato topping  vegetable oil\n",
       "1               crustless spainch and mushroom quiche  vegetable oil\n",
       "2                                               gumbo  vegetable oil\n",
       "3   argentinian grilled flank steak with chimichur...  vegetable oil\n",
       "4         weight watchers chili lime chicken 3 points  vegetable oil\n",
       "5                               capo s chicken diablo  vegetable oil\n",
       "6                       cambodian sweet and sour fish  vegetable oil\n",
       "7                              french onion jambalaya  vegetable oil\n",
       "8              creamy chicken   black bean enchiladas  vegetable oil\n",
       "9                                      shrimp supreme  vegetable oil\n",
       "10               melt in your mouth barbecued chicken  vegetable oil"
      ]
     },
     "execution_count": 106,
     "metadata": {},
     "output_type": "execute_result"
    }
   ],
   "source": [
    "perbandingan_df"
   ]
  },
  {
   "cell_type": "markdown",
   "metadata": {},
   "source": [
    "Menghitung nilai relevansi dengan cara membandingkan kemiripan bahan baku pada makanan yang direkomendasikan model:"
   ]
  },
  {
   "cell_type": "code",
   "execution_count": 107,
   "metadata": {},
   "outputs": [],
   "source": [
    "vectorizer = TfidfVectorizer(stop_words='english', ngram_range=(1,1))"
   ]
  },
  {
   "cell_type": "code",
   "execution_count": 108,
   "metadata": {},
   "outputs": [],
   "source": [
    "perbandingan_df['ingredients'] = perbandingan_df['ingredients'].apply(lambda x: ' '.join(x))"
   ]
  },
  {
   "cell_type": "code",
   "execution_count": 109,
   "metadata": {},
   "outputs": [
    {
     "ename": "ValueError",
     "evalue": "empty vocabulary; perhaps the documents only contain stop words",
     "output_type": "error",
     "traceback": [
      "\u001b[1;31m---------------------------------------------------------------------------\u001b[0m",
      "\u001b[1;31mValueError\u001b[0m                                Traceback (most recent call last)",
      "Cell \u001b[1;32mIn[109], line 1\u001b[0m\n\u001b[1;32m----> 1\u001b[0m \u001b[43mvectorizer\u001b[49m\u001b[38;5;241;43m.\u001b[39;49m\u001b[43mfit\u001b[49m\u001b[43m(\u001b[49m\u001b[43mperbandingan_df\u001b[49m\u001b[43m[\u001b[49m\u001b[38;5;124;43m'\u001b[39;49m\u001b[38;5;124;43mingredients\u001b[39;49m\u001b[38;5;124;43m'\u001b[39;49m\u001b[43m]\u001b[49m\u001b[43m)\u001b[49m\n\u001b[0;32m      3\u001b[0m bahan \u001b[38;5;241m=\u001b[39m vectorizer\u001b[38;5;241m.\u001b[39mget_feature_names_out()\n",
      "File \u001b[1;32mc:\\ProgramData\\anaconda3\\envs\\Recommendation-System\\lib\\site-packages\\sklearn\\base.py:1473\u001b[0m, in \u001b[0;36m_fit_context.<locals>.decorator.<locals>.wrapper\u001b[1;34m(estimator, *args, **kwargs)\u001b[0m\n\u001b[0;32m   1466\u001b[0m     estimator\u001b[38;5;241m.\u001b[39m_validate_params()\n\u001b[0;32m   1468\u001b[0m \u001b[38;5;28;01mwith\u001b[39;00m config_context(\n\u001b[0;32m   1469\u001b[0m     skip_parameter_validation\u001b[38;5;241m=\u001b[39m(\n\u001b[0;32m   1470\u001b[0m         prefer_skip_nested_validation \u001b[38;5;129;01mor\u001b[39;00m global_skip_validation\n\u001b[0;32m   1471\u001b[0m     )\n\u001b[0;32m   1472\u001b[0m ):\n\u001b[1;32m-> 1473\u001b[0m     \u001b[38;5;28;01mreturn\u001b[39;00m fit_method(estimator, \u001b[38;5;241m*\u001b[39margs, \u001b[38;5;241m*\u001b[39m\u001b[38;5;241m*\u001b[39mkwargs)\n",
      "File \u001b[1;32mc:\\ProgramData\\anaconda3\\envs\\Recommendation-System\\lib\\site-packages\\sklearn\\feature_extraction\\text.py:2061\u001b[0m, in \u001b[0;36mTfidfVectorizer.fit\u001b[1;34m(self, raw_documents, y)\u001b[0m\n\u001b[0;32m   2054\u001b[0m \u001b[38;5;28mself\u001b[39m\u001b[38;5;241m.\u001b[39m_warn_for_unused_params()\n\u001b[0;32m   2055\u001b[0m \u001b[38;5;28mself\u001b[39m\u001b[38;5;241m.\u001b[39m_tfidf \u001b[38;5;241m=\u001b[39m TfidfTransformer(\n\u001b[0;32m   2056\u001b[0m     norm\u001b[38;5;241m=\u001b[39m\u001b[38;5;28mself\u001b[39m\u001b[38;5;241m.\u001b[39mnorm,\n\u001b[0;32m   2057\u001b[0m     use_idf\u001b[38;5;241m=\u001b[39m\u001b[38;5;28mself\u001b[39m\u001b[38;5;241m.\u001b[39muse_idf,\n\u001b[0;32m   2058\u001b[0m     smooth_idf\u001b[38;5;241m=\u001b[39m\u001b[38;5;28mself\u001b[39m\u001b[38;5;241m.\u001b[39msmooth_idf,\n\u001b[0;32m   2059\u001b[0m     sublinear_tf\u001b[38;5;241m=\u001b[39m\u001b[38;5;28mself\u001b[39m\u001b[38;5;241m.\u001b[39msublinear_tf,\n\u001b[0;32m   2060\u001b[0m )\n\u001b[1;32m-> 2061\u001b[0m X \u001b[38;5;241m=\u001b[39m \u001b[38;5;28;43msuper\u001b[39;49m\u001b[43m(\u001b[49m\u001b[43m)\u001b[49m\u001b[38;5;241;43m.\u001b[39;49m\u001b[43mfit_transform\u001b[49m\u001b[43m(\u001b[49m\u001b[43mraw_documents\u001b[49m\u001b[43m)\u001b[49m\n\u001b[0;32m   2062\u001b[0m \u001b[38;5;28mself\u001b[39m\u001b[38;5;241m.\u001b[39m_tfidf\u001b[38;5;241m.\u001b[39mfit(X)\n\u001b[0;32m   2063\u001b[0m \u001b[38;5;28;01mreturn\u001b[39;00m \u001b[38;5;28mself\u001b[39m\n",
      "File \u001b[1;32mc:\\ProgramData\\anaconda3\\envs\\Recommendation-System\\lib\\site-packages\\sklearn\\base.py:1473\u001b[0m, in \u001b[0;36m_fit_context.<locals>.decorator.<locals>.wrapper\u001b[1;34m(estimator, *args, **kwargs)\u001b[0m\n\u001b[0;32m   1466\u001b[0m     estimator\u001b[38;5;241m.\u001b[39m_validate_params()\n\u001b[0;32m   1468\u001b[0m \u001b[38;5;28;01mwith\u001b[39;00m config_context(\n\u001b[0;32m   1469\u001b[0m     skip_parameter_validation\u001b[38;5;241m=\u001b[39m(\n\u001b[0;32m   1470\u001b[0m         prefer_skip_nested_validation \u001b[38;5;129;01mor\u001b[39;00m global_skip_validation\n\u001b[0;32m   1471\u001b[0m     )\n\u001b[0;32m   1472\u001b[0m ):\n\u001b[1;32m-> 1473\u001b[0m     \u001b[38;5;28;01mreturn\u001b[39;00m fit_method(estimator, \u001b[38;5;241m*\u001b[39margs, \u001b[38;5;241m*\u001b[39m\u001b[38;5;241m*\u001b[39mkwargs)\n",
      "File \u001b[1;32mc:\\ProgramData\\anaconda3\\envs\\Recommendation-System\\lib\\site-packages\\sklearn\\feature_extraction\\text.py:1372\u001b[0m, in \u001b[0;36mCountVectorizer.fit_transform\u001b[1;34m(self, raw_documents, y)\u001b[0m\n\u001b[0;32m   1364\u001b[0m             warnings\u001b[38;5;241m.\u001b[39mwarn(\n\u001b[0;32m   1365\u001b[0m                 \u001b[38;5;124m\"\u001b[39m\u001b[38;5;124mUpper case characters found in\u001b[39m\u001b[38;5;124m\"\u001b[39m\n\u001b[0;32m   1366\u001b[0m                 \u001b[38;5;124m\"\u001b[39m\u001b[38;5;124m vocabulary while \u001b[39m\u001b[38;5;124m'\u001b[39m\u001b[38;5;124mlowercase\u001b[39m\u001b[38;5;124m'\u001b[39m\u001b[38;5;124m\"\u001b[39m\n\u001b[0;32m   1367\u001b[0m                 \u001b[38;5;124m\"\u001b[39m\u001b[38;5;124m is True. These entries will not\u001b[39m\u001b[38;5;124m\"\u001b[39m\n\u001b[0;32m   1368\u001b[0m                 \u001b[38;5;124m\"\u001b[39m\u001b[38;5;124m be matched with any documents\u001b[39m\u001b[38;5;124m\"\u001b[39m\n\u001b[0;32m   1369\u001b[0m             )\n\u001b[0;32m   1370\u001b[0m             \u001b[38;5;28;01mbreak\u001b[39;00m\n\u001b[1;32m-> 1372\u001b[0m vocabulary, X \u001b[38;5;241m=\u001b[39m \u001b[38;5;28;43mself\u001b[39;49m\u001b[38;5;241;43m.\u001b[39;49m\u001b[43m_count_vocab\u001b[49m\u001b[43m(\u001b[49m\u001b[43mraw_documents\u001b[49m\u001b[43m,\u001b[49m\u001b[43m \u001b[49m\u001b[38;5;28;43mself\u001b[39;49m\u001b[38;5;241;43m.\u001b[39;49m\u001b[43mfixed_vocabulary_\u001b[49m\u001b[43m)\u001b[49m\n\u001b[0;32m   1374\u001b[0m \u001b[38;5;28;01mif\u001b[39;00m \u001b[38;5;28mself\u001b[39m\u001b[38;5;241m.\u001b[39mbinary:\n\u001b[0;32m   1375\u001b[0m     X\u001b[38;5;241m.\u001b[39mdata\u001b[38;5;241m.\u001b[39mfill(\u001b[38;5;241m1\u001b[39m)\n",
      "File \u001b[1;32mc:\\ProgramData\\anaconda3\\envs\\Recommendation-System\\lib\\site-packages\\sklearn\\feature_extraction\\text.py:1278\u001b[0m, in \u001b[0;36mCountVectorizer._count_vocab\u001b[1;34m(self, raw_documents, fixed_vocab)\u001b[0m\n\u001b[0;32m   1276\u001b[0m     vocabulary \u001b[38;5;241m=\u001b[39m \u001b[38;5;28mdict\u001b[39m(vocabulary)\n\u001b[0;32m   1277\u001b[0m     \u001b[38;5;28;01mif\u001b[39;00m \u001b[38;5;129;01mnot\u001b[39;00m vocabulary:\n\u001b[1;32m-> 1278\u001b[0m         \u001b[38;5;28;01mraise\u001b[39;00m \u001b[38;5;167;01mValueError\u001b[39;00m(\n\u001b[0;32m   1279\u001b[0m             \u001b[38;5;124m\"\u001b[39m\u001b[38;5;124mempty vocabulary; perhaps the documents only contain stop words\u001b[39m\u001b[38;5;124m\"\u001b[39m\n\u001b[0;32m   1280\u001b[0m         )\n\u001b[0;32m   1282\u001b[0m \u001b[38;5;28;01mif\u001b[39;00m indptr[\u001b[38;5;241m-\u001b[39m\u001b[38;5;241m1\u001b[39m] \u001b[38;5;241m>\u001b[39m np\u001b[38;5;241m.\u001b[39miinfo(np\u001b[38;5;241m.\u001b[39mint32)\u001b[38;5;241m.\u001b[39mmax:  \u001b[38;5;66;03m# = 2**31 - 1\u001b[39;00m\n\u001b[0;32m   1283\u001b[0m     \u001b[38;5;28;01mif\u001b[39;00m _IS_32BIT:\n",
      "\u001b[1;31mValueError\u001b[0m: empty vocabulary; perhaps the documents only contain stop words"
     ]
    }
   ],
   "source": [
    "vectorizer.fit(perbandingan_df['ingredients'])\n",
    "\n",
    "bahan = vectorizer.get_feature_names_out()"
   ]
  },
  {
   "cell_type": "code",
   "execution_count": 121,
   "metadata": {},
   "outputs": [
    {
     "data": {
      "text/plain": [
       "array(['alfalfa', 'almonds', 'baby', 'basil', 'beans', 'beef', 'black',\n",
       "       'boneless', 'bread', 'breadcrumbs', 'breasts', 'broth', 'butter',\n",
       "       'buttermilk', 'cake', 'caraway', 'carrot', 'carrots', 'cayenne',\n",
       "       'celery', 'cheese', 'cherry', 'chicken', 'chili', 'chocolate',\n",
       "       'clove', 'cloves', 'cool', 'corn', 'cornmeal', 'crabmeat',\n",
       "       'cranberries', 'cranberry', 'cream', 'creole', 'crumbs', 'dark',\n",
       "       'dijon', 'dill', 'dried', 'dry', 'egg', 'eggs', 'fat', 'fennel',\n",
       "       'feta', 'fillet', 'flour', 'free', 'fresh', 'garlic', 'goat',\n",
       "       'gold', 'green', 'ground', 'haddock', 'half', 'instant', 'juice',\n",
       "       'lean', 'leaves', 'leeks', 'lemon', 'lemons', 'lima', 'mayonnaise',\n",
       "       'milk', 'mint', 'mix', 'mushroom', 'mushrooms', 'mustard',\n",
       "       'nonfat', 'nutmeg', 'oil', 'olive', 'onion', 'onions', 'orange',\n",
       "       'oregano', 'parmesan', 'parsley', 'pepper', 'plain', 'potatoes',\n",
       "       'pudding', 'purpose', 'red', 'ricotta', 'sage', 'salt', 'sauce',\n",
       "       'seasoning', 'seed', 'sesame', 'skim', 'skinless', 'soft', 'soup',\n",
       "       'soy', 'spinach', 'splenda', 'sprout', 'substitute', 'sugar',\n",
       "       'sweet', 'tamari', 'thyme', 'tofu', 'tomatoes', 'tuna',\n",
       "       'vegetable', 'vinegar', 'water', 'wheat', 'whip', 'white', 'wine',\n",
       "       'yogurt', 'yukon'], dtype=object)"
      ]
     },
     "execution_count": 121,
     "metadata": {},
     "output_type": "execute_result"
    }
   ],
   "source": [
    "bahan"
   ]
  },
  {
   "cell_type": "code",
   "execution_count": null,
   "metadata": {},
   "outputs": [],
   "source": [
    "tfidf_bahan = vectorizer.fit_transform(perbandingan_df['ingredients'])\n",
    "tfidf_bahan.todense()\n",
    "\n",
    "eval_cos_sim = cosine_similarity(tfidf_bahan[0:1], tfidf_bahan)\n",
    "\n",
    "perbandingan_df['Skor Relevansi'] = eval_cos_sim.flatten()"
   ]
  },
  {
   "cell_type": "code",
   "execution_count": 123,
   "metadata": {},
   "outputs": [
    {
     "data": {
      "text/html": [
       "<div>\n",
       "<style scoped>\n",
       "    .dataframe tbody tr th:only-of-type {\n",
       "        vertical-align: middle;\n",
       "    }\n",
       "\n",
       "    .dataframe tbody tr th {\n",
       "        vertical-align: top;\n",
       "    }\n",
       "\n",
       "    .dataframe thead th {\n",
       "        text-align: right;\n",
       "    }\n",
       "</style>\n",
       "<table border=\"1\" class=\"dataframe\">\n",
       "  <thead>\n",
       "    <tr style=\"text-align: right;\">\n",
       "      <th></th>\n",
       "      <th>fennel</th>\n",
       "      <th>oil</th>\n",
       "      <th>cream</th>\n",
       "      <th>gold</th>\n",
       "      <th>plain</th>\n",
       "      <th>breadcrumbs</th>\n",
       "      <th>mushrooms</th>\n",
       "      <th>cake</th>\n",
       "      <th>olive</th>\n",
       "      <th>lima</th>\n",
       "    </tr>\n",
       "    <tr>\n",
       "      <th>ingredients_str</th>\n",
       "      <th></th>\n",
       "      <th></th>\n",
       "      <th></th>\n",
       "      <th></th>\n",
       "      <th></th>\n",
       "      <th></th>\n",
       "      <th></th>\n",
       "      <th></th>\n",
       "      <th></th>\n",
       "      <th></th>\n",
       "    </tr>\n",
       "  </thead>\n",
       "  <tbody>\n",
       "    <tr>\n",
       "      <th>chicken broth green onion cornmeal haddock fillet lima beans mushrooms parsley dill salt pepper</th>\n",
       "      <td>0.0</td>\n",
       "      <td>0.000000</td>\n",
       "      <td>0.000000</td>\n",
       "      <td>0.000000</td>\n",
       "      <td>0.000000</td>\n",
       "      <td>0.000000</td>\n",
       "      <td>0.315562</td>\n",
       "      <td>0.0</td>\n",
       "      <td>0.0</td>\n",
       "      <td>0.315562</td>\n",
       "    </tr>\n",
       "    <tr>\n",
       "      <th>fat-free sugar-free instant chocolate pudding mix nonfat milk splenda sugar substitute fat-free cool whip</th>\n",
       "      <td>0.0</td>\n",
       "      <td>0.000000</td>\n",
       "      <td>0.000000</td>\n",
       "      <td>0.000000</td>\n",
       "      <td>0.000000</td>\n",
       "      <td>0.000000</td>\n",
       "      <td>0.000000</td>\n",
       "      <td>0.0</td>\n",
       "      <td>0.0</td>\n",
       "      <td>0.000000</td>\n",
       "    </tr>\n",
       "    <tr>\n",
       "      <th>vegetable oil boneless skinless chicken breasts cranberry juice fresh orange juice cream of mushroom soup dried cranberries fresh sage salt &amp; pepper</th>\n",
       "      <td>0.0</td>\n",
       "      <td>0.169098</td>\n",
       "      <td>0.215155</td>\n",
       "      <td>0.000000</td>\n",
       "      <td>0.000000</td>\n",
       "      <td>0.000000</td>\n",
       "      <td>0.000000</td>\n",
       "      <td>0.0</td>\n",
       "      <td>0.0</td>\n",
       "      <td>0.000000</td>\n",
       "    </tr>\n",
       "    <tr>\n",
       "      <th>fresh lemon juice red wine vinegar garlic clove dijon mustard splenda sugar substitute plain nonfat yogurt</th>\n",
       "      <td>0.0</td>\n",
       "      <td>0.000000</td>\n",
       "      <td>0.000000</td>\n",
       "      <td>0.000000</td>\n",
       "      <td>0.263277</td>\n",
       "      <td>0.000000</td>\n",
       "      <td>0.000000</td>\n",
       "      <td>0.0</td>\n",
       "      <td>0.0</td>\n",
       "      <td>0.000000</td>\n",
       "    </tr>\n",
       "    <tr>\n",
       "      <th>leeks nonfat milk all-purpose flour salt ground black pepper ground nutmeg garlic clove yukon gold potatoes goat cheese soft breadcrumbs parmesan cheese fresh parsley</th>\n",
       "      <td>0.0</td>\n",
       "      <td>0.000000</td>\n",
       "      <td>0.000000</td>\n",
       "      <td>0.233473</td>\n",
       "      <td>0.000000</td>\n",
       "      <td>0.199564</td>\n",
       "      <td>0.000000</td>\n",
       "      <td>0.0</td>\n",
       "      <td>0.0</td>\n",
       "      <td>0.000000</td>\n",
       "    </tr>\n",
       "  </tbody>\n",
       "</table>\n",
       "</div>"
      ],
      "text/plain": [
       "                                                    fennel       oil  \\\n",
       "ingredients_str                                                        \n",
       "chicken broth green onion cornmeal haddock fill...     0.0  0.000000   \n",
       "fat-free sugar-free instant chocolate pudding m...     0.0  0.000000   \n",
       "vegetable oil boneless skinless chicken breasts...     0.0  0.169098   \n",
       "fresh lemon juice red wine vinegar garlic clove...     0.0  0.000000   \n",
       "leeks nonfat milk all-purpose flour salt ground...     0.0  0.000000   \n",
       "\n",
       "                                                       cream      gold  \\\n",
       "ingredients_str                                                          \n",
       "chicken broth green onion cornmeal haddock fill...  0.000000  0.000000   \n",
       "fat-free sugar-free instant chocolate pudding m...  0.000000  0.000000   \n",
       "vegetable oil boneless skinless chicken breasts...  0.215155  0.000000   \n",
       "fresh lemon juice red wine vinegar garlic clove...  0.000000  0.000000   \n",
       "leeks nonfat milk all-purpose flour salt ground...  0.000000  0.233473   \n",
       "\n",
       "                                                       plain  breadcrumbs  \\\n",
       "ingredients_str                                                             \n",
       "chicken broth green onion cornmeal haddock fill...  0.000000     0.000000   \n",
       "fat-free sugar-free instant chocolate pudding m...  0.000000     0.000000   \n",
       "vegetable oil boneless skinless chicken breasts...  0.000000     0.000000   \n",
       "fresh lemon juice red wine vinegar garlic clove...  0.263277     0.000000   \n",
       "leeks nonfat milk all-purpose flour salt ground...  0.000000     0.199564   \n",
       "\n",
       "                                                    mushrooms  cake  olive  \\\n",
       "ingredients_str                                                              \n",
       "chicken broth green onion cornmeal haddock fill...   0.315562   0.0    0.0   \n",
       "fat-free sugar-free instant chocolate pudding m...   0.000000   0.0    0.0   \n",
       "vegetable oil boneless skinless chicken breasts...   0.000000   0.0    0.0   \n",
       "fresh lemon juice red wine vinegar garlic clove...   0.000000   0.0    0.0   \n",
       "leeks nonfat milk all-purpose flour salt ground...   0.000000   0.0    0.0   \n",
       "\n",
       "                                                        lima  \n",
       "ingredients_str                                               \n",
       "chicken broth green onion cornmeal haddock fill...  0.315562  \n",
       "fat-free sugar-free instant chocolate pudding m...  0.000000  \n",
       "vegetable oil boneless skinless chicken breasts...  0.000000  \n",
       "fresh lemon juice red wine vinegar garlic clove...  0.000000  \n",
       "leeks nonfat milk all-purpose flour salt ground...  0.000000  "
      ]
     },
     "execution_count": 123,
     "metadata": {},
     "output_type": "execute_result"
    }
   ],
   "source": [
    "pd.DataFrame(tfidf_bahan.todense(),\n",
    "             columns=bahan,\n",
    "             index=perbandingan_df.ingredients_str\n",
    "             ).sample(10, axis=1).sample(5, axis=0)"
   ]
  },
  {
   "cell_type": "code",
   "execution_count": 124,
   "metadata": {},
   "outputs": [
    {
     "data": {
      "text/html": [
       "<div>\n",
       "<style scoped>\n",
       "    .dataframe tbody tr th:only-of-type {\n",
       "        vertical-align: middle;\n",
       "    }\n",
       "\n",
       "    .dataframe tbody tr th {\n",
       "        vertical-align: top;\n",
       "    }\n",
       "\n",
       "    .dataframe thead th {\n",
       "        text-align: right;\n",
       "    }\n",
       "</style>\n",
       "<table border=\"1\" class=\"dataframe\">\n",
       "  <thead>\n",
       "    <tr style=\"text-align: right;\">\n",
       "      <th></th>\n",
       "      <th>name</th>\n",
       "      <th>ingredients</th>\n",
       "      <th>ingredients_str</th>\n",
       "      <th>Skor Relevansi</th>\n",
       "    </tr>\n",
       "  </thead>\n",
       "  <tbody>\n",
       "    <tr>\n",
       "      <th>0</th>\n",
       "      <td>meatloaf with potato topping</td>\n",
       "      <td>[vegetable oil, green onions, garlic cloves, c...</td>\n",
       "      <td>vegetable oil green onions garlic cloves carro...</td>\n",
       "      <td>1.000000</td>\n",
       "    </tr>\n",
       "    <tr>\n",
       "      <th>1</th>\n",
       "      <td>simple spinach salad with lemon mint dressing</td>\n",
       "      <td>[baby spinach leaves, alfalfa sprout, cherry t...</td>\n",
       "      <td>baby spinach leaves alfalfa sprout cherry toma...</td>\n",
       "      <td>0.047307</td>\n",
       "    </tr>\n",
       "    <tr>\n",
       "      <th>2</th>\n",
       "      <td>fat free sugar free soft serve</td>\n",
       "      <td>[fat-free sugar-free instant chocolate pudding...</td>\n",
       "      <td>fat-free sugar-free instant chocolate pudding ...</td>\n",
       "      <td>0.000000</td>\n",
       "    </tr>\n",
       "    <tr>\n",
       "      <th>3</th>\n",
       "      <td>u nega gei</td>\n",
       "      <td>[chicken broth, green onion, cornmeal, haddock...</td>\n",
       "      <td>chicken broth green onion cornmeal haddock fil...</td>\n",
       "      <td>0.099175</td>\n",
       "    </tr>\n",
       "    <tr>\n",
       "      <th>4</th>\n",
       "      <td>bosnian vegetarian meatballs in yogurt sauce</td>\n",
       "      <td>[onions, garlic cloves, vegetable oil, carrots...</td>\n",
       "      <td>onions garlic cloves vegetable oil carrots sal...</td>\n",
       "      <td>0.276470</td>\n",
       "    </tr>\n",
       "    <tr>\n",
       "      <th>5</th>\n",
       "      <td>potato goat cheese gratin</td>\n",
       "      <td>[leeks, nonfat milk, all-purpose flour, salt, ...</td>\n",
       "      <td>leeks nonfat milk all-purpose flour salt groun...</td>\n",
       "      <td>0.162109</td>\n",
       "    </tr>\n",
       "    <tr>\n",
       "      <th>6</th>\n",
       "      <td>crabmeat and corn soup</td>\n",
       "      <td>[butter, all-purpose flour, whole milk, half-a...</td>\n",
       "      <td>butter all-purpose flour whole milk half-and-h...</td>\n",
       "      <td>0.170812</td>\n",
       "    </tr>\n",
       "    <tr>\n",
       "      <th>7</th>\n",
       "      <td>fat free lemon yogurt vinaigrette</td>\n",
       "      <td>[fresh lemon juice, red wine vinegar, garlic c...</td>\n",
       "      <td>fresh lemon juice red wine vinegar garlic clov...</td>\n",
       "      <td>0.062210</td>\n",
       "    </tr>\n",
       "    <tr>\n",
       "      <th>8</th>\n",
       "      <td>souper cranberry chicken</td>\n",
       "      <td>[vegetable oil, boneless skinless chicken brea...</td>\n",
       "      <td>vegetable oil boneless skinless chicken breast...</td>\n",
       "      <td>0.141330</td>\n",
       "    </tr>\n",
       "    <tr>\n",
       "      <th>9</th>\n",
       "      <td>black bean and corn tuna salad</td>\n",
       "      <td>[black beans, corn, tuna in water, mayonnaise,...</td>\n",
       "      <td>black beans corn tuna in water mayonnaise creo...</td>\n",
       "      <td>0.000000</td>\n",
       "    </tr>\n",
       "    <tr>\n",
       "      <th>10</th>\n",
       "      <td>spanakopita casserole</td>\n",
       "      <td>[fresh spinach, olive oil, red onion, green on...</td>\n",
       "      <td>fresh spinach olive oil red onion green onions...</td>\n",
       "      <td>0.126028</td>\n",
       "    </tr>\n",
       "  </tbody>\n",
       "</table>\n",
       "</div>"
      ],
      "text/plain": [
       "                                             name  \\\n",
       "0                    meatloaf with potato topping   \n",
       "1   simple spinach salad with lemon mint dressing   \n",
       "2                  fat free sugar free soft serve   \n",
       "3                                      u nega gei   \n",
       "4    bosnian vegetarian meatballs in yogurt sauce   \n",
       "5                       potato goat cheese gratin   \n",
       "6                          crabmeat and corn soup   \n",
       "7               fat free lemon yogurt vinaigrette   \n",
       "8                        souper cranberry chicken   \n",
       "9                  black bean and corn tuna salad   \n",
       "10                          spanakopita casserole   \n",
       "\n",
       "                                          ingredients  \\\n",
       "0   [vegetable oil, green onions, garlic cloves, c...   \n",
       "1   [baby spinach leaves, alfalfa sprout, cherry t...   \n",
       "2   [fat-free sugar-free instant chocolate pudding...   \n",
       "3   [chicken broth, green onion, cornmeal, haddock...   \n",
       "4   [onions, garlic cloves, vegetable oil, carrots...   \n",
       "5   [leeks, nonfat milk, all-purpose flour, salt, ...   \n",
       "6   [butter, all-purpose flour, whole milk, half-a...   \n",
       "7   [fresh lemon juice, red wine vinegar, garlic c...   \n",
       "8   [vegetable oil, boneless skinless chicken brea...   \n",
       "9   [black beans, corn, tuna in water, mayonnaise,...   \n",
       "10  [fresh spinach, olive oil, red onion, green on...   \n",
       "\n",
       "                                      ingredients_str  Skor Relevansi  \n",
       "0   vegetable oil green onions garlic cloves carro...        1.000000  \n",
       "1   baby spinach leaves alfalfa sprout cherry toma...        0.047307  \n",
       "2   fat-free sugar-free instant chocolate pudding ...        0.000000  \n",
       "3   chicken broth green onion cornmeal haddock fil...        0.099175  \n",
       "4   onions garlic cloves vegetable oil carrots sal...        0.276470  \n",
       "5   leeks nonfat milk all-purpose flour salt groun...        0.162109  \n",
       "6   butter all-purpose flour whole milk half-and-h...        0.170812  \n",
       "7   fresh lemon juice red wine vinegar garlic clov...        0.062210  \n",
       "8   vegetable oil boneless skinless chicken breast...        0.141330  \n",
       "9   black beans corn tuna in water mayonnaise creo...        0.000000  \n",
       "10  fresh spinach olive oil red onion green onions...        0.126028  "
      ]
     },
     "execution_count": 124,
     "metadata": {},
     "output_type": "execute_result"
    }
   ],
   "source": [
    "perbandingan_df"
   ]
  },
  {
   "cell_type": "code",
   "execution_count": 125,
   "metadata": {},
   "outputs": [
    {
     "data": {
      "text/plain": [
       "0.19"
      ]
     },
     "execution_count": 125,
     "metadata": {},
     "output_type": "execute_result"
    }
   ],
   "source": [
    "perbandingan_df['Skor Relevansi'].mean().round(3)"
   ]
  },
  {
   "cell_type": "markdown",
   "metadata": {},
   "source": [
    "### Collaborative Filtering"
   ]
  },
  {
   "cell_type": "code",
   "execution_count": 733,
   "metadata": {},
   "outputs": [
    {
     "data": {
      "image/png": "[encoded data removed]",
      "text/plain": [
       "<Figure size 1000x600 with 1 Axes>"
      ]
     },
     "execution_count": 733,
     "metadata": {},
     "output_type": "execute_result"
    }
   ],
   "source": [
    "train_result"
   ]
  },
  {
   "cell_type": "markdown",
   "metadata": {},
   "source": [
    "Catatan:\n",
    "* Grafik _history_ pelatihan model menunjukkan nilai RMSE pada data training terus menurun secara konsisten, artinya bahwa model semakin baik dalam mempelajari pola pada data training.\n",
    "* Nilai RMSE pada data validasi juga menurun, meski lebih lambat dibandingkan dengan data training. Ini menunjukkan bahwa model cukup baik dalam melakukan generalisasi pada data yang tidak terlihat sebelumnya.\n",
    "* Terlihat tidak ada kenaikan signifikan pada nilai RMSE validasi yang menandakan bahwa overfitting belum terjadi."
   ]
  },
  {
   "cell_type": "markdown",
   "metadata": {},
   "source": [
    "## Conclusion"
   ]
  },
  {
   "cell_type": "markdown",
   "metadata": {},
   "source": [
    "1. "
   ]
  },
  {
   "cell_type": "markdown",
   "metadata": {},
   "source": [
    "## References"
   ]
  },
  {
   "cell_type": "markdown",
   "metadata": {},
   "source": [
    "1. Damar Upahita. 2021. *Panduan Mencukupi Kebutuhan Gizi Harian Untuk Anak Usia Sekolah (6 - 9 Tahun).* https://hellosehat.com/parenting/anak-6-sampai-9-tahun/gizi-anak/kebutuhan-asupan-gizi-anak/?amp=1. \n",
    "\n",
    "2. Dewi, dkk. 2021. *Pentingnya Pemenuhan Gizi Terhadap Kecerdasan Anak*. SENAPADMA:Seminar Nasional Pendidikan Dasar dan Menengah, Vol.1, pp. 16-21. Sukabumi: Universitas Nusa Putra.\n",
    "\n",
    "1. KA, Mutirasari. 2024. *Program Makan Bergizi Gratis: Jadwal Berlaku, Sasaran hingga Aturan Pembagian.* Diakses pada 6 Desember 2024, dari https://news.detik.com/berita/d-7617806/program-makan-bergizi-gratis-jadwal-berlaku-sasaran-hingga-aturan-pembagian.\n",
    "\n",
    "2. Kementerian Koordinator Bidang Pembangunan Manusia dan Kebudayaan Republik Indonesia. 2024. *Program Makan Bergizi Gratis untuk Tingkatkan Kualitas SDM Indonesia.* Diakses pada 6 Desember 2024, dari https://www.kemenkopmk.go.id/program-makan-bergizi-gratis-untuk-tingkatkan-kualitas-sdm-indonesia.\n",
    "\n",
    "3. Kementerian Kesehatan Republik Indonesia. 2019. *Peraturan Menteri Kesehatan Republik Indonesia Nomor 28 Tahun 2019 Tentang Angka Kecukupan Gizi Yang Dianjurkan Untuk Masyarakat Indonesia.*"
   ]
  },
  {
   "cell_type": "markdown",
   "metadata": {},
   "source": []
  }
 ],
 "metadata": {
  "kernelspec": {
   "display_name": "Recommendation-System",
   "language": "python",
   "name": "python3"
  },
  "language_info": {
   "codemirror_mode": {
    "name": "ipython",
    "version": 3
   },
   "file_extension": ".py",
   "mimetype": "text/x-python",
   "name": "python",
   "nbconvert_exporter": "python",
   "pygments_lexer": "ipython3",
   "version": "3.9.20"
  }
 },
 "nbformat": 4,
 "nbformat_minor": 2
}
