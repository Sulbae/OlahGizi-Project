{
 "cells": [
  {
   "cell_type": "markdown",
   "metadata": {},
   "source": [
    "# Basic Food Recommender Model"
   ]
  },
  {
   "cell_type": "markdown",
   "metadata": {},
   "source": [
    "## Background"
   ]
  },
  {
   "cell_type": "markdown",
   "metadata": {},
   "source": [
    "Indonesia memiliki cita-cita besar untuk menjadi negara maju. Oleh karena itu, peningkatan kualitas Sumber Daya Manusia (SDM) menjadi pilar penting yang harus diperbaiki, terutama dalam hal peningkatan kesehatan, pemenuhan gizi, dan pencegahan stunting (Kemenko PMK RI, 2024). Pemerintah Indonesia telah merencanakan untuk melaksanakan program makan bergizi gratis sesuai arahan Presiden RI Prabowo Subianto. Pemerintah berharap program tersebut dapat menurunkan jumlah kasus stunting bahkan mencegah kasus stunting baru di masa depan. Fokus awal dari program ini adalah anak-anak sekolah dan kelompok rentan lainnya. Anak sekolah yang dimaksud antara lain pelajar PAUD, SD, SMP, dan SMA (detik.com, 2024). \n",
    "\n",
    "Anak sekolah menjadi sasaran karena status gizi dan  stunting sangat mempengaruhi kecerdasan anak. Status gizi memberikan kontribusi terhadap kesulitan belajar sebesar 32,83%. Anak yang kekurangan nutrisi cenderung memiliki kelemahan pada sistem saraf hingga dapat menyebabkan kelainan motorik dan kognitif (Dewi, dkk, 2021). Sebagai calon penerus bangsa, maka pertumbuhan dan perkembangan anak sekolah perlu diperhatikan dengan baik agar menghasilkan potensi sumber daya manusia dengan kualitas maksimal. Hal ini dapat dicapai dengan salah satu cara yaitu pemenuhan kebutuhan nutrisi harian melalui program makanan bergizi gratis.\n",
    "\n",
    "Angka Kecukupan Gizi (AKG) menurut Kementerian Kesehatan Republik Indonesia adalah kecukupan rata-rata gizi harian yang dianjurkan untuk sekelompok orang setiap harinya. Kebutuhan gizi ideal anak yang harus terpenuhi dalam sehari terbagi menjadi dua kelompok, yaitu zat gizi makro dan mikro. Zat gizi makro adalah semua jenis zat gizi yang dibutuhkan anak dalam jumlah banyak, seperti energi (kalori), protein, lemak, dan karbohidrat. Sementara zat gizi mikro adalah nutrisi yang dibutuhkan dalam jumlah sedikit, seperti vitamin dan mineral (Damar Upahita, 2021). Penentuan nilai gizi disesuaikan dengan jenis kelamin, kelompok umur, tinggi badan, berat badan, serta aktivitas fisik (Kemenkes RI, 2019).\n",
    "\n",
    "Seluruh program makanan bergizi gratis harus melibatkan kolaborasi pemangku kepentingan terkait untuk dikonvergensikan sehingga bisa komprehensif dan terintegrasi. Salah satunya adalah penyediaan makanan yang efektif dan efisien. Salah satu perusahaan penyedia layanan catering dan bento, Olagizi ingin mengambil peran penting dalam penyediaan paket makanan bergizi bagi siswa SMP dan SMA. Olagizi ingin memberikan layanan dengan optimal. Oleh karena itu, Olagizi ingin membuat sebuah sistem yang dapat memberikan rekomendasi tentang makanan bergizi yang dipersonalisasi sesuai kebutuhan gizi dan selera para siswa. Di sisi lain, Olagizi juga ingin rekomendasi tersebut memberikan pilihan makanan yang dapat dimasak dalam waktu yang tidak terlalu lama agar makanan dapat disiapkan tepat pada waktu, khususnya makanan untuk sesi sarapan. Untuk pengembangan tahap awal, Olagizi ingin membuat model sistem rekomendasi makanan berdasarkan kemiripan bahan baku yang digunakan serta berdasarkan hasil ulasan rating makanan."
   ]
  },
  {
   "cell_type": "markdown",
   "metadata": {},
   "source": [
    "## Business Understanding"
   ]
  },
  {
   "cell_type": "markdown",
   "metadata": {},
   "source": [
    "### Problem Statements"
   ]
  },
  {
   "cell_type": "markdown",
   "metadata": {},
   "source": [
    "1. Bagaimana sistem rekomendasi dapat memberikan pilihan makanan dengan bahan baku utama yang sama?\n",
    "\n",
    "2. Bagaimana sistem rekomendasi dapat memberikan berbagai pilihan makanan yang mungkin disukai oleh target pelanggan?"
   ]
  },
  {
   "cell_type": "markdown",
   "metadata": {},
   "source": [
    "### Goals"
   ]
  },
  {
   "cell_type": "markdown",
   "metadata": {},
   "source": [
    "1. Menghasilkan 10 rekomendasi makanan yang memiliki bahan baku utama yang sama serta dapat dimasak dalam waktu kurang dari 2 jam.\n",
    "\n",
    "2. Menghasilkan 10 rekomendasi makanan yang mungkin disukai oleh target pelanggan dan dapat dimasak dalam waktu kurang dari 2 jam."
   ]
  },
  {
   "cell_type": "markdown",
   "metadata": {},
   "source": [
    "### Solution Statements"
   ]
  },
  {
   "cell_type": "markdown",
   "metadata": {},
   "source": [
    "1. Menerapkan pendekatan _content-based filtering_ menggunakan algoritma _cosine similarity_ untuk menghitung kemiripan bahan baku yang digunakan diurutkan berdasarkan nilai _similarity_ terbesar.\n",
    "\n",
    "2. Menerapkan pendekatan _collaborative filtering_ menggunakan algoritma _deep learning_ untuk menemukan pola pemberian rating oleh user."
   ]
  },
  {
   "cell_type": "markdown",
   "metadata": {},
   "source": [
    "## Data Understanding"
   ]
  },
  {
   "cell_type": "markdown",
   "metadata": {},
   "source": [
    "#### Overview"
   ]
  },
  {
   "cell_type": "markdown",
   "metadata": {},
   "source": [
    "Dataset ini berasal dari platform Kaggle salah satu pengembang sistem rekomendasi makanan dengan nama akun \"GRACE HEPHZIBAH M\" yang dapat diakses pada link di bawah. Pada proyek ini, akan menggunakan 2 file dataset dalam format csv, yaitu food data dan rating data.\n",
    "\n",
    "_Download raw dataset_:\n",
    "[Food Recommendation System](https://www.kaggle.com/code/gracehephzibahm/food-recommendation-system-easy-comprehensive/input)"
   ]
  },
  {
   "cell_type": "markdown",
   "metadata": {},
   "source": [
    "##### food_df"
   ]
  },
  {
   "cell_type": "markdown",
   "metadata": {},
   "source": [
    "| No | Kolom | Tipe Data | Deskripsi |\n",
    "|----|-------|-----------|-----------|\n",
    "| 1 | Name | `object` | Nama makanan. |\n",
    "| 2 | Food_ID | `integer` | ID makanan. |\n",
    "| 3 | C_Type | `object` | Kategori makanan. |\n",
    "| 4 | Veg_Non | `object` | Keterangan apakah makanan mengandung bahan baku hewani atau tidak |\n",
    "| 5 | Describe | `object` | Keterangan bahan-bahan yang digunakan pada makanan tersebut. |"
   ]
  },
  {
   "cell_type": "markdown",
   "metadata": {},
   "source": [
    "##### rating_df"
   ]
  },
  {
   "cell_type": "markdown",
   "metadata": {},
   "source": [
    "| No | Kolom | Tipe Data | Deskripsi |\n",
    "|----|-------|-----------|-----------|\n",
    "| 1 | User_ID | `integer` | ID pengguna yang memberikan ulasan. |\n",
    "| 2 | Food_ID | `integer` | ID resep yang diberi ulasan. |\n",
    "| 3 | Rating | `integer` | Penilaian yang diberikan (dalam skala 1 - 10). |"
   ]
  },
  {
   "cell_type": "markdown",
   "metadata": {},
   "source": [
    "### Import Libraries"
   ]
  },
  {
   "cell_type": "markdown",
   "metadata": {},
   "source": [
    "Import seluruh library yang diperlukan:"
   ]
  },
  {
   "cell_type": "code",
   "execution_count": 2,
   "metadata": {},
   "outputs": [],
   "source": [
    "import numpy as np\n",
    "import pandas as pd\n",
    "import matplotlib.pyplot as plt\n",
    "import seaborn as sns\n",
    "import ast\n",
    "\n",
    "import tensorflow as tf\n",
    "from tensorflow import keras\n",
    "from tensorflow.keras import layers\n",
    "from tensorflow.keras.layers import Embedding, Flatten, Dot, Input, Dense, Dropout, BatchNormalization\n",
    "from tensorflow.keras.callbacks import EarlyStopping, Callback, ModelCheckpoint\n",
    "\n",
    "from sklearn.neighbors import KNeighborsRegressor\n",
    "from sklearn.preprocessing import MultiLabelBinarizer, MinMaxScaler\n",
    "from sklearn.feature_extraction.text import TfidfVectorizer\n",
    "from sklearn.model_selection import train_test_split\n",
    "from sklearn.metrics import mean_squared_error, mean_absolute_error, root_mean_squared_error, r2_score, confusion_matrix\n",
    "from sklearn.metrics.pairwise import cosine_similarity"
   ]
  },
  {
   "cell_type": "markdown",
   "metadata": {},
   "source": [
    "### Load Data"
   ]
  },
  {
   "cell_type": "markdown",
   "metadata": {},
   "source": [
    "Muat semua dataset yang akan digunakan:"
   ]
  },
  {
   "cell_type": "code",
   "execution_count": 3,
   "metadata": {},
   "outputs": [],
   "source": [
    "# Data 1\n",
    "food_data = \"https://raw.githubusercontent.com/Sulbae/OlahGizi-Project/refs/heads/main/Food%20Recommender/raw-dataset/food.csv\"\n",
    "food_df = pd.read_csv(food_data)\n",
    "\n",
    "# Data 2\n",
    "rating_data = \"https://raw.githubusercontent.com/Sulbae/OlahGizi-Project/refs/heads/main/Food%20Recommender/raw-dataset/ratings.csv\"\n",
    "rating_df = pd.read_csv(rating_data)"
   ]
  },
  {
   "cell_type": "markdown",
   "metadata": {},
   "source": [
    "### Explore Data"
   ]
  },
  {
   "cell_type": "markdown",
   "metadata": {},
   "source": [
    "#### Explore food_df"
   ]
  },
  {
   "cell_type": "code",
   "execution_count": 4,
   "metadata": {},
   "outputs": [
    {
     "name": "stdout",
     "output_type": "stream",
     "text": [
      "<class 'pandas.core.frame.DataFrame'>\n",
      "RangeIndex: 400 entries, 0 to 399\n",
      "Data columns (total 5 columns):\n",
      " #   Column    Non-Null Count  Dtype \n",
      "---  ------    --------------  ----- \n",
      " 0   Food_ID   400 non-null    int64 \n",
      " 1   Name      400 non-null    object\n",
      " 2   C_Type    400 non-null    object\n",
      " 3   Veg_Non   400 non-null    object\n",
      " 4   Describe  400 non-null    object\n",
      "dtypes: int64(1), object(4)\n",
      "memory usage: 15.8+ KB\n"
     ]
    }
   ],
   "source": [
    "food_df.info()"
   ]
  },
  {
   "cell_type": "markdown",
   "metadata": {},
   "source": [
    "* Diketahui dataset memiliki 2 tipe data yaitu `int64` (untuk kolom Food_ID) dan `object` (untuk kolom lainnya) dengan total baris sebanyak 400."
   ]
  },
  {
   "cell_type": "code",
   "execution_count": 6,
   "metadata": {},
   "outputs": [
    {
     "name": "stdout",
     "output_type": "stream",
     "text": [
      "Duplicated data: 0\n",
      "Missing value: 0\n"
     ]
    }
   ],
   "source": [
    "# Check duplicates\n",
    "print(f\"Duplicated data:\", food_df.duplicated().sum())\n",
    "\n",
    "# recheck missing value\n",
    "print(f\"Missing value:\", food_df.isna().sum().sum())"
   ]
  },
  {
   "cell_type": "markdown",
   "metadata": {},
   "source": [
    "* Tidak terdapat duplikasi data maupun _missing value_."
   ]
  },
  {
   "cell_type": "markdown",
   "metadata": {},
   "source": [
    "Menampilkan 5 data teratas:"
   ]
  },
  {
   "cell_type": "code",
   "execution_count": 7,
   "metadata": {},
   "outputs": [
    {
     "data": {
      "text/html": [
       "<div>\n",
       "<style scoped>\n",
       "    .dataframe tbody tr th:only-of-type {\n",
       "        vertical-align: middle;\n",
       "    }\n",
       "\n",
       "    .dataframe tbody tr th {\n",
       "        vertical-align: top;\n",
       "    }\n",
       "\n",
       "    .dataframe thead th {\n",
       "        text-align: right;\n",
       "    }\n",
       "</style>\n",
       "<table border=\"1\" class=\"dataframe\">\n",
       "  <thead>\n",
       "    <tr style=\"text-align: right;\">\n",
       "      <th></th>\n",
       "      <th>Food_ID</th>\n",
       "      <th>Name</th>\n",
       "      <th>C_Type</th>\n",
       "      <th>Veg_Non</th>\n",
       "      <th>Describe</th>\n",
       "    </tr>\n",
       "  </thead>\n",
       "  <tbody>\n",
       "    <tr>\n",
       "      <th>0</th>\n",
       "      <td>1</td>\n",
       "      <td>summer squash salad</td>\n",
       "      <td>Healthy Food</td>\n",
       "      <td>veg</td>\n",
       "      <td>white balsamic vinegar, lemon juice, lemon rin...</td>\n",
       "    </tr>\n",
       "    <tr>\n",
       "      <th>1</th>\n",
       "      <td>2</td>\n",
       "      <td>chicken minced salad</td>\n",
       "      <td>Healthy Food</td>\n",
       "      <td>non-veg</td>\n",
       "      <td>olive oil, chicken mince, garlic (minced), oni...</td>\n",
       "    </tr>\n",
       "    <tr>\n",
       "      <th>2</th>\n",
       "      <td>3</td>\n",
       "      <td>sweet chilli almonds</td>\n",
       "      <td>Snack</td>\n",
       "      <td>veg</td>\n",
       "      <td>almonds whole, egg white, curry leaves, salt, ...</td>\n",
       "    </tr>\n",
       "    <tr>\n",
       "      <th>3</th>\n",
       "      <td>4</td>\n",
       "      <td>tricolour salad</td>\n",
       "      <td>Healthy Food</td>\n",
       "      <td>veg</td>\n",
       "      <td>vinegar, honey/sugar, soy sauce, salt, garlic ...</td>\n",
       "    </tr>\n",
       "    <tr>\n",
       "      <th>4</th>\n",
       "      <td>5</td>\n",
       "      <td>christmas cake</td>\n",
       "      <td>Dessert</td>\n",
       "      <td>veg</td>\n",
       "      <td>christmas dry fruits (pre-soaked), orange zest...</td>\n",
       "    </tr>\n",
       "  </tbody>\n",
       "</table>\n",
       "</div>"
      ],
      "text/plain": [
       "   Food_ID                  Name        C_Type  Veg_Non  \\\n",
       "0        1   summer squash salad  Healthy Food      veg   \n",
       "1        2  chicken minced salad  Healthy Food  non-veg   \n",
       "2        3  sweet chilli almonds         Snack      veg   \n",
       "3        4       tricolour salad  Healthy Food      veg   \n",
       "4        5        christmas cake       Dessert      veg   \n",
       "\n",
       "                                            Describe  \n",
       "0  white balsamic vinegar, lemon juice, lemon rin...  \n",
       "1  olive oil, chicken mince, garlic (minced), oni...  \n",
       "2  almonds whole, egg white, curry leaves, salt, ...  \n",
       "3  vinegar, honey/sugar, soy sauce, salt, garlic ...  \n",
       "4  christmas dry fruits (pre-soaked), orange zest...  "
      ]
     },
     "execution_count": 7,
     "metadata": {},
     "output_type": "execute_result"
    }
   ],
   "source": [
    "food_df.head()"
   ]
  },
  {
   "cell_type": "markdown",
   "metadata": {},
   "source": [
    "Visualisasi data *C_Type*:"
   ]
  },
  {
   "cell_type": "code",
   "execution_count": 17,
   "metadata": {},
   "outputs": [
    {
     "data": {
      "image/png": "[encoded data removed]",
      "text/plain": [
       "<Figure size 800x600 with 1 Axes>"
      ]
     },
     "metadata": {},
     "output_type": "display_data"
    }
   ],
   "source": [
    "category_counts = food_df['C_Type'].value_counts().sort_values(ascending=True)\n",
    "\n",
    "# Visualisasi dengan bar chart horizontal\n",
    "plt.figure(figsize=(8, 6))\n",
    "bars = plt.barh(category_counts.index, category_counts.values, color=sns.color_palette(\"pastel\"))\n",
    "\n",
    "for bar in bars:\n",
    "    plt.text(bar.get_width() + 0.1, bar.get_y() + bar.get_height() / 2,\n",
    "             f'{bar.get_width()}', va='center', ha='left', fontsize=12)\n",
    "\n",
    "plt.title('Distribusi Kategori C_Type', fontsize=16)\n",
    "plt.xlabel('Frekuensi', fontsize=14)\n",
    "plt.ylabel('Kategori', fontsize=14)\n",
    "plt.show()"
   ]
  },
  {
   "cell_type": "markdown",
   "metadata": {},
   "source": [
    "* Makanan pada dataset didominasi oleh makanan dengan kateogori makanan India, Healthy Food, dan Dessert."
   ]
  },
  {
   "cell_type": "code",
   "execution_count": 19,
   "metadata": {},
   "outputs": [
    {
     "data": {
      "image/png": "[encoded data removed]",
      "text/plain": [
       "<Figure size 600x600 with 1 Axes>"
      ]
     },
     "metadata": {},
     "output_type": "display_data"
    }
   ],
   "source": [
    "Veg_Non_counts = food_df['Veg_Non'].value_counts()\n",
    "\n",
    "plt.figure(figsize=(6, 6))\n",
    "plt.pie(Veg_Non_counts, labels=Veg_Non_counts.index, autopct='%1.1f%%', startangle=140, colors=sns.color_palette(\"pastel\"))\n",
    "plt.title('Proporsi Kategori Veg_Non', fontsize=16)\n",
    "plt.show()"
   ]
  },
  {
   "cell_type": "markdown",
   "metadata": {},
   "source": [
    "* Enam puluh persen makanan pada dataset merupakan makanan yang tidak mengandung bahan baku hewani, sementara sisanya menggunakan bahan baku hewani."
   ]
  },
  {
   "cell_type": "markdown",
   "metadata": {},
   "source": [
    "#### Explore rating_df"
   ]
  },
  {
   "cell_type": "code",
   "execution_count": 20,
   "metadata": {},
   "outputs": [
    {
     "name": "stdout",
     "output_type": "stream",
     "text": [
      "<class 'pandas.core.frame.DataFrame'>\n",
      "RangeIndex: 512 entries, 0 to 511\n",
      "Data columns (total 3 columns):\n",
      " #   Column   Non-Null Count  Dtype  \n",
      "---  ------   --------------  -----  \n",
      " 0   User_ID  511 non-null    float64\n",
      " 1   Food_ID  511 non-null    float64\n",
      " 2   Rating   511 non-null    float64\n",
      "dtypes: float64(3)\n",
      "memory usage: 12.1 KB\n"
     ]
    }
   ],
   "source": [
    "rating_df.info()"
   ]
  },
  {
   "cell_type": "markdown",
   "metadata": {},
   "source": [
    "* Diketahui seluruh data pada dataset memiliki tipe data `float`."
   ]
  },
  {
   "cell_type": "markdown",
   "metadata": {},
   "source": [
    "Menampilkan 5 data teratas:"
   ]
  },
  {
   "cell_type": "code",
   "execution_count": 27,
   "metadata": {},
   "outputs": [
    {
     "data": {
      "text/html": [
       "<div>\n",
       "<style scoped>\n",
       "    .dataframe tbody tr th:only-of-type {\n",
       "        vertical-align: middle;\n",
       "    }\n",
       "\n",
       "    .dataframe tbody tr th {\n",
       "        vertical-align: top;\n",
       "    }\n",
       "\n",
       "    .dataframe thead th {\n",
       "        text-align: right;\n",
       "    }\n",
       "</style>\n",
       "<table border=\"1\" class=\"dataframe\">\n",
       "  <thead>\n",
       "    <tr style=\"text-align: right;\">\n",
       "      <th></th>\n",
       "      <th>User_ID</th>\n",
       "      <th>Food_ID</th>\n",
       "      <th>Rating</th>\n",
       "    </tr>\n",
       "  </thead>\n",
       "  <tbody>\n",
       "    <tr>\n",
       "      <th>0</th>\n",
       "      <td>1.0</td>\n",
       "      <td>88.0</td>\n",
       "      <td>4.0</td>\n",
       "    </tr>\n",
       "    <tr>\n",
       "      <th>1</th>\n",
       "      <td>1.0</td>\n",
       "      <td>46.0</td>\n",
       "      <td>3.0</td>\n",
       "    </tr>\n",
       "    <tr>\n",
       "      <th>2</th>\n",
       "      <td>1.0</td>\n",
       "      <td>24.0</td>\n",
       "      <td>5.0</td>\n",
       "    </tr>\n",
       "    <tr>\n",
       "      <th>3</th>\n",
       "      <td>1.0</td>\n",
       "      <td>25.0</td>\n",
       "      <td>4.0</td>\n",
       "    </tr>\n",
       "    <tr>\n",
       "      <th>4</th>\n",
       "      <td>2.0</td>\n",
       "      <td>49.0</td>\n",
       "      <td>1.0</td>\n",
       "    </tr>\n",
       "  </tbody>\n",
       "</table>\n",
       "</div>"
      ],
      "text/plain": [
       "   User_ID  Food_ID  Rating\n",
       "0      1.0     88.0     4.0\n",
       "1      1.0     46.0     3.0\n",
       "2      1.0     24.0     5.0\n",
       "3      1.0     25.0     4.0\n",
       "4      2.0     49.0     1.0"
      ]
     },
     "execution_count": 27,
     "metadata": {},
     "output_type": "execute_result"
    }
   ],
   "source": [
    "rating_df.head()"
   ]
  },
  {
   "cell_type": "markdown",
   "metadata": {},
   "source": [
    "Cek duplikasi dan missing value data:"
   ]
  },
  {
   "cell_type": "code",
   "execution_count": 25,
   "metadata": {},
   "outputs": [
    {
     "name": "stdout",
     "output_type": "stream",
     "text": [
      "Duplicated data: 0\n",
      "Missing value: 0\n"
     ]
    }
   ],
   "source": [
    "# Check duplicates\n",
    "print(f\"Duplicated data:\", rating_df.duplicated().sum())\n",
    "\n",
    "# Check missing value\n",
    "print(f\"Missing value:\", rating_df.isna().sum().sum())"
   ]
  },
  {
   "cell_type": "markdown",
   "metadata": {},
   "source": [
    "* Terdapat __3__ __missing value__."
   ]
  },
  {
   "cell_type": "markdown",
   "metadata": {},
   "source": [
    "Menampilkan statistik deskriptif:"
   ]
  },
  {
   "cell_type": "code",
   "execution_count": 28,
   "metadata": {},
   "outputs": [
    {
     "data": {
      "text/html": [
       "<div>\n",
       "<style scoped>\n",
       "    .dataframe tbody tr th:only-of-type {\n",
       "        vertical-align: middle;\n",
       "    }\n",
       "\n",
       "    .dataframe tbody tr th {\n",
       "        vertical-align: top;\n",
       "    }\n",
       "\n",
       "    .dataframe thead th {\n",
       "        text-align: right;\n",
       "    }\n",
       "</style>\n",
       "<table border=\"1\" class=\"dataframe\">\n",
       "  <thead>\n",
       "    <tr style=\"text-align: right;\">\n",
       "      <th></th>\n",
       "      <th>count</th>\n",
       "      <th>mean</th>\n",
       "      <th>std</th>\n",
       "      <th>min</th>\n",
       "      <th>25%</th>\n",
       "      <th>50%</th>\n",
       "      <th>75%</th>\n",
       "      <th>max</th>\n",
       "    </tr>\n",
       "  </thead>\n",
       "  <tbody>\n",
       "    <tr>\n",
       "      <th>User_ID</th>\n",
       "      <td>511.0</td>\n",
       "      <td>49.068493</td>\n",
       "      <td>28.739213</td>\n",
       "      <td>1.0</td>\n",
       "      <td>25.0</td>\n",
       "      <td>49.0</td>\n",
       "      <td>72.0</td>\n",
       "      <td>100.0</td>\n",
       "    </tr>\n",
       "    <tr>\n",
       "      <th>Food_ID</th>\n",
       "      <td>511.0</td>\n",
       "      <td>125.311155</td>\n",
       "      <td>91.292629</td>\n",
       "      <td>1.0</td>\n",
       "      <td>45.5</td>\n",
       "      <td>111.0</td>\n",
       "      <td>204.0</td>\n",
       "      <td>309.0</td>\n",
       "    </tr>\n",
       "    <tr>\n",
       "      <th>Rating</th>\n",
       "      <td>511.0</td>\n",
       "      <td>5.438356</td>\n",
       "      <td>2.866236</td>\n",
       "      <td>1.0</td>\n",
       "      <td>3.0</td>\n",
       "      <td>5.0</td>\n",
       "      <td>8.0</td>\n",
       "      <td>10.0</td>\n",
       "    </tr>\n",
       "  </tbody>\n",
       "</table>\n",
       "</div>"
      ],
      "text/plain": [
       "         count        mean        std  min   25%    50%    75%    max\n",
       "User_ID  511.0   49.068493  28.739213  1.0  25.0   49.0   72.0  100.0\n",
       "Food_ID  511.0  125.311155  91.292629  1.0  45.5  111.0  204.0  309.0\n",
       "Rating   511.0    5.438356   2.866236  1.0   3.0    5.0    8.0   10.0"
      ]
     },
     "execution_count": 28,
     "metadata": {},
     "output_type": "execute_result"
    }
   ],
   "source": [
    "rating_df.describe().T"
   ]
  },
  {
   "cell_type": "markdown",
   "metadata": {},
   "source": [
    "* Diketahui rata-rata rating yang diberikan user adalah 5,4 dan diketahui nilai median sebesar 5. Sementara rentang nilai rating berkisar dari 1 hingga 10. Artinya distribusi data cukup seimbang."
   ]
  },
  {
   "cell_type": "markdown",
   "metadata": {},
   "source": [
    "Cek distribusi dan outlier data _rating_ menggunakan histogram dan boxplot:"
   ]
  },
  {
   "cell_type": "code",
   "execution_count": 29,
   "metadata": {},
   "outputs": [
    {
     "data": {
      "image/png": "[encoded data removed]",
      "text/plain": [
       "<Figure size 1200x500 with 2 Axes>"
      ]
     },
     "metadata": {},
     "output_type": "display_data"
    },
    {
     "data": {
      "image/png": "[encoded data removed]",
      "text/plain": [
       "<Figure size 1200x500 with 2 Axes>"
      ]
     },
     "metadata": {},
     "output_type": "display_data"
    },
    {
     "data": {
      "image/png": "[encoded data removed]",
      "text/plain": [
       "<Figure size 1200x500 with 2 Axes>"
      ]
     },
     "metadata": {},
     "output_type": "display_data"
    }
   ],
   "source": [
    "for col in rating_df.select_dtypes(include=\"number\").columns:\n",
    "    fig, axes = plt.subplots(nrows=1, ncols=2, figsize=(12, 5))\n",
    "    fig.suptitle(f\"Distribution of {col}\")\n",
    "\n",
    "    # Histogram\n",
    "    sns.histplot(rating_df[col], kde=True, ax=axes[0])\n",
    "    axes[0].set_ylabel(\"Frequency\")\n",
    "    # Box PLot\n",
    "    sns.boxplot(x=rating_df[col], ax=axes[1])\n",
    "\n",
    "    plt.tight_layout()\n",
    "    plt.show()"
   ]
  },
  {
   "cell_type": "markdown",
   "metadata": {},
   "source": [
    "* Diketahui tidak terdapat outlier pada data _rating_."
   ]
  },
  {
   "cell_type": "markdown",
   "metadata": {},
   "source": [
    "## Data Preparation"
   ]
  },
  {
   "cell_type": "markdown",
   "metadata": {},
   "source": [
    "### Data Cleaning"
   ]
  },
  {
   "cell_type": "markdown",
   "metadata": {},
   "source": [
    "#### Remove Missing Value"
   ]
  },
  {
   "cell_type": "markdown",
   "metadata": {},
   "source": [
    "Menghapus data yang mengandung *missing_value*:"
   ]
  },
  {
   "cell_type": "code",
   "execution_count": 24,
   "metadata": {},
   "outputs": [],
   "source": [
    "rating_df = rating_df.dropna()"
   ]
  },
  {
   "cell_type": "markdown",
   "metadata": {},
   "source": [
    "Recheck:"
   ]
  },
  {
   "cell_type": "code",
   "execution_count": 26,
   "metadata": {},
   "outputs": [
    {
     "name": "stdout",
     "output_type": "stream",
     "text": [
      "Missing value: 0\n"
     ]
    }
   ],
   "source": [
    "# recheck missing value\n",
    "print(f\"Missing value:\", rating_df.isna().sum().sum())"
   ]
  },
  {
   "cell_type": "markdown",
   "metadata": {},
   "source": [
    "Menghapus baris data yang memiliki missing value pada  `food_df`:"
   ]
  },
  {
   "cell_type": "code",
   "execution_count": null,
   "metadata": {},
   "outputs": [],
   "source": [
    "food_df = food_df.dropna()"
   ]
  },
  {
   "cell_type": "markdown",
   "metadata": {},
   "source": [
    "Recheck:"
   ]
  },
  {
   "cell_type": "code",
   "execution_count": null,
   "metadata": {},
   "outputs": [
    {
     "name": "stdout",
     "output_type": "stream",
     "text": [
      "Missing value: 0\n"
     ]
    }
   ],
   "source": [
    "# Recheck missing value\n",
    "print(f\"Missing value:\", food_df.isna().sum().sum())"
   ]
  },
  {
   "cell_type": "code",
   "execution_count": 30,
   "metadata": {},
   "outputs": [
    {
     "name": "stdout",
     "output_type": "stream",
     "text": [
      "<class 'pandas.core.frame.DataFrame'>\n",
      "RangeIndex: 400 entries, 0 to 399\n",
      "Data columns (total 5 columns):\n",
      " #   Column    Non-Null Count  Dtype \n",
      "---  ------    --------------  ----- \n",
      " 0   Food_ID   400 non-null    int64 \n",
      " 1   Name      400 non-null    object\n",
      " 2   C_Type    400 non-null    object\n",
      " 3   Veg_Non   400 non-null    object\n",
      " 4   Describe  400 non-null    object\n",
      "dtypes: int64(1), object(4)\n",
      "memory usage: 15.8+ KB\n"
     ]
    }
   ],
   "source": [
    "food_df.info()"
   ]
  },
  {
   "cell_type": "markdown",
   "metadata": {},
   "source": [
    "### Content-Based Filtering"
   ]
  },
  {
   "cell_type": "markdown",
   "metadata": {},
   "source": [
    "Membuat variable baru untuk memudahkan dalam proses selanjutnya serta memudahkan pemeliharaan data:"
   ]
  },
  {
   "cell_type": "code",
   "execution_count": 31,
   "metadata": {},
   "outputs": [
    {
     "data": {
      "text/html": [
       "<div>\n",
       "<style scoped>\n",
       "    .dataframe tbody tr th:only-of-type {\n",
       "        vertical-align: middle;\n",
       "    }\n",
       "\n",
       "    .dataframe tbody tr th {\n",
       "        vertical-align: top;\n",
       "    }\n",
       "\n",
       "    .dataframe thead th {\n",
       "        text-align: right;\n",
       "    }\n",
       "</style>\n",
       "<table border=\"1\" class=\"dataframe\">\n",
       "  <thead>\n",
       "    <tr style=\"text-align: right;\">\n",
       "      <th></th>\n",
       "      <th>Food_ID</th>\n",
       "      <th>Name</th>\n",
       "      <th>C_Type</th>\n",
       "      <th>Veg_Non</th>\n",
       "      <th>Describe</th>\n",
       "    </tr>\n",
       "  </thead>\n",
       "  <tbody>\n",
       "    <tr>\n",
       "      <th>0</th>\n",
       "      <td>1</td>\n",
       "      <td>summer squash salad</td>\n",
       "      <td>Healthy Food</td>\n",
       "      <td>veg</td>\n",
       "      <td>white balsamic vinegar, lemon juice, lemon rin...</td>\n",
       "    </tr>\n",
       "    <tr>\n",
       "      <th>1</th>\n",
       "      <td>2</td>\n",
       "      <td>chicken minced salad</td>\n",
       "      <td>Healthy Food</td>\n",
       "      <td>non-veg</td>\n",
       "      <td>olive oil, chicken mince, garlic (minced), oni...</td>\n",
       "    </tr>\n",
       "    <tr>\n",
       "      <th>2</th>\n",
       "      <td>3</td>\n",
       "      <td>sweet chilli almonds</td>\n",
       "      <td>Snack</td>\n",
       "      <td>veg</td>\n",
       "      <td>almonds whole, egg white, curry leaves, salt, ...</td>\n",
       "    </tr>\n",
       "    <tr>\n",
       "      <th>3</th>\n",
       "      <td>4</td>\n",
       "      <td>tricolour salad</td>\n",
       "      <td>Healthy Food</td>\n",
       "      <td>veg</td>\n",
       "      <td>vinegar, honey/sugar, soy sauce, salt, garlic ...</td>\n",
       "    </tr>\n",
       "    <tr>\n",
       "      <th>4</th>\n",
       "      <td>5</td>\n",
       "      <td>christmas cake</td>\n",
       "      <td>Dessert</td>\n",
       "      <td>veg</td>\n",
       "      <td>christmas dry fruits (pre-soaked), orange zest...</td>\n",
       "    </tr>\n",
       "    <tr>\n",
       "      <th>...</th>\n",
       "      <td>...</td>\n",
       "      <td>...</td>\n",
       "      <td>...</td>\n",
       "      <td>...</td>\n",
       "      <td>...</td>\n",
       "    </tr>\n",
       "    <tr>\n",
       "      <th>395</th>\n",
       "      <td>396</td>\n",
       "      <td>Kimchi Toast</td>\n",
       "      <td>Korean</td>\n",
       "      <td>veg</td>\n",
       "      <td>cream cheese, chopped kimchi, scallions,count...</td>\n",
       "    </tr>\n",
       "    <tr>\n",
       "      <th>396</th>\n",
       "      <td>397</td>\n",
       "      <td>Tacos de Gobernador (Shrimp, Poblano, and Chee...</td>\n",
       "      <td>Mexican</td>\n",
       "      <td>non-veg</td>\n",
       "      <td>poblano chiles, bacon, shrips, red salsa, garl...</td>\n",
       "    </tr>\n",
       "    <tr>\n",
       "      <th>397</th>\n",
       "      <td>398</td>\n",
       "      <td>Melted Broccoli Pasta With Capers and Anchovies</td>\n",
       "      <td>French</td>\n",
       "      <td>non-veg</td>\n",
       "      <td>broccoli,Bread Crumbs,  anchovy fillets, garli...</td>\n",
       "    </tr>\n",
       "    <tr>\n",
       "      <th>398</th>\n",
       "      <td>399</td>\n",
       "      <td>Lemon-Ginger Cake with Pistachios</td>\n",
       "      <td>Dessert</td>\n",
       "      <td>non-veg</td>\n",
       "      <td>egg yolks,lemon juice, unsalted butter, all pu...</td>\n",
       "    </tr>\n",
       "    <tr>\n",
       "      <th>399</th>\n",
       "      <td>400</td>\n",
       "      <td>Rosemary Roasted Vegetables</td>\n",
       "      <td>Healthy Food</td>\n",
       "      <td>veg</td>\n",
       "      <td>kosher salt, rosemary, garlic, potato, olive o...</td>\n",
       "    </tr>\n",
       "  </tbody>\n",
       "</table>\n",
       "<p>400 rows × 5 columns</p>\n",
       "</div>"
      ],
      "text/plain": [
       "     Food_ID                                               Name        C_Type  \\\n",
       "0          1                                summer squash salad  Healthy Food   \n",
       "1          2                               chicken minced salad  Healthy Food   \n",
       "2          3                               sweet chilli almonds         Snack   \n",
       "3          4                                    tricolour salad  Healthy Food   \n",
       "4          5                                     christmas cake       Dessert   \n",
       "..       ...                                                ...           ...   \n",
       "395      396                                       Kimchi Toast        Korean   \n",
       "396      397  Tacos de Gobernador (Shrimp, Poblano, and Chee...       Mexican   \n",
       "397      398    Melted Broccoli Pasta With Capers and Anchovies        French   \n",
       "398      399                  Lemon-Ginger Cake with Pistachios       Dessert   \n",
       "399      400                        Rosemary Roasted Vegetables  Healthy Food   \n",
       "\n",
       "     Veg_Non                                           Describe  \n",
       "0        veg  white balsamic vinegar, lemon juice, lemon rin...  \n",
       "1    non-veg  olive oil, chicken mince, garlic (minced), oni...  \n",
       "2        veg  almonds whole, egg white, curry leaves, salt, ...  \n",
       "3        veg  vinegar, honey/sugar, soy sauce, salt, garlic ...  \n",
       "4        veg  christmas dry fruits (pre-soaked), orange zest...  \n",
       "..       ...                                                ...  \n",
       "395      veg   cream cheese, chopped kimchi, scallions,count...  \n",
       "396  non-veg  poblano chiles, bacon, shrips, red salsa, garl...  \n",
       "397  non-veg  broccoli,Bread Crumbs,  anchovy fillets, garli...  \n",
       "398  non-veg  egg yolks,lemon juice, unsalted butter, all pu...  \n",
       "399      veg  kosher salt, rosemary, garlic, potato, olive o...  \n",
       "\n",
       "[400 rows x 5 columns]"
      ]
     },
     "execution_count": 31,
     "metadata": {},
     "output_type": "execute_result"
    }
   ],
   "source": [
    "content_based_df = food_df\n",
    "content_based_df"
   ]
  },
  {
   "cell_type": "code",
   "execution_count": 32,
   "metadata": {},
   "outputs": [
    {
     "name": "stdout",
     "output_type": "stream",
     "text": [
      "<class 'pandas.core.frame.DataFrame'>\n",
      "RangeIndex: 400 entries, 0 to 399\n",
      "Data columns (total 5 columns):\n",
      " #   Column    Non-Null Count  Dtype \n",
      "---  ------    --------------  ----- \n",
      " 0   Food_ID   400 non-null    int64 \n",
      " 1   Name      400 non-null    object\n",
      " 2   C_Type    400 non-null    object\n",
      " 3   Veg_Non   400 non-null    object\n",
      " 4   Describe  400 non-null    object\n",
      "dtypes: int64(1), object(4)\n",
      "memory usage: 15.8+ KB\n"
     ]
    }
   ],
   "source": [
    "content_based_df.info()"
   ]
  },
  {
   "cell_type": "markdown",
   "metadata": {},
   "source": [
    "#### Feature Extraction"
   ]
  },
  {
   "cell_type": "code",
   "execution_count": 34,
   "metadata": {},
   "outputs": [
    {
     "data": {
      "text/plain": [
       "0      white balsamic vinegar, lemon juice, lemon rin...\n",
       "1      olive oil, chicken mince, garlic (minced), oni...\n",
       "2      almonds whole, egg white, curry leaves, salt, ...\n",
       "3      vinegar, honey/sugar, soy sauce, salt, garlic ...\n",
       "4      christmas dry fruits (pre-soaked), orange zest...\n",
       "                             ...                        \n",
       "395     cream cheese, chopped kimchi, scallions,count...\n",
       "396    poblano chiles, bacon, shrips, red salsa, garl...\n",
       "397    broccoli,Bread Crumbs,  anchovy fillets, garli...\n",
       "398    egg yolks,lemon juice, unsalted butter, all pu...\n",
       "399    kosher salt, rosemary, garlic, potato, olive o...\n",
       "Name: Describe, Length: 400, dtype: object"
      ]
     },
     "execution_count": 34,
     "metadata": {},
     "output_type": "execute_result"
    }
   ],
   "source": [
    "content_based_df['Describe']"
   ]
  },
  {
   "cell_type": "markdown",
   "metadata": {},
   "source": [
    "Mengubah data teks menjadi vektor numerik:"
   ]
  },
  {
   "cell_type": "code",
   "execution_count": 40,
   "metadata": {},
   "outputs": [],
   "source": [
    "tfidf_vectorizer = TfidfVectorizer(stop_words='english', ngram_range=(1,1), token_pattern=r'\\b[a-zA-Z]+\\b')\n",
    "\n",
    "tfidf_vectorizer.fit(content_based_df['Describe'])\n",
    "\n",
    "teks = tfidf_vectorizer.get_feature_names_out()"
   ]
  },
  {
   "cell_type": "code",
   "execution_count": 41,
   "metadata": {},
   "outputs": [
    {
     "data": {
      "text/plain": [
       "array(['aall', 'aamchoor', 'aata', ..., 'zested', 'zinfandel', 'zucchini'],\n",
       "      dtype=object)"
      ]
     },
     "execution_count": 41,
     "metadata": {},
     "output_type": "execute_result"
    }
   ],
   "source": [
    "teks"
   ]
  },
  {
   "cell_type": "code",
   "execution_count": 42,
   "metadata": {},
   "outputs": [
    {
     "data": {
      "text/plain": [
       "(400, 1161)"
      ]
     },
     "execution_count": 42,
     "metadata": {},
     "output_type": "execute_result"
    }
   ],
   "source": [
    "tfidf_matrix = tfidf_vectorizer.fit_transform(content_based_df['Describe'])\n",
    "\n",
    "tfidf_matrix.shape"
   ]
  },
  {
   "cell_type": "code",
   "execution_count": 43,
   "metadata": {},
   "outputs": [
    {
     "data": {
      "text/plain": [
       "matrix([[0.        , 0.        , 0.        , ..., 0.        , 0.        ,\n",
       "         0.27483164],\n",
       "        [0.        , 0.        , 0.        , ..., 0.        , 0.        ,\n",
       "         0.        ],\n",
       "        [0.        , 0.        , 0.        , ..., 0.        , 0.        ,\n",
       "         0.        ],\n",
       "        ...,\n",
       "        [0.        , 0.        , 0.        , ..., 0.        , 0.        ,\n",
       "         0.        ],\n",
       "        [0.        , 0.        , 0.        , ..., 0.        , 0.        ,\n",
       "         0.        ],\n",
       "        [0.        , 0.        , 0.        , ..., 0.        , 0.        ,\n",
       "         0.        ]])"
      ]
     },
     "execution_count": 43,
     "metadata": {},
     "output_type": "execute_result"
    }
   ],
   "source": [
    "tfidf_matrix.todense()"
   ]
  },
  {
   "cell_type": "code",
   "execution_count": 44,
   "metadata": {},
   "outputs": [
    {
     "data": {
      "text/html": [
       "<div>\n",
       "<style scoped>\n",
       "    .dataframe tbody tr th:only-of-type {\n",
       "        vertical-align: middle;\n",
       "    }\n",
       "\n",
       "    .dataframe tbody tr th {\n",
       "        vertical-align: top;\n",
       "    }\n",
       "\n",
       "    .dataframe thead th {\n",
       "        text-align: right;\n",
       "    }\n",
       "</style>\n",
       "<table border=\"1\" class=\"dataframe\">\n",
       "  <thead>\n",
       "    <tr style=\"text-align: right;\">\n",
       "      <th></th>\n",
       "      <th>dark</th>\n",
       "      <th>nutmeg</th>\n",
       "      <th>yello</th>\n",
       "      <th>buffalo</th>\n",
       "      <th>fillet</th>\n",
       "      <th>coverture</th>\n",
       "      <th>crepe</th>\n",
       "      <th>kokum</th>\n",
       "      <th>cook</th>\n",
       "      <th>coriender</th>\n",
       "      <th>asaian</th>\n",
       "      <th>sour</th>\n",
       "      <th>iceberg</th>\n",
       "      <th>flesh</th>\n",
       "      <th>mozzarella</th>\n",
       "      <th>littleneck</th>\n",
       "      <th>papper</th>\n",
       "      <th>sattu</th>\n",
       "      <th>tomatoes</th>\n",
       "      <th>whisky</th>\n",
       "    </tr>\n",
       "    <tr>\n",
       "      <th>Describe</th>\n",
       "      <th></th>\n",
       "      <th></th>\n",
       "      <th></th>\n",
       "      <th></th>\n",
       "      <th></th>\n",
       "      <th></th>\n",
       "      <th></th>\n",
       "      <th></th>\n",
       "      <th></th>\n",
       "      <th></th>\n",
       "      <th></th>\n",
       "      <th></th>\n",
       "      <th></th>\n",
       "      <th></th>\n",
       "      <th></th>\n",
       "      <th></th>\n",
       "      <th></th>\n",
       "      <th></th>\n",
       "      <th></th>\n",
       "      <th></th>\n",
       "    </tr>\n",
       "  </thead>\n",
       "  <tbody>\n",
       "    <tr>\n",
       "      <th>Vanilla pre mix, gel, oil, water, egg yolks, lemon juice, sugar, butter, white chocolate, cooking cream, milk</th>\n",
       "      <td>0.0</td>\n",
       "      <td>0.0</td>\n",
       "      <td>0.0</td>\n",
       "      <td>0.0</td>\n",
       "      <td>0.0</td>\n",
       "      <td>0.0</td>\n",
       "      <td>0.0</td>\n",
       "      <td>0.000000</td>\n",
       "      <td>0.0</td>\n",
       "      <td>0.0</td>\n",
       "      <td>0.0</td>\n",
       "      <td>0.0</td>\n",
       "      <td>0.0</td>\n",
       "      <td>0.0</td>\n",
       "      <td>0.0</td>\n",
       "      <td>0.0</td>\n",
       "      <td>0.0</td>\n",
       "      <td>0.000000</td>\n",
       "      <td>0.000000</td>\n",
       "      <td>0.0</td>\n",
       "    </tr>\n",
       "    <tr>\n",
       "      <th>unsalted butter, brown sugar, chocolate, chocolate chips, eggs, flour, cocoa powder, baking powder</th>\n",
       "      <td>0.0</td>\n",
       "      <td>0.0</td>\n",
       "      <td>0.0</td>\n",
       "      <td>0.0</td>\n",
       "      <td>0.0</td>\n",
       "      <td>0.0</td>\n",
       "      <td>0.0</td>\n",
       "      <td>0.000000</td>\n",
       "      <td>0.0</td>\n",
       "      <td>0.0</td>\n",
       "      <td>0.0</td>\n",
       "      <td>0.0</td>\n",
       "      <td>0.0</td>\n",
       "      <td>0.0</td>\n",
       "      <td>0.0</td>\n",
       "      <td>0.0</td>\n",
       "      <td>0.0</td>\n",
       "      <td>0.000000</td>\n",
       "      <td>0.000000</td>\n",
       "      <td>0.0</td>\n",
       "    </tr>\n",
       "    <tr>\n",
       "      <th>all-purpose flour, clarified butter (ghee), water, white chocolate, dessicated coconut, green cardamom powder, almond, jaggery</th>\n",
       "      <td>0.0</td>\n",
       "      <td>0.0</td>\n",
       "      <td>0.0</td>\n",
       "      <td>0.0</td>\n",
       "      <td>0.0</td>\n",
       "      <td>0.0</td>\n",
       "      <td>0.0</td>\n",
       "      <td>0.000000</td>\n",
       "      <td>0.0</td>\n",
       "      <td>0.0</td>\n",
       "      <td>0.0</td>\n",
       "      <td>0.0</td>\n",
       "      <td>0.0</td>\n",
       "      <td>0.0</td>\n",
       "      <td>0.0</td>\n",
       "      <td>0.0</td>\n",
       "      <td>0.0</td>\n",
       "      <td>0.000000</td>\n",
       "      <td>0.000000</td>\n",
       "      <td>0.0</td>\n",
       "    </tr>\n",
       "    <tr>\n",
       "      <th>jeera whole, coriander seeds, kashmiri chilly, garlic, ginger, green chillies, kokum, coconut, onion, tomatoes, coriander, prawns, salt, turmeric powder, garlic paste, asafoetida, refined oil, ginger paste, goan rice, coconut milk, green chillies, fresh coconut, hing, refined oil, coriander leaves, basmati rice, coconut milk, green chillies, coconut milk, coconut, salt, green chillies, curry leaf, lecite</th>\n",
       "      <td>0.0</td>\n",
       "      <td>0.0</td>\n",
       "      <td>0.0</td>\n",
       "      <td>0.0</td>\n",
       "      <td>0.0</td>\n",
       "      <td>0.0</td>\n",
       "      <td>0.0</td>\n",
       "      <td>0.166181</td>\n",
       "      <td>0.0</td>\n",
       "      <td>0.0</td>\n",
       "      <td>0.0</td>\n",
       "      <td>0.0</td>\n",
       "      <td>0.0</td>\n",
       "      <td>0.0</td>\n",
       "      <td>0.0</td>\n",
       "      <td>0.0</td>\n",
       "      <td>0.0</td>\n",
       "      <td>0.000000</td>\n",
       "      <td>0.098531</td>\n",
       "      <td>0.0</td>\n",
       "    </tr>\n",
       "    <tr>\n",
       "      <th>red lentils or masoor dal (half-boiled), potato (grated), carrot, french beans, bread slices, ground chickpea flour (sattu), green chillies, ginger, onions, garlic (minced), salt, sugar, chaat masala, red chilli powder, garam masala, corn flour, besan, bread crumbs for crunchyness, coriander, refined oil (for fryingp)</th>\n",
       "      <td>0.0</td>\n",
       "      <td>0.0</td>\n",
       "      <td>0.0</td>\n",
       "      <td>0.0</td>\n",
       "      <td>0.0</td>\n",
       "      <td>0.0</td>\n",
       "      <td>0.0</td>\n",
       "      <td>0.000000</td>\n",
       "      <td>0.0</td>\n",
       "      <td>0.0</td>\n",
       "      <td>0.0</td>\n",
       "      <td>0.0</td>\n",
       "      <td>0.0</td>\n",
       "      <td>0.0</td>\n",
       "      <td>0.0</td>\n",
       "      <td>0.0</td>\n",
       "      <td>0.0</td>\n",
       "      <td>0.210376</td>\n",
       "      <td>0.000000</td>\n",
       "      <td>0.0</td>\n",
       "    </tr>\n",
       "  </tbody>\n",
       "</table>\n",
       "</div>"
      ],
      "text/plain": [
       "                                                    dark  nutmeg  yello  \\\n",
       "Describe                                                                  \n",
       "Vanilla pre mix, gel, oil, water, egg yolks, le...   0.0     0.0    0.0   \n",
       "unsalted butter, brown sugar, chocolate, chocol...   0.0     0.0    0.0   \n",
       "all-purpose flour, clarified butter (ghee), wat...   0.0     0.0    0.0   \n",
       "jeera whole, coriander seeds, kashmiri chilly, ...   0.0     0.0    0.0   \n",
       "red lentils or masoor dal (half-boiled), potato...   0.0     0.0    0.0   \n",
       "\n",
       "                                                    buffalo  fillet  \\\n",
       "Describe                                                              \n",
       "Vanilla pre mix, gel, oil, water, egg yolks, le...      0.0     0.0   \n",
       "unsalted butter, brown sugar, chocolate, chocol...      0.0     0.0   \n",
       "all-purpose flour, clarified butter (ghee), wat...      0.0     0.0   \n",
       "jeera whole, coriander seeds, kashmiri chilly, ...      0.0     0.0   \n",
       "red lentils or masoor dal (half-boiled), potato...      0.0     0.0   \n",
       "\n",
       "                                                    coverture  crepe  \\\n",
       "Describe                                                               \n",
       "Vanilla pre mix, gel, oil, water, egg yolks, le...        0.0    0.0   \n",
       "unsalted butter, brown sugar, chocolate, chocol...        0.0    0.0   \n",
       "all-purpose flour, clarified butter (ghee), wat...        0.0    0.0   \n",
       "jeera whole, coriander seeds, kashmiri chilly, ...        0.0    0.0   \n",
       "red lentils or masoor dal (half-boiled), potato...        0.0    0.0   \n",
       "\n",
       "                                                       kokum  cook  coriender  \\\n",
       "Describe                                                                        \n",
       "Vanilla pre mix, gel, oil, water, egg yolks, le...  0.000000   0.0        0.0   \n",
       "unsalted butter, brown sugar, chocolate, chocol...  0.000000   0.0        0.0   \n",
       "all-purpose flour, clarified butter (ghee), wat...  0.000000   0.0        0.0   \n",
       "jeera whole, coriander seeds, kashmiri chilly, ...  0.166181   0.0        0.0   \n",
       "red lentils or masoor dal (half-boiled), potato...  0.000000   0.0        0.0   \n",
       "\n",
       "                                                    asaian  sour  iceberg  \\\n",
       "Describe                                                                    \n",
       "Vanilla pre mix, gel, oil, water, egg yolks, le...     0.0   0.0      0.0   \n",
       "unsalted butter, brown sugar, chocolate, chocol...     0.0   0.0      0.0   \n",
       "all-purpose flour, clarified butter (ghee), wat...     0.0   0.0      0.0   \n",
       "jeera whole, coriander seeds, kashmiri chilly, ...     0.0   0.0      0.0   \n",
       "red lentils or masoor dal (half-boiled), potato...     0.0   0.0      0.0   \n",
       "\n",
       "                                                    flesh  mozzarella  \\\n",
       "Describe                                                                \n",
       "Vanilla pre mix, gel, oil, water, egg yolks, le...    0.0         0.0   \n",
       "unsalted butter, brown sugar, chocolate, chocol...    0.0         0.0   \n",
       "all-purpose flour, clarified butter (ghee), wat...    0.0         0.0   \n",
       "jeera whole, coriander seeds, kashmiri chilly, ...    0.0         0.0   \n",
       "red lentils or masoor dal (half-boiled), potato...    0.0         0.0   \n",
       "\n",
       "                                                    littleneck  papper  \\\n",
       "Describe                                                                 \n",
       "Vanilla pre mix, gel, oil, water, egg yolks, le...         0.0     0.0   \n",
       "unsalted butter, brown sugar, chocolate, chocol...         0.0     0.0   \n",
       "all-purpose flour, clarified butter (ghee), wat...         0.0     0.0   \n",
       "jeera whole, coriander seeds, kashmiri chilly, ...         0.0     0.0   \n",
       "red lentils or masoor dal (half-boiled), potato...         0.0     0.0   \n",
       "\n",
       "                                                       sattu  tomatoes  whisky  \n",
       "Describe                                                                        \n",
       "Vanilla pre mix, gel, oil, water, egg yolks, le...  0.000000  0.000000     0.0  \n",
       "unsalted butter, brown sugar, chocolate, chocol...  0.000000  0.000000     0.0  \n",
       "all-purpose flour, clarified butter (ghee), wat...  0.000000  0.000000     0.0  \n",
       "jeera whole, coriander seeds, kashmiri chilly, ...  0.000000  0.098531     0.0  \n",
       "red lentils or masoor dal (half-boiled), potato...  0.210376  0.000000     0.0  "
      ]
     },
     "execution_count": 44,
     "metadata": {},
     "output_type": "execute_result"
    }
   ],
   "source": [
    "pd.DataFrame(tfidf_matrix.todense(),\n",
    "             columns=teks,\n",
    "             index=content_based_df.Describe\n",
    "             ).sample(20, axis=1).sample(5, axis=0)"
   ]
  },
  {
   "cell_type": "markdown",
   "metadata": {},
   "source": [
    "### Collaborative Filtering"
   ]
  },
  {
   "cell_type": "markdown",
   "metadata": {},
   "source": [
    "Membuat variable baru untuk memudahkan dalam proses selanjutnya serta memudahkan pemeliharaan data:"
   ]
  },
  {
   "cell_type": "code",
   "execution_count": 45,
   "metadata": {},
   "outputs": [
    {
     "data": {
      "text/html": [
       "<div>\n",
       "<style scoped>\n",
       "    .dataframe tbody tr th:only-of-type {\n",
       "        vertical-align: middle;\n",
       "    }\n",
       "\n",
       "    .dataframe tbody tr th {\n",
       "        vertical-align: top;\n",
       "    }\n",
       "\n",
       "    .dataframe thead th {\n",
       "        text-align: right;\n",
       "    }\n",
       "</style>\n",
       "<table border=\"1\" class=\"dataframe\">\n",
       "  <thead>\n",
       "    <tr style=\"text-align: right;\">\n",
       "      <th></th>\n",
       "      <th>User_ID</th>\n",
       "      <th>Food_ID</th>\n",
       "      <th>Rating</th>\n",
       "    </tr>\n",
       "  </thead>\n",
       "  <tbody>\n",
       "    <tr>\n",
       "      <th>0</th>\n",
       "      <td>1.0</td>\n",
       "      <td>88.0</td>\n",
       "      <td>4.0</td>\n",
       "    </tr>\n",
       "    <tr>\n",
       "      <th>1</th>\n",
       "      <td>1.0</td>\n",
       "      <td>46.0</td>\n",
       "      <td>3.0</td>\n",
       "    </tr>\n",
       "    <tr>\n",
       "      <th>2</th>\n",
       "      <td>1.0</td>\n",
       "      <td>24.0</td>\n",
       "      <td>5.0</td>\n",
       "    </tr>\n",
       "    <tr>\n",
       "      <th>3</th>\n",
       "      <td>1.0</td>\n",
       "      <td>25.0</td>\n",
       "      <td>4.0</td>\n",
       "    </tr>\n",
       "    <tr>\n",
       "      <th>4</th>\n",
       "      <td>2.0</td>\n",
       "      <td>49.0</td>\n",
       "      <td>1.0</td>\n",
       "    </tr>\n",
       "  </tbody>\n",
       "</table>\n",
       "</div>"
      ],
      "text/plain": [
       "   User_ID  Food_ID  Rating\n",
       "0      1.0     88.0     4.0\n",
       "1      1.0     46.0     3.0\n",
       "2      1.0     24.0     5.0\n",
       "3      1.0     25.0     4.0\n",
       "4      2.0     49.0     1.0"
      ]
     },
     "execution_count": 45,
     "metadata": {},
     "output_type": "execute_result"
    }
   ],
   "source": [
    "collaborative_df = rating_df\n",
    "\n",
    "collaborative_df.head()"
   ]
  },
  {
   "cell_type": "markdown",
   "metadata": {},
   "source": [
    "Check data:"
   ]
  },
  {
   "cell_type": "code",
   "execution_count": 46,
   "metadata": {},
   "outputs": [
    {
     "name": "stdout",
     "output_type": "stream",
     "text": [
      "<class 'pandas.core.frame.DataFrame'>\n",
      "Index: 511 entries, 0 to 510\n",
      "Data columns (total 3 columns):\n",
      " #   Column   Non-Null Count  Dtype  \n",
      "---  ------   --------------  -----  \n",
      " 0   User_ID  511 non-null    float64\n",
      " 1   Food_ID  511 non-null    float64\n",
      " 2   Rating   511 non-null    float64\n",
      "dtypes: float64(3)\n",
      "memory usage: 16.0 KB\n"
     ]
    }
   ],
   "source": [
    "collaborative_df.info()"
   ]
  },
  {
   "cell_type": "markdown",
   "metadata": {},
   "source": [
    "#### Features Encoding"
   ]
  },
  {
   "cell_type": "markdown",
   "metadata": {},
   "source": [
    "Melakukan encoding terhadap data Food_ID:"
   ]
  },
  {
   "cell_type": "code",
   "execution_count": 48,
   "metadata": {},
   "outputs": [
    {
     "name": "stdout",
     "output_type": "stream",
     "text": [
      "list Food_ID:  [88.0, 46.0, 24.0, 25.0, 49.0, 33.0, 106.0, 71.0, 73.0, 110.0, 168.0, 201.0, 209.0, 65.0, 292.0, 299.0, 14.0, 141.0, 170.0, 212.0, 128.0, 21.0, 52.0, 64.0, 198.0, 241.0, 8.0, 27.0, 22.0, 185.0, 207.0, 213.0, 131.0, 109.0, 116.0, 220.0, 31.0, 101.0, 138.0, 140.0, 242.0, 224.0, 163.0, 15.0, 60.0, 91.0, 2.0, 180.0, 182.0, 184.0, 244.0, 70.0, 44.0, 227.0, 100.0, 250.0, 35.0, 154.0, 258.0, 200.0, 274.0, 48.0, 38.0, 169.0, 74.0, 127.0, 17.0, 51.0, 87.0, 134.0, 267.0, 272.0, 29.0, 130.0, 149.0, 43.0, 214.0, 238.0, 243.0, 10.0, 270.0, 282.0, 291.0, 23.0, 58.0, 114.0, 251.0, 278.0, 7.0, 18.0, 133.0, 153.0, 37.0, 9.0, 11.0, 211.0, 249.0, 84.0, 261.0, 13.0, 42.0, 126.0, 230.0, 280.0, 165.0, 53.0, 275.0, 26.0, 223.0, 193.0, 55.0, 63.0, 57.0, 178.0, 287.0, 104.0, 45.0, 161.0, 273.0, 86.0, 54.0, 279.0, 162.0, 50.0, 5.0, 34.0, 281.0, 300.0, 304.0, 80.0, 129.0, 150.0, 188.0, 232.0, 240.0, 264.0, 285.0, 32.0, 39.0, 94.0, 263.0, 143.0, 290.0, 309.0, 166.0, 248.0, 12.0, 28.0, 147.0, 68.0, 96.0, 155.0, 16.0, 19.0, 98.0, 191.0, 218.0, 283.0, 160.0, 186.0, 30.0, 175.0, 195.0, 256.0, 111.0, 4.0, 259.0, 196.0, 284.0, 294.0, 296.0, 6.0, 72.0, 85.0, 174.0, 245.0, 295.0, 47.0, 108.0, 181.0, 208.0, 236.0, 102.0, 59.0, 136.0, 62.0, 225.0, 199.0, 119.0, 172.0, 1.0, 77.0, 139.0, 171.0, 205.0, 276.0, 81.0, 95.0, 158.0, 167.0, 151.0, 187.0, 69.0, 254.0, 268.0, 189.0, 190.0, 226.0, 113.0, 146.0, 204.0, 255.0, 301.0, 90.0, 121.0, 117.0, 288.0, 289.0, 298.0, 305.0, 78.0, 75.0, 164.0, 67.0, 271.0, 137.0, 99.0, 145.0, 239.0, 107.0, 221.0, 144.0, 177.0, 118.0, 124.0, 157.0, 183.0, 265.0, 215.0, 61.0, 269.0, 303.0, 92.0, 192.0, 156.0, 203.0, 252.0, 76.0, 142.0, 179.0, 219.0, 83.0, 122.0, 262.0, 56.0, 277.0, 206.0, 307.0, 222.0, 135.0, 234.0, 132.0, 115.0, 216.0, 3.0, 20.0, 123.0, 228.0, 246.0, 302.0, 36.0, 173.0, 66.0, 103.0, 112.0, 257.0, 306.0, 197.0, 286.0, 229.0, 235.0, 41.0, 79.0, 253.0, 202.0, 159.0, 237.0, 260.0, 210.0, 120.0, 148.0, 176.0, 231.0, 247.0, 105.0, 125.0, 266.0, 297.0, 89.0, 97.0, 293.0, 308.0, 40.0, 82.0, 194.0, 217.0, 93.0, 152.0, 233.0]\n",
      "encoded Food_ID:  {88.0: 0, 46.0: 1, 24.0: 2, 25.0: 3, 49.0: 4, 33.0: 5, 106.0: 6, 71.0: 7, 73.0: 8, 110.0: 9, 168.0: 10, 201.0: 11, 209.0: 12, 65.0: 13, 292.0: 14, 299.0: 15, 14.0: 16, 141.0: 17, 170.0: 18, 212.0: 19, 128.0: 20, 21.0: 21, 52.0: 22, 64.0: 23, 198.0: 24, 241.0: 25, 8.0: 26, 27.0: 27, 22.0: 28, 185.0: 29, 207.0: 30, 213.0: 31, 131.0: 32, 109.0: 33, 116.0: 34, 220.0: 35, 31.0: 36, 101.0: 37, 138.0: 38, 140.0: 39, 242.0: 40, 224.0: 41, 163.0: 42, 15.0: 43, 60.0: 44, 91.0: 45, 2.0: 46, 180.0: 47, 182.0: 48, 184.0: 49, 244.0: 50, 70.0: 51, 44.0: 52, 227.0: 53, 100.0: 54, 250.0: 55, 35.0: 56, 154.0: 57, 258.0: 58, 200.0: 59, 274.0: 60, 48.0: 61, 38.0: 62, 169.0: 63, 74.0: 64, 127.0: 65, 17.0: 66, 51.0: 67, 87.0: 68, 134.0: 69, 267.0: 70, 272.0: 71, 29.0: 72, 130.0: 73, 149.0: 74, 43.0: 75, 214.0: 76, 238.0: 77, 243.0: 78, 10.0: 79, 270.0: 80, 282.0: 81, 291.0: 82, 23.0: 83, 58.0: 84, 114.0: 85, 251.0: 86, 278.0: 87, 7.0: 88, 18.0: 89, 133.0: 90, 153.0: 91, 37.0: 92, 9.0: 93, 11.0: 94, 211.0: 95, 249.0: 96, 84.0: 97, 261.0: 98, 13.0: 99, 42.0: 100, 126.0: 101, 230.0: 102, 280.0: 103, 165.0: 104, 53.0: 105, 275.0: 106, 26.0: 107, 223.0: 108, 193.0: 109, 55.0: 110, 63.0: 111, 57.0: 112, 178.0: 113, 287.0: 114, 104.0: 115, 45.0: 116, 161.0: 117, 273.0: 118, 86.0: 119, 54.0: 120, 279.0: 121, 162.0: 122, 50.0: 123, 5.0: 124, 34.0: 125, 281.0: 126, 300.0: 127, 304.0: 128, 80.0: 129, 129.0: 130, 150.0: 131, 188.0: 132, 232.0: 133, 240.0: 134, 264.0: 135, 285.0: 136, 32.0: 137, 39.0: 138, 94.0: 139, 263.0: 140, 143.0: 141, 290.0: 142, 309.0: 143, 166.0: 144, 248.0: 145, 12.0: 146, 28.0: 147, 147.0: 148, 68.0: 149, 96.0: 150, 155.0: 151, 16.0: 152, 19.0: 153, 98.0: 154, 191.0: 155, 218.0: 156, 283.0: 157, 160.0: 158, 186.0: 159, 30.0: 160, 175.0: 161, 195.0: 162, 256.0: 163, 111.0: 164, 4.0: 165, 259.0: 166, 196.0: 167, 284.0: 168, 294.0: 169, 296.0: 170, 6.0: 171, 72.0: 172, 85.0: 173, 174.0: 174, 245.0: 175, 295.0: 176, 47.0: 177, 108.0: 178, 181.0: 179, 208.0: 180, 236.0: 181, 102.0: 182, 59.0: 183, 136.0: 184, 62.0: 185, 225.0: 186, 199.0: 187, 119.0: 188, 172.0: 189, 1.0: 190, 77.0: 191, 139.0: 192, 171.0: 193, 205.0: 194, 276.0: 195, 81.0: 196, 95.0: 197, 158.0: 198, 167.0: 199, 151.0: 200, 187.0: 201, 69.0: 202, 254.0: 203, 268.0: 204, 189.0: 205, 190.0: 206, 226.0: 207, 113.0: 208, 146.0: 209, 204.0: 210, 255.0: 211, 301.0: 212, 90.0: 213, 121.0: 214, 117.0: 215, 288.0: 216, 289.0: 217, 298.0: 218, 305.0: 219, 78.0: 220, 75.0: 221, 164.0: 222, 67.0: 223, 271.0: 224, 137.0: 225, 99.0: 226, 145.0: 227, 239.0: 228, 107.0: 229, 221.0: 230, 144.0: 231, 177.0: 232, 118.0: 233, 124.0: 234, 157.0: 235, 183.0: 236, 265.0: 237, 215.0: 238, 61.0: 239, 269.0: 240, 303.0: 241, 92.0: 242, 192.0: 243, 156.0: 244, 203.0: 245, 252.0: 246, 76.0: 247, 142.0: 248, 179.0: 249, 219.0: 250, 83.0: 251, 122.0: 252, 262.0: 253, 56.0: 254, 277.0: 255, 206.0: 256, 307.0: 257, 222.0: 258, 135.0: 259, 234.0: 260, 132.0: 261, 115.0: 262, 216.0: 263, 3.0: 264, 20.0: 265, 123.0: 266, 228.0: 267, 246.0: 268, 302.0: 269, 36.0: 270, 173.0: 271, 66.0: 272, 103.0: 273, 112.0: 274, 257.0: 275, 306.0: 276, 197.0: 277, 286.0: 278, 229.0: 279, 235.0: 280, 41.0: 281, 79.0: 282, 253.0: 283, 202.0: 284, 159.0: 285, 237.0: 286, 260.0: 287, 210.0: 288, 120.0: 289, 148.0: 290, 176.0: 291, 231.0: 292, 247.0: 293, 105.0: 294, 125.0: 295, 266.0: 296, 297.0: 297, 89.0: 298, 97.0: 299, 293.0: 300, 308.0: 301, 40.0: 302, 82.0: 303, 194.0: 304, 217.0: 305, 93.0: 306, 152.0: 307, 233.0: 308}\n",
      "encoded angka ke Food_ID:  {0: 88.0, 1: 46.0, 2: 24.0, 3: 25.0, 4: 49.0, 5: 33.0, 6: 106.0, 7: 71.0, 8: 73.0, 9: 110.0, 10: 168.0, 11: 201.0, 12: 209.0, 13: 65.0, 14: 292.0, 15: 299.0, 16: 14.0, 17: 141.0, 18: 170.0, 19: 212.0, 20: 128.0, 21: 21.0, 22: 52.0, 23: 64.0, 24: 198.0, 25: 241.0, 26: 8.0, 27: 27.0, 28: 22.0, 29: 185.0, 30: 207.0, 31: 213.0, 32: 131.0, 33: 109.0, 34: 116.0, 35: 220.0, 36: 31.0, 37: 101.0, 38: 138.0, 39: 140.0, 40: 242.0, 41: 224.0, 42: 163.0, 43: 15.0, 44: 60.0, 45: 91.0, 46: 2.0, 47: 180.0, 48: 182.0, 49: 184.0, 50: 244.0, 51: 70.0, 52: 44.0, 53: 227.0, 54: 100.0, 55: 250.0, 56: 35.0, 57: 154.0, 58: 258.0, 59: 200.0, 60: 274.0, 61: 48.0, 62: 38.0, 63: 169.0, 64: 74.0, 65: 127.0, 66: 17.0, 67: 51.0, 68: 87.0, 69: 134.0, 70: 267.0, 71: 272.0, 72: 29.0, 73: 130.0, 74: 149.0, 75: 43.0, 76: 214.0, 77: 238.0, 78: 243.0, 79: 10.0, 80: 270.0, 81: 282.0, 82: 291.0, 83: 23.0, 84: 58.0, 85: 114.0, 86: 251.0, 87: 278.0, 88: 7.0, 89: 18.0, 90: 133.0, 91: 153.0, 92: 37.0, 93: 9.0, 94: 11.0, 95: 211.0, 96: 249.0, 97: 84.0, 98: 261.0, 99: 13.0, 100: 42.0, 101: 126.0, 102: 230.0, 103: 280.0, 104: 165.0, 105: 53.0, 106: 275.0, 107: 26.0, 108: 223.0, 109: 193.0, 110: 55.0, 111: 63.0, 112: 57.0, 113: 178.0, 114: 287.0, 115: 104.0, 116: 45.0, 117: 161.0, 118: 273.0, 119: 86.0, 120: 54.0, 121: 279.0, 122: 162.0, 123: 50.0, 124: 5.0, 125: 34.0, 126: 281.0, 127: 300.0, 128: 304.0, 129: 80.0, 130: 129.0, 131: 150.0, 132: 188.0, 133: 232.0, 134: 240.0, 135: 264.0, 136: 285.0, 137: 32.0, 138: 39.0, 139: 94.0, 140: 263.0, 141: 143.0, 142: 290.0, 143: 309.0, 144: 166.0, 145: 248.0, 146: 12.0, 147: 28.0, 148: 147.0, 149: 68.0, 150: 96.0, 151: 155.0, 152: 16.0, 153: 19.0, 154: 98.0, 155: 191.0, 156: 218.0, 157: 283.0, 158: 160.0, 159: 186.0, 160: 30.0, 161: 175.0, 162: 195.0, 163: 256.0, 164: 111.0, 165: 4.0, 166: 259.0, 167: 196.0, 168: 284.0, 169: 294.0, 170: 296.0, 171: 6.0, 172: 72.0, 173: 85.0, 174: 174.0, 175: 245.0, 176: 295.0, 177: 47.0, 178: 108.0, 179: 181.0, 180: 208.0, 181: 236.0, 182: 102.0, 183: 59.0, 184: 136.0, 185: 62.0, 186: 225.0, 187: 199.0, 188: 119.0, 189: 172.0, 190: 1.0, 191: 77.0, 192: 139.0, 193: 171.0, 194: 205.0, 195: 276.0, 196: 81.0, 197: 95.0, 198: 158.0, 199: 167.0, 200: 151.0, 201: 187.0, 202: 69.0, 203: 254.0, 204: 268.0, 205: 189.0, 206: 190.0, 207: 226.0, 208: 113.0, 209: 146.0, 210: 204.0, 211: 255.0, 212: 301.0, 213: 90.0, 214: 121.0, 215: 117.0, 216: 288.0, 217: 289.0, 218: 298.0, 219: 305.0, 220: 78.0, 221: 75.0, 222: 164.0, 223: 67.0, 224: 271.0, 225: 137.0, 226: 99.0, 227: 145.0, 228: 239.0, 229: 107.0, 230: 221.0, 231: 144.0, 232: 177.0, 233: 118.0, 234: 124.0, 235: 157.0, 236: 183.0, 237: 265.0, 238: 215.0, 239: 61.0, 240: 269.0, 241: 303.0, 242: 92.0, 243: 192.0, 244: 156.0, 245: 203.0, 246: 252.0, 247: 76.0, 248: 142.0, 249: 179.0, 250: 219.0, 251: 83.0, 252: 122.0, 253: 262.0, 254: 56.0, 255: 277.0, 256: 206.0, 257: 307.0, 258: 222.0, 259: 135.0, 260: 234.0, 261: 132.0, 262: 115.0, 263: 216.0, 264: 3.0, 265: 20.0, 266: 123.0, 267: 228.0, 268: 246.0, 269: 302.0, 270: 36.0, 271: 173.0, 272: 66.0, 273: 103.0, 274: 112.0, 275: 257.0, 276: 306.0, 277: 197.0, 278: 286.0, 279: 229.0, 280: 235.0, 281: 41.0, 282: 79.0, 283: 253.0, 284: 202.0, 285: 159.0, 286: 237.0, 287: 260.0, 288: 210.0, 289: 120.0, 290: 148.0, 291: 176.0, 292: 231.0, 293: 247.0, 294: 105.0, 295: 125.0, 296: 266.0, 297: 297.0, 298: 89.0, 299: 97.0, 300: 293.0, 301: 308.0, 302: 40.0, 303: 82.0, 304: 194.0, 305: 217.0, 306: 93.0, 307: 152.0, 308: 233.0}\n"
     ]
    }
   ],
   "source": [
    "# Mengubah recipe_id menjadi list tanpa nilai yang sama\n",
    "food_ids = collaborative_df[\"Food_ID\"].unique().tolist()\n",
    "print(\"list Food_ID: \", food_ids)\n",
    "\n",
    "# Melakukan encoding terhadap recipe_id\n",
    "food_to_food_encoded = {x: i for i, x in enumerate(food_ids)}\n",
    "print(\"encoded Food_ID: \", food_to_food_encoded)\n",
    "\n",
    "# Melakukan proses encoding angka ke recipe_id\n",
    "food_encoded_to_food = {i: x for i, x in enumerate(food_ids)}\n",
    "print(\"encoded angka ke Food_ID: \", food_encoded_to_food)"
   ]
  },
  {
   "cell_type": "markdown",
   "metadata": {},
   "source": [
    "Melakukan encoding terhadap data User_ID:"
   ]
  },
  {
   "cell_type": "code",
   "execution_count": 49,
   "metadata": {},
   "outputs": [
    {
     "name": "stdout",
     "output_type": "stream",
     "text": [
      "list User_ID:  [1.0, 2.0, 3.0, 4.0, 5.0, 6.0, 7.0, 8.0, 9.0, 10.0, 11.0, 12.0, 13.0, 14.0, 15.0, 16.0, 17.0, 18.0, 19.0, 20.0, 21.0, 22.0, 23.0, 24.0, 25.0, 26.0, 27.0, 28.0, 29.0, 30.0, 31.0, 32.0, 33.0, 34.0, 35.0, 36.0, 37.0, 38.0, 39.0, 40.0, 41.0, 42.0, 43.0, 44.0, 45.0, 46.0, 47.0, 48.0, 49.0, 50.0, 51.0, 52.0, 53.0, 54.0, 55.0, 56.0, 57.0, 58.0, 59.0, 60.0, 61.0, 62.0, 63.0, 64.0, 65.0, 66.0, 67.0, 68.0, 69.0, 70.0, 71.0, 72.0, 73.0, 74.0, 75.0, 76.0, 77.0, 78.0, 79.0, 80.0, 81.0, 82.0, 83.0, 84.0, 85.0, 86.0, 87.0, 88.0, 89.0, 90.0, 91.0, 92.0, 93.0, 94.0, 95.0, 96.0, 97.0, 98.0, 99.0, 100.0]\n",
      "encoded User_ID:  {1.0: 0, 2.0: 1, 3.0: 2, 4.0: 3, 5.0: 4, 6.0: 5, 7.0: 6, 8.0: 7, 9.0: 8, 10.0: 9, 11.0: 10, 12.0: 11, 13.0: 12, 14.0: 13, 15.0: 14, 16.0: 15, 17.0: 16, 18.0: 17, 19.0: 18, 20.0: 19, 21.0: 20, 22.0: 21, 23.0: 22, 24.0: 23, 25.0: 24, 26.0: 25, 27.0: 26, 28.0: 27, 29.0: 28, 30.0: 29, 31.0: 30, 32.0: 31, 33.0: 32, 34.0: 33, 35.0: 34, 36.0: 35, 37.0: 36, 38.0: 37, 39.0: 38, 40.0: 39, 41.0: 40, 42.0: 41, 43.0: 42, 44.0: 43, 45.0: 44, 46.0: 45, 47.0: 46, 48.0: 47, 49.0: 48, 50.0: 49, 51.0: 50, 52.0: 51, 53.0: 52, 54.0: 53, 55.0: 54, 56.0: 55, 57.0: 56, 58.0: 57, 59.0: 58, 60.0: 59, 61.0: 60, 62.0: 61, 63.0: 62, 64.0: 63, 65.0: 64, 66.0: 65, 67.0: 66, 68.0: 67, 69.0: 68, 70.0: 69, 71.0: 70, 72.0: 71, 73.0: 72, 74.0: 73, 75.0: 74, 76.0: 75, 77.0: 76, 78.0: 77, 79.0: 78, 80.0: 79, 81.0: 80, 82.0: 81, 83.0: 82, 84.0: 83, 85.0: 84, 86.0: 85, 87.0: 86, 88.0: 87, 89.0: 88, 90.0: 89, 91.0: 90, 92.0: 91, 93.0: 92, 94.0: 93, 95.0: 94, 96.0: 95, 97.0: 96, 98.0: 97, 99.0: 98, 100.0: 99}\n",
      "encoded angka ke User_ID:  {0: 1.0, 1: 2.0, 2: 3.0, 3: 4.0, 4: 5.0, 5: 6.0, 6: 7.0, 7: 8.0, 8: 9.0, 9: 10.0, 10: 11.0, 11: 12.0, 12: 13.0, 13: 14.0, 14: 15.0, 15: 16.0, 16: 17.0, 17: 18.0, 18: 19.0, 19: 20.0, 20: 21.0, 21: 22.0, 22: 23.0, 23: 24.0, 24: 25.0, 25: 26.0, 26: 27.0, 27: 28.0, 28: 29.0, 29: 30.0, 30: 31.0, 31: 32.0, 32: 33.0, 33: 34.0, 34: 35.0, 35: 36.0, 36: 37.0, 37: 38.0, 38: 39.0, 39: 40.0, 40: 41.0, 41: 42.0, 42: 43.0, 43: 44.0, 44: 45.0, 45: 46.0, 46: 47.0, 47: 48.0, 48: 49.0, 49: 50.0, 50: 51.0, 51: 52.0, 52: 53.0, 53: 54.0, 54: 55.0, 55: 56.0, 56: 57.0, 57: 58.0, 58: 59.0, 59: 60.0, 60: 61.0, 61: 62.0, 62: 63.0, 63: 64.0, 64: 65.0, 65: 66.0, 66: 67.0, 67: 68.0, 68: 69.0, 69: 70.0, 70: 71.0, 71: 72.0, 72: 73.0, 73: 74.0, 74: 75.0, 75: 76.0, 76: 77.0, 77: 78.0, 78: 79.0, 79: 80.0, 80: 81.0, 81: 82.0, 82: 83.0, 83: 84.0, 84: 85.0, 85: 86.0, 86: 87.0, 87: 88.0, 88: 89.0, 89: 90.0, 90: 91.0, 91: 92.0, 92: 93.0, 93: 94.0, 94: 95.0, 95: 96.0, 96: 97.0, 97: 98.0, 98: 99.0, 99: 100.0}\n"
     ]
    }
   ],
   "source": [
    "# Mengubah user_id menjadi list tanpa nilai yang sama\n",
    "user_ids = collaborative_df[\"User_ID\"].unique().tolist()\n",
    "print(\"list User_ID: \", user_ids)\n",
    "\n",
    "# Melakukan encoding terhadap user_id\n",
    "user_to_user_encoded = {x: i for i, x in enumerate(user_ids)}\n",
    "print(\"encoded User_ID: \", user_to_user_encoded)\n",
    "\n",
    "# Melakukan proses encoding angka ke user_id\n",
    "user_encoded_to_user = {i: x for i, x in enumerate(user_ids)}\n",
    "print(\"encoded angka ke User_ID: \", user_encoded_to_user)"
   ]
  },
  {
   "cell_type": "markdown",
   "metadata": {},
   "source": [
    "Memetakan recipe_id dan user_id yang telah diproses ke dataframe yang berkaitan:"
   ]
  },
  {
   "cell_type": "code",
   "execution_count": 50,
   "metadata": {},
   "outputs": [],
   "source": [
    "# Mapping recipe_id ke dataframe recipe\n",
    "collaborative_df['food'] = collaborative_df['Food_ID'].map(food_to_food_encoded)\n",
    "\n",
    "# Mapping user_id ke dataframe user\n",
    "collaborative_df['user'] = collaborative_df['User_ID'].map(user_to_user_encoded)"
   ]
  },
  {
   "cell_type": "markdown",
   "metadata": {},
   "source": [
    "Check data:"
   ]
  },
  {
   "cell_type": "code",
   "execution_count": 51,
   "metadata": {},
   "outputs": [
    {
     "name": "stdout",
     "output_type": "stream",
     "text": [
      "<class 'pandas.core.frame.DataFrame'>\n",
      "Index: 511 entries, 0 to 510\n",
      "Data columns (total 5 columns):\n",
      " #   Column   Non-Null Count  Dtype  \n",
      "---  ------   --------------  -----  \n",
      " 0   User_ID  511 non-null    float64\n",
      " 1   Food_ID  511 non-null    float64\n",
      " 2   Rating   511 non-null    float64\n",
      " 3   food     511 non-null    int64  \n",
      " 4   user     511 non-null    int64  \n",
      "dtypes: float64(3), int64(2)\n",
      "memory usage: 24.0 KB\n"
     ]
    }
   ],
   "source": [
    "collaborative_df.info()"
   ]
  },
  {
   "cell_type": "code",
   "execution_count": 52,
   "metadata": {},
   "outputs": [
    {
     "data": {
      "text/html": [
       "<div>\n",
       "<style scoped>\n",
       "    .dataframe tbody tr th:only-of-type {\n",
       "        vertical-align: middle;\n",
       "    }\n",
       "\n",
       "    .dataframe tbody tr th {\n",
       "        vertical-align: top;\n",
       "    }\n",
       "\n",
       "    .dataframe thead th {\n",
       "        text-align: right;\n",
       "    }\n",
       "</style>\n",
       "<table border=\"1\" class=\"dataframe\">\n",
       "  <thead>\n",
       "    <tr style=\"text-align: right;\">\n",
       "      <th></th>\n",
       "      <th>User_ID</th>\n",
       "      <th>Food_ID</th>\n",
       "      <th>Rating</th>\n",
       "      <th>food</th>\n",
       "      <th>user</th>\n",
       "    </tr>\n",
       "  </thead>\n",
       "  <tbody>\n",
       "    <tr>\n",
       "      <th>0</th>\n",
       "      <td>1.0</td>\n",
       "      <td>88.0</td>\n",
       "      <td>4.0</td>\n",
       "      <td>0</td>\n",
       "      <td>0</td>\n",
       "    </tr>\n",
       "    <tr>\n",
       "      <th>1</th>\n",
       "      <td>1.0</td>\n",
       "      <td>46.0</td>\n",
       "      <td>3.0</td>\n",
       "      <td>1</td>\n",
       "      <td>0</td>\n",
       "    </tr>\n",
       "    <tr>\n",
       "      <th>2</th>\n",
       "      <td>1.0</td>\n",
       "      <td>24.0</td>\n",
       "      <td>5.0</td>\n",
       "      <td>2</td>\n",
       "      <td>0</td>\n",
       "    </tr>\n",
       "    <tr>\n",
       "      <th>3</th>\n",
       "      <td>1.0</td>\n",
       "      <td>25.0</td>\n",
       "      <td>4.0</td>\n",
       "      <td>3</td>\n",
       "      <td>0</td>\n",
       "    </tr>\n",
       "    <tr>\n",
       "      <th>4</th>\n",
       "      <td>2.0</td>\n",
       "      <td>49.0</td>\n",
       "      <td>1.0</td>\n",
       "      <td>4</td>\n",
       "      <td>1</td>\n",
       "    </tr>\n",
       "  </tbody>\n",
       "</table>\n",
       "</div>"
      ],
      "text/plain": [
       "   User_ID  Food_ID  Rating  food  user\n",
       "0      1.0     88.0     4.0     0     0\n",
       "1      1.0     46.0     3.0     1     0\n",
       "2      1.0     24.0     5.0     2     0\n",
       "3      1.0     25.0     4.0     3     0\n",
       "4      2.0     49.0     1.0     4     1"
      ]
     },
     "execution_count": 52,
     "metadata": {},
     "output_type": "execute_result"
    }
   ],
   "source": [
    "collaborative_df.head()"
   ]
  },
  {
   "cell_type": "markdown",
   "metadata": {},
   "source": [
    "#### Data Normalization"
   ]
  },
  {
   "cell_type": "markdown",
   "metadata": {},
   "source": [
    "Normalisasi data target untuk pelatihan:"
   ]
  },
  {
   "cell_type": "code",
   "execution_count": 63,
   "metadata": {},
   "outputs": [],
   "source": [
    "rating_scaler = MinMaxScaler()\n",
    "\n",
    "collaborative_df['rating'] = rating_scaler.fit_transform(collaborative_df['Rating'].values.reshape(-1, 1)).round(2)"
   ]
  },
  {
   "cell_type": "code",
   "execution_count": 64,
   "metadata": {},
   "outputs": [
    {
     "data": {
      "text/plain": [
       "124    0.44\n",
       "84     0.22\n",
       "433    0.00\n",
       "255    1.00\n",
       "68     0.78\n",
       "       ... \n",
       "106    1.00\n",
       "270    1.00\n",
       "348    0.67\n",
       "435    0.78\n",
       "102    0.89\n",
       "Name: rating, Length: 511, dtype: float64"
      ]
     },
     "execution_count": 64,
     "metadata": {},
     "output_type": "execute_result"
    }
   ],
   "source": [
    "collaborative_df['rating']"
   ]
  },
  {
   "cell_type": "markdown",
   "metadata": {},
   "source": [
    "#### Data Split"
   ]
  },
  {
   "cell_type": "markdown",
   "metadata": {},
   "source": [
    "Data diacak terlebih dahulu agar distribusinya random:"
   ]
  },
  {
   "cell_type": "code",
   "execution_count": 65,
   "metadata": {},
   "outputs": [],
   "source": [
    "collaborative_df = collaborative_df.sample(frac=1, random_state=42)"
   ]
  },
  {
   "cell_type": "markdown",
   "metadata": {},
   "source": [
    "Menentukan fitur dan target:"
   ]
  },
  {
   "cell_type": "code",
   "execution_count": 66,
   "metadata": {},
   "outputs": [],
   "source": [
    "x = collaborative_df[['user', 'food']].values\n",
    "y = collaborative_df['rating'].values"
   ]
  },
  {
   "cell_type": "markdown",
   "metadata": {},
   "source": [
    "Pembagian data ke dalam training set dan validation set:"
   ]
  },
  {
   "cell_type": "code",
   "execution_count": 67,
   "metadata": {},
   "outputs": [
    {
     "name": "stdout",
     "output_type": "stream",
     "text": [
      "[[ 85 286]\n",
      " [ 52 206]\n",
      " [ 79 276]\n",
      " ...\n",
      " [ 45 149]\n",
      " [ 38 162]\n",
      " [ 61  84]] [0.33 1.   0.78 0.   0.89 0.22 0.44 1.   0.78 0.11 0.44 0.33 0.56 0.78\n",
      " 0.78 0.33 0.89 0.11 0.67 0.89 0.11 0.22 0.78 0.44 0.44 0.44 0.78 1.\n",
      " 0.89 0.89 0.33 0.33 0.89 0.11 1.   0.44 1.   0.22 0.44 0.44 0.78 0.22\n",
      " 0.89 1.   0.22 0.67 1.   0.22 0.   0.56 0.22 0.78 0.67 0.44 0.56 0.\n",
      " 0.78 0.78 0.44 0.67 1.   0.56 0.33 0.11 1.   0.56 0.44 1.   0.22 0.67\n",
      " 0.67 0.   0.56 0.44 0.67 1.   0.67 0.56 1.   1.   0.22 1.   0.22 0.44\n",
      " 0.44 0.22 0.11 1.   0.44 0.56 0.78 0.67 0.11 0.   0.33 0.67 0.89 1.\n",
      " 0.11 0.56 0.67 0.33 0.56 0.44 0.67 0.22 0.44 1.   0.33 0.11 0.44 0.78\n",
      " 0.   0.   0.33 0.44 0.67 0.11 0.44 0.44 0.22 0.11 0.11 0.89 0.89 0.78\n",
      " 0.89 0.44 0.67 0.56 0.44 0.44 1.   0.78 1.   0.44 1.   0.22 0.11 0.33\n",
      " 0.11 1.   0.78 0.33 0.   1.   0.22 0.22 0.44 0.11 0.33 0.56 0.22 0.44\n",
      " 0.22 0.44 0.56 0.22 0.78 0.56 1.   0.   0.44 0.22 0.11 0.44 0.89 1.\n",
      " 0.44 0.11 1.   0.11 0.56 0.44 0.11 0.44 0.22 0.56 0.89 0.44 0.   0.78\n",
      " 0.44 0.56 0.78 0.22 0.67 0.11 1.   0.78 0.67 0.22 0.22 0.33 0.22 0.78\n",
      " 0.11 0.56 0.78 1.   0.11 0.   0.67 0.56 0.44 0.78 0.89 0.11 0.11 0.22\n",
      " 0.   0.   0.   0.44 1.   0.33 0.56 1.   0.67 0.22 1.   0.67 0.89 0.33\n",
      " 0.   0.33 1.   0.67 0.67 0.33 0.89 1.   0.89 0.67 1.   0.67 0.33 0.67\n",
      " 1.   0.67 0.11 0.11 1.   1.   0.56 1.   0.67 0.33 0.   0.56 0.33 0.89\n",
      " 0.33 0.22 0.11 0.89 0.56 0.56 1.   0.33 0.78 0.33 0.33 0.11 0.89 0.\n",
      " 0.67 1.   0.22 0.67 0.89 0.22 0.67 0.22 0.   0.78 0.   0.33 0.22 0.44\n",
      " 0.22 0.   0.67 0.22 1.   0.   0.33 0.33 0.44 0.78 0.22 0.11 0.22 0.56\n",
      " 0.44 0.67 0.89 0.67 0.11 0.11 0.44 0.89 0.22 0.33 0.89 0.   0.44 1.\n",
      " 0.56 0.78 0.   1.   0.44 0.56 0.11 0.11 0.89 0.22 0.22 0.56 0.11 0.22\n",
      " 1.   0.22 1.   0.44 0.67 0.   0.22 0.44 0.   0.78 0.   0.33 0.   0.33\n",
      " 0.67 0.22 0.22 1.   0.78 0.33 0.33 0.56 0.22 0.56 0.22 0.   0.   0.22\n",
      " 0.11 0.78 0.56 0.11 0.22 0.89 0.89 0.   0.33 0.78 0.44 0.56 0.11 0.\n",
      " 1.   0.89 0.89 0.89 0.22 0.56 0.89 0.33 0.33 0.67 1.   0.44 0.   0.11\n",
      " 0.44 0.89 0.56 0.67 0.56 0.78 0.33 0.22 0.89 0.44 0.22 0.33 0.56 0.89\n",
      " 0.   0.67 0.22 0.22 1.   0.89 0.33 0.56 0.67 0.22 0.   0.78 0.33 0.78\n",
      " 0.56 0.   0.11 1.   0.89 1.   0.44 0.11 0.   0.67 0.22 1.   0.67 0.44\n",
      " 0.33 0.78 0.89 0.   0.   0.33 0.33 0.   0.22 0.22 0.67 1.   0.22 0.33\n",
      " 0.67 0.67 1.   0.89 0.   0.56 0.67 0.   0.78 0.67 0.33 0.44 0.   0.11\n",
      " 0.44 0.11 0.44 1.   0.56 1.   0.44 1.   0.22 0.11 0.89 0.44 0.33 0.67\n",
      " 0.33 0.78 0.89 0.44 0.44 1.   1.   0.22 0.33 0.22 0.   0.44 0.11 0.11\n",
      " 0.11 0.78 0.22 0.67 0.78 0.56 0.56 0.22 1.   0.78 0.11 0.56 1.   0.56\n",
      " 0.89 0.44 1.   0.   0.67 0.   0.67 0.56 0.44 0.33 0.   0.   0.89 0.56\n",
      " 0.   0.56 0.56 0.33 0.33 0.33 0.33]\n"
     ]
    }
   ],
   "source": [
    "train_indices = int(0.8 * collaborative_df.shape[0])\n",
    "\n",
    "x_train, x_val, y_train, y_val = (\n",
    "    x[:train_indices],\n",
    "    x[train_indices:],\n",
    "    y[:train_indices],\n",
    "    y[train_indices:]\n",
    ")\n",
    "\n",
    "print(x, y)"
   ]
  },
  {
   "cell_type": "markdown",
   "metadata": {},
   "source": [
    "## Modeling"
   ]
  },
  {
   "cell_type": "markdown",
   "metadata": {},
   "source": [
    "### Cosine Similarity"
   ]
  },
  {
   "cell_type": "code",
   "execution_count": 88,
   "metadata": {},
   "outputs": [],
   "source": [
    "cos_sim = cosine_similarity(tfidf_matrix, tfidf_matrix)"
   ]
  },
  {
   "cell_type": "code",
   "execution_count": 94,
   "metadata": {},
   "outputs": [
    {
     "name": "stdout",
     "output_type": "stream",
     "text": [
      "Shape: (2009, 2009)\n"
     ]
    },
    {
     "data": {
      "text/html": [
       "<div>\n",
       "<style scoped>\n",
       "    .dataframe tbody tr th:only-of-type {\n",
       "        vertical-align: middle;\n",
       "    }\n",
       "\n",
       "    .dataframe tbody tr th {\n",
       "        vertical-align: top;\n",
       "    }\n",
       "\n",
       "    .dataframe thead th {\n",
       "        text-align: right;\n",
       "    }\n",
       "</style>\n",
       "<table border=\"1\" class=\"dataframe\">\n",
       "  <thead>\n",
       "    <tr style=\"text-align: right;\">\n",
       "      <th>name</th>\n",
       "      <th>new  vanishing oatmeal raisin cookies</th>\n",
       "      <th>lunch ladies creamy italian spinach</th>\n",
       "      <th>coffee mousse pie</th>\n",
       "      <th>easy peasy chicken salad</th>\n",
       "      <th>korean lamb chops</th>\n",
       "      <th>piedmont roasted bell peppers</th>\n",
       "      <th>black coffee cake</th>\n",
       "      <th>apple and banana nut muffins</th>\n",
       "      <th>cream cheese hot dogs</th>\n",
       "      <th>u nega gei</th>\n",
       "    </tr>\n",
       "    <tr>\n",
       "      <th>name</th>\n",
       "      <th></th>\n",
       "      <th></th>\n",
       "      <th></th>\n",
       "      <th></th>\n",
       "      <th></th>\n",
       "      <th></th>\n",
       "      <th></th>\n",
       "      <th></th>\n",
       "      <th></th>\n",
       "      <th></th>\n",
       "    </tr>\n",
       "  </thead>\n",
       "  <tbody>\n",
       "    <tr>\n",
       "      <th>chazz s smoke bread  smoke bread</th>\n",
       "      <td>0.0</td>\n",
       "      <td>0.0</td>\n",
       "      <td>0.0</td>\n",
       "      <td>0.0</td>\n",
       "      <td>0.0</td>\n",
       "      <td>0.0</td>\n",
       "      <td>0.0</td>\n",
       "      <td>0.0</td>\n",
       "      <td>0.0</td>\n",
       "      <td>0.0</td>\n",
       "    </tr>\n",
       "    <tr>\n",
       "      <th>andouille burgers with red pepper mayo</th>\n",
       "      <td>0.0</td>\n",
       "      <td>0.0</td>\n",
       "      <td>0.0</td>\n",
       "      <td>0.0</td>\n",
       "      <td>0.0</td>\n",
       "      <td>0.0</td>\n",
       "      <td>0.0</td>\n",
       "      <td>0.0</td>\n",
       "      <td>0.0</td>\n",
       "      <td>0.0</td>\n",
       "    </tr>\n",
       "    <tr>\n",
       "      <th>fabulous icing</th>\n",
       "      <td>1.0</td>\n",
       "      <td>0.0</td>\n",
       "      <td>0.0</td>\n",
       "      <td>0.0</td>\n",
       "      <td>0.0</td>\n",
       "      <td>0.0</td>\n",
       "      <td>0.0</td>\n",
       "      <td>0.0</td>\n",
       "      <td>1.0</td>\n",
       "      <td>0.0</td>\n",
       "    </tr>\n",
       "    <tr>\n",
       "      <th>lori s risotto</th>\n",
       "      <td>0.0</td>\n",
       "      <td>0.0</td>\n",
       "      <td>0.0</td>\n",
       "      <td>0.0</td>\n",
       "      <td>0.0</td>\n",
       "      <td>0.0</td>\n",
       "      <td>0.0</td>\n",
       "      <td>0.0</td>\n",
       "      <td>0.0</td>\n",
       "      <td>0.0</td>\n",
       "    </tr>\n",
       "    <tr>\n",
       "      <th>condiglione  italian tuna salad</th>\n",
       "      <td>0.0</td>\n",
       "      <td>0.0</td>\n",
       "      <td>0.0</td>\n",
       "      <td>0.0</td>\n",
       "      <td>0.0</td>\n",
       "      <td>0.0</td>\n",
       "      <td>0.0</td>\n",
       "      <td>0.0</td>\n",
       "      <td>0.0</td>\n",
       "      <td>0.0</td>\n",
       "    </tr>\n",
       "    <tr>\n",
       "      <th>easy vegetarian lasagne  some assembly required</th>\n",
       "      <td>0.0</td>\n",
       "      <td>0.0</td>\n",
       "      <td>0.0</td>\n",
       "      <td>0.0</td>\n",
       "      <td>0.0</td>\n",
       "      <td>0.0</td>\n",
       "      <td>0.0</td>\n",
       "      <td>0.0</td>\n",
       "      <td>0.0</td>\n",
       "      <td>0.0</td>\n",
       "    </tr>\n",
       "    <tr>\n",
       "      <th>scott peacock s chocolate meringue pie</th>\n",
       "      <td>0.0</td>\n",
       "      <td>0.0</td>\n",
       "      <td>0.0</td>\n",
       "      <td>0.0</td>\n",
       "      <td>0.0</td>\n",
       "      <td>0.0</td>\n",
       "      <td>0.0</td>\n",
       "      <td>0.0</td>\n",
       "      <td>0.0</td>\n",
       "      <td>0.0</td>\n",
       "    </tr>\n",
       "    <tr>\n",
       "      <th>gaspacho  alentejana  gazpacho alentejo s way</th>\n",
       "      <td>0.0</td>\n",
       "      <td>0.0</td>\n",
       "      <td>0.0</td>\n",
       "      <td>0.0</td>\n",
       "      <td>0.0</td>\n",
       "      <td>0.0</td>\n",
       "      <td>0.0</td>\n",
       "      <td>0.0</td>\n",
       "      <td>0.0</td>\n",
       "      <td>0.0</td>\n",
       "    </tr>\n",
       "    <tr>\n",
       "      <th>new potatoes with fresh horseradish sauce  vegan</th>\n",
       "      <td>0.0</td>\n",
       "      <td>0.0</td>\n",
       "      <td>0.0</td>\n",
       "      <td>0.0</td>\n",
       "      <td>0.0</td>\n",
       "      <td>0.0</td>\n",
       "      <td>0.0</td>\n",
       "      <td>0.0</td>\n",
       "      <td>0.0</td>\n",
       "      <td>0.0</td>\n",
       "    </tr>\n",
       "    <tr>\n",
       "      <th>princess cruises fettuccine alfredo</th>\n",
       "      <td>0.0</td>\n",
       "      <td>0.0</td>\n",
       "      <td>0.0</td>\n",
       "      <td>0.0</td>\n",
       "      <td>0.0</td>\n",
       "      <td>0.0</td>\n",
       "      <td>0.0</td>\n",
       "      <td>0.0</td>\n",
       "      <td>0.0</td>\n",
       "      <td>0.0</td>\n",
       "    </tr>\n",
       "  </tbody>\n",
       "</table>\n",
       "</div>"
      ],
      "text/plain": [
       "name                                              new  vanishing oatmeal raisin cookies  \\\n",
       "name                                                                                      \n",
       "chazz s smoke bread  smoke bread                                                    0.0   \n",
       "andouille burgers with red pepper mayo                                              0.0   \n",
       "fabulous icing                                                                      1.0   \n",
       "lori s risotto                                                                      0.0   \n",
       "condiglione  italian tuna salad                                                     0.0   \n",
       "easy vegetarian lasagne  some assembly required                                     0.0   \n",
       "scott peacock s chocolate meringue pie                                              0.0   \n",
       "gaspacho  alentejana  gazpacho alentejo s way                                       0.0   \n",
       "new potatoes with fresh horseradish sauce  vegan                                    0.0   \n",
       "princess cruises fettuccine alfredo                                                 0.0   \n",
       "\n",
       "name                                              lunch ladies creamy italian spinach  \\\n",
       "name                                                                                    \n",
       "chazz s smoke bread  smoke bread                                                  0.0   \n",
       "andouille burgers with red pepper mayo                                            0.0   \n",
       "fabulous icing                                                                    0.0   \n",
       "lori s risotto                                                                    0.0   \n",
       "condiglione  italian tuna salad                                                   0.0   \n",
       "easy vegetarian lasagne  some assembly required                                   0.0   \n",
       "scott peacock s chocolate meringue pie                                            0.0   \n",
       "gaspacho  alentejana  gazpacho alentejo s way                                     0.0   \n",
       "new potatoes with fresh horseradish sauce  vegan                                  0.0   \n",
       "princess cruises fettuccine alfredo                                               0.0   \n",
       "\n",
       "name                                              coffee mousse pie  \\\n",
       "name                                                                  \n",
       "chazz s smoke bread  smoke bread                                0.0   \n",
       "andouille burgers with red pepper mayo                          0.0   \n",
       "fabulous icing                                                  0.0   \n",
       "lori s risotto                                                  0.0   \n",
       "condiglione  italian tuna salad                                 0.0   \n",
       "easy vegetarian lasagne  some assembly required                 0.0   \n",
       "scott peacock s chocolate meringue pie                          0.0   \n",
       "gaspacho  alentejana  gazpacho alentejo s way                   0.0   \n",
       "new potatoes with fresh horseradish sauce  vegan                0.0   \n",
       "princess cruises fettuccine alfredo                             0.0   \n",
       "\n",
       "name                                              easy peasy chicken salad  \\\n",
       "name                                                                         \n",
       "chazz s smoke bread  smoke bread                                       0.0   \n",
       "andouille burgers with red pepper mayo                                 0.0   \n",
       "fabulous icing                                                         0.0   \n",
       "lori s risotto                                                         0.0   \n",
       "condiglione  italian tuna salad                                        0.0   \n",
       "easy vegetarian lasagne  some assembly required                        0.0   \n",
       "scott peacock s chocolate meringue pie                                 0.0   \n",
       "gaspacho  alentejana  gazpacho alentejo s way                          0.0   \n",
       "new potatoes with fresh horseradish sauce  vegan                       0.0   \n",
       "princess cruises fettuccine alfredo                                    0.0   \n",
       "\n",
       "name                                              korean lamb chops  \\\n",
       "name                                                                  \n",
       "chazz s smoke bread  smoke bread                                0.0   \n",
       "andouille burgers with red pepper mayo                          0.0   \n",
       "fabulous icing                                                  0.0   \n",
       "lori s risotto                                                  0.0   \n",
       "condiglione  italian tuna salad                                 0.0   \n",
       "easy vegetarian lasagne  some assembly required                 0.0   \n",
       "scott peacock s chocolate meringue pie                          0.0   \n",
       "gaspacho  alentejana  gazpacho alentejo s way                   0.0   \n",
       "new potatoes with fresh horseradish sauce  vegan                0.0   \n",
       "princess cruises fettuccine alfredo                             0.0   \n",
       "\n",
       "name                                              piedmont roasted bell peppers  \\\n",
       "name                                                                              \n",
       "chazz s smoke bread  smoke bread                                            0.0   \n",
       "andouille burgers with red pepper mayo                                      0.0   \n",
       "fabulous icing                                                              0.0   \n",
       "lori s risotto                                                              0.0   \n",
       "condiglione  italian tuna salad                                             0.0   \n",
       "easy vegetarian lasagne  some assembly required                             0.0   \n",
       "scott peacock s chocolate meringue pie                                      0.0   \n",
       "gaspacho  alentejana  gazpacho alentejo s way                               0.0   \n",
       "new potatoes with fresh horseradish sauce  vegan                            0.0   \n",
       "princess cruises fettuccine alfredo                                         0.0   \n",
       "\n",
       "name                                              black coffee cake  \\\n",
       "name                                                                  \n",
       "chazz s smoke bread  smoke bread                                0.0   \n",
       "andouille burgers with red pepper mayo                          0.0   \n",
       "fabulous icing                                                  0.0   \n",
       "lori s risotto                                                  0.0   \n",
       "condiglione  italian tuna salad                                 0.0   \n",
       "easy vegetarian lasagne  some assembly required                 0.0   \n",
       "scott peacock s chocolate meringue pie                          0.0   \n",
       "gaspacho  alentejana  gazpacho alentejo s way                   0.0   \n",
       "new potatoes with fresh horseradish sauce  vegan                0.0   \n",
       "princess cruises fettuccine alfredo                             0.0   \n",
       "\n",
       "name                                              apple and banana nut muffins  \\\n",
       "name                                                                             \n",
       "chazz s smoke bread  smoke bread                                           0.0   \n",
       "andouille burgers with red pepper mayo                                     0.0   \n",
       "fabulous icing                                                             0.0   \n",
       "lori s risotto                                                             0.0   \n",
       "condiglione  italian tuna salad                                            0.0   \n",
       "easy vegetarian lasagne  some assembly required                            0.0   \n",
       "scott peacock s chocolate meringue pie                                     0.0   \n",
       "gaspacho  alentejana  gazpacho alentejo s way                              0.0   \n",
       "new potatoes with fresh horseradish sauce  vegan                           0.0   \n",
       "princess cruises fettuccine alfredo                                        0.0   \n",
       "\n",
       "name                                              cream cheese hot dogs  \\\n",
       "name                                                                      \n",
       "chazz s smoke bread  smoke bread                                    0.0   \n",
       "andouille burgers with red pepper mayo                              0.0   \n",
       "fabulous icing                                                      1.0   \n",
       "lori s risotto                                                      0.0   \n",
       "condiglione  italian tuna salad                                     0.0   \n",
       "easy vegetarian lasagne  some assembly required                     0.0   \n",
       "scott peacock s chocolate meringue pie                              0.0   \n",
       "gaspacho  alentejana  gazpacho alentejo s way                       0.0   \n",
       "new potatoes with fresh horseradish sauce  vegan                    0.0   \n",
       "princess cruises fettuccine alfredo                                 0.0   \n",
       "\n",
       "name                                              u nega gei  \n",
       "name                                                          \n",
       "chazz s smoke bread  smoke bread                         0.0  \n",
       "andouille burgers with red pepper mayo                   0.0  \n",
       "fabulous icing                                           0.0  \n",
       "lori s risotto                                           0.0  \n",
       "condiglione  italian tuna salad                          0.0  \n",
       "easy vegetarian lasagne  some assembly required          0.0  \n",
       "scott peacock s chocolate meringue pie                   0.0  \n",
       "gaspacho  alentejana  gazpacho alentejo s way            0.0  \n",
       "new potatoes with fresh horseradish sauce  vegan         0.0  \n",
       "princess cruises fettuccine alfredo                      0.0  "
      ]
     },
     "execution_count": 94,
     "metadata": {},
     "output_type": "execute_result"
    }
   ],
   "source": [
    "cos_sim_df = pd.DataFrame(cos_sim, \n",
    "                          index=content_based_df['name'],\n",
    "                          columns=content_based_df['name'])\n",
    "\n",
    "print(\"Shape:\", cos_sim_df.shape)\n",
    "\n",
    "cos_sim_df.sample(10, axis=1).sample(10, axis=0)"
   ]
  },
  {
   "cell_type": "markdown",
   "metadata": {},
   "source": [
    "### Neural Collaborative Filtering"
   ]
  },
  {
   "cell_type": "markdown",
   "metadata": {},
   "source": [
    "Menghitung jumlah nilai unik masing-masing fitur:"
   ]
  },
  {
   "cell_type": "code",
   "execution_count": 675,
   "metadata": {},
   "outputs": [
    {
     "name": "stdout",
     "output_type": "stream",
     "text": [
      "1602\n",
      "1915\n"
     ]
    }
   ],
   "source": [
    "n_users = collaborative_df['user'].nunique()\n",
    "print(n_users)\n",
    "\n",
    "n_recipes = collaborative_df['recipe'].nunique()\n",
    "print(n_recipes)"
   ]
  },
  {
   "cell_type": "markdown",
   "metadata": {},
   "source": [
    "Membuat model rekomendasi dengan embedding layer:"
   ]
  },
  {
   "cell_type": "code",
   "execution_count": 692,
   "metadata": {},
   "outputs": [],
   "source": [
    "class NFCRecommender(tf.keras.Model):\n",
    "    \n",
    "     # Insialisasi fungsi\n",
    "    def __init__(self, n_users, n_recipes, embedding_size, **kwargs):\n",
    "        super(NFCRecommender, self).__init__(**kwargs)\n",
    "        self.n_users = n_users\n",
    "        self.n_recipes = n_recipes\n",
    "        self.embedding_size = embedding_size\n",
    "\n",
    "        # Membentuk layer embedding user\n",
    "        self.users_embedding = layers.Embedding(\n",
    "            n_users,\n",
    "            embedding_size,\n",
    "            embeddings_initializer = 'he_normal',\n",
    "            embeddings_regularizer = keras.regularizers.l2(1e-6)\n",
    "        )\n",
    "        self.users_bias = layers.Embedding(n_users, 1)\n",
    "\n",
    "        # Membentuk layer embedding recipe\n",
    "        self.recipes_embedding = layers.Embedding(\n",
    "            n_recipes,\n",
    "            embedding_size,\n",
    "            embeddings_initializer = 'he_normal',\n",
    "            embeddings_regularizer = keras.regularizers.l2(1e-6)\n",
    "        )\n",
    "        self.recipes_bias = layers.Embedding(n_recipes, 1)\n",
    "\n",
    "    def call(self, inputs):\n",
    "        users_vector = self.users_embedding(inputs[:,0]) # memanggil layer embedding 1\n",
    "        users_bias = self.users_bias(inputs[:, 0]) # memanggil layer embedding 2\n",
    "        recipes_vector = self.recipes_embedding(inputs[:, 1]) # memanggil layer embedding 3\n",
    "        recipes_bias = self.recipes_bias(inputs[:, 1]) # memanggil layer embedding 4\n",
    "\n",
    "        dot_users_recipes = tf.reduce_sum(users_vector * recipes_vector, axis=1, keepdims=True)\n",
    "\n",
    "        x = dot_users_recipes + users_bias + recipes_bias\n",
    "\n",
    "        # Menggunakan fungsi aktivasi sigmoid\n",
    "        return tf.nn.sigmoid(x)"
   ]
  },
  {
   "cell_type": "markdown",
   "metadata": {},
   "source": [
    "Compile model:"
   ]
  },
  {
   "cell_type": "code",
   "execution_count": 693,
   "metadata": {},
   "outputs": [],
   "source": [
    "model = NFCRecommender(n_users, n_recipes, 4)\n",
    "\n",
    "model.compile(\n",
    "    loss = tf.keras.losses.BinaryCrossentropy(),\n",
    "    optimizer = tf.keras.optimizers.RMSprop(learning_rate = 0.001),\n",
    "    metrics = [tf.keras.metrics.RootMeanSquaredError()]\n",
    ")"
   ]
  },
  {
   "cell_type": "code",
   "execution_count": 694,
   "metadata": {},
   "outputs": [
    {
     "name": "stdout",
     "output_type": "stream",
     "text": [
      "Epoch 1/100\n",
      "13/13 [==============================] - 1s 32ms/step - loss: 0.6932 - root_mean_squared_error: 0.4560 - val_loss: 0.6928 - val_root_mean_squared_error: 0.4643\n",
      "Epoch 2/100\n",
      "13/13 [==============================] - 0s 7ms/step - loss: 0.6898 - root_mean_squared_error: 0.4541 - val_loss: 0.6922 - val_root_mean_squared_error: 0.4640\n",
      "Epoch 3/100\n",
      "13/13 [==============================] - 0s 5ms/step - loss: 0.6867 - root_mean_squared_error: 0.4524 - val_loss: 0.6916 - val_root_mean_squared_error: 0.4637\n",
      "Epoch 4/100\n",
      "13/13 [==============================] - 0s 8ms/step - loss: 0.6838 - root_mean_squared_error: 0.4508 - val_loss: 0.6909 - val_root_mean_squared_error: 0.4633\n",
      "Epoch 5/100\n",
      "13/13 [==============================] - 0s 35ms/step - loss: 0.6809 - root_mean_squared_error: 0.4492 - val_loss: 0.6903 - val_root_mean_squared_error: 0.4630\n",
      "Epoch 6/100\n",
      "13/13 [==============================] - 0s 31ms/step - loss: 0.6780 - root_mean_squared_error: 0.4476 - val_loss: 0.6897 - val_root_mean_squared_error: 0.4627\n",
      "Epoch 7/100\n",
      "13/13 [==============================] - 0s 16ms/step - loss: 0.6751 - root_mean_squared_error: 0.4460 - val_loss: 0.6891 - val_root_mean_squared_error: 0.4623\n",
      "Epoch 8/100\n",
      "13/13 [==============================] - 0s 24ms/step - loss: 0.6722 - root_mean_squared_error: 0.4443 - val_loss: 0.6886 - val_root_mean_squared_error: 0.4620\n",
      "Epoch 9/100\n",
      "13/13 [==============================] - 0s 15ms/step - loss: 0.6693 - root_mean_squared_error: 0.4427 - val_loss: 0.6880 - val_root_mean_squared_error: 0.4617\n",
      "Epoch 10/100\n",
      "13/13 [==============================] - 0s 16ms/step - loss: 0.6664 - root_mean_squared_error: 0.4410 - val_loss: 0.6874 - val_root_mean_squared_error: 0.4614\n",
      "Epoch 11/100\n",
      "13/13 [==============================] - 0s 17ms/step - loss: 0.6635 - root_mean_squared_error: 0.4394 - val_loss: 0.6868 - val_root_mean_squared_error: 0.4611\n",
      "Epoch 12/100\n",
      "13/13 [==============================] - 0s 17ms/step - loss: 0.6605 - root_mean_squared_error: 0.4377 - val_loss: 0.6862 - val_root_mean_squared_error: 0.4607\n",
      "Epoch 13/100\n",
      "13/13 [==============================] - 0s 13ms/step - loss: 0.6576 - root_mean_squared_error: 0.4360 - val_loss: 0.6856 - val_root_mean_squared_error: 0.4604\n",
      "Epoch 14/100\n",
      "13/13 [==============================] - 0s 11ms/step - loss: 0.6546 - root_mean_squared_error: 0.4343 - val_loss: 0.6850 - val_root_mean_squared_error: 0.4601\n",
      "Epoch 15/100\n",
      "13/13 [==============================] - 0s 13ms/step - loss: 0.6516 - root_mean_squared_error: 0.4326 - val_loss: 0.6845 - val_root_mean_squared_error: 0.4598\n",
      "Epoch 16/100\n",
      "13/13 [==============================] - 0s 13ms/step - loss: 0.6486 - root_mean_squared_error: 0.4308 - val_loss: 0.6839 - val_root_mean_squared_error: 0.4595\n",
      "Epoch 17/100\n",
      "13/13 [==============================] - 0s 16ms/step - loss: 0.6456 - root_mean_squared_error: 0.4291 - val_loss: 0.6833 - val_root_mean_squared_error: 0.4591\n",
      "Epoch 18/100\n",
      "13/13 [==============================] - 0s 12ms/step - loss: 0.6425 - root_mean_squared_error: 0.4273 - val_loss: 0.6827 - val_root_mean_squared_error: 0.4588\n",
      "Epoch 19/100\n",
      "13/13 [==============================] - 0s 11ms/step - loss: 0.6395 - root_mean_squared_error: 0.4255 - val_loss: 0.6821 - val_root_mean_squared_error: 0.4585\n",
      "Epoch 20/100\n",
      "13/13 [==============================] - 0s 6ms/step - loss: 0.6364 - root_mean_squared_error: 0.4237 - val_loss: 0.6815 - val_root_mean_squared_error: 0.4582\n",
      "Epoch 21/100\n",
      "13/13 [==============================] - 0s 7ms/step - loss: 0.6333 - root_mean_squared_error: 0.4219 - val_loss: 0.6810 - val_root_mean_squared_error: 0.4579\n",
      "Epoch 22/100\n",
      "13/13 [==============================] - 0s 6ms/step - loss: 0.6302 - root_mean_squared_error: 0.4201 - val_loss: 0.6804 - val_root_mean_squared_error: 0.4576\n",
      "Epoch 23/100\n",
      "13/13 [==============================] - 0s 6ms/step - loss: 0.6271 - root_mean_squared_error: 0.4182 - val_loss: 0.6798 - val_root_mean_squared_error: 0.4573\n",
      "Epoch 24/100\n",
      "13/13 [==============================] - 0s 5ms/step - loss: 0.6240 - root_mean_squared_error: 0.4164 - val_loss: 0.6793 - val_root_mean_squared_error: 0.4570\n",
      "Epoch 25/100\n",
      "13/13 [==============================] - 0s 6ms/step - loss: 0.6209 - root_mean_squared_error: 0.4145 - val_loss: 0.6787 - val_root_mean_squared_error: 0.4567\n",
      "Epoch 26/100\n",
      "13/13 [==============================] - 0s 6ms/step - loss: 0.6177 - root_mean_squared_error: 0.4126 - val_loss: 0.6781 - val_root_mean_squared_error: 0.4563\n",
      "Epoch 27/100\n",
      "13/13 [==============================] - 0s 6ms/step - loss: 0.6145 - root_mean_squared_error: 0.4107 - val_loss: 0.6776 - val_root_mean_squared_error: 0.4560\n",
      "Epoch 28/100\n",
      "13/13 [==============================] - 0s 7ms/step - loss: 0.6114 - root_mean_squared_error: 0.4088 - val_loss: 0.6770 - val_root_mean_squared_error: 0.4557\n",
      "Epoch 29/100\n",
      "13/13 [==============================] - 0s 6ms/step - loss: 0.6082 - root_mean_squared_error: 0.4069 - val_loss: 0.6765 - val_root_mean_squared_error: 0.4554\n",
      "Epoch 30/100\n",
      "13/13 [==============================] - 0s 10ms/step - loss: 0.6050 - root_mean_squared_error: 0.4049 - val_loss: 0.6759 - val_root_mean_squared_error: 0.4551\n",
      "Epoch 31/100\n",
      "13/13 [==============================] - 0s 9ms/step - loss: 0.6018 - root_mean_squared_error: 0.4030 - val_loss: 0.6753 - val_root_mean_squared_error: 0.4548\n",
      "Epoch 32/100\n",
      "13/13 [==============================] - 0s 6ms/step - loss: 0.5986 - root_mean_squared_error: 0.4010 - val_loss: 0.6748 - val_root_mean_squared_error: 0.4545\n",
      "Epoch 33/100\n",
      "13/13 [==============================] - 0s 6ms/step - loss: 0.5954 - root_mean_squared_error: 0.3990 - val_loss: 0.6742 - val_root_mean_squared_error: 0.4542\n",
      "Epoch 34/100\n",
      "13/13 [==============================] - 0s 6ms/step - loss: 0.5921 - root_mean_squared_error: 0.3970 - val_loss: 0.6737 - val_root_mean_squared_error: 0.4539\n",
      "Epoch 35/100\n",
      "13/13 [==============================] - 0s 6ms/step - loss: 0.5889 - root_mean_squared_error: 0.3950 - val_loss: 0.6731 - val_root_mean_squared_error: 0.4536\n",
      "Epoch 36/100\n",
      "13/13 [==============================] - 0s 11ms/step - loss: 0.5857 - root_mean_squared_error: 0.3930 - val_loss: 0.6726 - val_root_mean_squared_error: 0.4533\n",
      "Epoch 37/100\n",
      "13/13 [==============================] - 0s 6ms/step - loss: 0.5824 - root_mean_squared_error: 0.3910 - val_loss: 0.6721 - val_root_mean_squared_error: 0.4530\n",
      "Epoch 38/100\n",
      "13/13 [==============================] - 0s 6ms/step - loss: 0.5792 - root_mean_squared_error: 0.3889 - val_loss: 0.6716 - val_root_mean_squared_error: 0.4527\n",
      "Epoch 39/100\n",
      "13/13 [==============================] - 0s 7ms/step - loss: 0.5759 - root_mean_squared_error: 0.3869 - val_loss: 0.6710 - val_root_mean_squared_error: 0.4524\n",
      "Epoch 40/100\n",
      "13/13 [==============================] - 0s 6ms/step - loss: 0.5727 - root_mean_squared_error: 0.3848 - val_loss: 0.6705 - val_root_mean_squared_error: 0.4521\n",
      "Epoch 41/100\n",
      "13/13 [==============================] - 0s 6ms/step - loss: 0.5694 - root_mean_squared_error: 0.3827 - val_loss: 0.6700 - val_root_mean_squared_error: 0.4518\n",
      "Epoch 42/100\n",
      "13/13 [==============================] - 0s 7ms/step - loss: 0.5661 - root_mean_squared_error: 0.3806 - val_loss: 0.6694 - val_root_mean_squared_error: 0.4515\n",
      "Epoch 43/100\n",
      "13/13 [==============================] - 0s 6ms/step - loss: 0.5628 - root_mean_squared_error: 0.3785 - val_loss: 0.6689 - val_root_mean_squared_error: 0.4512\n",
      "Epoch 44/100\n",
      "13/13 [==============================] - 0s 7ms/step - loss: 0.5595 - root_mean_squared_error: 0.3764 - val_loss: 0.6683 - val_root_mean_squared_error: 0.4509\n",
      "Epoch 45/100\n",
      "13/13 [==============================] - 0s 7ms/step - loss: 0.5562 - root_mean_squared_error: 0.3743 - val_loss: 0.6678 - val_root_mean_squared_error: 0.4506\n",
      "Epoch 46/100\n",
      "13/13 [==============================] - 0s 6ms/step - loss: 0.5529 - root_mean_squared_error: 0.3721 - val_loss: 0.6673 - val_root_mean_squared_error: 0.4503\n",
      "Epoch 47/100\n",
      "13/13 [==============================] - 0s 6ms/step - loss: 0.5496 - root_mean_squared_error: 0.3700 - val_loss: 0.6668 - val_root_mean_squared_error: 0.4500\n",
      "Epoch 48/100\n",
      "13/13 [==============================] - 0s 6ms/step - loss: 0.5463 - root_mean_squared_error: 0.3678 - val_loss: 0.6663 - val_root_mean_squared_error: 0.4497\n",
      "Epoch 49/100\n",
      "13/13 [==============================] - 0s 6ms/step - loss: 0.5430 - root_mean_squared_error: 0.3657 - val_loss: 0.6657 - val_root_mean_squared_error: 0.4494\n",
      "Epoch 50/100\n",
      "13/13 [==============================] - 0s 6ms/step - loss: 0.5397 - root_mean_squared_error: 0.3635 - val_loss: 0.6652 - val_root_mean_squared_error: 0.4491\n",
      "Epoch 51/100\n",
      "13/13 [==============================] - 0s 6ms/step - loss: 0.5364 - root_mean_squared_error: 0.3613 - val_loss: 0.6647 - val_root_mean_squared_error: 0.4489\n",
      "Epoch 52/100\n",
      "13/13 [==============================] - 0s 6ms/step - loss: 0.5331 - root_mean_squared_error: 0.3591 - val_loss: 0.6642 - val_root_mean_squared_error: 0.4486\n",
      "Epoch 53/100\n",
      "13/13 [==============================] - 0s 7ms/step - loss: 0.5298 - root_mean_squared_error: 0.3569 - val_loss: 0.6637 - val_root_mean_squared_error: 0.4483\n",
      "Epoch 54/100\n",
      "13/13 [==============================] - 0s 7ms/step - loss: 0.5265 - root_mean_squared_error: 0.3547 - val_loss: 0.6632 - val_root_mean_squared_error: 0.4480\n",
      "Epoch 55/100\n",
      "13/13 [==============================] - 0s 6ms/step - loss: 0.5232 - root_mean_squared_error: 0.3525 - val_loss: 0.6627 - val_root_mean_squared_error: 0.4477\n",
      "Epoch 56/100\n",
      "13/13 [==============================] - 0s 6ms/step - loss: 0.5199 - root_mean_squared_error: 0.3503 - val_loss: 0.6622 - val_root_mean_squared_error: 0.4475\n",
      "Epoch 57/100\n",
      "13/13 [==============================] - 0s 8ms/step - loss: 0.5166 - root_mean_squared_error: 0.3481 - val_loss: 0.6617 - val_root_mean_squared_error: 0.4472\n",
      "Epoch 58/100\n",
      "13/13 [==============================] - 0s 6ms/step - loss: 0.5133 - root_mean_squared_error: 0.3458 - val_loss: 0.6612 - val_root_mean_squared_error: 0.4469\n",
      "Epoch 59/100\n",
      "13/13 [==============================] - 0s 6ms/step - loss: 0.5100 - root_mean_squared_error: 0.3436 - val_loss: 0.6607 - val_root_mean_squared_error: 0.4466\n",
      "Epoch 60/100\n",
      "13/13 [==============================] - 0s 8ms/step - loss: 0.5067 - root_mean_squared_error: 0.3413 - val_loss: 0.6602 - val_root_mean_squared_error: 0.4463\n",
      "Epoch 61/100\n",
      "13/13 [==============================] - 0s 7ms/step - loss: 0.5034 - root_mean_squared_error: 0.3390 - val_loss: 0.6597 - val_root_mean_squared_error: 0.4461\n",
      "Epoch 62/100\n",
      "13/13 [==============================] - 0s 6ms/step - loss: 0.5001 - root_mean_squared_error: 0.3368 - val_loss: 0.6592 - val_root_mean_squared_error: 0.4458\n",
      "Epoch 63/100\n",
      "13/13 [==============================] - 0s 7ms/step - loss: 0.4969 - root_mean_squared_error: 0.3345 - val_loss: 0.6587 - val_root_mean_squared_error: 0.4455\n",
      "Epoch 64/100\n",
      "13/13 [==============================] - 0s 6ms/step - loss: 0.4936 - root_mean_squared_error: 0.3322 - val_loss: 0.6583 - val_root_mean_squared_error: 0.4453\n",
      "Epoch 65/100\n",
      "13/13 [==============================] - 0s 6ms/step - loss: 0.4903 - root_mean_squared_error: 0.3299 - val_loss: 0.6578 - val_root_mean_squared_error: 0.4450\n",
      "Epoch 66/100\n",
      "13/13 [==============================] - 0s 5ms/step - loss: 0.4871 - root_mean_squared_error: 0.3277 - val_loss: 0.6573 - val_root_mean_squared_error: 0.4447\n",
      "Epoch 67/100\n",
      "13/13 [==============================] - 0s 8ms/step - loss: 0.4838 - root_mean_squared_error: 0.3254 - val_loss: 0.6568 - val_root_mean_squared_error: 0.4445\n",
      "Epoch 68/100\n",
      "13/13 [==============================] - 0s 7ms/step - loss: 0.4806 - root_mean_squared_error: 0.3231 - val_loss: 0.6564 - val_root_mean_squared_error: 0.4442\n",
      "Epoch 69/100\n",
      "13/13 [==============================] - 0s 6ms/step - loss: 0.4773 - root_mean_squared_error: 0.3208 - val_loss: 0.6559 - val_root_mean_squared_error: 0.4439\n",
      "Epoch 70/100\n",
      "13/13 [==============================] - 0s 6ms/step - loss: 0.4741 - root_mean_squared_error: 0.3185 - val_loss: 0.6554 - val_root_mean_squared_error: 0.4436\n",
      "Epoch 71/100\n",
      "13/13 [==============================] - 0s 6ms/step - loss: 0.4709 - root_mean_squared_error: 0.3162 - val_loss: 0.6549 - val_root_mean_squared_error: 0.4434\n",
      "Epoch 72/100\n",
      "13/13 [==============================] - 0s 8ms/step - loss: 0.4676 - root_mean_squared_error: 0.3139 - val_loss: 0.6545 - val_root_mean_squared_error: 0.4431\n",
      "Epoch 73/100\n",
      "13/13 [==============================] - 0s 6ms/step - loss: 0.4644 - root_mean_squared_error: 0.3116 - val_loss: 0.6540 - val_root_mean_squared_error: 0.4428\n",
      "Epoch 74/100\n",
      "13/13 [==============================] - 0s 6ms/step - loss: 0.4612 - root_mean_squared_error: 0.3092 - val_loss: 0.6535 - val_root_mean_squared_error: 0.4426\n",
      "Epoch 75/100\n",
      "13/13 [==============================] - 0s 6ms/step - loss: 0.4580 - root_mean_squared_error: 0.3069 - val_loss: 0.6531 - val_root_mean_squared_error: 0.4423\n",
      "Epoch 76/100\n",
      "13/13 [==============================] - 0s 6ms/step - loss: 0.4549 - root_mean_squared_error: 0.3046 - val_loss: 0.6526 - val_root_mean_squared_error: 0.4421\n",
      "Epoch 77/100\n",
      "13/13 [==============================] - 0s 6ms/step - loss: 0.4517 - root_mean_squared_error: 0.3023 - val_loss: 0.6522 - val_root_mean_squared_error: 0.4418\n",
      "Epoch 78/100\n",
      "13/13 [==============================] - 0s 6ms/step - loss: 0.4485 - root_mean_squared_error: 0.3000 - val_loss: 0.6517 - val_root_mean_squared_error: 0.4416\n",
      "Epoch 79/100\n",
      "13/13 [==============================] - 0s 6ms/step - loss: 0.4454 - root_mean_squared_error: 0.2977 - val_loss: 0.6513 - val_root_mean_squared_error: 0.4413\n",
      "Epoch 80/100\n",
      "13/13 [==============================] - 0s 8ms/step - loss: 0.4422 - root_mean_squared_error: 0.2953 - val_loss: 0.6508 - val_root_mean_squared_error: 0.4411\n",
      "Epoch 81/100\n",
      "13/13 [==============================] - 0s 9ms/step - loss: 0.4391 - root_mean_squared_error: 0.2930 - val_loss: 0.6504 - val_root_mean_squared_error: 0.4408\n",
      "Epoch 82/100\n",
      "13/13 [==============================] - 0s 7ms/step - loss: 0.4360 - root_mean_squared_error: 0.2907 - val_loss: 0.6499 - val_root_mean_squared_error: 0.4406\n",
      "Epoch 83/100\n",
      "13/13 [==============================] - 0s 7ms/step - loss: 0.4329 - root_mean_squared_error: 0.2884 - val_loss: 0.6495 - val_root_mean_squared_error: 0.4403\n",
      "Epoch 84/100\n",
      "13/13 [==============================] - 0s 6ms/step - loss: 0.4298 - root_mean_squared_error: 0.2861 - val_loss: 0.6491 - val_root_mean_squared_error: 0.4401\n",
      "Epoch 85/100\n",
      "13/13 [==============================] - 0s 6ms/step - loss: 0.4267 - root_mean_squared_error: 0.2837 - val_loss: 0.6486 - val_root_mean_squared_error: 0.4398\n",
      "Epoch 86/100\n",
      "13/13 [==============================] - 0s 14ms/step - loss: 0.4237 - root_mean_squared_error: 0.2814 - val_loss: 0.6482 - val_root_mean_squared_error: 0.4396\n",
      "Epoch 87/100\n",
      "13/13 [==============================] - 0s 11ms/step - loss: 0.4206 - root_mean_squared_error: 0.2791 - val_loss: 0.6478 - val_root_mean_squared_error: 0.4393\n",
      "Epoch 88/100\n",
      "13/13 [==============================] - 0s 9ms/step - loss: 0.4176 - root_mean_squared_error: 0.2768 - val_loss: 0.6473 - val_root_mean_squared_error: 0.4391\n",
      "Epoch 89/100\n",
      "13/13 [==============================] - 0s 7ms/step - loss: 0.4146 - root_mean_squared_error: 0.2745 - val_loss: 0.6469 - val_root_mean_squared_error: 0.4388\n",
      "Epoch 90/100\n",
      "13/13 [==============================] - 0s 6ms/step - loss: 0.4116 - root_mean_squared_error: 0.2722 - val_loss: 0.6465 - val_root_mean_squared_error: 0.4386\n",
      "Epoch 91/100\n",
      "13/13 [==============================] - 0s 6ms/step - loss: 0.4086 - root_mean_squared_error: 0.2699 - val_loss: 0.6461 - val_root_mean_squared_error: 0.4384\n",
      "Epoch 92/100\n",
      "13/13 [==============================] - 0s 6ms/step - loss: 0.4056 - root_mean_squared_error: 0.2676 - val_loss: 0.6457 - val_root_mean_squared_error: 0.4381\n",
      "Epoch 93/100\n",
      "13/13 [==============================] - 0s 9ms/step - loss: 0.4027 - root_mean_squared_error: 0.2653 - val_loss: 0.6453 - val_root_mean_squared_error: 0.4379\n",
      "Epoch 94/100\n",
      "13/13 [==============================] - 0s 8ms/step - loss: 0.3997 - root_mean_squared_error: 0.2630 - val_loss: 0.6449 - val_root_mean_squared_error: 0.4377\n",
      "Epoch 95/100\n",
      "13/13 [==============================] - 0s 6ms/step - loss: 0.3968 - root_mean_squared_error: 0.2607 - val_loss: 0.6444 - val_root_mean_squared_error: 0.4374\n",
      "Epoch 96/100\n",
      "13/13 [==============================] - 0s 5ms/step - loss: 0.3939 - root_mean_squared_error: 0.2584 - val_loss: 0.6440 - val_root_mean_squared_error: 0.4372\n",
      "Epoch 97/100\n",
      "13/13 [==============================] - 0s 6ms/step - loss: 0.3910 - root_mean_squared_error: 0.2561 - val_loss: 0.6436 - val_root_mean_squared_error: 0.4370\n",
      "Epoch 98/100\n",
      "13/13 [==============================] - 0s 5ms/step - loss: 0.3881 - root_mean_squared_error: 0.2539 - val_loss: 0.6432 - val_root_mean_squared_error: 0.4367\n",
      "Epoch 99/100\n",
      "13/13 [==============================] - 0s 6ms/step - loss: 0.3853 - root_mean_squared_error: 0.2516 - val_loss: 0.6428 - val_root_mean_squared_error: 0.4365\n",
      "Epoch 100/100\n",
      "13/13 [==============================] - 0s 5ms/step - loss: 0.3824 - root_mean_squared_error: 0.2493 - val_loss: 0.6424 - val_root_mean_squared_error: 0.4363\n"
     ]
    }
   ],
   "source": [
    "history = model.fit(\n",
    "    x = x_train,\n",
    "    y = y_train,\n",
    "    validation_data=(x_val, y_val),\n",
    "    batch_size=128,\n",
    "    epochs=100\n",
    ")"
   ]
  },
  {
   "cell_type": "markdown",
   "metadata": {},
   "source": [
    "Visualisasi hasil pelatihan model:"
   ]
  },
  {
   "cell_type": "code",
   "execution_count": 732,
   "metadata": {},
   "outputs": [
    {
     "name": "stderr",
     "output_type": "stream",
     "text": [
      "C:\\Users\\ACER\\AppData\\Local\\Temp\\ipykernel_7420\\2240796526.py:14: UserWarning: FigureCanvasAgg is non-interactive, and thus cannot be shown\n",
      "  train_result.show()\n"
     ]
    },
    {
     "data": {
      "image/png": "[encoded data removed]",
      "text/plain": [
       "<Figure size 1000x600 with 1 Axes>"
      ]
     },
     "metadata": {},
     "output_type": "display_data"
    }
   ],
   "source": [
    "train_result, ax = plt.subplots(figsize=(10, 6))\n",
    "\n",
    "ax.plot(history.history[\"root_mean_squared_error\"], label=\"Training RMSE\", color='blue', linewidth=2)\n",
    "ax.plot(history.history[\"val_root_mean_squared_error\"], label=\"Validation RMSE\", color='orange', linewidth=2)\n",
    "\n",
    "ax.set_title(\"Evaluasi Model: RMSE per Epoch\", fontsize=14)\n",
    "ax.set_ylabel(\"Root Mean Squared Error (RMSE)\", fontsize=12)\n",
    "ax.set_xlabel(\"Epoch\", fontsize=12)\n",
    "\n",
    "ax.legend(loc=\"upper right\", fontsize=12)\n",
    "\n",
    "train_result.tight_layout()\n",
    "\n",
    "train_result.show()"
   ]
  },
  {
   "cell_type": "markdown",
   "metadata": {},
   "source": [
    "## Get Recommendations"
   ]
  },
  {
   "cell_type": "markdown",
   "metadata": {},
   "source": [
    "### Content Based Filtering"
   ]
  },
  {
   "cell_type": "code",
   "execution_count": 95,
   "metadata": {},
   "outputs": [],
   "source": [
    "def rekomendasi_makanan(nama_makanan, similarity_data=cos_sim_df, items=content_based_df, k = 10):\n",
    "\n",
    "    # Mengambil data dengan menggunakan argpartition untuk melakukan partisi secara tidak langsung sepanjang sumbu yang diberikan\n",
    "    # Dataframe diubah menjadi numpy Range(start, stop, step)\n",
    "    index = similarity_data.loc[:, nama_makanan].to_numpy().argpartition(range(-1, -k, -1))\n",
    "\n",
    "    # Mengambil data dengan similarity terbesar dari index yang ada\n",
    "    closest = similarity_data.columns[index[-1 : -(k + 2) : -1].flatten()]\n",
    "\n",
    "    # Drop nama makanan target\n",
    "    closest = closest.drop(nama_makanan, errors = \"ignore\")\n",
    "\n",
    "    # Gabungkan dengan DataFrame asli untuk mengambil detail makanan\n",
    "    recommendations = pd.DataFrame(closest, columns=[\"name\"]).merge(items, on=\"name\")\n",
    "\n",
    "    # Ambil data makanan target\n",
    "    target_item = items[items['name'] == nama_makanan].iloc[0]\n",
    "    \n",
    "    # Tambahkan kolom perbedaan kriteria\n",
    "    recommendations['calories_gap'] = recommendations['calories'] - target_item['calories']\n",
    "\n",
    "    return recommendations.head(k)"
   ]
  },
  {
   "cell_type": "code",
   "execution_count": 96,
   "metadata": {},
   "outputs": [
    {
     "name": "stdout",
     "output_type": "stream",
     "text": [
      "<class 'pandas.core.frame.DataFrame'>\n",
      "Index: 2009 entries, 2 to 2315\n",
      "Data columns (total 6 columns):\n",
      " #   Column       Non-Null Count  Dtype  \n",
      "---  ------       --------------  -----  \n",
      " 0   id           2009 non-null   int64  \n",
      " 1   name         2009 non-null   object \n",
      " 2   ingredients  2009 non-null   object \n",
      " 3   calories     2009 non-null   float64\n",
      " 4   minutes      2009 non-null   int64  \n",
      " 5   steps        2009 non-null   object \n",
      "dtypes: float64(1), int64(2), object(3)\n",
      "memory usage: 109.9+ KB\n"
     ]
    }
   ],
   "source": [
    "content_based_df.info()"
   ]
  },
  {
   "cell_type": "code",
   "execution_count": 101,
   "metadata": {},
   "outputs": [
    {
     "data": {
      "text/html": [
       "<div>\n",
       "<style scoped>\n",
       "    .dataframe tbody tr th:only-of-type {\n",
       "        vertical-align: middle;\n",
       "    }\n",
       "\n",
       "    .dataframe tbody tr th {\n",
       "        vertical-align: top;\n",
       "    }\n",
       "\n",
       "    .dataframe thead th {\n",
       "        text-align: right;\n",
       "    }\n",
       "</style>\n",
       "<table border=\"1\" class=\"dataframe\">\n",
       "  <thead>\n",
       "    <tr style=\"text-align: right;\">\n",
       "      <th></th>\n",
       "      <th>id</th>\n",
       "      <th>name</th>\n",
       "      <th>ingredients</th>\n",
       "      <th>calories</th>\n",
       "      <th>minutes</th>\n",
       "      <th>steps</th>\n",
       "    </tr>\n",
       "  </thead>\n",
       "  <tbody>\n",
       "    <tr>\n",
       "      <th>2291</th>\n",
       "      <td>178424</td>\n",
       "      <td>meatloaf with potato topping</td>\n",
       "      <td>vegetable oil</td>\n",
       "      <td>414.6</td>\n",
       "      <td>105</td>\n",
       "      <td>['in nonstick skillet , heat oil over medium h...</td>\n",
       "    </tr>\n",
       "  </tbody>\n",
       "</table>\n",
       "</div>"
      ],
      "text/plain": [
       "          id                          name    ingredients  calories  minutes  \\\n",
       "2291  178424  meatloaf with potato topping  vegetable oil     414.6      105   \n",
       "\n",
       "                                                  steps  \n",
       "2291  ['in nonstick skillet , heat oil over medium h...  "
      ]
     },
     "execution_count": 101,
     "metadata": {},
     "output_type": "execute_result"
    }
   ],
   "source": [
    "# Menampilkan makanan yang pernah dipilih\n",
    "makanan_pertama_df = content_based_df[content_based_df['name'] == \"meatloaf with potato topping\"]\n",
    "makanan_pertama_df"
   ]
  },
  {
   "cell_type": "code",
   "execution_count": 102,
   "metadata": {},
   "outputs": [],
   "source": [
    "# Menampilkan rekomendasi makanan berdasarkan makanan yang pernah dipilih\n",
    "rekomendasi_makanan_df = pd.DataFrame(rekomendasi_makanan(\"meatloaf with potato topping\"))"
   ]
  },
  {
   "cell_type": "code",
   "execution_count": 103,
   "metadata": {},
   "outputs": [
    {
     "data": {
      "text/html": [
       "<div>\n",
       "<style scoped>\n",
       "    .dataframe tbody tr th:only-of-type {\n",
       "        vertical-align: middle;\n",
       "    }\n",
       "\n",
       "    .dataframe tbody tr th {\n",
       "        vertical-align: top;\n",
       "    }\n",
       "\n",
       "    .dataframe thead th {\n",
       "        text-align: right;\n",
       "    }\n",
       "</style>\n",
       "<table border=\"1\" class=\"dataframe\">\n",
       "  <thead>\n",
       "    <tr style=\"text-align: right;\">\n",
       "      <th></th>\n",
       "      <th>name</th>\n",
       "      <th>id</th>\n",
       "      <th>ingredients</th>\n",
       "      <th>calories</th>\n",
       "      <th>minutes</th>\n",
       "      <th>steps</th>\n",
       "      <th>calories_gap</th>\n",
       "    </tr>\n",
       "  </thead>\n",
       "  <tbody>\n",
       "    <tr>\n",
       "      <th>0</th>\n",
       "      <td>crustless spainch and mushroom quiche</td>\n",
       "      <td>527347</td>\n",
       "      <td>vegetable oil</td>\n",
       "      <td>125.2</td>\n",
       "      <td>55</td>\n",
       "      <td>['preheat oven to 350-degrees f', 'spray 9-inc...</td>\n",
       "      <td>-289.4</td>\n",
       "    </tr>\n",
       "    <tr>\n",
       "      <th>1</th>\n",
       "      <td>gumbo</td>\n",
       "      <td>32042</td>\n",
       "      <td>vegetable oil</td>\n",
       "      <td>551.6</td>\n",
       "      <td>60</td>\n",
       "      <td>['in a large stockpot combine oil and flour an...</td>\n",
       "      <td>137.0</td>\n",
       "    </tr>\n",
       "    <tr>\n",
       "      <th>2</th>\n",
       "      <td>argentinian grilled flank steak with chimichur...</td>\n",
       "      <td>457101</td>\n",
       "      <td>vegetable oil</td>\n",
       "      <td>672.1</td>\n",
       "      <td>20</td>\n",
       "      <td>[\"prepare grill according to manufacturer's in...</td>\n",
       "      <td>257.5</td>\n",
       "    </tr>\n",
       "    <tr>\n",
       "      <th>3</th>\n",
       "      <td>weight watchers chili lime chicken 3 points</td>\n",
       "      <td>408980</td>\n",
       "      <td>vegetable oil</td>\n",
       "      <td>300.9</td>\n",
       "      <td>15</td>\n",
       "      <td>['in a large nonstick skillet , heat the oil',...</td>\n",
       "      <td>-113.7</td>\n",
       "    </tr>\n",
       "    <tr>\n",
       "      <th>4</th>\n",
       "      <td>capo s chicken diablo</td>\n",
       "      <td>139260</td>\n",
       "      <td>vegetable oil</td>\n",
       "      <td>481.3</td>\n",
       "      <td>60</td>\n",
       "      <td>['preheat oven to 350 degrees f', 'in a small ...</td>\n",
       "      <td>66.7</td>\n",
       "    </tr>\n",
       "    <tr>\n",
       "      <th>5</th>\n",
       "      <td>cambodian sweet and sour fish</td>\n",
       "      <td>505454</td>\n",
       "      <td>vegetable oil</td>\n",
       "      <td>94.7</td>\n",
       "      <td>25</td>\n",
       "      <td>['in a measuring cup , mix together the fish s...</td>\n",
       "      <td>-319.9</td>\n",
       "    </tr>\n",
       "    <tr>\n",
       "      <th>6</th>\n",
       "      <td>french onion jambalaya</td>\n",
       "      <td>29073</td>\n",
       "      <td>vegetable oil</td>\n",
       "      <td>526.5</td>\n",
       "      <td>30</td>\n",
       "      <td>['heat oil in skillet', 'add the chicken , sau...</td>\n",
       "      <td>111.9</td>\n",
       "    </tr>\n",
       "    <tr>\n",
       "      <th>7</th>\n",
       "      <td>creamy chicken   black bean enchiladas</td>\n",
       "      <td>518749</td>\n",
       "      <td>vegetable oil</td>\n",
       "      <td>430.0</td>\n",
       "      <td>50</td>\n",
       "      <td>['add vegetable oil to skillet &amp; heat on mediu...</td>\n",
       "      <td>15.4</td>\n",
       "    </tr>\n",
       "    <tr>\n",
       "      <th>8</th>\n",
       "      <td>shrimp supreme</td>\n",
       "      <td>126333</td>\n",
       "      <td>vegetable oil</td>\n",
       "      <td>285.5</td>\n",
       "      <td>20</td>\n",
       "      <td>['heat oil in a large skillet on medium heat',...</td>\n",
       "      <td>-129.1</td>\n",
       "    </tr>\n",
       "    <tr>\n",
       "      <th>9</th>\n",
       "      <td>melt in your mouth barbecued chicken</td>\n",
       "      <td>190558</td>\n",
       "      <td>vegetable oil</td>\n",
       "      <td>541.7</td>\n",
       "      <td>70</td>\n",
       "      <td>['heat oil in a large skillet over medium-high...</td>\n",
       "      <td>127.1</td>\n",
       "    </tr>\n",
       "  </tbody>\n",
       "</table>\n",
       "</div>"
      ],
      "text/plain": [
       "                                                name      id    ingredients  \\\n",
       "0              crustless spainch and mushroom quiche  527347  vegetable oil   \n",
       "1                                              gumbo   32042  vegetable oil   \n",
       "2  argentinian grilled flank steak with chimichur...  457101  vegetable oil   \n",
       "3        weight watchers chili lime chicken 3 points  408980  vegetable oil   \n",
       "4                              capo s chicken diablo  139260  vegetable oil   \n",
       "5                      cambodian sweet and sour fish  505454  vegetable oil   \n",
       "6                             french onion jambalaya   29073  vegetable oil   \n",
       "7             creamy chicken   black bean enchiladas  518749  vegetable oil   \n",
       "8                                     shrimp supreme  126333  vegetable oil   \n",
       "9               melt in your mouth barbecued chicken  190558  vegetable oil   \n",
       "\n",
       "   calories  minutes                                              steps  \\\n",
       "0     125.2       55  ['preheat oven to 350-degrees f', 'spray 9-inc...   \n",
       "1     551.6       60  ['in a large stockpot combine oil and flour an...   \n",
       "2     672.1       20  [\"prepare grill according to manufacturer's in...   \n",
       "3     300.9       15  ['in a large nonstick skillet , heat the oil',...   \n",
       "4     481.3       60  ['preheat oven to 350 degrees f', 'in a small ...   \n",
       "5      94.7       25  ['in a measuring cup , mix together the fish s...   \n",
       "6     526.5       30  ['heat oil in skillet', 'add the chicken , sau...   \n",
       "7     430.0       50  ['add vegetable oil to skillet & heat on mediu...   \n",
       "8     285.5       20  ['heat oil in a large skillet on medium heat',...   \n",
       "9     541.7       70  ['heat oil in a large skillet over medium-high...   \n",
       "\n",
       "   calories_gap  \n",
       "0        -289.4  \n",
       "1         137.0  \n",
       "2         257.5  \n",
       "3        -113.7  \n",
       "4          66.7  \n",
       "5        -319.9  \n",
       "6         111.9  \n",
       "7          15.4  \n",
       "8        -129.1  \n",
       "9         127.1  "
      ]
     },
     "execution_count": 103,
     "metadata": {},
     "output_type": "execute_result"
    }
   ],
   "source": [
    "rekomendasi_makanan_df"
   ]
  },
  {
   "cell_type": "markdown",
   "metadata": {},
   "source": [
    "### Collaborative Filtering"
   ]
  },
  {
   "cell_type": "code",
   "execution_count": 707,
   "metadata": {},
   "outputs": [],
   "source": [
    "food_df = collaborative_df\n",
    "df = collaborative_df\n",
    " \n",
    "# Mengambil sample user\n",
    "user_id = df.user_id.sample(1).iloc[0]\n",
    "selected_food_by_user = df[df.user_id == user_id]\n",
    "\n",
    "food_not_selected = food_df[~food_df['recipe_id'].isin(selected_food_by_user.recipe_id.values)]['recipe_id'] \n",
    "food_not_selected = list(\n",
    "    set(food_not_selected)\n",
    "    .intersection(set(recipe_to_recipe_encoded.keys()))\n",
    ")\n",
    " \n",
    "food_not_selected = [[recipe_to_recipe_encoded.get(x)] for x in food_not_selected]\n",
    "user_encoder = user_to_user_encoded.get(user_id)\n",
    "user_resto_array = np.hstack(\n",
    "    ([[user_encoder]] * len(food_not_selected), food_not_selected)\n",
    ")"
   ]
  },
  {
   "cell_type": "code",
   "execution_count": 723,
   "metadata": {},
   "outputs": [
    {
     "name": "stdout",
     "output_type": "stream",
     "text": [
      "60/60 [==============================] - 0s 3ms/step\n",
      "Showing recommendations for users: 597538\n",
      "===========================\n",
      "Food with high ratings from user\n",
      "--------------------------------\n",
      "tomato and avocado goat cheese crostini\n",
      "--------------------------------\n",
      "Top 10 food recommendation\n",
      "--------------------------------\n",
      "Recipe ID: 141983 - Food Name: beefed up bloody mary soup\n",
      "----\n",
      "Recipe ID: 83524 - Food Name: dreamsicle cookie mix in a jar\n",
      "----\n",
      "Recipe ID: 33489 - Food Name: really good vegetarian meatloaf  really\n",
      "----\n",
      "Recipe ID: 141983 - Food Name: kourabiethes  greek butter cookies\n",
      "----\n",
      "Recipe ID: 83524 - Food Name: advocaat\n",
      "----\n",
      "Recipe ID: 105670 - Food Name: chicken osso buco\n",
      "----\n",
      "Recipe ID: 109264 - Food Name: homemade plant food\n",
      "----\n",
      "Recipe ID: 305026 - Food Name: blueberry sausage breakfast cake\n",
      "----\n",
      "Recipe ID: 87782 - Food Name: saucy pasta all in one pot\n",
      "----\n",
      "Recipe ID: 31349 - Food Name: apple cider gravy\n",
      "----\n"
     ]
    }
   ],
   "source": [
    "ratings = model.predict(user_resto_array).flatten()\n",
    " \n",
    "top_ratings_indices = ratings.argsort()[-10:][::-1]\n",
    "recommended_food_ids = list(set([\n",
    "    recipe_encoded_to_recipe.get(food_not_selected[x][0])\n",
    "    for x in top_ratings_indices\n",
    "]))\n",
    " \n",
    "print('Showing recommendations for users: {}'.format(user_id))\n",
    "print('===' * 9)\n",
    "print('Food with high ratings from user')\n",
    "print('----' * 8)\n",
    "\n",
    "top_food_user = (\n",
    "    selected_food_by_user.sort_values(\n",
    "        by = 'rating',\n",
    "        ascending=False\n",
    "    )\n",
    "    .head(5)\n",
    "    .recipe_id.values\n",
    ")\n",
    " \n",
    "food_df_rows = food_df[food_df['recipe_id'].isin(top_food_user)]\n",
    "for row in food_df_rows.itertuples():\n",
    "    print(row.food_name)\n",
    " \n",
    "print('----' * 8)\n",
    "print('Top 10 food recommendation')\n",
    "print('----' * 8)\n",
    " \n",
    "recommended_food = food_df[food_df['recipe_id'].isin(recommended_food_ids)].head(10)\n",
    "for row in recommended_food.itertuples():\n",
    "    print('Recipe ID:', row.recipe_id, '-' , 'Food Name:', row.food_name)\n",
    "    print('----')"
   ]
  },
  {
   "cell_type": "markdown",
   "metadata": {},
   "source": [
    "## Evaluation"
   ]
  },
  {
   "cell_type": "markdown",
   "metadata": {},
   "source": [
    "### Content Based Filtering"
   ]
  },
  {
   "cell_type": "markdown",
   "metadata": {},
   "source": [
    "Tampilkan data makanan pertama:"
   ]
  },
  {
   "cell_type": "code",
   "execution_count": 99,
   "metadata": {},
   "outputs": [
    {
     "data": {
      "text/html": [
       "<div>\n",
       "<style scoped>\n",
       "    .dataframe tbody tr th:only-of-type {\n",
       "        vertical-align: middle;\n",
       "    }\n",
       "\n",
       "    .dataframe tbody tr th {\n",
       "        vertical-align: top;\n",
       "    }\n",
       "\n",
       "    .dataframe thead th {\n",
       "        text-align: right;\n",
       "    }\n",
       "</style>\n",
       "<table border=\"1\" class=\"dataframe\">\n",
       "  <thead>\n",
       "    <tr style=\"text-align: right;\">\n",
       "      <th></th>\n",
       "      <th>id</th>\n",
       "      <th>name</th>\n",
       "      <th>ingredients</th>\n",
       "      <th>calories</th>\n",
       "      <th>minutes</th>\n",
       "      <th>steps</th>\n",
       "    </tr>\n",
       "  </thead>\n",
       "  <tbody>\n",
       "    <tr>\n",
       "      <th>2291</th>\n",
       "      <td>178424</td>\n",
       "      <td>meatloaf with potato topping</td>\n",
       "      <td>vegetable oil</td>\n",
       "      <td>414.6</td>\n",
       "      <td>105</td>\n",
       "      <td>['in nonstick skillet , heat oil over medium h...</td>\n",
       "    </tr>\n",
       "  </tbody>\n",
       "</table>\n",
       "</div>"
      ],
      "text/plain": [
       "          id                          name    ingredients  calories  minutes  \\\n",
       "2291  178424  meatloaf with potato topping  vegetable oil     414.6      105   \n",
       "\n",
       "                                                  steps  \n",
       "2291  ['in nonstick skillet , heat oil over medium h...  "
      ]
     },
     "execution_count": 99,
     "metadata": {},
     "output_type": "execute_result"
    }
   ],
   "source": [
    "makanan_pertama_df"
   ]
  },
  {
   "cell_type": "markdown",
   "metadata": {},
   "source": [
    "Tampilkan data hasil rekomendasi:"
   ]
  },
  {
   "cell_type": "code",
   "execution_count": 104,
   "metadata": {},
   "outputs": [
    {
     "data": {
      "text/html": [
       "<div>\n",
       "<style scoped>\n",
       "    .dataframe tbody tr th:only-of-type {\n",
       "        vertical-align: middle;\n",
       "    }\n",
       "\n",
       "    .dataframe tbody tr th {\n",
       "        vertical-align: top;\n",
       "    }\n",
       "\n",
       "    .dataframe thead th {\n",
       "        text-align: right;\n",
       "    }\n",
       "</style>\n",
       "<table border=\"1\" class=\"dataframe\">\n",
       "  <thead>\n",
       "    <tr style=\"text-align: right;\">\n",
       "      <th></th>\n",
       "      <th>name</th>\n",
       "      <th>id</th>\n",
       "      <th>ingredients</th>\n",
       "      <th>calories</th>\n",
       "      <th>minutes</th>\n",
       "      <th>steps</th>\n",
       "      <th>calories_gap</th>\n",
       "    </tr>\n",
       "  </thead>\n",
       "  <tbody>\n",
       "    <tr>\n",
       "      <th>0</th>\n",
       "      <td>crustless spainch and mushroom quiche</td>\n",
       "      <td>527347</td>\n",
       "      <td>vegetable oil</td>\n",
       "      <td>125.2</td>\n",
       "      <td>55</td>\n",
       "      <td>['preheat oven to 350-degrees f', 'spray 9-inc...</td>\n",
       "      <td>-289.4</td>\n",
       "    </tr>\n",
       "    <tr>\n",
       "      <th>1</th>\n",
       "      <td>gumbo</td>\n",
       "      <td>32042</td>\n",
       "      <td>vegetable oil</td>\n",
       "      <td>551.6</td>\n",
       "      <td>60</td>\n",
       "      <td>['in a large stockpot combine oil and flour an...</td>\n",
       "      <td>137.0</td>\n",
       "    </tr>\n",
       "    <tr>\n",
       "      <th>2</th>\n",
       "      <td>argentinian grilled flank steak with chimichur...</td>\n",
       "      <td>457101</td>\n",
       "      <td>vegetable oil</td>\n",
       "      <td>672.1</td>\n",
       "      <td>20</td>\n",
       "      <td>[\"prepare grill according to manufacturer's in...</td>\n",
       "      <td>257.5</td>\n",
       "    </tr>\n",
       "    <tr>\n",
       "      <th>3</th>\n",
       "      <td>weight watchers chili lime chicken 3 points</td>\n",
       "      <td>408980</td>\n",
       "      <td>vegetable oil</td>\n",
       "      <td>300.9</td>\n",
       "      <td>15</td>\n",
       "      <td>['in a large nonstick skillet , heat the oil',...</td>\n",
       "      <td>-113.7</td>\n",
       "    </tr>\n",
       "    <tr>\n",
       "      <th>4</th>\n",
       "      <td>capo s chicken diablo</td>\n",
       "      <td>139260</td>\n",
       "      <td>vegetable oil</td>\n",
       "      <td>481.3</td>\n",
       "      <td>60</td>\n",
       "      <td>['preheat oven to 350 degrees f', 'in a small ...</td>\n",
       "      <td>66.7</td>\n",
       "    </tr>\n",
       "    <tr>\n",
       "      <th>5</th>\n",
       "      <td>cambodian sweet and sour fish</td>\n",
       "      <td>505454</td>\n",
       "      <td>vegetable oil</td>\n",
       "      <td>94.7</td>\n",
       "      <td>25</td>\n",
       "      <td>['in a measuring cup , mix together the fish s...</td>\n",
       "      <td>-319.9</td>\n",
       "    </tr>\n",
       "    <tr>\n",
       "      <th>6</th>\n",
       "      <td>french onion jambalaya</td>\n",
       "      <td>29073</td>\n",
       "      <td>vegetable oil</td>\n",
       "      <td>526.5</td>\n",
       "      <td>30</td>\n",
       "      <td>['heat oil in skillet', 'add the chicken , sau...</td>\n",
       "      <td>111.9</td>\n",
       "    </tr>\n",
       "    <tr>\n",
       "      <th>7</th>\n",
       "      <td>creamy chicken   black bean enchiladas</td>\n",
       "      <td>518749</td>\n",
       "      <td>vegetable oil</td>\n",
       "      <td>430.0</td>\n",
       "      <td>50</td>\n",
       "      <td>['add vegetable oil to skillet &amp; heat on mediu...</td>\n",
       "      <td>15.4</td>\n",
       "    </tr>\n",
       "    <tr>\n",
       "      <th>8</th>\n",
       "      <td>shrimp supreme</td>\n",
       "      <td>126333</td>\n",
       "      <td>vegetable oil</td>\n",
       "      <td>285.5</td>\n",
       "      <td>20</td>\n",
       "      <td>['heat oil in a large skillet on medium heat',...</td>\n",
       "      <td>-129.1</td>\n",
       "    </tr>\n",
       "    <tr>\n",
       "      <th>9</th>\n",
       "      <td>melt in your mouth barbecued chicken</td>\n",
       "      <td>190558</td>\n",
       "      <td>vegetable oil</td>\n",
       "      <td>541.7</td>\n",
       "      <td>70</td>\n",
       "      <td>['heat oil in a large skillet over medium-high...</td>\n",
       "      <td>127.1</td>\n",
       "    </tr>\n",
       "  </tbody>\n",
       "</table>\n",
       "</div>"
      ],
      "text/plain": [
       "                                                name      id    ingredients  \\\n",
       "0              crustless spainch and mushroom quiche  527347  vegetable oil   \n",
       "1                                              gumbo   32042  vegetable oil   \n",
       "2  argentinian grilled flank steak with chimichur...  457101  vegetable oil   \n",
       "3        weight watchers chili lime chicken 3 points  408980  vegetable oil   \n",
       "4                              capo s chicken diablo  139260  vegetable oil   \n",
       "5                      cambodian sweet and sour fish  505454  vegetable oil   \n",
       "6                             french onion jambalaya   29073  vegetable oil   \n",
       "7             creamy chicken   black bean enchiladas  518749  vegetable oil   \n",
       "8                                     shrimp supreme  126333  vegetable oil   \n",
       "9               melt in your mouth barbecued chicken  190558  vegetable oil   \n",
       "\n",
       "   calories  minutes                                              steps  \\\n",
       "0     125.2       55  ['preheat oven to 350-degrees f', 'spray 9-inc...   \n",
       "1     551.6       60  ['in a large stockpot combine oil and flour an...   \n",
       "2     672.1       20  [\"prepare grill according to manufacturer's in...   \n",
       "3     300.9       15  ['in a large nonstick skillet , heat the oil',...   \n",
       "4     481.3       60  ['preheat oven to 350 degrees f', 'in a small ...   \n",
       "5      94.7       25  ['in a measuring cup , mix together the fish s...   \n",
       "6     526.5       30  ['heat oil in skillet', 'add the chicken , sau...   \n",
       "7     430.0       50  ['add vegetable oil to skillet & heat on mediu...   \n",
       "8     285.5       20  ['heat oil in a large skillet on medium heat',...   \n",
       "9     541.7       70  ['heat oil in a large skillet over medium-high...   \n",
       "\n",
       "   calories_gap  \n",
       "0        -289.4  \n",
       "1         137.0  \n",
       "2         257.5  \n",
       "3        -113.7  \n",
       "4          66.7  \n",
       "5        -319.9  \n",
       "6         111.9  \n",
       "7          15.4  \n",
       "8        -129.1  \n",
       "9         127.1  "
      ]
     },
     "execution_count": 104,
     "metadata": {},
     "output_type": "execute_result"
    }
   ],
   "source": [
    "rekomendasi_makanan_df"
   ]
  },
  {
   "cell_type": "markdown",
   "metadata": {},
   "source": [
    "Gabungkan data makanan_pertama_df dan rekomendasi_makanan_df, khususnya untuk kolom _name_ dan _ingredients_:"
   ]
  },
  {
   "cell_type": "code",
   "execution_count": 105,
   "metadata": {},
   "outputs": [],
   "source": [
    "perbandingan_df = pd.concat([\n",
    "    makanan_pertama_df[['name', 'ingredients']],\n",
    "    rekomendasi_makanan_df[['name', 'ingredients']]\n",
    "], ignore_index=True)"
   ]
  },
  {
   "cell_type": "code",
   "execution_count": 106,
   "metadata": {},
   "outputs": [
    {
     "data": {
      "text/html": [
       "<div>\n",
       "<style scoped>\n",
       "    .dataframe tbody tr th:only-of-type {\n",
       "        vertical-align: middle;\n",
       "    }\n",
       "\n",
       "    .dataframe tbody tr th {\n",
       "        vertical-align: top;\n",
       "    }\n",
       "\n",
       "    .dataframe thead th {\n",
       "        text-align: right;\n",
       "    }\n",
       "</style>\n",
       "<table border=\"1\" class=\"dataframe\">\n",
       "  <thead>\n",
       "    <tr style=\"text-align: right;\">\n",
       "      <th></th>\n",
       "      <th>name</th>\n",
       "      <th>ingredients</th>\n",
       "    </tr>\n",
       "  </thead>\n",
       "  <tbody>\n",
       "    <tr>\n",
       "      <th>0</th>\n",
       "      <td>meatloaf with potato topping</td>\n",
       "      <td>vegetable oil</td>\n",
       "    </tr>\n",
       "    <tr>\n",
       "      <th>1</th>\n",
       "      <td>crustless spainch and mushroom quiche</td>\n",
       "      <td>vegetable oil</td>\n",
       "    </tr>\n",
       "    <tr>\n",
       "      <th>2</th>\n",
       "      <td>gumbo</td>\n",
       "      <td>vegetable oil</td>\n",
       "    </tr>\n",
       "    <tr>\n",
       "      <th>3</th>\n",
       "      <td>argentinian grilled flank steak with chimichur...</td>\n",
       "      <td>vegetable oil</td>\n",
       "    </tr>\n",
       "    <tr>\n",
       "      <th>4</th>\n",
       "      <td>weight watchers chili lime chicken 3 points</td>\n",
       "      <td>vegetable oil</td>\n",
       "    </tr>\n",
       "    <tr>\n",
       "      <th>5</th>\n",
       "      <td>capo s chicken diablo</td>\n",
       "      <td>vegetable oil</td>\n",
       "    </tr>\n",
       "    <tr>\n",
       "      <th>6</th>\n",
       "      <td>cambodian sweet and sour fish</td>\n",
       "      <td>vegetable oil</td>\n",
       "    </tr>\n",
       "    <tr>\n",
       "      <th>7</th>\n",
       "      <td>french onion jambalaya</td>\n",
       "      <td>vegetable oil</td>\n",
       "    </tr>\n",
       "    <tr>\n",
       "      <th>8</th>\n",
       "      <td>creamy chicken   black bean enchiladas</td>\n",
       "      <td>vegetable oil</td>\n",
       "    </tr>\n",
       "    <tr>\n",
       "      <th>9</th>\n",
       "      <td>shrimp supreme</td>\n",
       "      <td>vegetable oil</td>\n",
       "    </tr>\n",
       "    <tr>\n",
       "      <th>10</th>\n",
       "      <td>melt in your mouth barbecued chicken</td>\n",
       "      <td>vegetable oil</td>\n",
       "    </tr>\n",
       "  </tbody>\n",
       "</table>\n",
       "</div>"
      ],
      "text/plain": [
       "                                                 name    ingredients\n",
       "0                        meatloaf with potato topping  vegetable oil\n",
       "1               crustless spainch and mushroom quiche  vegetable oil\n",
       "2                                               gumbo  vegetable oil\n",
       "3   argentinian grilled flank steak with chimichur...  vegetable oil\n",
       "4         weight watchers chili lime chicken 3 points  vegetable oil\n",
       "5                               capo s chicken diablo  vegetable oil\n",
       "6                       cambodian sweet and sour fish  vegetable oil\n",
       "7                              french onion jambalaya  vegetable oil\n",
       "8              creamy chicken   black bean enchiladas  vegetable oil\n",
       "9                                      shrimp supreme  vegetable oil\n",
       "10               melt in your mouth barbecued chicken  vegetable oil"
      ]
     },
     "execution_count": 106,
     "metadata": {},
     "output_type": "execute_result"
    }
   ],
   "source": [
    "perbandingan_df"
   ]
  },
  {
   "cell_type": "markdown",
   "metadata": {},
   "source": [
    "Menghitung nilai relevansi dengan cara membandingkan kemiripan bahan baku pada makanan yang direkomendasikan model:"
   ]
  },
  {
   "cell_type": "code",
   "execution_count": 107,
   "metadata": {},
   "outputs": [],
   "source": [
    "vectorizer = TfidfVectorizer(stop_words='english', ngram_range=(1,1))"
   ]
  },
  {
   "cell_type": "code",
   "execution_count": 108,
   "metadata": {},
   "outputs": [],
   "source": [
    "perbandingan_df['ingredients'] = perbandingan_df['ingredients'].apply(lambda x: ' '.join(x))"
   ]
  },
  {
   "cell_type": "code",
   "execution_count": 109,
   "metadata": {},
   "outputs": [
    {
     "ename": "ValueError",
     "evalue": "empty vocabulary; perhaps the documents only contain stop words",
     "output_type": "error",
     "traceback": [
      "\u001b[1;31m---------------------------------------------------------------------------\u001b[0m",
      "\u001b[1;31mValueError\u001b[0m                                Traceback (most recent call last)",
      "Cell \u001b[1;32mIn[109], line 1\u001b[0m\n\u001b[1;32m----> 1\u001b[0m \u001b[43mvectorizer\u001b[49m\u001b[38;5;241;43m.\u001b[39;49m\u001b[43mfit\u001b[49m\u001b[43m(\u001b[49m\u001b[43mperbandingan_df\u001b[49m\u001b[43m[\u001b[49m\u001b[38;5;124;43m'\u001b[39;49m\u001b[38;5;124;43mingredients\u001b[39;49m\u001b[38;5;124;43m'\u001b[39;49m\u001b[43m]\u001b[49m\u001b[43m)\u001b[49m\n\u001b[0;32m      3\u001b[0m bahan \u001b[38;5;241m=\u001b[39m vectorizer\u001b[38;5;241m.\u001b[39mget_feature_names_out()\n",
      "File \u001b[1;32mc:\\ProgramData\\anaconda3\\envs\\Recommendation-System\\lib\\site-packages\\sklearn\\base.py:1473\u001b[0m, in \u001b[0;36m_fit_context.<locals>.decorator.<locals>.wrapper\u001b[1;34m(estimator, *args, **kwargs)\u001b[0m\n\u001b[0;32m   1466\u001b[0m     estimator\u001b[38;5;241m.\u001b[39m_validate_params()\n\u001b[0;32m   1468\u001b[0m \u001b[38;5;28;01mwith\u001b[39;00m config_context(\n\u001b[0;32m   1469\u001b[0m     skip_parameter_validation\u001b[38;5;241m=\u001b[39m(\n\u001b[0;32m   1470\u001b[0m         prefer_skip_nested_validation \u001b[38;5;129;01mor\u001b[39;00m global_skip_validation\n\u001b[0;32m   1471\u001b[0m     )\n\u001b[0;32m   1472\u001b[0m ):\n\u001b[1;32m-> 1473\u001b[0m     \u001b[38;5;28;01mreturn\u001b[39;00m fit_method(estimator, \u001b[38;5;241m*\u001b[39margs, \u001b[38;5;241m*\u001b[39m\u001b[38;5;241m*\u001b[39mkwargs)\n",
      "File \u001b[1;32mc:\\ProgramData\\anaconda3\\envs\\Recommendation-System\\lib\\site-packages\\sklearn\\feature_extraction\\text.py:2061\u001b[0m, in \u001b[0;36mTfidfVectorizer.fit\u001b[1;34m(self, raw_documents, y)\u001b[0m\n\u001b[0;32m   2054\u001b[0m \u001b[38;5;28mself\u001b[39m\u001b[38;5;241m.\u001b[39m_warn_for_unused_params()\n\u001b[0;32m   2055\u001b[0m \u001b[38;5;28mself\u001b[39m\u001b[38;5;241m.\u001b[39m_tfidf \u001b[38;5;241m=\u001b[39m TfidfTransformer(\n\u001b[0;32m   2056\u001b[0m     norm\u001b[38;5;241m=\u001b[39m\u001b[38;5;28mself\u001b[39m\u001b[38;5;241m.\u001b[39mnorm,\n\u001b[0;32m   2057\u001b[0m     use_idf\u001b[38;5;241m=\u001b[39m\u001b[38;5;28mself\u001b[39m\u001b[38;5;241m.\u001b[39muse_idf,\n\u001b[0;32m   2058\u001b[0m     smooth_idf\u001b[38;5;241m=\u001b[39m\u001b[38;5;28mself\u001b[39m\u001b[38;5;241m.\u001b[39msmooth_idf,\n\u001b[0;32m   2059\u001b[0m     sublinear_tf\u001b[38;5;241m=\u001b[39m\u001b[38;5;28mself\u001b[39m\u001b[38;5;241m.\u001b[39msublinear_tf,\n\u001b[0;32m   2060\u001b[0m )\n\u001b[1;32m-> 2061\u001b[0m X \u001b[38;5;241m=\u001b[39m \u001b[38;5;28;43msuper\u001b[39;49m\u001b[43m(\u001b[49m\u001b[43m)\u001b[49m\u001b[38;5;241;43m.\u001b[39;49m\u001b[43mfit_transform\u001b[49m\u001b[43m(\u001b[49m\u001b[43mraw_documents\u001b[49m\u001b[43m)\u001b[49m\n\u001b[0;32m   2062\u001b[0m \u001b[38;5;28mself\u001b[39m\u001b[38;5;241m.\u001b[39m_tfidf\u001b[38;5;241m.\u001b[39mfit(X)\n\u001b[0;32m   2063\u001b[0m \u001b[38;5;28;01mreturn\u001b[39;00m \u001b[38;5;28mself\u001b[39m\n",
      "File \u001b[1;32mc:\\ProgramData\\anaconda3\\envs\\Recommendation-System\\lib\\site-packages\\sklearn\\base.py:1473\u001b[0m, in \u001b[0;36m_fit_context.<locals>.decorator.<locals>.wrapper\u001b[1;34m(estimator, *args, **kwargs)\u001b[0m\n\u001b[0;32m   1466\u001b[0m     estimator\u001b[38;5;241m.\u001b[39m_validate_params()\n\u001b[0;32m   1468\u001b[0m \u001b[38;5;28;01mwith\u001b[39;00m config_context(\n\u001b[0;32m   1469\u001b[0m     skip_parameter_validation\u001b[38;5;241m=\u001b[39m(\n\u001b[0;32m   1470\u001b[0m         prefer_skip_nested_validation \u001b[38;5;129;01mor\u001b[39;00m global_skip_validation\n\u001b[0;32m   1471\u001b[0m     )\n\u001b[0;32m   1472\u001b[0m ):\n\u001b[1;32m-> 1473\u001b[0m     \u001b[38;5;28;01mreturn\u001b[39;00m fit_method(estimator, \u001b[38;5;241m*\u001b[39margs, \u001b[38;5;241m*\u001b[39m\u001b[38;5;241m*\u001b[39mkwargs)\n",
      "File \u001b[1;32mc:\\ProgramData\\anaconda3\\envs\\Recommendation-System\\lib\\site-packages\\sklearn\\feature_extraction\\text.py:1372\u001b[0m, in \u001b[0;36mCountVectorizer.fit_transform\u001b[1;34m(self, raw_documents, y)\u001b[0m\n\u001b[0;32m   1364\u001b[0m             warnings\u001b[38;5;241m.\u001b[39mwarn(\n\u001b[0;32m   1365\u001b[0m                 \u001b[38;5;124m\"\u001b[39m\u001b[38;5;124mUpper case characters found in\u001b[39m\u001b[38;5;124m\"\u001b[39m\n\u001b[0;32m   1366\u001b[0m                 \u001b[38;5;124m\"\u001b[39m\u001b[38;5;124m vocabulary while \u001b[39m\u001b[38;5;124m'\u001b[39m\u001b[38;5;124mlowercase\u001b[39m\u001b[38;5;124m'\u001b[39m\u001b[38;5;124m\"\u001b[39m\n\u001b[0;32m   1367\u001b[0m                 \u001b[38;5;124m\"\u001b[39m\u001b[38;5;124m is True. These entries will not\u001b[39m\u001b[38;5;124m\"\u001b[39m\n\u001b[0;32m   1368\u001b[0m                 \u001b[38;5;124m\"\u001b[39m\u001b[38;5;124m be matched with any documents\u001b[39m\u001b[38;5;124m\"\u001b[39m\n\u001b[0;32m   1369\u001b[0m             )\n\u001b[0;32m   1370\u001b[0m             \u001b[38;5;28;01mbreak\u001b[39;00m\n\u001b[1;32m-> 1372\u001b[0m vocabulary, X \u001b[38;5;241m=\u001b[39m \u001b[38;5;28;43mself\u001b[39;49m\u001b[38;5;241;43m.\u001b[39;49m\u001b[43m_count_vocab\u001b[49m\u001b[43m(\u001b[49m\u001b[43mraw_documents\u001b[49m\u001b[43m,\u001b[49m\u001b[43m \u001b[49m\u001b[38;5;28;43mself\u001b[39;49m\u001b[38;5;241;43m.\u001b[39;49m\u001b[43mfixed_vocabulary_\u001b[49m\u001b[43m)\u001b[49m\n\u001b[0;32m   1374\u001b[0m \u001b[38;5;28;01mif\u001b[39;00m \u001b[38;5;28mself\u001b[39m\u001b[38;5;241m.\u001b[39mbinary:\n\u001b[0;32m   1375\u001b[0m     X\u001b[38;5;241m.\u001b[39mdata\u001b[38;5;241m.\u001b[39mfill(\u001b[38;5;241m1\u001b[39m)\n",
      "File \u001b[1;32mc:\\ProgramData\\anaconda3\\envs\\Recommendation-System\\lib\\site-packages\\sklearn\\feature_extraction\\text.py:1278\u001b[0m, in \u001b[0;36mCountVectorizer._count_vocab\u001b[1;34m(self, raw_documents, fixed_vocab)\u001b[0m\n\u001b[0;32m   1276\u001b[0m     vocabulary \u001b[38;5;241m=\u001b[39m \u001b[38;5;28mdict\u001b[39m(vocabulary)\n\u001b[0;32m   1277\u001b[0m     \u001b[38;5;28;01mif\u001b[39;00m \u001b[38;5;129;01mnot\u001b[39;00m vocabulary:\n\u001b[1;32m-> 1278\u001b[0m         \u001b[38;5;28;01mraise\u001b[39;00m \u001b[38;5;167;01mValueError\u001b[39;00m(\n\u001b[0;32m   1279\u001b[0m             \u001b[38;5;124m\"\u001b[39m\u001b[38;5;124mempty vocabulary; perhaps the documents only contain stop words\u001b[39m\u001b[38;5;124m\"\u001b[39m\n\u001b[0;32m   1280\u001b[0m         )\n\u001b[0;32m   1282\u001b[0m \u001b[38;5;28;01mif\u001b[39;00m indptr[\u001b[38;5;241m-\u001b[39m\u001b[38;5;241m1\u001b[39m] \u001b[38;5;241m>\u001b[39m np\u001b[38;5;241m.\u001b[39miinfo(np\u001b[38;5;241m.\u001b[39mint32)\u001b[38;5;241m.\u001b[39mmax:  \u001b[38;5;66;03m# = 2**31 - 1\u001b[39;00m\n\u001b[0;32m   1283\u001b[0m     \u001b[38;5;28;01mif\u001b[39;00m _IS_32BIT:\n",
      "\u001b[1;31mValueError\u001b[0m: empty vocabulary; perhaps the documents only contain stop words"
     ]
    }
   ],
   "source": [
    "vectorizer.fit(perbandingan_df['ingredients'])\n",
    "\n",
    "bahan = vectorizer.get_feature_names_out()"
   ]
  },
  {
   "cell_type": "code",
   "execution_count": 121,
   "metadata": {},
   "outputs": [
    {
     "data": {
      "text/plain": [
       "array(['alfalfa', 'almonds', 'baby', 'basil', 'beans', 'beef', 'black',\n",
       "       'boneless', 'bread', 'breadcrumbs', 'breasts', 'broth', 'butter',\n",
       "       'buttermilk', 'cake', 'caraway', 'carrot', 'carrots', 'cayenne',\n",
       "       'celery', 'cheese', 'cherry', 'chicken', 'chili', 'chocolate',\n",
       "       'clove', 'cloves', 'cool', 'corn', 'cornmeal', 'crabmeat',\n",
       "       'cranberries', 'cranberry', 'cream', 'creole', 'crumbs', 'dark',\n",
       "       'dijon', 'dill', 'dried', 'dry', 'egg', 'eggs', 'fat', 'fennel',\n",
       "       'feta', 'fillet', 'flour', 'free', 'fresh', 'garlic', 'goat',\n",
       "       'gold', 'green', 'ground', 'haddock', 'half', 'instant', 'juice',\n",
       "       'lean', 'leaves', 'leeks', 'lemon', 'lemons', 'lima', 'mayonnaise',\n",
       "       'milk', 'mint', 'mix', 'mushroom', 'mushrooms', 'mustard',\n",
       "       'nonfat', 'nutmeg', 'oil', 'olive', 'onion', 'onions', 'orange',\n",
       "       'oregano', 'parmesan', 'parsley', 'pepper', 'plain', 'potatoes',\n",
       "       'pudding', 'purpose', 'red', 'ricotta', 'sage', 'salt', 'sauce',\n",
       "       'seasoning', 'seed', 'sesame', 'skim', 'skinless', 'soft', 'soup',\n",
       "       'soy', 'spinach', 'splenda', 'sprout', 'substitute', 'sugar',\n",
       "       'sweet', 'tamari', 'thyme', 'tofu', 'tomatoes', 'tuna',\n",
       "       'vegetable', 'vinegar', 'water', 'wheat', 'whip', 'white', 'wine',\n",
       "       'yogurt', 'yukon'], dtype=object)"
      ]
     },
     "execution_count": 121,
     "metadata": {},
     "output_type": "execute_result"
    }
   ],
   "source": [
    "bahan"
   ]
  },
  {
   "cell_type": "code",
   "execution_count": null,
   "metadata": {},
   "outputs": [],
   "source": [
    "tfidf_bahan = vectorizer.fit_transform(perbandingan_df['ingredients'])\n",
    "tfidf_bahan.todense()\n",
    "\n",
    "eval_cos_sim = cosine_similarity(tfidf_bahan[0:1], tfidf_bahan)\n",
    "\n",
    "perbandingan_df['Skor Relevansi'] = eval_cos_sim.flatten()"
   ]
  },
  {
   "cell_type": "code",
   "execution_count": 123,
   "metadata": {},
   "outputs": [
    {
     "data": {
      "text/html": [
       "<div>\n",
       "<style scoped>\n",
       "    .dataframe tbody tr th:only-of-type {\n",
       "        vertical-align: middle;\n",
       "    }\n",
       "\n",
       "    .dataframe tbody tr th {\n",
       "        vertical-align: top;\n",
       "    }\n",
       "\n",
       "    .dataframe thead th {\n",
       "        text-align: right;\n",
       "    }\n",
       "</style>\n",
       "<table border=\"1\" class=\"dataframe\">\n",
       "  <thead>\n",
       "    <tr style=\"text-align: right;\">\n",
       "      <th></th>\n",
       "      <th>fennel</th>\n",
       "      <th>oil</th>\n",
       "      <th>cream</th>\n",
       "      <th>gold</th>\n",
       "      <th>plain</th>\n",
       "      <th>breadcrumbs</th>\n",
       "      <th>mushrooms</th>\n",
       "      <th>cake</th>\n",
       "      <th>olive</th>\n",
       "      <th>lima</th>\n",
       "    </tr>\n",
       "    <tr>\n",
       "      <th>ingredients_str</th>\n",
       "      <th></th>\n",
       "      <th></th>\n",
       "      <th></th>\n",
       "      <th></th>\n",
       "      <th></th>\n",
       "      <th></th>\n",
       "      <th></th>\n",
       "      <th></th>\n",
       "      <th></th>\n",
       "      <th></th>\n",
       "    </tr>\n",
       "  </thead>\n",
       "  <tbody>\n",
       "    <tr>\n",
       "      <th>chicken broth green onion cornmeal haddock fillet lima beans mushrooms parsley dill salt pepper</th>\n",
       "      <td>0.0</td>\n",
       "      <td>0.000000</td>\n",
       "      <td>0.000000</td>\n",
       "      <td>0.000000</td>\n",
       "      <td>0.000000</td>\n",
       "      <td>0.000000</td>\n",
       "      <td>0.315562</td>\n",
       "      <td>0.0</td>\n",
       "      <td>0.0</td>\n",
       "      <td>0.315562</td>\n",
       "    </tr>\n",
       "    <tr>\n",
       "      <th>fat-free sugar-free instant chocolate pudding mix nonfat milk splenda sugar substitute fat-free cool whip</th>\n",
       "      <td>0.0</td>\n",
       "      <td>0.000000</td>\n",
       "      <td>0.000000</td>\n",
       "      <td>0.000000</td>\n",
       "      <td>0.000000</td>\n",
       "      <td>0.000000</td>\n",
       "      <td>0.000000</td>\n",
       "      <td>0.0</td>\n",
       "      <td>0.0</td>\n",
       "      <td>0.000000</td>\n",
       "    </tr>\n",
       "    <tr>\n",
       "      <th>vegetable oil boneless skinless chicken breasts cranberry juice fresh orange juice cream of mushroom soup dried cranberries fresh sage salt &amp; pepper</th>\n",
       "      <td>0.0</td>\n",
       "      <td>0.169098</td>\n",
       "      <td>0.215155</td>\n",
       "      <td>0.000000</td>\n",
       "      <td>0.000000</td>\n",
       "      <td>0.000000</td>\n",
       "      <td>0.000000</td>\n",
       "      <td>0.0</td>\n",
       "      <td>0.0</td>\n",
       "      <td>0.000000</td>\n",
       "    </tr>\n",
       "    <tr>\n",
       "      <th>fresh lemon juice red wine vinegar garlic clove dijon mustard splenda sugar substitute plain nonfat yogurt</th>\n",
       "      <td>0.0</td>\n",
       "      <td>0.000000</td>\n",
       "      <td>0.000000</td>\n",
       "      <td>0.000000</td>\n",
       "      <td>0.263277</td>\n",
       "      <td>0.000000</td>\n",
       "      <td>0.000000</td>\n",
       "      <td>0.0</td>\n",
       "      <td>0.0</td>\n",
       "      <td>0.000000</td>\n",
       "    </tr>\n",
       "    <tr>\n",
       "      <th>leeks nonfat milk all-purpose flour salt ground black pepper ground nutmeg garlic clove yukon gold potatoes goat cheese soft breadcrumbs parmesan cheese fresh parsley</th>\n",
       "      <td>0.0</td>\n",
       "      <td>0.000000</td>\n",
       "      <td>0.000000</td>\n",
       "      <td>0.233473</td>\n",
       "      <td>0.000000</td>\n",
       "      <td>0.199564</td>\n",
       "      <td>0.000000</td>\n",
       "      <td>0.0</td>\n",
       "      <td>0.0</td>\n",
       "      <td>0.000000</td>\n",
       "    </tr>\n",
       "  </tbody>\n",
       "</table>\n",
       "</div>"
      ],
      "text/plain": [
       "                                                    fennel       oil  \\\n",
       "ingredients_str                                                        \n",
       "chicken broth green onion cornmeal haddock fill...     0.0  0.000000   \n",
       "fat-free sugar-free instant chocolate pudding m...     0.0  0.000000   \n",
       "vegetable oil boneless skinless chicken breasts...     0.0  0.169098   \n",
       "fresh lemon juice red wine vinegar garlic clove...     0.0  0.000000   \n",
       "leeks nonfat milk all-purpose flour salt ground...     0.0  0.000000   \n",
       "\n",
       "                                                       cream      gold  \\\n",
       "ingredients_str                                                          \n",
       "chicken broth green onion cornmeal haddock fill...  0.000000  0.000000   \n",
       "fat-free sugar-free instant chocolate pudding m...  0.000000  0.000000   \n",
       "vegetable oil boneless skinless chicken breasts...  0.215155  0.000000   \n",
       "fresh lemon juice red wine vinegar garlic clove...  0.000000  0.000000   \n",
       "leeks nonfat milk all-purpose flour salt ground...  0.000000  0.233473   \n",
       "\n",
       "                                                       plain  breadcrumbs  \\\n",
       "ingredients_str                                                             \n",
       "chicken broth green onion cornmeal haddock fill...  0.000000     0.000000   \n",
       "fat-free sugar-free instant chocolate pudding m...  0.000000     0.000000   \n",
       "vegetable oil boneless skinless chicken breasts...  0.000000     0.000000   \n",
       "fresh lemon juice red wine vinegar garlic clove...  0.263277     0.000000   \n",
       "leeks nonfat milk all-purpose flour salt ground...  0.000000     0.199564   \n",
       "\n",
       "                                                    mushrooms  cake  olive  \\\n",
       "ingredients_str                                                              \n",
       "chicken broth green onion cornmeal haddock fill...   0.315562   0.0    0.0   \n",
       "fat-free sugar-free instant chocolate pudding m...   0.000000   0.0    0.0   \n",
       "vegetable oil boneless skinless chicken breasts...   0.000000   0.0    0.0   \n",
       "fresh lemon juice red wine vinegar garlic clove...   0.000000   0.0    0.0   \n",
       "leeks nonfat milk all-purpose flour salt ground...   0.000000   0.0    0.0   \n",
       "\n",
       "                                                        lima  \n",
       "ingredients_str                                               \n",
       "chicken broth green onion cornmeal haddock fill...  0.315562  \n",
       "fat-free sugar-free instant chocolate pudding m...  0.000000  \n",
       "vegetable oil boneless skinless chicken breasts...  0.000000  \n",
       "fresh lemon juice red wine vinegar garlic clove...  0.000000  \n",
       "leeks nonfat milk all-purpose flour salt ground...  0.000000  "
      ]
     },
     "execution_count": 123,
     "metadata": {},
     "output_type": "execute_result"
    }
   ],
   "source": [
    "pd.DataFrame(tfidf_bahan.todense(),\n",
    "             columns=bahan,\n",
    "             index=perbandingan_df.ingredients_str\n",
    "             ).sample(10, axis=1).sample(5, axis=0)"
   ]
  },
  {
   "cell_type": "code",
   "execution_count": 124,
   "metadata": {},
   "outputs": [
    {
     "data": {
      "text/html": [
       "<div>\n",
       "<style scoped>\n",
       "    .dataframe tbody tr th:only-of-type {\n",
       "        vertical-align: middle;\n",
       "    }\n",
       "\n",
       "    .dataframe tbody tr th {\n",
       "        vertical-align: top;\n",
       "    }\n",
       "\n",
       "    .dataframe thead th {\n",
       "        text-align: right;\n",
       "    }\n",
       "</style>\n",
       "<table border=\"1\" class=\"dataframe\">\n",
       "  <thead>\n",
       "    <tr style=\"text-align: right;\">\n",
       "      <th></th>\n",
       "      <th>name</th>\n",
       "      <th>ingredients</th>\n",
       "      <th>ingredients_str</th>\n",
       "      <th>Skor Relevansi</th>\n",
       "    </tr>\n",
       "  </thead>\n",
       "  <tbody>\n",
       "    <tr>\n",
       "      <th>0</th>\n",
       "      <td>meatloaf with potato topping</td>\n",
       "      <td>[vegetable oil, green onions, garlic cloves, c...</td>\n",
       "      <td>vegetable oil green onions garlic cloves carro...</td>\n",
       "      <td>1.000000</td>\n",
       "    </tr>\n",
       "    <tr>\n",
       "      <th>1</th>\n",
       "      <td>simple spinach salad with lemon mint dressing</td>\n",
       "      <td>[baby spinach leaves, alfalfa sprout, cherry t...</td>\n",
       "      <td>baby spinach leaves alfalfa sprout cherry toma...</td>\n",
       "      <td>0.047307</td>\n",
       "    </tr>\n",
       "    <tr>\n",
       "      <th>2</th>\n",
       "      <td>fat free sugar free soft serve</td>\n",
       "      <td>[fat-free sugar-free instant chocolate pudding...</td>\n",
       "      <td>fat-free sugar-free instant chocolate pudding ...</td>\n",
       "      <td>0.000000</td>\n",
       "    </tr>\n",
       "    <tr>\n",
       "      <th>3</th>\n",
       "      <td>u nega gei</td>\n",
       "      <td>[chicken broth, green onion, cornmeal, haddock...</td>\n",
       "      <td>chicken broth green onion cornmeal haddock fil...</td>\n",
       "      <td>0.099175</td>\n",
       "    </tr>\n",
       "    <tr>\n",
       "      <th>4</th>\n",
       "      <td>bosnian vegetarian meatballs in yogurt sauce</td>\n",
       "      <td>[onions, garlic cloves, vegetable oil, carrots...</td>\n",
       "      <td>onions garlic cloves vegetable oil carrots sal...</td>\n",
       "      <td>0.276470</td>\n",
       "    </tr>\n",
       "    <tr>\n",
       "      <th>5</th>\n",
       "      <td>potato goat cheese gratin</td>\n",
       "      <td>[leeks, nonfat milk, all-purpose flour, salt, ...</td>\n",
       "      <td>leeks nonfat milk all-purpose flour salt groun...</td>\n",
       "      <td>0.162109</td>\n",
       "    </tr>\n",
       "    <tr>\n",
       "      <th>6</th>\n",
       "      <td>crabmeat and corn soup</td>\n",
       "      <td>[butter, all-purpose flour, whole milk, half-a...</td>\n",
       "      <td>butter all-purpose flour whole milk half-and-h...</td>\n",
       "      <td>0.170812</td>\n",
       "    </tr>\n",
       "    <tr>\n",
       "      <th>7</th>\n",
       "      <td>fat free lemon yogurt vinaigrette</td>\n",
       "      <td>[fresh lemon juice, red wine vinegar, garlic c...</td>\n",
       "      <td>fresh lemon juice red wine vinegar garlic clov...</td>\n",
       "      <td>0.062210</td>\n",
       "    </tr>\n",
       "    <tr>\n",
       "      <th>8</th>\n",
       "      <td>souper cranberry chicken</td>\n",
       "      <td>[vegetable oil, boneless skinless chicken brea...</td>\n",
       "      <td>vegetable oil boneless skinless chicken breast...</td>\n",
       "      <td>0.141330</td>\n",
       "    </tr>\n",
       "    <tr>\n",
       "      <th>9</th>\n",
       "      <td>black bean and corn tuna salad</td>\n",
       "      <td>[black beans, corn, tuna in water, mayonnaise,...</td>\n",
       "      <td>black beans corn tuna in water mayonnaise creo...</td>\n",
       "      <td>0.000000</td>\n",
       "    </tr>\n",
       "    <tr>\n",
       "      <th>10</th>\n",
       "      <td>spanakopita casserole</td>\n",
       "      <td>[fresh spinach, olive oil, red onion, green on...</td>\n",
       "      <td>fresh spinach olive oil red onion green onions...</td>\n",
       "      <td>0.126028</td>\n",
       "    </tr>\n",
       "  </tbody>\n",
       "</table>\n",
       "</div>"
      ],
      "text/plain": [
       "                                             name  \\\n",
       "0                    meatloaf with potato topping   \n",
       "1   simple spinach salad with lemon mint dressing   \n",
       "2                  fat free sugar free soft serve   \n",
       "3                                      u nega gei   \n",
       "4    bosnian vegetarian meatballs in yogurt sauce   \n",
       "5                       potato goat cheese gratin   \n",
       "6                          crabmeat and corn soup   \n",
       "7               fat free lemon yogurt vinaigrette   \n",
       "8                        souper cranberry chicken   \n",
       "9                  black bean and corn tuna salad   \n",
       "10                          spanakopita casserole   \n",
       "\n",
       "                                          ingredients  \\\n",
       "0   [vegetable oil, green onions, garlic cloves, c...   \n",
       "1   [baby spinach leaves, alfalfa sprout, cherry t...   \n",
       "2   [fat-free sugar-free instant chocolate pudding...   \n",
       "3   [chicken broth, green onion, cornmeal, haddock...   \n",
       "4   [onions, garlic cloves, vegetable oil, carrots...   \n",
       "5   [leeks, nonfat milk, all-purpose flour, salt, ...   \n",
       "6   [butter, all-purpose flour, whole milk, half-a...   \n",
       "7   [fresh lemon juice, red wine vinegar, garlic c...   \n",
       "8   [vegetable oil, boneless skinless chicken brea...   \n",
       "9   [black beans, corn, tuna in water, mayonnaise,...   \n",
       "10  [fresh spinach, olive oil, red onion, green on...   \n",
       "\n",
       "                                      ingredients_str  Skor Relevansi  \n",
       "0   vegetable oil green onions garlic cloves carro...        1.000000  \n",
       "1   baby spinach leaves alfalfa sprout cherry toma...        0.047307  \n",
       "2   fat-free sugar-free instant chocolate pudding ...        0.000000  \n",
       "3   chicken broth green onion cornmeal haddock fil...        0.099175  \n",
       "4   onions garlic cloves vegetable oil carrots sal...        0.276470  \n",
       "5   leeks nonfat milk all-purpose flour salt groun...        0.162109  \n",
       "6   butter all-purpose flour whole milk half-and-h...        0.170812  \n",
       "7   fresh lemon juice red wine vinegar garlic clov...        0.062210  \n",
       "8   vegetable oil boneless skinless chicken breast...        0.141330  \n",
       "9   black beans corn tuna in water mayonnaise creo...        0.000000  \n",
       "10  fresh spinach olive oil red onion green onions...        0.126028  "
      ]
     },
     "execution_count": 124,
     "metadata": {},
     "output_type": "execute_result"
    }
   ],
   "source": [
    "perbandingan_df"
   ]
  },
  {
   "cell_type": "code",
   "execution_count": 125,
   "metadata": {},
   "outputs": [
    {
     "data": {
      "text/plain": [
       "0.19"
      ]
     },
     "execution_count": 125,
     "metadata": {},
     "output_type": "execute_result"
    }
   ],
   "source": [
    "perbandingan_df['Skor Relevansi'].mean().round(3)"
   ]
  },
  {
   "cell_type": "markdown",
   "metadata": {},
   "source": [
    "### Collaborative Filtering"
   ]
  },
  {
   "cell_type": "code",
   "execution_count": 733,
   "metadata": {},
   "outputs": [
    {
     "data": {
      "image/png": "[encoded data removed]",
      "text/plain": [
       "<Figure size 1000x600 with 1 Axes>"
      ]
     },
     "execution_count": 733,
     "metadata": {},
     "output_type": "execute_result"
    }
   ],
   "source": [
    "train_result"
   ]
  },
  {
   "cell_type": "markdown",
   "metadata": {},
   "source": [
    "Catatan:\n",
    "* Grafik _history_ pelatihan model menunjukkan nilai RMSE pada data training terus menurun secara konsisten, artinya bahwa model semakin baik dalam mempelajari pola pada data training.\n",
    "* Nilai RMSE pada data validasi juga menurun, meski lebih lambat dibandingkan dengan data training. Ini menunjukkan bahwa model cukup baik dalam melakukan generalisasi pada data yang tidak terlihat sebelumnya.\n",
    "* Terlihat tidak ada kenaikan signifikan pada nilai RMSE validasi yang menandakan bahwa overfitting belum terjadi."
   ]
  },
  {
   "cell_type": "markdown",
   "metadata": {},
   "source": [
    "## Conclusion"
   ]
  },
  {
   "cell_type": "markdown",
   "metadata": {},
   "source": [
    "1. "
   ]
  },
  {
   "cell_type": "markdown",
   "metadata": {},
   "source": [
    "## References"
   ]
  },
  {
   "cell_type": "markdown",
   "metadata": {},
   "source": [
    "1. Damar Upahita. 2021. *Panduan Mencukupi Kebutuhan Gizi Harian Untuk Anak Usia Sekolah (6 - 9 Tahun).* https://hellosehat.com/parenting/anak-6-sampai-9-tahun/gizi-anak/kebutuhan-asupan-gizi-anak/?amp=1. \n",
    "\n",
    "2. Dewi, dkk. 2021. *Pentingnya Pemenuhan Gizi Terhadap Kecerdasan Anak*. SENAPADMA:Seminar Nasional Pendidikan Dasar dan Menengah, Vol.1, pp. 16-21. Sukabumi: Universitas Nusa Putra.\n",
    "\n",
    "1. KA, Mutirasari. 2024. *Program Makan Bergizi Gratis: Jadwal Berlaku, Sasaran hingga Aturan Pembagian.* Diakses pada 6 Desember 2024, dari https://news.detik.com/berita/d-7617806/program-makan-bergizi-gratis-jadwal-berlaku-sasaran-hingga-aturan-pembagian.\n",
    "\n",
    "2. Kementerian Koordinator Bidang Pembangunan Manusia dan Kebudayaan Republik Indonesia. 2024. *Program Makan Bergizi Gratis untuk Tingkatkan Kualitas SDM Indonesia.* Diakses pada 6 Desember 2024, dari https://www.kemenkopmk.go.id/program-makan-bergizi-gratis-untuk-tingkatkan-kualitas-sdm-indonesia.\n",
    "\n",
    "3. Kementerian Kesehatan Republik Indonesia. 2019. *Peraturan Menteri Kesehatan Republik Indonesia Nomor 28 Tahun 2019 Tentang Angka Kecukupan Gizi Yang Dianjurkan Untuk Masyarakat Indonesia.*"
   ]
  },
  {
   "cell_type": "markdown",
   "metadata": {},
   "source": []
  }
 ],
 "metadata": {
  "kernelspec": {
   "display_name": "Recommendation-System",
   "language": "python",
   "name": "python3"
  },
  "language_info": {
   "codemirror_mode": {
    "name": "ipython",
    "version": 3
   },
   "file_extension": ".py",
   "mimetype": "text/x-python",
   "name": "python",
   "nbconvert_exporter": "python",
   "pygments_lexer": "ipython3",
   "version": "3.9.20"
  }
 },
 "nbformat": 4,
 "nbformat_minor": 2
}
